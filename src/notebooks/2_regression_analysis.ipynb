{
 "cells": [
  {
   "cell_type": "markdown",
   "metadata": {},
   "source": [
    "# Regression Analysis"
   ]
  },
  {
   "cell_type": "markdown",
   "metadata": {},
   "source": [
    "### Imports"
   ]
  },
  {
   "cell_type": "code",
   "execution_count": 2,
   "metadata": {},
   "outputs": [],
   "source": [
    "import pandas as pd\n",
    "import os\n",
    "from tqdm import tqdm\n",
    "import numpy as np\n",
    "import matplotlib.pyplot as plt\n",
    "import seaborn as sns\n",
    "import statsmodels.api as sm\n",
    "\n",
    "CONSENSUS_TIME = 'consensus_time'\n",
    "OPINION_CHANGE_FREQUENCY = 'opinion_change_frequency'\n",
    "\n",
    "FEATURES = [\n",
    "    'clustering', 'closeness', 'betweenness',\n",
    "    'average_shortest_path_lenght', 'eigenvector', 'assortativity',\n",
    "    'information_centrality',\n",
    "    'approximate_current_flow_betweenness_centrality', 'shannon_entropy',\n",
    "    'degree_variance'\n",
    "]\n",
    "\n",
    "UNCORRELATED_FEATURE_SUBSET = [\n",
    "    'clustering',\n",
    "    'closeness',\n",
    "    'assortativity',\n",
    "    'shannon_entropy'\n",
    "]"
   ]
  },
  {
   "cell_type": "code",
   "execution_count": 3,
   "metadata": {},
   "outputs": [],
   "source": [
    "dataset = pd.read_csv('../data/dataset.csv')"
   ]
  },
  {
   "cell_type": "code",
   "execution_count": 4,
   "metadata": {},
   "outputs": [
    {
     "data": {
      "text/html": [
       "<div>\n",
       "<style scoped>\n",
       "    .dataframe tbody tr th:only-of-type {\n",
       "        vertical-align: middle;\n",
       "    }\n",
       "\n",
       "    .dataframe tbody tr th {\n",
       "        vertical-align: top;\n",
       "    }\n",
       "\n",
       "    .dataframe thead th {\n",
       "        text-align: right;\n",
       "    }\n",
       "</style>\n",
       "<table border=\"1\" class=\"dataframe\">\n",
       "  <thead>\n",
       "    <tr style=\"text-align: right;\">\n",
       "      <th></th>\n",
       "      <th>network</th>\n",
       "      <th>type</th>\n",
       "      <th>clustering</th>\n",
       "      <th>closeness</th>\n",
       "      <th>betweenness</th>\n",
       "      <th>average_shortest_path_lenght</th>\n",
       "      <th>eigenvector</th>\n",
       "      <th>assortativity</th>\n",
       "      <th>information_centrality</th>\n",
       "      <th>approximate_current_flow_betweenness_centrality</th>\n",
       "      <th>shannon_entropy</th>\n",
       "      <th>degree_variance</th>\n",
       "      <th>initialization</th>\n",
       "      <th>consensus_time</th>\n",
       "      <th>opinion_change_frequency</th>\n",
       "      <th>groups</th>\n",
       "    </tr>\n",
       "  </thead>\n",
       "  <tbody>\n",
       "    <tr>\n",
       "      <th>0</th>\n",
       "      <td>barabasi_linear_60.edgelist</td>\n",
       "      <td>barabasi_linear</td>\n",
       "      <td>0.032393</td>\n",
       "      <td>0.333205</td>\n",
       "      <td>1008.953</td>\n",
       "      <td>3.016906</td>\n",
       "      <td>0.082985</td>\n",
       "      <td>-0.012140</td>\n",
       "      <td>0.003442</td>\n",
       "      <td>0.005008</td>\n",
       "      <td>3.641398</td>\n",
       "      <td>28.577380</td>\n",
       "      <td>random</td>\n",
       "      <td>471.08</td>\n",
       "      <td>248.74</td>\n",
       "      <td>0</td>\n",
       "    </tr>\n",
       "    <tr>\n",
       "      <th>1</th>\n",
       "      <td>barabasi_linear_60.edgelist</td>\n",
       "      <td>barabasi_linear</td>\n",
       "      <td>0.032393</td>\n",
       "      <td>0.333205</td>\n",
       "      <td>1008.953</td>\n",
       "      <td>3.016906</td>\n",
       "      <td>0.082985</td>\n",
       "      <td>-0.012140</td>\n",
       "      <td>0.003442</td>\n",
       "      <td>0.005008</td>\n",
       "      <td>3.641398</td>\n",
       "      <td>28.577380</td>\n",
       "      <td>direct</td>\n",
       "      <td>535.92</td>\n",
       "      <td>200.00</td>\n",
       "      <td>0</td>\n",
       "    </tr>\n",
       "    <tr>\n",
       "      <th>2</th>\n",
       "      <td>barabasi_linear_60.edgelist</td>\n",
       "      <td>barabasi_linear</td>\n",
       "      <td>0.032393</td>\n",
       "      <td>0.333205</td>\n",
       "      <td>1008.953</td>\n",
       "      <td>3.016906</td>\n",
       "      <td>0.082985</td>\n",
       "      <td>-0.012140</td>\n",
       "      <td>0.003442</td>\n",
       "      <td>0.005008</td>\n",
       "      <td>3.641398</td>\n",
       "      <td>28.577380</td>\n",
       "      <td>inverse</td>\n",
       "      <td>323.41</td>\n",
       "      <td>386.60</td>\n",
       "      <td>0</td>\n",
       "    </tr>\n",
       "    <tr>\n",
       "      <th>3</th>\n",
       "      <td>barabasi_linear_91.edgelist</td>\n",
       "      <td>barabasi_linear</td>\n",
       "      <td>0.032772</td>\n",
       "      <td>0.335566</td>\n",
       "      <td>998.585</td>\n",
       "      <td>2.996170</td>\n",
       "      <td>0.081414</td>\n",
       "      <td>-0.026616</td>\n",
       "      <td>0.003427</td>\n",
       "      <td>0.004956</td>\n",
       "      <td>3.629732</td>\n",
       "      <td>31.464265</td>\n",
       "      <td>random</td>\n",
       "      <td>431.67</td>\n",
       "      <td>248.66</td>\n",
       "      <td>0</td>\n",
       "    </tr>\n",
       "    <tr>\n",
       "      <th>4</th>\n",
       "      <td>barabasi_linear_91.edgelist</td>\n",
       "      <td>barabasi_linear</td>\n",
       "      <td>0.032772</td>\n",
       "      <td>0.335566</td>\n",
       "      <td>998.585</td>\n",
       "      <td>2.996170</td>\n",
       "      <td>0.081414</td>\n",
       "      <td>-0.026616</td>\n",
       "      <td>0.003427</td>\n",
       "      <td>0.004956</td>\n",
       "      <td>3.629732</td>\n",
       "      <td>31.464265</td>\n",
       "      <td>direct</td>\n",
       "      <td>519.85</td>\n",
       "      <td>200.00</td>\n",
       "      <td>0</td>\n",
       "    </tr>\n",
       "    <tr>\n",
       "      <th>...</th>\n",
       "      <td>...</td>\n",
       "      <td>...</td>\n",
       "      <td>...</td>\n",
       "      <td>...</td>\n",
       "      <td>...</td>\n",
       "      <td>...</td>\n",
       "      <td>...</td>\n",
       "      <td>...</td>\n",
       "      <td>...</td>\n",
       "      <td>...</td>\n",
       "      <td>...</td>\n",
       "      <td>...</td>\n",
       "      <td>...</td>\n",
       "      <td>...</td>\n",
       "      <td>...</td>\n",
       "      <td>...</td>\n",
       "    </tr>\n",
       "    <tr>\n",
       "      <th>1669</th>\n",
       "      <td>watts-strogatz_76.edgelist</td>\n",
       "      <td>watts-strogatz</td>\n",
       "      <td>0.645758</td>\n",
       "      <td>0.117242</td>\n",
       "      <td>3798.980</td>\n",
       "      <td>8.596960</td>\n",
       "      <td>0.429491</td>\n",
       "      <td>0.008234</td>\n",
       "      <td>0.001636</td>\n",
       "      <td>0.021184</td>\n",
       "      <td>0.596770</td>\n",
       "      <td>3.452053</td>\n",
       "      <td>direct</td>\n",
       "      <td>41172.93</td>\n",
       "      <td>7879.43</td>\n",
       "      <td>4</td>\n",
       "    </tr>\n",
       "    <tr>\n",
       "      <th>1670</th>\n",
       "      <td>watts-strogatz_76.edgelist</td>\n",
       "      <td>watts-strogatz</td>\n",
       "      <td>0.645758</td>\n",
       "      <td>0.117242</td>\n",
       "      <td>3798.980</td>\n",
       "      <td>8.596960</td>\n",
       "      <td>0.429491</td>\n",
       "      <td>0.008234</td>\n",
       "      <td>0.001636</td>\n",
       "      <td>0.021184</td>\n",
       "      <td>0.596770</td>\n",
       "      <td>3.452053</td>\n",
       "      <td>inverse</td>\n",
       "      <td>37483.28</td>\n",
       "      <td>6954.85</td>\n",
       "      <td>4</td>\n",
       "    </tr>\n",
       "    <tr>\n",
       "      <th>1671</th>\n",
       "      <td>watts-strogatz_69.edgelist</td>\n",
       "      <td>watts-strogatz</td>\n",
       "      <td>0.646363</td>\n",
       "      <td>0.116023</td>\n",
       "      <td>3854.486</td>\n",
       "      <td>8.707972</td>\n",
       "      <td>0.606427</td>\n",
       "      <td>-0.011195</td>\n",
       "      <td>0.001584</td>\n",
       "      <td>0.021171</td>\n",
       "      <td>0.560623</td>\n",
       "      <td>3.452053</td>\n",
       "      <td>random</td>\n",
       "      <td>13790.04</td>\n",
       "      <td>1911.82</td>\n",
       "      <td>4</td>\n",
       "    </tr>\n",
       "    <tr>\n",
       "      <th>1672</th>\n",
       "      <td>watts-strogatz_69.edgelist</td>\n",
       "      <td>watts-strogatz</td>\n",
       "      <td>0.646363</td>\n",
       "      <td>0.116023</td>\n",
       "      <td>3854.486</td>\n",
       "      <td>8.707972</td>\n",
       "      <td>0.606427</td>\n",
       "      <td>-0.011195</td>\n",
       "      <td>0.001584</td>\n",
       "      <td>0.021171</td>\n",
       "      <td>0.560623</td>\n",
       "      <td>3.452053</td>\n",
       "      <td>direct</td>\n",
       "      <td>43281.68</td>\n",
       "      <td>7024.76</td>\n",
       "      <td>4</td>\n",
       "    </tr>\n",
       "    <tr>\n",
       "      <th>1673</th>\n",
       "      <td>watts-strogatz_69.edgelist</td>\n",
       "      <td>watts-strogatz</td>\n",
       "      <td>0.646363</td>\n",
       "      <td>0.116023</td>\n",
       "      <td>3854.486</td>\n",
       "      <td>8.707972</td>\n",
       "      <td>0.606427</td>\n",
       "      <td>-0.011195</td>\n",
       "      <td>0.001584</td>\n",
       "      <td>0.021171</td>\n",
       "      <td>0.560623</td>\n",
       "      <td>3.452053</td>\n",
       "      <td>inverse</td>\n",
       "      <td>42528.77</td>\n",
       "      <td>7004.53</td>\n",
       "      <td>4</td>\n",
       "    </tr>\n",
       "  </tbody>\n",
       "</table>\n",
       "<p>1674 rows × 16 columns</p>\n",
       "</div>"
      ],
      "text/plain": [
       "                          network             type  clustering  closeness  \\\n",
       "0     barabasi_linear_60.edgelist  barabasi_linear    0.032393   0.333205   \n",
       "1     barabasi_linear_60.edgelist  barabasi_linear    0.032393   0.333205   \n",
       "2     barabasi_linear_60.edgelist  barabasi_linear    0.032393   0.333205   \n",
       "3     barabasi_linear_91.edgelist  barabasi_linear    0.032772   0.335566   \n",
       "4     barabasi_linear_91.edgelist  barabasi_linear    0.032772   0.335566   \n",
       "...                           ...              ...         ...        ...   \n",
       "1669   watts-strogatz_76.edgelist   watts-strogatz    0.645758   0.117242   \n",
       "1670   watts-strogatz_76.edgelist   watts-strogatz    0.645758   0.117242   \n",
       "1671   watts-strogatz_69.edgelist   watts-strogatz    0.646363   0.116023   \n",
       "1672   watts-strogatz_69.edgelist   watts-strogatz    0.646363   0.116023   \n",
       "1673   watts-strogatz_69.edgelist   watts-strogatz    0.646363   0.116023   \n",
       "\n",
       "      betweenness  average_shortest_path_lenght  eigenvector  assortativity  \\\n",
       "0        1008.953                      3.016906     0.082985      -0.012140   \n",
       "1        1008.953                      3.016906     0.082985      -0.012140   \n",
       "2        1008.953                      3.016906     0.082985      -0.012140   \n",
       "3         998.585                      2.996170     0.081414      -0.026616   \n",
       "4         998.585                      2.996170     0.081414      -0.026616   \n",
       "...           ...                           ...          ...            ...   \n",
       "1669     3798.980                      8.596960     0.429491       0.008234   \n",
       "1670     3798.980                      8.596960     0.429491       0.008234   \n",
       "1671     3854.486                      8.707972     0.606427      -0.011195   \n",
       "1672     3854.486                      8.707972     0.606427      -0.011195   \n",
       "1673     3854.486                      8.707972     0.606427      -0.011195   \n",
       "\n",
       "      information_centrality  approximate_current_flow_betweenness_centrality  \\\n",
       "0                   0.003442                                         0.005008   \n",
       "1                   0.003442                                         0.005008   \n",
       "2                   0.003442                                         0.005008   \n",
       "3                   0.003427                                         0.004956   \n",
       "4                   0.003427                                         0.004956   \n",
       "...                      ...                                              ...   \n",
       "1669                0.001636                                         0.021184   \n",
       "1670                0.001636                                         0.021184   \n",
       "1671                0.001584                                         0.021171   \n",
       "1672                0.001584                                         0.021171   \n",
       "1673                0.001584                                         0.021171   \n",
       "\n",
       "      shannon_entropy  degree_variance initialization  consensus_time  \\\n",
       "0            3.641398        28.577380         random          471.08   \n",
       "1            3.641398        28.577380         direct          535.92   \n",
       "2            3.641398        28.577380        inverse          323.41   \n",
       "3            3.629732        31.464265         random          431.67   \n",
       "4            3.629732        31.464265         direct          519.85   \n",
       "...               ...              ...            ...             ...   \n",
       "1669         0.596770         3.452053         direct        41172.93   \n",
       "1670         0.596770         3.452053        inverse        37483.28   \n",
       "1671         0.560623         3.452053         random        13790.04   \n",
       "1672         0.560623         3.452053         direct        43281.68   \n",
       "1673         0.560623         3.452053        inverse        42528.77   \n",
       "\n",
       "      opinion_change_frequency  groups  \n",
       "0                       248.74       0  \n",
       "1                       200.00       0  \n",
       "2                       386.60       0  \n",
       "3                       248.66       0  \n",
       "4                       200.00       0  \n",
       "...                        ...     ...  \n",
       "1669                   7879.43       4  \n",
       "1670                   6954.85       4  \n",
       "1671                   1911.82       4  \n",
       "1672                   7024.76       4  \n",
       "1673                   7004.53       4  \n",
       "\n",
       "[1674 rows x 16 columns]"
      ]
     },
     "execution_count": 4,
     "metadata": {},
     "output_type": "execute_result"
    }
   ],
   "source": [
    "dataset"
   ]
  },
  {
   "cell_type": "code",
   "execution_count": 5,
   "metadata": {},
   "outputs": [
    {
     "data": {
      "text/html": [
       "<div>\n",
       "<style scoped>\n",
       "    .dataframe tbody tr th:only-of-type {\n",
       "        vertical-align: middle;\n",
       "    }\n",
       "\n",
       "    .dataframe tbody tr th {\n",
       "        vertical-align: top;\n",
       "    }\n",
       "\n",
       "    .dataframe thead th {\n",
       "        text-align: right;\n",
       "    }\n",
       "</style>\n",
       "<table border=\"1\" class=\"dataframe\">\n",
       "  <thead>\n",
       "    <tr style=\"text-align: right;\">\n",
       "      <th></th>\n",
       "      <th>clustering</th>\n",
       "      <th>closeness</th>\n",
       "      <th>betweenness</th>\n",
       "      <th>average_shortest_path_lenght</th>\n",
       "      <th>eigenvector</th>\n",
       "      <th>assortativity</th>\n",
       "      <th>information_centrality</th>\n",
       "      <th>approximate_current_flow_betweenness_centrality</th>\n",
       "      <th>shannon_entropy</th>\n",
       "      <th>degree_variance</th>\n",
       "      <th>consensus_time</th>\n",
       "      <th>opinion_change_frequency</th>\n",
       "      <th>groups</th>\n",
       "    </tr>\n",
       "  </thead>\n",
       "  <tbody>\n",
       "    <tr>\n",
       "      <th>count</th>\n",
       "      <td>1674.000000</td>\n",
       "      <td>1674.000000</td>\n",
       "      <td>1674.000000</td>\n",
       "      <td>1674.000000</td>\n",
       "      <td>1674.000000</td>\n",
       "      <td>1674.000000</td>\n",
       "      <td>1674.000000</td>\n",
       "      <td>1674.000000</td>\n",
       "      <td>1674.000000</td>\n",
       "      <td>1674.000000</td>\n",
       "      <td>1674.000000</td>\n",
       "      <td>1674.000000</td>\n",
       "      <td>1674.000000</td>\n",
       "    </tr>\n",
       "    <tr>\n",
       "      <th>mean</th>\n",
       "      <td>0.134973</td>\n",
       "      <td>0.302541</td>\n",
       "      <td>1522.851944</td>\n",
       "      <td>4.044704</td>\n",
       "      <td>0.230008</td>\n",
       "      <td>-0.018908</td>\n",
       "      <td>0.003183</td>\n",
       "      <td>0.007993</td>\n",
       "      <td>2.980314</td>\n",
       "      <td>40.393910</td>\n",
       "      <td>6366.644719</td>\n",
       "      <td>1243.208393</td>\n",
       "      <td>2.326165</td>\n",
       "    </tr>\n",
       "    <tr>\n",
       "      <th>std</th>\n",
       "      <td>0.238810</td>\n",
       "      <td>0.101689</td>\n",
       "      <td>1150.783608</td>\n",
       "      <td>2.301567</td>\n",
       "      <td>0.173774</td>\n",
       "      <td>0.163433</td>\n",
       "      <td>0.000840</td>\n",
       "      <td>0.006716</td>\n",
       "      <td>1.209459</td>\n",
       "      <td>59.319039</td>\n",
       "      <td>14074.200627</td>\n",
       "      <td>2337.194329</td>\n",
       "      <td>1.637121</td>\n",
       "    </tr>\n",
       "    <tr>\n",
       "      <th>min</th>\n",
       "      <td>0.008343</td>\n",
       "      <td>0.096122</td>\n",
       "      <td>548.311000</td>\n",
       "      <td>2.095622</td>\n",
       "      <td>0.048632</td>\n",
       "      <td>-0.394020</td>\n",
       "      <td>0.001307</td>\n",
       "      <td>0.003230</td>\n",
       "      <td>0.377454</td>\n",
       "      <td>3.452053</td>\n",
       "      <td>14.380000</td>\n",
       "      <td>200.000000</td>\n",
       "      <td>0.000000</td>\n",
       "    </tr>\n",
       "    <tr>\n",
       "      <th>25%</th>\n",
       "      <td>0.023496</td>\n",
       "      <td>0.295643</td>\n",
       "      <td>1002.297000</td>\n",
       "      <td>3.003594</td>\n",
       "      <td>0.077858</td>\n",
       "      <td>-0.028178</td>\n",
       "      <td>0.002955</td>\n",
       "      <td>0.004962</td>\n",
       "      <td>2.621794</td>\n",
       "      <td>6.344289</td>\n",
       "      <td>354.175000</td>\n",
       "      <td>236.412500</td>\n",
       "      <td>1.000000</td>\n",
       "    </tr>\n",
       "    <tr>\n",
       "      <th>50%</th>\n",
       "      <td>0.026425</td>\n",
       "      <td>0.313753</td>\n",
       "      <td>1101.902500</td>\n",
       "      <td>3.202805</td>\n",
       "      <td>0.101251</td>\n",
       "      <td>-0.005222</td>\n",
       "      <td>0.003437</td>\n",
       "      <td>0.005224</td>\n",
       "      <td>3.645626</td>\n",
       "      <td>14.142136</td>\n",
       "      <td>502.895000</td>\n",
       "      <td>271.650000</td>\n",
       "      <td>2.000000</td>\n",
       "    </tr>\n",
       "    <tr>\n",
       "      <th>75%</th>\n",
       "      <td>0.032070</td>\n",
       "      <td>0.334657</td>\n",
       "      <td>1198.729000</td>\n",
       "      <td>3.396458</td>\n",
       "      <td>0.400133</td>\n",
       "      <td>0.117593</td>\n",
       "      <td>0.003652</td>\n",
       "      <td>0.005652</td>\n",
       "      <td>3.832035</td>\n",
       "      <td>32.907699</td>\n",
       "      <td>850.330000</td>\n",
       "      <td>405.840000</td>\n",
       "      <td>4.000000</td>\n",
       "    </tr>\n",
       "    <tr>\n",
       "      <th>max</th>\n",
       "      <td>0.652846</td>\n",
       "      <td>0.478556</td>\n",
       "      <td>4797.811000</td>\n",
       "      <td>10.594622</td>\n",
       "      <td>0.621034</td>\n",
       "      <td>0.204217</td>\n",
       "      <td>0.004290</td>\n",
       "      <td>0.027219</td>\n",
       "      <td>4.027738</td>\n",
       "      <td>204.959142</td>\n",
       "      <td>72565.190000</td>\n",
       "      <td>10212.310000</td>\n",
       "      <td>5.000000</td>\n",
       "    </tr>\n",
       "  </tbody>\n",
       "</table>\n",
       "</div>"
      ],
      "text/plain": [
       "        clustering    closeness  betweenness  average_shortest_path_lenght  \\\n",
       "count  1674.000000  1674.000000  1674.000000                   1674.000000   \n",
       "mean      0.134973     0.302541  1522.851944                      4.044704   \n",
       "std       0.238810     0.101689  1150.783608                      2.301567   \n",
       "min       0.008343     0.096122   548.311000                      2.095622   \n",
       "25%       0.023496     0.295643  1002.297000                      3.003594   \n",
       "50%       0.026425     0.313753  1101.902500                      3.202805   \n",
       "75%       0.032070     0.334657  1198.729000                      3.396458   \n",
       "max       0.652846     0.478556  4797.811000                     10.594622   \n",
       "\n",
       "       eigenvector  assortativity  information_centrality  \\\n",
       "count  1674.000000    1674.000000             1674.000000   \n",
       "mean      0.230008      -0.018908                0.003183   \n",
       "std       0.173774       0.163433                0.000840   \n",
       "min       0.048632      -0.394020                0.001307   \n",
       "25%       0.077858      -0.028178                0.002955   \n",
       "50%       0.101251      -0.005222                0.003437   \n",
       "75%       0.400133       0.117593                0.003652   \n",
       "max       0.621034       0.204217                0.004290   \n",
       "\n",
       "       approximate_current_flow_betweenness_centrality  shannon_entropy  \\\n",
       "count                                      1674.000000      1674.000000   \n",
       "mean                                          0.007993         2.980314   \n",
       "std                                           0.006716         1.209459   \n",
       "min                                           0.003230         0.377454   \n",
       "25%                                           0.004962         2.621794   \n",
       "50%                                           0.005224         3.645626   \n",
       "75%                                           0.005652         3.832035   \n",
       "max                                           0.027219         4.027738   \n",
       "\n",
       "       degree_variance  consensus_time  opinion_change_frequency       groups  \n",
       "count      1674.000000     1674.000000               1674.000000  1674.000000  \n",
       "mean         40.393910     6366.644719               1243.208393     2.326165  \n",
       "std          59.319039    14074.200627               2337.194329     1.637121  \n",
       "min           3.452053       14.380000                200.000000     0.000000  \n",
       "25%           6.344289      354.175000                236.412500     1.000000  \n",
       "50%          14.142136      502.895000                271.650000     2.000000  \n",
       "75%          32.907699      850.330000                405.840000     4.000000  \n",
       "max         204.959142    72565.190000              10212.310000     5.000000  "
      ]
     },
     "execution_count": 5,
     "metadata": {},
     "output_type": "execute_result"
    }
   ],
   "source": [
    "filtered_dataset = dataset.copy()\n",
    "# filtered_dataset = filtered_dataset[filtered_dataset['initialization'] == 'random']\n",
    "filtered_dataset.describe()"
   ]
  },
  {
   "cell_type": "markdown",
   "metadata": {},
   "source": [
    "### Creating Scaler"
   ]
  },
  {
   "cell_type": "code",
   "execution_count": 6,
   "metadata": {},
   "outputs": [],
   "source": [
    "from sklearn.preprocessing import StandardScaler\n",
    "scaler = StandardScaler()\n",
    "# dataset[FEATURES] = scaler.fit_transform(dataset[FEATURES])\n",
    "# dataset[['consensus_time', 'opinion_change_frequency']] = scaler.fit_transform(dataset[['consensus_time', 'opinion_change_frequency']])"
   ]
  },
  {
   "cell_type": "markdown",
   "metadata": {},
   "source": [
    "### Adjusted R2"
   ]
  },
  {
   "cell_type": "code",
   "execution_count": 7,
   "metadata": {},
   "outputs": [],
   "source": [
    "from sklearn.metrics import r2_score\n",
    "\n",
    "def adjusted_r2_score(y: np.array, y_hat: np.array, n: int, p: int):\n",
    "    \"\"\"\n",
    "    Computes R² score. It decreases if many variables are introduced.\n",
    "    n: number of observations in sample \n",
    "    p: number of independent variables\n",
    "    \"\"\"\n",
    "    return 1 - ((1 - r2_score(y, y_hat)) * ((n - 1)/(n - p - 1)))"
   ]
  },
  {
   "cell_type": "markdown",
   "metadata": {},
   "source": [
    "### Train Test Split"
   ]
  },
  {
   "cell_type": "code",
   "execution_count": 8,
   "metadata": {},
   "outputs": [],
   "source": [
    "from sklearn.model_selection import train_test_split\n",
    "\n",
    "# filtered_dataset.loc[:, FEATURES] = scaler.fit_transform(filtered_dataset[FEATURES])\n",
    "# filtered_dataset.loc[:, 'opinion_change_frequency'] = scaler.fit_transform(np.array(filtered_dataset['opinion_change_frequency']).reshape(-1, 1))\n",
    "\n",
    "y = filtered_dataset[CONSENSUS_TIME]\n",
    "X = sm.add_constant(\n",
    "   filtered_dataset[FEATURES]\n",
    ")\n",
    "\n",
    "X_train, X_test, y_train, y_test = train_test_split(\n",
    "    X, y, test_size=0.2, random_state=1, shuffle=True\n",
    ")\n",
    "\n",
    "# X_train[FEATURES] = scaler.fit_transform(X_train[FEATURES])\n",
    "# X_test[FEATURES] = scaler.transform(X_test[FEATURES])\n"
   ]
  },
  {
   "cell_type": "markdown",
   "metadata": {},
   "source": [
    "## Linear"
   ]
  },
  {
   "cell_type": "code",
   "execution_count": 9,
   "metadata": {},
   "outputs": [
    {
     "name": "stdout",
     "output_type": "stream",
     "text": [
      "                            OLS Regression Results                            \n",
      "==============================================================================\n",
      "Dep. Variable:         consensus_time   R-squared:                       0.950\n",
      "Model:                            OLS   Adj. R-squared:                  0.950\n",
      "Method:                 Least Squares   F-statistic:                     2801.\n",
      "Date:                Fri, 25 Oct 2024   Prob (F-statistic):               0.00\n",
      "Time:                        15:15:19   Log-Likelihood:                -759.88\n",
      "No. Observations:                1339   AIC:                             1540.\n",
      "Df Residuals:                    1329   BIC:                             1592.\n",
      "Df Model:                           9                                         \n",
      "Covariance Type:            nonrobust                                         \n",
      "===================================================================================================================\n",
      "                                                      coef    std err          t      P>|t|      [0.025      0.975]\n",
      "-------------------------------------------------------------------------------------------------------------------\n",
      "const                                               3.5984      1.020      3.527      0.000       1.597       5.600\n",
      "clustering                                          4.4624      1.606      2.779      0.006       1.312       7.612\n",
      "closeness                                         -11.8100      3.307     -3.572      0.000     -18.297      -5.323\n",
      "betweenness                                        -0.0071      0.002     -3.280      0.001      -0.011      -0.003\n",
      "average_shortest_path_lenght                        3.5948      1.019      3.527      0.000       1.596       5.594\n",
      "eigenvector                                         0.5439      0.237      2.297      0.022       0.079       1.008\n",
      "assortativity                                      -0.6344      0.309     -2.051      0.040      -1.241      -0.028\n",
      "information_centrality                           -150.2137    125.974     -1.192      0.233    -397.344      96.916\n",
      "approximate_current_flow_betweenness_centrality    34.8611     27.061      1.288      0.198     -18.225      87.947\n",
      "shannon_entropy                                     0.7635      0.217      3.523      0.000       0.338       1.189\n",
      "degree_variance                                     0.0020      0.002      1.224      0.221      -0.001       0.005\n",
      "==============================================================================\n",
      "Omnibus:                       67.640   Durbin-Watson:                   2.118\n",
      "Prob(Omnibus):                  0.000   Jarque-Bera (JB):               77.339\n",
      "Skew:                          -0.589   Prob(JB):                     1.61e-17\n",
      "Kurtosis:                       3.004   Cond. No.                     1.71e+18\n",
      "==============================================================================\n",
      "\n",
      "Notes:\n",
      "[1] Standard Errors assume that the covariance matrix of the errors is correctly specified.\n",
      "[2] The smallest eigenvalue is 1.67e-27. This might indicate that there are\n",
      "strong multicollinearity problems or that the design matrix is singular.\n"
     ]
    }
   ],
   "source": [
    "mod = sm.OLS(\n",
    "    endog=np.log(y_train), \n",
    "    exog=sm.add_constant(X_train),\n",
    ")\n",
    "res = mod.fit()\n",
    "print(res.summary())"
   ]
  },
  {
   "cell_type": "markdown",
   "metadata": {},
   "source": [
    "> The smallest eigenvalue is 1.74e-29. This might indicate that there are strong multicollinearity problems or that the design matrix is singular.\n",
    "\n",
    "This happens because of the strong collinearity between some variables. Lets try to use the UNCORRELATED_FEATURE_SUBSET"
   ]
  },
  {
   "cell_type": "code",
   "execution_count": 10,
   "metadata": {},
   "outputs": [
    {
     "name": "stdout",
     "output_type": "stream",
     "text": [
      "                            OLS Regression Results                            \n",
      "==============================================================================\n",
      "Dep. Variable:         consensus_time   R-squared:                       0.949\n",
      "Model:                            OLS   Adj. R-squared:                  0.949\n",
      "No. Observations:                1339   F-statistic:                     6222.\n",
      "Covariance Type:            nonrobust   Prob (F-statistic):               0.00\n",
      "===================================================================================\n",
      "                      coef    std err          t      P>|t|      [0.025      0.975]\n",
      "-----------------------------------------------------------------------------------\n",
      "const               9.2669      0.706     13.127      0.000       7.882      10.652\n",
      "clustering          3.6740      0.867      4.239      0.000       1.974       5.374\n",
      "closeness         -13.5659      0.744    -18.232      0.000     -15.026     -12.106\n",
      "assortativity      -0.5509      0.265     -2.081      0.038      -1.070      -0.032\n",
      "shannon_entropy     0.3242      0.137      2.363      0.018       0.055       0.593\n",
      "===================================================================================\n",
      "\n",
      "Notes:\n",
      "[1] Standard Errors assume that the covariance matrix of the errors is correctly specified.\n"
     ]
    }
   ],
   "source": [
    "mod = sm.OLS(\n",
    "    endog=np.log(y_train), \n",
    "    exog=sm.add_constant(X_train[UNCORRELATED_FEATURE_SUBSET]),\n",
    ")\n",
    "res = mod.fit()\n",
    "print(res.summary(slim=True))"
   ]
  },
  {
   "cell_type": "markdown",
   "metadata": {},
   "source": [
    "We still achieve a R-Squared of $0.99$ but without errors related to collinearity"
   ]
  },
  {
   "cell_type": "code",
   "execution_count": 50,
   "metadata": {},
   "outputs": [],
   "source": [
    "y_pred = res.predict(sm.add_constant(X_test[UNCORRELATED_FEATURE_SUBSET]))"
   ]
  },
  {
   "cell_type": "code",
   "execution_count": 51,
   "metadata": {},
   "outputs": [
    {
     "data": {
      "text/plain": [
       "0.9937355209993672"
      ]
     },
     "execution_count": 51,
     "metadata": {},
     "output_type": "execute_result"
    }
   ],
   "source": [
    "adjusted_r2_score(y_pred, np.log1p(y_test), len(y_pred), len(UNCORRELATED_FEATURE_SUBSET))"
   ]
  },
  {
   "cell_type": "markdown",
   "metadata": {},
   "source": [
    "### Residuals"
   ]
  },
  {
   "cell_type": "code",
   "execution_count": 14,
   "metadata": {},
   "outputs": [
    {
     "data": {
      "text/plain": [
       "<Axes: ylabel='consensus_time'>"
      ]
     },
     "execution_count": 14,
     "metadata": {},
     "output_type": "execute_result"
    },
    {
     "data": {
      "image/png": "[encoded data removed]",
      "text/plain": [
       "<Figure size 640x480 with 1 Axes>"
      ]
     },
     "metadata": {},
     "output_type": "display_data"
    }
   ],
   "source": [
    "sns.residplot(x=y_pred, y=np.log1p(y_test))"
   ]
  },
  {
   "cell_type": "code",
   "execution_count": 53,
   "metadata": {},
   "outputs": [
    {
     "data": {
      "text/plain": [
       "Text(0, 0.5, 'log(Consensus Time)')"
      ]
     },
     "execution_count": 53,
     "metadata": {},
     "output_type": "execute_result"
    },
    {
     "data": {
      "image/png": "[encoded data removed]",
      "text/plain": [
       "<Figure size 640x480 with 1 Axes>"
      ]
     },
     "metadata": {},
     "output_type": "display_data"
    }
   ],
   "source": [
    "ax = sns.regplot(y=np.log1p(y_test), x=X_test['closeness'])\n",
    "ax.set_ylabel('log(Consensus Time)')"
   ]
  },
  {
   "cell_type": "markdown",
   "metadata": {},
   "source": [
    "## LASSO Regression\n",
    "We intend to use Lasso for variable selection"
   ]
  },
  {
   "cell_type": "code",
   "execution_count": 59,
   "metadata": {},
   "outputs": [
    {
     "name": "stderr",
     "output_type": "stream",
     "text": [
      "/home/vitor/Documents/SznajdNetworks/venv/lib/python3.12/site-packages/sklearn/linear_model/_coordinate_descent.py:697: ConvergenceWarning: Objective did not converge. You might want to increase the number of iterations, check the scale of the features or consider increasing regularisation. Duality gap: 5.219e-01, tolerance: 4.847e-01\n",
      "  model = cd_fast.enet_coordinate_descent(\n"
     ]
    }
   ],
   "source": [
    "from sklearn.linear_model import LassoCV\n",
    "\n",
    "X_train[FEATURES] = scaler.fit_transform(X_train[FEATURES])\n",
    "X_test[FEATURES] = scaler.transform(X_test[FEATURES])\n",
    "\n",
    "lasso_cv = LassoCV(cv=20, random_state=0).fit(X_train[FEATURES], np.log1p(y_train))"
   ]
  },
  {
   "cell_type": "markdown",
   "metadata": {},
   "source": [
    "With fitted alpha, lets see statsmodels summary"
   ]
  },
  {
   "cell_type": "code",
   "execution_count": 60,
   "metadata": {},
   "outputs": [],
   "source": [
    "mod = sm.OLS(\n",
    "    endog=np.log1p(y_train), \n",
    "    exog=sm.add_constant(X_train[FEATURES]),\n",
    ")\n",
    "res = mod.fit_regularized(\n",
    "    method='elastic_net',\n",
    "    alpha=lasso_cv.alpha_,\n",
    "    L1_wt=1,\n",
    "    refit=True\n",
    ")"
   ]
  },
  {
   "cell_type": "code",
   "execution_count": 61,
   "metadata": {},
   "outputs": [
    {
     "name": "stdout",
     "output_type": "stream",
     "text": [
      "                            OLS Regression Results                            \n",
      "==============================================================================\n",
      "Dep. Variable:         consensus_time   R-squared:                       0.950\n",
      "Model:                            OLS   Adj. R-squared:                  0.950\n",
      "Method:                 Least Squares   F-statistic:                     3182.\n",
      "Date:                Mon, 26 Aug 2024   Prob (F-statistic):               0.00\n",
      "Time:                        16:59:38   Log-Likelihood:                -751.37\n",
      "No. Observations:                1339   AIC:                             1521.\n",
      "Df Residuals:                    1331   BIC:                             1568.\n",
      "Df Model:                           8                                         \n",
      "Covariance Type:            nonrobust                                         \n",
      "===================================================================================================================\n",
      "                                                      coef    std err          t      P>|t|      [0.025      0.975]\n",
      "-------------------------------------------------------------------------------------------------------------------\n",
      "const                                               6.6339      0.012    570.683      0.000       6.611       6.657\n",
      "clustering                                          0.8024      0.316      2.539      0.011       0.182       1.423\n",
      "closeness                                          -1.5737      0.226     -6.968      0.000      -2.017      -1.131\n",
      "betweenness                                              0          0        nan        nan           0           0\n",
      "average_shortest_path_lenght                             0          0        nan        nan           0           0\n",
      "eigenvector                                         0.0839      0.040      2.097      0.036       0.005       0.162\n",
      "assortativity                                      -0.0972      0.050     -1.945      0.052      -0.195       0.001\n",
      "information_centrality                             -0.1948      0.096     -2.021      0.043      -0.384      -0.006\n",
      "approximate_current_flow_betweenness_centrality          0          0        nan        nan           0           0\n",
      "shannon_entropy                                     0.6834      0.208      3.285      0.001       0.275       1.092\n",
      "degree_variance                                     0.1733      0.094      1.852      0.064      -0.010       0.357\n",
      "==============================================================================\n",
      "Omnibus:                       65.267   Durbin-Watson:                   2.119\n",
      "Prob(Omnibus):                  0.000   Jarque-Bera (JB):               74.301\n",
      "Skew:                          -0.576   Prob(JB):                     7.34e-17\n",
      "Kurtosis:                       2.944   Cond. No.                          nan\n",
      "==============================================================================\n",
      "\n",
      "Notes:\n",
      "[1] Standard Errors assume that the covariance matrix of the errors is correctly specified.\n",
      "[2] The smallest eigenvalue is -1.11e-13. This might indicate that there are\n",
      "strong multicollinearity problems or that the design matrix is singular.\n"
     ]
    },
    {
     "name": "stderr",
     "output_type": "stream",
     "text": [
      "/home/vitor/Documents/SznajdNetworks/venv/lib/python3.12/site-packages/statsmodels/regression/linear_model.py:1967: RuntimeWarning: invalid value encountered in sqrt\n",
      "  return np.sqrt(eigvals[0]/eigvals[-1])\n"
     ]
    }
   ],
   "source": [
    "print(res.summary())"
   ]
  },
  {
   "cell_type": "code",
   "execution_count": 63,
   "metadata": {},
   "outputs": [
    {
     "data": {
      "text/plain": [
       "0.9456021273509845"
      ]
     },
     "execution_count": 63,
     "metadata": {},
     "output_type": "execute_result"
    }
   ],
   "source": [
    "y_pred = res.predict(sm.add_constant(X_test[FEATURES]))\n",
    "adjusted_r2_score(y_pred, np.log1p(y_test), len(y_pred), len(FEATURES))"
   ]
  },
  {
   "cell_type": "code",
   "execution_count": 58,
   "metadata": {},
   "outputs": [
    {
     "data": {
      "text/plain": [
       "<Axes: ylabel='consensus_time'>"
      ]
     },
     "execution_count": 58,
     "metadata": {},
     "output_type": "execute_result"
    },
    {
     "data": {
      "image/png": "[encoded data removed]",
      "text/plain": [
       "<Figure size 640x480 with 1 Axes>"
      ]
     },
     "metadata": {},
     "output_type": "display_data"
    }
   ],
   "source": [
    "sns.residplot(x=y_pred, y=np.log1p(y_test))"
   ]
  },
  {
   "cell_type": "code",
   "execution_count": null,
   "metadata": {},
   "outputs": [],
   "source": []
  }
 ],
 "metadata": {
  "kernelspec": {
   "display_name": "venv",
   "language": "python",
   "name": "python3"
  },
  "language_info": {
   "codemirror_mode": {
    "name": "ipython",
    "version": 3
   },
   "file_extension": ".py",
   "mimetype": "text/x-python",
   "name": "python",
   "nbconvert_exporter": "python",
   "pygments_lexer": "ipython3",
   "version": "3.12.6"
  }
 },
 "nbformat": 4,
 "nbformat_minor": 2
}
