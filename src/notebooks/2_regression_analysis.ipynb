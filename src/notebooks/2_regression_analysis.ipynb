{
 "cells": [
  {
   "cell_type": "markdown",
   "metadata": {},
   "source": [
    "# Regression Analysis"
   ]
  },
  {
   "cell_type": "markdown",
   "metadata": {},
   "source": [
    "### Imports"
   ]
  },
  {
   "cell_type": "code",
   "execution_count": 19,
   "metadata": {},
   "outputs": [],
   "source": [
    "import pandas as pd\n",
    "import os\n",
    "from tqdm import tqdm\n",
    "import numpy as np\n",
    "import matplotlib.pyplot as plt\n",
    "import seaborn as sns\n",
    "import statsmodels.api as sm\n",
    "\n",
    "sns.set_style(\"whitegrid\")\n",
    "sns.set_palette(\"deep\")\n",
    "sns.set_context(\"paper\")\n",
    "sns.set_theme(palette=\"muted\", style='whitegrid', context='paper')\n",
    "\n",
    "CONSENSUS_TIME = 'consensus_time'\n",
    "OPINION_CHANGE_FREQUENCY = 'opinion_change_frequency'\n",
    "\n",
    "FEATURES = [\n",
    "    'clustering', 'closeness', 'betweenness',\n",
    "    'average_shortest_path_lenght', 'eigenvector', 'assortativity',\n",
    "    'information_centrality',\n",
    "    'approximate_current_flow_betweenness_centrality', 'shannon_entropy',\n",
    "    'degree_variance'\n",
    "]\n",
    "\n",
    "UNCORRELATED_FEATURE_SUBSET = [\n",
    "    'clustering',\n",
    "    'closeness',\n",
    "    'assortativity',\n",
    "    'shannon_entropy'\n",
    "]"
   ]
  },
  {
   "cell_type": "code",
   "execution_count": 20,
   "metadata": {},
   "outputs": [],
   "source": [
    "dataset = pd.read_csv('../data/dataset.csv')"
   ]
  },
  {
   "cell_type": "code",
   "execution_count": 21,
   "metadata": {},
   "outputs": [
    {
     "data": {
      "text/html": [
       "<div>\n",
       "<style scoped>\n",
       "    .dataframe tbody tr th:only-of-type {\n",
       "        vertical-align: middle;\n",
       "    }\n",
       "\n",
       "    .dataframe tbody tr th {\n",
       "        vertical-align: top;\n",
       "    }\n",
       "\n",
       "    .dataframe thead th {\n",
       "        text-align: right;\n",
       "    }\n",
       "</style>\n",
       "<table border=\"1\" class=\"dataframe\">\n",
       "  <thead>\n",
       "    <tr style=\"text-align: right;\">\n",
       "      <th></th>\n",
       "      <th>network</th>\n",
       "      <th>type</th>\n",
       "      <th>clustering</th>\n",
       "      <th>closeness</th>\n",
       "      <th>betweenness</th>\n",
       "      <th>average_shortest_path_lenght</th>\n",
       "      <th>eigenvector</th>\n",
       "      <th>assortativity</th>\n",
       "      <th>information_centrality</th>\n",
       "      <th>approximate_current_flow_betweenness_centrality</th>\n",
       "      <th>shannon_entropy</th>\n",
       "      <th>degree_variance</th>\n",
       "      <th>initialization</th>\n",
       "      <th>consensus_time</th>\n",
       "      <th>opinion_change_frequency</th>\n",
       "      <th>groups</th>\n",
       "    </tr>\n",
       "  </thead>\n",
       "  <tbody>\n",
       "    <tr>\n",
       "      <th>0</th>\n",
       "      <td>barabasi_linear_60.edgelist</td>\n",
       "      <td>barabasi_linear</td>\n",
       "      <td>0.032393</td>\n",
       "      <td>0.333205</td>\n",
       "      <td>1008.953</td>\n",
       "      <td>3.016906</td>\n",
       "      <td>0.082985</td>\n",
       "      <td>-0.012140</td>\n",
       "      <td>0.003442</td>\n",
       "      <td>0.005008</td>\n",
       "      <td>3.641398</td>\n",
       "      <td>28.577380</td>\n",
       "      <td>random</td>\n",
       "      <td>471.08</td>\n",
       "      <td>248.74</td>\n",
       "      <td>0</td>\n",
       "    </tr>\n",
       "    <tr>\n",
       "      <th>1</th>\n",
       "      <td>barabasi_linear_60.edgelist</td>\n",
       "      <td>barabasi_linear</td>\n",
       "      <td>0.032393</td>\n",
       "      <td>0.333205</td>\n",
       "      <td>1008.953</td>\n",
       "      <td>3.016906</td>\n",
       "      <td>0.082985</td>\n",
       "      <td>-0.012140</td>\n",
       "      <td>0.003442</td>\n",
       "      <td>0.005008</td>\n",
       "      <td>3.641398</td>\n",
       "      <td>28.577380</td>\n",
       "      <td>direct</td>\n",
       "      <td>535.92</td>\n",
       "      <td>200.00</td>\n",
       "      <td>0</td>\n",
       "    </tr>\n",
       "    <tr>\n",
       "      <th>2</th>\n",
       "      <td>barabasi_linear_60.edgelist</td>\n",
       "      <td>barabasi_linear</td>\n",
       "      <td>0.032393</td>\n",
       "      <td>0.333205</td>\n",
       "      <td>1008.953</td>\n",
       "      <td>3.016906</td>\n",
       "      <td>0.082985</td>\n",
       "      <td>-0.012140</td>\n",
       "      <td>0.003442</td>\n",
       "      <td>0.005008</td>\n",
       "      <td>3.641398</td>\n",
       "      <td>28.577380</td>\n",
       "      <td>inverse</td>\n",
       "      <td>323.41</td>\n",
       "      <td>386.60</td>\n",
       "      <td>0</td>\n",
       "    </tr>\n",
       "    <tr>\n",
       "      <th>3</th>\n",
       "      <td>barabasi_linear_91.edgelist</td>\n",
       "      <td>barabasi_linear</td>\n",
       "      <td>0.032772</td>\n",
       "      <td>0.335566</td>\n",
       "      <td>998.585</td>\n",
       "      <td>2.996170</td>\n",
       "      <td>0.081414</td>\n",
       "      <td>-0.026616</td>\n",
       "      <td>0.003427</td>\n",
       "      <td>0.004956</td>\n",
       "      <td>3.629732</td>\n",
       "      <td>31.464265</td>\n",
       "      <td>random</td>\n",
       "      <td>431.67</td>\n",
       "      <td>248.66</td>\n",
       "      <td>0</td>\n",
       "    </tr>\n",
       "    <tr>\n",
       "      <th>4</th>\n",
       "      <td>barabasi_linear_91.edgelist</td>\n",
       "      <td>barabasi_linear</td>\n",
       "      <td>0.032772</td>\n",
       "      <td>0.335566</td>\n",
       "      <td>998.585</td>\n",
       "      <td>2.996170</td>\n",
       "      <td>0.081414</td>\n",
       "      <td>-0.026616</td>\n",
       "      <td>0.003427</td>\n",
       "      <td>0.004956</td>\n",
       "      <td>3.629732</td>\n",
       "      <td>31.464265</td>\n",
       "      <td>direct</td>\n",
       "      <td>519.85</td>\n",
       "      <td>200.00</td>\n",
       "      <td>0</td>\n",
       "    </tr>\n",
       "    <tr>\n",
       "      <th>...</th>\n",
       "      <td>...</td>\n",
       "      <td>...</td>\n",
       "      <td>...</td>\n",
       "      <td>...</td>\n",
       "      <td>...</td>\n",
       "      <td>...</td>\n",
       "      <td>...</td>\n",
       "      <td>...</td>\n",
       "      <td>...</td>\n",
       "      <td>...</td>\n",
       "      <td>...</td>\n",
       "      <td>...</td>\n",
       "      <td>...</td>\n",
       "      <td>...</td>\n",
       "      <td>...</td>\n",
       "      <td>...</td>\n",
       "    </tr>\n",
       "    <tr>\n",
       "      <th>1669</th>\n",
       "      <td>watts-strogatz_76.edgelist</td>\n",
       "      <td>watts-strogatz</td>\n",
       "      <td>0.645758</td>\n",
       "      <td>0.117242</td>\n",
       "      <td>3798.980</td>\n",
       "      <td>8.596960</td>\n",
       "      <td>0.429491</td>\n",
       "      <td>0.008234</td>\n",
       "      <td>0.001636</td>\n",
       "      <td>0.021184</td>\n",
       "      <td>0.596770</td>\n",
       "      <td>3.452053</td>\n",
       "      <td>direct</td>\n",
       "      <td>41172.93</td>\n",
       "      <td>7879.43</td>\n",
       "      <td>4</td>\n",
       "    </tr>\n",
       "    <tr>\n",
       "      <th>1670</th>\n",
       "      <td>watts-strogatz_76.edgelist</td>\n",
       "      <td>watts-strogatz</td>\n",
       "      <td>0.645758</td>\n",
       "      <td>0.117242</td>\n",
       "      <td>3798.980</td>\n",
       "      <td>8.596960</td>\n",
       "      <td>0.429491</td>\n",
       "      <td>0.008234</td>\n",
       "      <td>0.001636</td>\n",
       "      <td>0.021184</td>\n",
       "      <td>0.596770</td>\n",
       "      <td>3.452053</td>\n",
       "      <td>inverse</td>\n",
       "      <td>37483.28</td>\n",
       "      <td>6954.85</td>\n",
       "      <td>4</td>\n",
       "    </tr>\n",
       "    <tr>\n",
       "      <th>1671</th>\n",
       "      <td>watts-strogatz_69.edgelist</td>\n",
       "      <td>watts-strogatz</td>\n",
       "      <td>0.646363</td>\n",
       "      <td>0.116023</td>\n",
       "      <td>3854.486</td>\n",
       "      <td>8.707972</td>\n",
       "      <td>0.606427</td>\n",
       "      <td>-0.011195</td>\n",
       "      <td>0.001584</td>\n",
       "      <td>0.021171</td>\n",
       "      <td>0.560623</td>\n",
       "      <td>3.452053</td>\n",
       "      <td>random</td>\n",
       "      <td>13790.04</td>\n",
       "      <td>1911.82</td>\n",
       "      <td>4</td>\n",
       "    </tr>\n",
       "    <tr>\n",
       "      <th>1672</th>\n",
       "      <td>watts-strogatz_69.edgelist</td>\n",
       "      <td>watts-strogatz</td>\n",
       "      <td>0.646363</td>\n",
       "      <td>0.116023</td>\n",
       "      <td>3854.486</td>\n",
       "      <td>8.707972</td>\n",
       "      <td>0.606427</td>\n",
       "      <td>-0.011195</td>\n",
       "      <td>0.001584</td>\n",
       "      <td>0.021171</td>\n",
       "      <td>0.560623</td>\n",
       "      <td>3.452053</td>\n",
       "      <td>direct</td>\n",
       "      <td>43281.68</td>\n",
       "      <td>7024.76</td>\n",
       "      <td>4</td>\n",
       "    </tr>\n",
       "    <tr>\n",
       "      <th>1673</th>\n",
       "      <td>watts-strogatz_69.edgelist</td>\n",
       "      <td>watts-strogatz</td>\n",
       "      <td>0.646363</td>\n",
       "      <td>0.116023</td>\n",
       "      <td>3854.486</td>\n",
       "      <td>8.707972</td>\n",
       "      <td>0.606427</td>\n",
       "      <td>-0.011195</td>\n",
       "      <td>0.001584</td>\n",
       "      <td>0.021171</td>\n",
       "      <td>0.560623</td>\n",
       "      <td>3.452053</td>\n",
       "      <td>inverse</td>\n",
       "      <td>42528.77</td>\n",
       "      <td>7004.53</td>\n",
       "      <td>4</td>\n",
       "    </tr>\n",
       "  </tbody>\n",
       "</table>\n",
       "<p>1674 rows × 16 columns</p>\n",
       "</div>"
      ],
      "text/plain": [
       "                          network             type  clustering  closeness  \\\n",
       "0     barabasi_linear_60.edgelist  barabasi_linear    0.032393   0.333205   \n",
       "1     barabasi_linear_60.edgelist  barabasi_linear    0.032393   0.333205   \n",
       "2     barabasi_linear_60.edgelist  barabasi_linear    0.032393   0.333205   \n",
       "3     barabasi_linear_91.edgelist  barabasi_linear    0.032772   0.335566   \n",
       "4     barabasi_linear_91.edgelist  barabasi_linear    0.032772   0.335566   \n",
       "...                           ...              ...         ...        ...   \n",
       "1669   watts-strogatz_76.edgelist   watts-strogatz    0.645758   0.117242   \n",
       "1670   watts-strogatz_76.edgelist   watts-strogatz    0.645758   0.117242   \n",
       "1671   watts-strogatz_69.edgelist   watts-strogatz    0.646363   0.116023   \n",
       "1672   watts-strogatz_69.edgelist   watts-strogatz    0.646363   0.116023   \n",
       "1673   watts-strogatz_69.edgelist   watts-strogatz    0.646363   0.116023   \n",
       "\n",
       "      betweenness  average_shortest_path_lenght  eigenvector  assortativity  \\\n",
       "0        1008.953                      3.016906     0.082985      -0.012140   \n",
       "1        1008.953                      3.016906     0.082985      -0.012140   \n",
       "2        1008.953                      3.016906     0.082985      -0.012140   \n",
       "3         998.585                      2.996170     0.081414      -0.026616   \n",
       "4         998.585                      2.996170     0.081414      -0.026616   \n",
       "...           ...                           ...          ...            ...   \n",
       "1669     3798.980                      8.596960     0.429491       0.008234   \n",
       "1670     3798.980                      8.596960     0.429491       0.008234   \n",
       "1671     3854.486                      8.707972     0.606427      -0.011195   \n",
       "1672     3854.486                      8.707972     0.606427      -0.011195   \n",
       "1673     3854.486                      8.707972     0.606427      -0.011195   \n",
       "\n",
       "      information_centrality  approximate_current_flow_betweenness_centrality  \\\n",
       "0                   0.003442                                         0.005008   \n",
       "1                   0.003442                                         0.005008   \n",
       "2                   0.003442                                         0.005008   \n",
       "3                   0.003427                                         0.004956   \n",
       "4                   0.003427                                         0.004956   \n",
       "...                      ...                                              ...   \n",
       "1669                0.001636                                         0.021184   \n",
       "1670                0.001636                                         0.021184   \n",
       "1671                0.001584                                         0.021171   \n",
       "1672                0.001584                                         0.021171   \n",
       "1673                0.001584                                         0.021171   \n",
       "\n",
       "      shannon_entropy  degree_variance initialization  consensus_time  \\\n",
       "0            3.641398        28.577380         random          471.08   \n",
       "1            3.641398        28.577380         direct          535.92   \n",
       "2            3.641398        28.577380        inverse          323.41   \n",
       "3            3.629732        31.464265         random          431.67   \n",
       "4            3.629732        31.464265         direct          519.85   \n",
       "...               ...              ...            ...             ...   \n",
       "1669         0.596770         3.452053         direct        41172.93   \n",
       "1670         0.596770         3.452053        inverse        37483.28   \n",
       "1671         0.560623         3.452053         random        13790.04   \n",
       "1672         0.560623         3.452053         direct        43281.68   \n",
       "1673         0.560623         3.452053        inverse        42528.77   \n",
       "\n",
       "      opinion_change_frequency  groups  \n",
       "0                       248.74       0  \n",
       "1                       200.00       0  \n",
       "2                       386.60       0  \n",
       "3                       248.66       0  \n",
       "4                       200.00       0  \n",
       "...                        ...     ...  \n",
       "1669                   7879.43       4  \n",
       "1670                   6954.85       4  \n",
       "1671                   1911.82       4  \n",
       "1672                   7024.76       4  \n",
       "1673                   7004.53       4  \n",
       "\n",
       "[1674 rows x 16 columns]"
      ]
     },
     "execution_count": 21,
     "metadata": {},
     "output_type": "execute_result"
    }
   ],
   "source": [
    "dataset"
   ]
  },
  {
   "cell_type": "code",
   "execution_count": 51,
   "metadata": {},
   "outputs": [],
   "source": [
    "filtered_dataset = dataset.copy()\n",
    "filtered_dataset = filtered_dataset[filtered_dataset['initialization'] == 'random']\n",
    "# filtered_dataset.describe()"
   ]
  },
  {
   "cell_type": "markdown",
   "metadata": {},
   "source": [
    "### Creating Scaler"
   ]
  },
  {
   "cell_type": "code",
   "execution_count": 52,
   "metadata": {},
   "outputs": [],
   "source": [
    "from sklearn.preprocessing import StandardScaler\n",
    "scaler = StandardScaler()\n",
    "# dataset[FEATURES] = scaler.fit_transform(dataset[FEATURES])\n",
    "# dataset[['consensus_time', 'opinion_change_frequency']] = scaler.fit_transform(dataset[['consensus_time', 'opinion_change_frequency']])"
   ]
  },
  {
   "cell_type": "markdown",
   "metadata": {},
   "source": [
    "### Adjusted R2"
   ]
  },
  {
   "cell_type": "code",
   "execution_count": 53,
   "metadata": {},
   "outputs": [],
   "source": [
    "from sklearn.metrics import r2_score\n",
    "\n",
    "def adjusted_r2_score(y: np.array, y_hat: np.array, n: int, p: int):\n",
    "    \"\"\"\n",
    "    Computes R² score. It decreases if many variables are introduced.\n",
    "    n: number of observations in sample \n",
    "    p: number of independent variables\n",
    "    \"\"\"\n",
    "    return 1 - ((1 - r2_score(y, y_hat)) * ((n - 1)/(n - p - 1)))"
   ]
  },
  {
   "cell_type": "markdown",
   "metadata": {},
   "source": [
    "### Train Test Split"
   ]
  },
  {
   "cell_type": "code",
   "execution_count": 70,
   "metadata": {},
   "outputs": [],
   "source": [
    "from sklearn.model_selection import train_test_split\n",
    "\n",
    "# filtered_dataset.loc[:, FEATURES] = scaler.fit_transform(filtered_dataset[FEATURES])\n",
    "# filtered_dataset.loc[:, 'opinion_change_frequency'] = scaler.fit_transform(np.array(filtered_dataset['opinion_change_frequency']).reshape(-1, 1))\n",
    "\n",
    "y = filtered_dataset[CONSENSUS_TIME]\n",
    "X = sm.add_constant(\n",
    "   filtered_dataset[FEATURES]\n",
    ")\n",
    "\n",
    "X_train, X_test, y_train, y_test = train_test_split(\n",
    "    X, y, test_size=0.2, random_state=1, shuffle=True\n",
    ")\n",
    "\n",
    "# X_train[FEATURES] = scaler.fit_transform(X_train[FEATURES])\n",
    "# X_test[FEATURES] = scaler.transform(X_test[FEATURES])\n"
   ]
  },
  {
   "cell_type": "markdown",
   "metadata": {},
   "source": [
    "## Linear"
   ]
  },
  {
   "cell_type": "code",
   "execution_count": 71,
   "metadata": {},
   "outputs": [
    {
     "name": "stdout",
     "output_type": "stream",
     "text": [
      "                            OLS Regression Results                            \n",
      "==============================================================================\n",
      "Dep. Variable:         consensus_time   R-squared:                       0.996\n",
      "Model:                            OLS   Adj. R-squared:                  0.995\n",
      "Method:                 Least Squares   F-statistic:                 1.090e+04\n",
      "Date:                Sun, 24 Nov 2024   Prob (F-statistic):               0.00\n",
      "Time:                        09:49:52   Log-Likelihood:                 377.25\n",
      "No. Observations:                 446   AIC:                            -734.5\n",
      "Df Residuals:                     436   BIC:                            -693.5\n",
      "Df Model:                           9                                         \n",
      "Covariance Type:            nonrobust                                         \n",
      "===================================================================================================================\n",
      "                                                      coef    std err          t      P>|t|      [0.025      0.975]\n",
      "-------------------------------------------------------------------------------------------------------------------\n",
      "const                                               3.5636      0.424      8.406      0.000       2.730       4.397\n",
      "clustering                                          3.8132      0.666      5.728      0.000       2.505       5.121\n",
      "closeness                                         -10.5411      1.396     -7.550      0.000     -13.285      -7.797\n",
      "betweenness                                        -0.0070      0.001     -7.824      0.000      -0.009      -0.005\n",
      "average_shortest_path_lenght                        3.5601      0.423      8.406      0.000       2.728       4.392\n",
      "eigenvector                                         0.8604      0.102      8.469      0.000       0.661       1.060\n",
      "assortativity                                      -0.5391      0.133     -4.053      0.000      -0.800      -0.278\n",
      "information_centrality                           -339.3742     52.151     -6.508      0.000    -441.873    -236.876\n",
      "approximate_current_flow_betweenness_centrality    24.2129     11.205      2.161      0.031       2.190      46.236\n",
      "shannon_entropy                                     0.8706      0.091      9.554      0.000       0.692       1.050\n",
      "degree_variance                                     0.0031      0.001      4.398      0.000       0.002       0.005\n",
      "==============================================================================\n",
      "Omnibus:                       42.846   Durbin-Watson:                   1.979\n",
      "Prob(Omnibus):                  0.000   Jarque-Bera (JB):              211.945\n",
      "Skew:                           0.170   Prob(JB):                     9.48e-47\n",
      "Kurtosis:                       6.360   Cond. No.                     1.96e+18\n",
      "==============================================================================\n",
      "\n",
      "Notes:\n",
      "[1] Standard Errors assume that the covariance matrix of the errors is correctly specified.\n",
      "[2] The smallest eigenvalue is 4.34e-28. This might indicate that there are\n",
      "strong multicollinearity problems or that the design matrix is singular.\n"
     ]
    }
   ],
   "source": [
    "mod = sm.OLS(\n",
    "    endog=np.log(y_train), \n",
    "    exog=sm.add_constant(X_train),\n",
    ")\n",
    "res = mod.fit()\n",
    "print(res.summary())"
   ]
  },
  {
   "cell_type": "markdown",
   "metadata": {},
   "source": [
    "> The smallest eigenvalue is 1.74e-29. This might indicate that there are strong multicollinearity problems or that the design matrix is singular.\n",
    "\n",
    "This happens because of the strong collinearity between some variables. Lets try to use the UNCORRELATED_FEATURE_SUBSET"
   ]
  },
  {
   "cell_type": "code",
   "execution_count": 72,
   "metadata": {},
   "outputs": [
    {
     "name": "stdout",
     "output_type": "stream",
     "text": [
      "                            OLS Regression Results                            \n",
      "==============================================================================\n",
      "Dep. Variable:         consensus_time   R-squared:                       0.993\n",
      "Model:                            OLS   Adj. R-squared:                  0.993\n",
      "No. Observations:                 446   F-statistic:                 1.585e+04\n",
      "Covariance Type:            nonrobust   Prob (F-statistic):               0.00\n",
      "===================================================================================\n",
      "                      coef    std err          t      P>|t|      [0.025      0.975]\n",
      "-----------------------------------------------------------------------------------\n",
      "const               8.5287      0.367     23.222      0.000       7.807       9.251\n",
      "clustering          3.3245      0.450      7.382      0.000       2.439       4.210\n",
      "closeness         -11.1279      0.390    -28.506      0.000     -11.895     -10.361\n",
      "assortativity      -0.4546      0.139     -3.263      0.001      -0.728      -0.181\n",
      "shannon_entropy     0.3297      0.071      4.625      0.000       0.190       0.470\n",
      "===================================================================================\n",
      "\n",
      "Notes:\n",
      "[1] Standard Errors assume that the covariance matrix of the errors is correctly specified.\n"
     ]
    }
   ],
   "source": [
    "mod = sm.OLS(\n",
    "    endog=np.log(y_train), \n",
    "    exog=sm.add_constant(X_train[UNCORRELATED_FEATURE_SUBSET]),\n",
    ")\n",
    "res = mod.fit()\n",
    "print(res.summary(slim=True))"
   ]
  },
  {
   "cell_type": "markdown",
   "metadata": {},
   "source": [
    "We still achieve a R-Squared of $0.99$ but without errors related to collinearity"
   ]
  },
  {
   "cell_type": "code",
   "execution_count": 73,
   "metadata": {},
   "outputs": [],
   "source": [
    "y_pred = res.predict(sm.add_constant(X_test[UNCORRELATED_FEATURE_SUBSET]))"
   ]
  },
  {
   "cell_type": "code",
   "execution_count": 74,
   "metadata": {},
   "outputs": [
    {
     "data": {
      "text/plain": [
       "0.9937355209993672"
      ]
     },
     "execution_count": 74,
     "metadata": {},
     "output_type": "execute_result"
    }
   ],
   "source": [
    "adjusted_r2_score(y_pred, np.log1p(y_test), len(y_pred), len(UNCORRELATED_FEATURE_SUBSET))"
   ]
  },
  {
   "cell_type": "markdown",
   "metadata": {},
   "source": [
    "### Residuals"
   ]
  },
  {
   "cell_type": "code",
   "execution_count": 75,
   "metadata": {},
   "outputs": [
    {
     "data": {
      "text/plain": [
       "<Axes: ylabel='consensus_time'>"
      ]
     },
     "execution_count": 75,
     "metadata": {},
     "output_type": "execute_result"
    },
    {
     "data": {
      "image/png": "[encoded data removed]",
      "text/plain": [
       "<Figure size 640x480 with 1 Axes>"
      ]
     },
     "metadata": {},
     "output_type": "display_data"
    }
   ],
   "source": [
    "sns.residplot(x=y_pred, y=np.log1p(y_test))"
   ]
  },
  {
   "cell_type": "code",
   "execution_count": 76,
   "metadata": {},
   "outputs": [
    {
     "data": {
      "text/plain": [
       "Text(0, 0.5, 'log(Consensus Time)')"
      ]
     },
     "execution_count": 76,
     "metadata": {},
     "output_type": "execute_result"
    },
    {
     "data": {
      "image/png": "[encoded data removed]",
      "text/plain": [
       "<Figure size 640x480 with 1 Axes>"
      ]
     },
     "metadata": {},
     "output_type": "display_data"
    }
   ],
   "source": [
    "ax = sns.regplot(y=np.log1p(y_test), x=X_test['closeness'])\n",
    "ax.set_ylabel('log(Consensus Time)')"
   ]
  },
  {
   "cell_type": "code",
   "execution_count": 77,
   "metadata": {},
   "outputs": [
    {
     "data": {
      "text/plain": [
       "[<matplotlib.lines.Line2D at 0x7b01051bdeb0>]"
      ]
     },
     "execution_count": 77,
     "metadata": {},
     "output_type": "execute_result"
    },
    {
     "data": {
      "image/png": "[encoded data removed]",
      "text/plain": [
       "<Figure size 700x700 with 3 Axes>"
      ]
     },
     "metadata": {},
     "output_type": "display_data"
    }
   ],
   "source": [
    "g = sns.jointplot(\n",
    "    y=y_pred, x=np.log1p(y_test), \n",
    "    kind=\"reg\", truncate=False, height=7)\n",
    "g.set_axis_labels(\"\",\"\")\n",
    "plt.plot([2.3, 11.3], [2.3, 11.3], '--', lw=2, c='red')\n"
   ]
  },
  {
   "cell_type": "markdown",
   "metadata": {},
   "source": [
    "## LASSO Regression\n",
    "We intend to use Lasso for variable selection"
   ]
  },
  {
   "cell_type": "code",
   "execution_count": 32,
   "metadata": {},
   "outputs": [
    {
     "name": "stderr",
     "output_type": "stream",
     "text": [
      "/home/vitor/Documents/SznajdNetworks/venv/lib/python3.12/site-packages/sklearn/linear_model/_coordinate_descent.py:697: ConvergenceWarning: Objective did not converge. You might want to increase the number of iterations, check the scale of the features or consider increasing regularisation. Duality gap: 5.219e-01, tolerance: 4.847e-01\n",
      "  model = cd_fast.enet_coordinate_descent(\n"
     ]
    }
   ],
   "source": [
    "from sklearn.linear_model import LassoCV\n",
    "\n",
    "X_train[FEATURES] = scaler.fit_transform(X_train[FEATURES])\n",
    "X_test[FEATURES] = scaler.transform(X_test[FEATURES])\n",
    "\n",
    "lasso_cv = LassoCV(cv=20, random_state=0).fit(X_train[FEATURES], np.log1p(y_train))"
   ]
  },
  {
   "cell_type": "markdown",
   "metadata": {},
   "source": [
    "With fitted alpha, lets see statsmodels summary"
   ]
  },
  {
   "cell_type": "code",
   "execution_count": 33,
   "metadata": {},
   "outputs": [],
   "source": [
    "mod = sm.OLS(\n",
    "    endog=np.log1p(y_train), \n",
    "    exog=sm.add_constant(X_train[FEATURES]),\n",
    ")\n",
    "res = mod.fit_regularized(\n",
    "    method='elastic_net',\n",
    "    alpha=lasso_cv.alpha_,\n",
    "    L1_wt=1,\n",
    "    refit=True\n",
    ")"
   ]
  },
  {
   "cell_type": "code",
   "execution_count": 34,
   "metadata": {},
   "outputs": [
    {
     "name": "stdout",
     "output_type": "stream",
     "text": [
      "                            OLS Regression Results                            \n",
      "==============================================================================\n",
      "Dep. Variable:         consensus_time   R-squared:                       0.950\n",
      "Model:                            OLS   Adj. R-squared:                  0.950\n",
      "Method:                 Least Squares   F-statistic:                     3182.\n",
      "Date:                Sun, 24 Nov 2024   Prob (F-statistic):               0.00\n",
      "Time:                        09:40:57   Log-Likelihood:                -751.37\n",
      "No. Observations:                1339   AIC:                             1521.\n",
      "Df Residuals:                    1331   BIC:                             1568.\n",
      "Df Model:                           8                                         \n",
      "Covariance Type:            nonrobust                                         \n",
      "===================================================================================================================\n",
      "                                                      coef    std err          t      P>|t|      [0.025      0.975]\n",
      "-------------------------------------------------------------------------------------------------------------------\n",
      "const                                               6.6339      0.012    570.683      0.000       6.611       6.657\n",
      "clustering                                          0.8024      0.316      2.539      0.011       0.182       1.423\n",
      "closeness                                          -1.5737      0.226     -6.968      0.000      -2.017      -1.131\n",
      "betweenness                                              0          0        nan        nan           0           0\n",
      "average_shortest_path_lenght                             0          0        nan        nan           0           0\n",
      "eigenvector                                         0.0839      0.040      2.097      0.036       0.005       0.162\n",
      "assortativity                                      -0.0972      0.050     -1.945      0.052      -0.195       0.001\n",
      "information_centrality                             -0.1948      0.096     -2.021      0.043      -0.384      -0.006\n",
      "approximate_current_flow_betweenness_centrality          0          0        nan        nan           0           0\n",
      "shannon_entropy                                     0.6834      0.208      3.285      0.001       0.275       1.092\n",
      "degree_variance                                     0.1733      0.094      1.852      0.064      -0.010       0.357\n",
      "==============================================================================\n",
      "Omnibus:                       65.267   Durbin-Watson:                   2.119\n",
      "Prob(Omnibus):                  0.000   Jarque-Bera (JB):               74.301\n",
      "Skew:                          -0.576   Prob(JB):                     7.34e-17\n",
      "Kurtosis:                       2.944   Cond. No.                     8.46e+07\n",
      "==============================================================================\n",
      "\n",
      "Notes:\n",
      "[1] Standard Errors assume that the covariance matrix of the errors is correctly specified.\n",
      "[2] The smallest eigenvalue is 1.32e-12. This might indicate that there are\n",
      "strong multicollinearity problems or that the design matrix is singular.\n"
     ]
    }
   ],
   "source": [
    "print(res.summary())"
   ]
  },
  {
   "cell_type": "code",
   "execution_count": 35,
   "metadata": {},
   "outputs": [
    {
     "data": {
      "text/plain": [
       "0.9456021273509851"
      ]
     },
     "execution_count": 35,
     "metadata": {},
     "output_type": "execute_result"
    }
   ],
   "source": [
    "y_pred = res.predict(sm.add_constant(X_test[FEATURES]))\n",
    "adjusted_r2_score(y_pred, np.log1p(y_test), len(y_pred), len(FEATURES))"
   ]
  },
  {
   "cell_type": "code",
   "execution_count": 36,
   "metadata": {},
   "outputs": [
    {
     "data": {
      "text/plain": [
       "<Axes: ylabel='consensus_time'>"
      ]
     },
     "execution_count": 36,
     "metadata": {},
     "output_type": "execute_result"
    },
    {
     "data": {
      "image/png": "[encoded data removed]",
      "text/plain": [
       "<Figure size 640x480 with 1 Axes>"
      ]
     },
     "metadata": {},
     "output_type": "display_data"
    }
   ],
   "source": [
    "sns.residplot(x=y_pred, y=np.log1p(y_test))"
   ]
  },
  {
   "cell_type": "code",
   "execution_count": null,
   "metadata": {},
   "outputs": [],
   "source": []
  }
 ],
 "metadata": {
  "kernelspec": {
   "display_name": "venv",
   "language": "python",
   "name": "python3"
  },
  "language_info": {
   "codemirror_mode": {
    "name": "ipython",
    "version": 3
   },
   "file_extension": ".py",
   "mimetype": "text/x-python",
   "name": "python",
   "nbconvert_exporter": "python",
   "pygments_lexer": "ipython3",
   "version": "3.12.6"
  }
 },
 "nbformat": 4,
 "nbformat_minor": 2
}
