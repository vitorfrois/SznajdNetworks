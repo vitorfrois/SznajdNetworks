{
 "cells": [
  {
   "cell_type": "markdown",
   "metadata": {},
   "source": [
    "# Regression Analysis"
   ]
  },
  {
   "cell_type": "markdown",
   "metadata": {},
   "source": [
    "### Imports"
   ]
  },
  {
   "cell_type": "code",
   "execution_count": 120,
   "metadata": {},
   "outputs": [],
   "source": [
    "import pandas as pd\n",
    "import os\n",
    "from tqdm import tqdm\n",
    "import numpy as np\n",
    "import matplotlib.pyplot as plt\n",
    "import seaborn as sns\n",
    "import statsmodels.api as sm\n",
    "\n",
    "CONSENSUS_TIME = 'consensus_time'\n",
    "OPINION_CHANGE_FREQUENCY = 'opinion_change_frequency'\n",
    "\n",
    "FEATURES = [\n",
    "    'clustering', 'closeness', 'betweenness',\n",
    "    'average_shortest_path_lenght', 'eigenvector', 'assortativity',\n",
    "    'information_centrality',\n",
    "    'approximate_current_flow_betweenness_centrality', 'shannon_entropy',\n",
    "    'degree_variance'\n",
    "]\n",
    "\n",
    "UNCORRELATED_FEATURE_SUBSET = [\n",
    "    'clustering', \n",
    "    'closeness',\n",
    "    'assortativity',\n",
    "    'shannon_entropy'\n",
    "]"
   ]
  },
  {
   "cell_type": "code",
   "execution_count": 2,
   "metadata": {},
   "outputs": [],
   "source": [
    "dataset = pd.read_csv('../data/dataset.csv')"
   ]
  },
  {
   "cell_type": "code",
   "execution_count": 156,
   "metadata": {},
   "outputs": [
    {
     "data": {
      "text/html": [
       "<div>\n",
       "<style scoped>\n",
       "    .dataframe tbody tr th:only-of-type {\n",
       "        vertical-align: middle;\n",
       "    }\n",
       "\n",
       "    .dataframe tbody tr th {\n",
       "        vertical-align: top;\n",
       "    }\n",
       "\n",
       "    .dataframe thead th {\n",
       "        text-align: right;\n",
       "    }\n",
       "</style>\n",
       "<table border=\"1\" class=\"dataframe\">\n",
       "  <thead>\n",
       "    <tr style=\"text-align: right;\">\n",
       "      <th></th>\n",
       "      <th>clustering</th>\n",
       "      <th>closeness</th>\n",
       "      <th>betweenness</th>\n",
       "      <th>average_shortest_path_lenght</th>\n",
       "      <th>eigenvector</th>\n",
       "      <th>assortativity</th>\n",
       "      <th>information_centrality</th>\n",
       "      <th>approximate_current_flow_betweenness_centrality</th>\n",
       "      <th>shannon_entropy</th>\n",
       "      <th>degree_variance</th>\n",
       "      <th>consensus_time</th>\n",
       "      <th>opinion_change_frequency</th>\n",
       "      <th>groups</th>\n",
       "    </tr>\n",
       "  </thead>\n",
       "  <tbody>\n",
       "    <tr>\n",
       "      <th>count</th>\n",
       "      <td>1674.000000</td>\n",
       "      <td>1674.000000</td>\n",
       "      <td>1674.000000</td>\n",
       "      <td>1674.000000</td>\n",
       "      <td>1674.000000</td>\n",
       "      <td>1674.000000</td>\n",
       "      <td>1674.000000</td>\n",
       "      <td>1674.000000</td>\n",
       "      <td>1674.000000</td>\n",
       "      <td>1674.000000</td>\n",
       "      <td>1674.000000</td>\n",
       "      <td>1674.000000</td>\n",
       "      <td>1674.000000</td>\n",
       "    </tr>\n",
       "    <tr>\n",
       "      <th>mean</th>\n",
       "      <td>0.134973</td>\n",
       "      <td>0.302541</td>\n",
       "      <td>1522.851944</td>\n",
       "      <td>4.044704</td>\n",
       "      <td>0.230008</td>\n",
       "      <td>-0.018908</td>\n",
       "      <td>0.003183</td>\n",
       "      <td>0.007993</td>\n",
       "      <td>2.980314</td>\n",
       "      <td>40.393910</td>\n",
       "      <td>6366.644719</td>\n",
       "      <td>1243.208393</td>\n",
       "      <td>2.326165</td>\n",
       "    </tr>\n",
       "    <tr>\n",
       "      <th>std</th>\n",
       "      <td>0.238810</td>\n",
       "      <td>0.101689</td>\n",
       "      <td>1150.783608</td>\n",
       "      <td>2.301567</td>\n",
       "      <td>0.173774</td>\n",
       "      <td>0.163433</td>\n",
       "      <td>0.000840</td>\n",
       "      <td>0.006716</td>\n",
       "      <td>1.209459</td>\n",
       "      <td>59.319039</td>\n",
       "      <td>14074.200627</td>\n",
       "      <td>2337.194329</td>\n",
       "      <td>1.637121</td>\n",
       "    </tr>\n",
       "    <tr>\n",
       "      <th>min</th>\n",
       "      <td>0.008343</td>\n",
       "      <td>0.096122</td>\n",
       "      <td>548.311000</td>\n",
       "      <td>2.095622</td>\n",
       "      <td>0.048632</td>\n",
       "      <td>-0.394020</td>\n",
       "      <td>0.001307</td>\n",
       "      <td>0.003230</td>\n",
       "      <td>0.377454</td>\n",
       "      <td>3.452053</td>\n",
       "      <td>14.380000</td>\n",
       "      <td>200.000000</td>\n",
       "      <td>0.000000</td>\n",
       "    </tr>\n",
       "    <tr>\n",
       "      <th>25%</th>\n",
       "      <td>0.023496</td>\n",
       "      <td>0.295643</td>\n",
       "      <td>1002.297000</td>\n",
       "      <td>3.003594</td>\n",
       "      <td>0.077858</td>\n",
       "      <td>-0.028178</td>\n",
       "      <td>0.002955</td>\n",
       "      <td>0.004962</td>\n",
       "      <td>2.621794</td>\n",
       "      <td>6.344289</td>\n",
       "      <td>354.175000</td>\n",
       "      <td>236.412500</td>\n",
       "      <td>1.000000</td>\n",
       "    </tr>\n",
       "    <tr>\n",
       "      <th>50%</th>\n",
       "      <td>0.026425</td>\n",
       "      <td>0.313753</td>\n",
       "      <td>1101.902500</td>\n",
       "      <td>3.202805</td>\n",
       "      <td>0.101251</td>\n",
       "      <td>-0.005222</td>\n",
       "      <td>0.003437</td>\n",
       "      <td>0.005224</td>\n",
       "      <td>3.645626</td>\n",
       "      <td>14.142136</td>\n",
       "      <td>502.895000</td>\n",
       "      <td>271.650000</td>\n",
       "      <td>2.000000</td>\n",
       "    </tr>\n",
       "    <tr>\n",
       "      <th>75%</th>\n",
       "      <td>0.032070</td>\n",
       "      <td>0.334657</td>\n",
       "      <td>1198.729000</td>\n",
       "      <td>3.396458</td>\n",
       "      <td>0.400133</td>\n",
       "      <td>0.117593</td>\n",
       "      <td>0.003652</td>\n",
       "      <td>0.005652</td>\n",
       "      <td>3.832035</td>\n",
       "      <td>32.907699</td>\n",
       "      <td>850.330000</td>\n",
       "      <td>405.840000</td>\n",
       "      <td>4.000000</td>\n",
       "    </tr>\n",
       "    <tr>\n",
       "      <th>max</th>\n",
       "      <td>0.652846</td>\n",
       "      <td>0.478556</td>\n",
       "      <td>4797.811000</td>\n",
       "      <td>10.594622</td>\n",
       "      <td>0.621034</td>\n",
       "      <td>0.204217</td>\n",
       "      <td>0.004290</td>\n",
       "      <td>0.027219</td>\n",
       "      <td>4.027738</td>\n",
       "      <td>204.959142</td>\n",
       "      <td>72565.190000</td>\n",
       "      <td>10212.310000</td>\n",
       "      <td>5.000000</td>\n",
       "    </tr>\n",
       "  </tbody>\n",
       "</table>\n",
       "</div>"
      ],
      "text/plain": [
       "        clustering    closeness  betweenness  average_shortest_path_lenght  \\\n",
       "count  1674.000000  1674.000000  1674.000000                   1674.000000   \n",
       "mean      0.134973     0.302541  1522.851944                      4.044704   \n",
       "std       0.238810     0.101689  1150.783608                      2.301567   \n",
       "min       0.008343     0.096122   548.311000                      2.095622   \n",
       "25%       0.023496     0.295643  1002.297000                      3.003594   \n",
       "50%       0.026425     0.313753  1101.902500                      3.202805   \n",
       "75%       0.032070     0.334657  1198.729000                      3.396458   \n",
       "max       0.652846     0.478556  4797.811000                     10.594622   \n",
       "\n",
       "       eigenvector  assortativity  information_centrality  \\\n",
       "count  1674.000000    1674.000000             1674.000000   \n",
       "mean      0.230008      -0.018908                0.003183   \n",
       "std       0.173774       0.163433                0.000840   \n",
       "min       0.048632      -0.394020                0.001307   \n",
       "25%       0.077858      -0.028178                0.002955   \n",
       "50%       0.101251      -0.005222                0.003437   \n",
       "75%       0.400133       0.117593                0.003652   \n",
       "max       0.621034       0.204217                0.004290   \n",
       "\n",
       "       approximate_current_flow_betweenness_centrality  shannon_entropy  \\\n",
       "count                                      1674.000000      1674.000000   \n",
       "mean                                          0.007993         2.980314   \n",
       "std                                           0.006716         1.209459   \n",
       "min                                           0.003230         0.377454   \n",
       "25%                                           0.004962         2.621794   \n",
       "50%                                           0.005224         3.645626   \n",
       "75%                                           0.005652         3.832035   \n",
       "max                                           0.027219         4.027738   \n",
       "\n",
       "       degree_variance  consensus_time  opinion_change_frequency       groups  \n",
       "count      1674.000000     1674.000000               1674.000000  1674.000000  \n",
       "mean         40.393910     6366.644719               1243.208393     2.326165  \n",
       "std          59.319039    14074.200627               2337.194329     1.637121  \n",
       "min           3.452053       14.380000                200.000000     0.000000  \n",
       "25%           6.344289      354.175000                236.412500     1.000000  \n",
       "50%          14.142136      502.895000                271.650000     2.000000  \n",
       "75%          32.907699      850.330000                405.840000     4.000000  \n",
       "max         204.959142    72565.190000              10212.310000     5.000000  "
      ]
     },
     "execution_count": 156,
     "metadata": {},
     "output_type": "execute_result"
    }
   ],
   "source": [
    "filtered_dataset = dataset.copy()\n",
    "filtered_dataset.describe()"
   ]
  },
  {
   "cell_type": "markdown",
   "metadata": {},
   "source": [
    "### Creating Scaler"
   ]
  },
  {
   "cell_type": "code",
   "execution_count": 157,
   "metadata": {},
   "outputs": [],
   "source": [
    "from sklearn.preprocessing import StandardScaler\n",
    "scaler = StandardScaler()\n",
    "# dataset[FEATURES] = scaler.fit_transform(dataset[FEATURES])\n",
    "# dataset[['consensus_time', 'opinion_change_frequency']] = scaler.fit_transform(dataset[['consensus_time', 'opinion_change_frequency']])"
   ]
  },
  {
   "cell_type": "markdown",
   "metadata": {},
   "source": [
    "### Adjusted R2"
   ]
  },
  {
   "cell_type": "code",
   "execution_count": 158,
   "metadata": {},
   "outputs": [],
   "source": [
    "from sklearn.metrics import r2_score\n",
    "\n",
    "def adjusted_r2_score(y: np.array, y_hat: np.array, n: int, p: int):\n",
    "    \"\"\"\n",
    "    Computes R² score. It decreases if many variables are introduced.\n",
    "    n: number of observations in sample \n",
    "    p: number of independent variables\n",
    "    \"\"\"\n",
    "    return 1 - ((1 - r2_score(y, y_hat)) * ((n - 1)/(n - p - 1)))"
   ]
  },
  {
   "cell_type": "markdown",
   "metadata": {},
   "source": [
    "### Train Test Split"
   ]
  },
  {
   "cell_type": "code",
   "execution_count": 159,
   "metadata": {},
   "outputs": [],
   "source": [
    "from sklearn.model_selection import train_test_split\n",
    "\n",
    "# filtered_dataset.loc[:, FEATURES] = scaler.fit_transform(filtered_dataset[FEATURES])\n",
    "# filtered_dataset.loc[:, 'opinion_change_frequency'] = scaler.fit_transform(np.array(filtered_dataset['opinion_change_frequency']).reshape(-1, 1))\n",
    "\n",
    "y = filtered_dataset[CONSENSUS_TIME]\n",
    "X = sm.add_constant(\n",
    "   filtered_dataset[FEATURES]\n",
    ")\n",
    "\n",
    "X_train, X_test, y_train, y_test = train_test_split(\n",
    "    X, y, test_size=0.2, random_state=1, shuffle=True\n",
    ")\n",
    "\n",
    "# X_train[FEATURES] = scaler.fit_transform(X_train[FEATURES])\n",
    "# X_test[FEATURES] = scaler.transform(X_test[FEATURES])\n"
   ]
  },
  {
   "cell_type": "markdown",
   "metadata": {},
   "source": [
    "## Linear"
   ]
  },
  {
   "cell_type": "code",
   "execution_count": 160,
   "metadata": {},
   "outputs": [
    {
     "name": "stdout",
     "output_type": "stream",
     "text": [
      "                            OLS Regression Results                            \n",
      "==============================================================================\n",
      "Dep. Variable:         consensus_time   R-squared:                       0.950\n",
      "Model:                            OLS   Adj. R-squared:                  0.950\n",
      "Method:                 Least Squares   F-statistic:                     2833.\n",
      "Date:                Fri, 23 Aug 2024   Prob (F-statistic):               0.00\n",
      "Time:                        15:51:29   Log-Likelihood:                -749.35\n",
      "No. Observations:                1339   AIC:                             1519.\n",
      "Df Residuals:                    1329   BIC:                             1571.\n",
      "Df Model:                           9                                         \n",
      "Covariance Type:            nonrobust                                         \n",
      "===================================================================================================================\n",
      "                                                      coef    std err          t      P>|t|      [0.025      0.975]\n",
      "-------------------------------------------------------------------------------------------------------------------\n",
      "const                                               3.5903      1.012      3.547      0.000       1.605       5.576\n",
      "clustering                                          4.4558      1.593      2.797      0.005       1.330       7.581\n",
      "closeness                                         -11.6984      3.281     -3.566      0.000     -18.134      -5.262\n",
      "betweenness                                        -0.0071      0.002     -3.298      0.001      -0.011      -0.003\n",
      "average_shortest_path_lenght                        3.5867      1.011      3.547      0.000       1.603       5.570\n",
      "eigenvector                                         0.5528      0.235      2.353      0.019       0.092       1.014\n",
      "assortativity                                      -0.6209      0.307     -2.023      0.043      -1.223      -0.019\n",
      "information_centrality                           -151.6402    124.988     -1.213      0.225    -396.835      93.555\n",
      "approximate_current_flow_betweenness_centrality    34.8681     26.849      1.299      0.194     -17.802      87.539\n",
      "shannon_entropy                                     0.7591      0.215      3.530      0.000       0.337       1.181\n",
      "degree_variance                                     0.0020      0.002      1.238      0.216      -0.001       0.005\n",
      "==============================================================================\n",
      "Omnibus:                       64.431   Durbin-Watson:                   2.117\n",
      "Prob(Omnibus):                  0.000   Jarque-Bera (JB):               73.222\n",
      "Skew:                          -0.572   Prob(JB):                     1.26e-16\n",
      "Kurtosis:                       2.947   Cond. No.                     5.79e+17\n",
      "==============================================================================\n",
      "\n",
      "Notes:\n",
      "[1] Standard Errors assume that the covariance matrix of the errors is correctly specified.\n",
      "[2] The smallest eigenvalue is 1.46e-26. This might indicate that there are\n",
      "strong multicollinearity problems or that the design matrix is singular.\n"
     ]
    }
   ],
   "source": [
    "mod = sm.OLS(\n",
    "    endog=np.log1p(y_train), \n",
    "    exog=sm.add_constant(X_train),\n",
    ")\n",
    "res = mod.fit()\n",
    "print(res.summary())\n"
   ]
  },
  {
   "cell_type": "markdown",
   "metadata": {},
   "source": [
    "> The smallest eigenvalue is 1.74e-29. This might indicate that there are strong multicollinearity problems or that the design matrix is singular.\n",
    "\n",
    "This happens because of the strong collinearity between some variables. Lets try to use the UNCORRELATED_FEATURE_SUBSET"
   ]
  },
  {
   "cell_type": "code",
   "execution_count": 161,
   "metadata": {},
   "outputs": [
    {
     "name": "stdout",
     "output_type": "stream",
     "text": [
      "                            OLS Regression Results                            \n",
      "==============================================================================\n",
      "Dep. Variable:         consensus_time   R-squared:                       0.950\n",
      "Model:                            OLS   Adj. R-squared:                  0.950\n",
      "Method:                 Least Squares   F-statistic:                     6291.\n",
      "Date:                Fri, 23 Aug 2024   Prob (F-statistic):               0.00\n",
      "Time:                        15:51:33   Log-Likelihood:                -760.24\n",
      "No. Observations:                1339   AIC:                             1530.\n",
      "Df Residuals:                    1334   BIC:                             1556.\n",
      "Df Model:                           4                                         \n",
      "Covariance Type:            nonrobust                                         \n",
      "===================================================================================\n",
      "                      coef    std err          t      P>|t|      [0.025      0.975]\n",
      "-----------------------------------------------------------------------------------\n",
      "const               9.2881      0.701     13.257      0.000       7.914      10.662\n",
      "clustering          3.6395      0.860      4.231      0.000       1.952       5.327\n",
      "closeness         -13.5070      0.738    -18.291      0.000     -14.956     -12.058\n",
      "assortativity      -0.5385      0.263     -2.050      0.041      -1.054      -0.023\n",
      "shannon_entropy     0.3141      0.136      2.307      0.021       0.047       0.581\n",
      "==============================================================================\n",
      "Omnibus:                       40.879   Durbin-Watson:                   2.122\n",
      "Prob(Omnibus):                  0.000   Jarque-Bera (JB):               44.202\n",
      "Skew:                          -0.444   Prob(JB):                     2.52e-10\n",
      "Kurtosis:                       2.930   Cond. No.                         373.\n",
      "==============================================================================\n",
      "\n",
      "Notes:\n",
      "[1] Standard Errors assume that the covariance matrix of the errors is correctly specified.\n"
     ]
    }
   ],
   "source": [
    "mod = sm.OLS(\n",
    "    endog=np.log1p(y_train), \n",
    "    exog=sm.add_constant(X_train[UNCORRELATED_FEATURE_SUBSET]),\n",
    ")\n",
    "res = mod.fit()\n",
    "print(res.summary())\n"
   ]
  },
  {
   "cell_type": "markdown",
   "metadata": {},
   "source": [
    "We still achieve a R-Squared of $0.99$ but without errors related to collinearity"
   ]
  },
  {
   "cell_type": "code",
   "execution_count": 162,
   "metadata": {},
   "outputs": [],
   "source": [
    "y_pred = res.predict(sm.add_constant(X_test[UNCORRELATED_FEATURE_SUBSET]))"
   ]
  },
  {
   "cell_type": "code",
   "execution_count": 167,
   "metadata": {},
   "outputs": [
    {
     "data": {
      "text/plain": [
       "0.9451422206573146"
      ]
     },
     "execution_count": 167,
     "metadata": {},
     "output_type": "execute_result"
    }
   ],
   "source": [
    "adjusted_r2_score(y_pred, np.log1p(y_test), len(y_pred), len(UNCORRELATED_FEATURE_SUBSET))"
   ]
  },
  {
   "cell_type": "markdown",
   "metadata": {},
   "source": [
    "### Residuals"
   ]
  },
  {
   "cell_type": "code",
   "execution_count": 164,
   "metadata": {},
   "outputs": [
    {
     "data": {
      "text/plain": [
       "<Axes: ylabel='consensus_time'>"
      ]
     },
     "execution_count": 164,
     "metadata": {},
     "output_type": "execute_result"
    },
    {
     "data": {
      "image/png": "[encoded data removed]",
      "text/plain": [
       "<Figure size 640x480 with 1 Axes>"
      ]
     },
     "metadata": {},
     "output_type": "display_data"
    }
   ],
   "source": [
    "sns.residplot(x=y_pred, y=np.log1p(y_test))"
   ]
  },
  {
   "cell_type": "code",
   "execution_count": 165,
   "metadata": {},
   "outputs": [
    {
     "data": {
      "text/plain": [
       "Text(0, 0.5, 'log(Consensus Time)')"
      ]
     },
     "execution_count": 165,
     "metadata": {},
     "output_type": "execute_result"
    },
    {
     "data": {
      "image/png": "[encoded data removed]",
      "text/plain": [
       "<Figure size 640x480 with 1 Axes>"
      ]
     },
     "metadata": {},
     "output_type": "display_data"
    }
   ],
   "source": [
    "ax = sns.regplot(y=np.log1p(y_test), x=X_test['closeness'])\n",
    "ax.set_ylabel('log(Consensus Time)')"
   ]
  },
  {
   "cell_type": "markdown",
   "metadata": {},
   "source": [
    "## LASSO Regression\n",
    "We intend to use Lasso for variable selection"
   ]
  },
  {
   "cell_type": "code",
   "execution_count": 134,
   "metadata": {},
   "outputs": [],
   "source": [
    "from sklearn.linear_model import LassoCV\n",
    "\n",
    "X_train[UNCORRELATED_FEATURE_SUBSET] = scaler.fit_transform(X_train[UNCORRELATED_FEATURE_SUBSET])\n",
    "X_test[UNCORRELATED_FEATURE_SUBSET] = scaler.transform(X_test[UNCORRELATED_FEATURE_SUBSET])\n",
    "\n",
    "lasso_cv = LassoCV(cv=20, random_state=0).fit(X_train[UNCORRELATED_FEATURE_SUBSET], np.log1p(y_train))"
   ]
  },
  {
   "cell_type": "markdown",
   "metadata": {},
   "source": [
    "With fitted alpha, lets see statsmodels summary"
   ]
  },
  {
   "cell_type": "code",
   "execution_count": 135,
   "metadata": {},
   "outputs": [],
   "source": [
    "mod = sm.OLS(\n",
    "    endog=np.log1p(y_train), \n",
    "    exog=sm.add_constant(X_train[UNCORRELATED_FEATURE_SUBSET]),\n",
    ")\n",
    "res = mod.fit_regularized(\n",
    "    method='elastic_net',\n",
    "    alpha=lasso_cv.alpha_,\n",
    "    L1_wt=1,\n",
    "    refit=True\n",
    ")"
   ]
  },
  {
   "cell_type": "code",
   "execution_count": 136,
   "metadata": {},
   "outputs": [
    {
     "name": "stdout",
     "output_type": "stream",
     "text": [
      "                            OLS Regression Results                            \n",
      "==============================================================================\n",
      "Dep. Variable:         consensus_time   R-squared:                       0.993\n",
      "Model:                            OLS   Adj. R-squared:                  0.993\n",
      "Method:                 Least Squares   F-statistic:                 1.270e+04\n",
      "Date:                Fri, 23 Aug 2024   Prob (F-statistic):               0.00\n",
      "Time:                        15:25:18   Log-Likelihood:                 278.91\n",
      "No. Observations:                 446   AIC:                            -545.8\n",
      "Df Residuals:                     441   BIC:                            -521.2\n",
      "Df Model:                           5                                         \n",
      "Covariance Type:            nonrobust                                         \n",
      "===================================================================================\n",
      "                      coef    std err          t      P>|t|      [0.025      0.975]\n",
      "-----------------------------------------------------------------------------------\n",
      "const               6.6197      0.006   1073.699      0.000       6.608       6.632\n",
      "clustering          0.8010      0.109      7.362      0.000       0.587       1.015\n",
      "closeness          -1.1445      0.040    -28.493      0.000      -1.223      -1.066\n",
      "assortativity      -0.0732      0.023     -3.232      0.001      -0.118      -0.029\n",
      "shannon_entropy     0.3966      0.087      4.567      0.000       0.226       0.567\n",
      "==============================================================================\n",
      "Omnibus:                       42.987   Durbin-Watson:                   2.077\n",
      "Prob(Omnibus):                  0.000   Jarque-Bera (JB):               80.048\n",
      "Skew:                           0.583   Prob(JB):                     4.15e-18\n",
      "Kurtosis:                       4.718   Cond. No.                         37.6\n",
      "==============================================================================\n",
      "\n",
      "Notes:\n",
      "[1] Standard Errors assume that the covariance matrix of the errors is correctly specified.\n"
     ]
    }
   ],
   "source": [
    "print(res.summary())"
   ]
  },
  {
   "cell_type": "code",
   "execution_count": 154,
   "metadata": {},
   "outputs": [
    {
     "data": {
      "text/plain": [
       "0.9937404631731812"
      ]
     },
     "execution_count": 154,
     "metadata": {},
     "output_type": "execute_result"
    }
   ],
   "source": [
    "y_pred = res.predict(sm.add_constant(X_test[UNCORRELATED_FEATURE_SUBSET]))\n",
    "adjusted_r2_score(y_pred, np.log1p(y_test), len(y_pred), len(UNCORRELATED_FEATURE_SUBSET))"
   ]
  },
  {
   "cell_type": "code",
   "execution_count": 155,
   "metadata": {},
   "outputs": [
    {
     "data": {
      "text/plain": [
       "<Axes: ylabel='consensus_time'>"
      ]
     },
     "execution_count": 155,
     "metadata": {},
     "output_type": "execute_result"
    },
    {
     "data": {
      "image/png": "[encoded data removed]",
      "text/plain": [
       "<Figure size 640x480 with 1 Axes>"
      ]
     },
     "metadata": {},
     "output_type": "display_data"
    }
   ],
   "source": [
    "sns.residplot(x=y_pred, y=np.log1p(y_test))"
   ]
  }
 ],
 "metadata": {
  "kernelspec": {
   "display_name": "venv",
   "language": "python",
   "name": "python3"
  },
  "language_info": {
   "codemirror_mode": {
    "name": "ipython",
    "version": 3
   },
   "file_extension": ".py",
   "mimetype": "text/x-python",
   "name": "python",
   "nbconvert_exporter": "python",
   "pygments_lexer": "ipython3",
   "version": "3.12.3"
  }
 },
 "nbformat": 4,
 "nbformat_minor": 2
}
