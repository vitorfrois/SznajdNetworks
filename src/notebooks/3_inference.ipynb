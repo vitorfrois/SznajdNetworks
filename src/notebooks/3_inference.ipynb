{
 "cells": [
  {
   "cell_type": "markdown",
   "metadata": {},
   "source": [
    "# Prediction of Dynamic Variables in Sznajd Model"
   ]
  },
  {
   "cell_type": "markdown",
   "metadata": {},
   "source": [
    "## Imports"
   ]
  },
  {
   "cell_type": "code",
   "execution_count": 19,
   "metadata": {},
   "outputs": [],
   "source": [
    "import pandas as pd\n",
    "import os\n",
    "from tqdm import tqdm\n",
    "import numpy as np\n",
    "import matplotlib.pyplot as plt\n",
    "import statsmodels.api as sm\n",
    "import seaborn as sns\n",
    "from collections import Counter\n",
    "\n",
    "CONSENSUS_TIME = 'consensus_time'\n",
    "OPINION_CHANGE_FREQUENCY = 'opinion_change_frequency'\n",
    "\n",
    "FEATURES = [\n",
    "    'clustering', 'closeness', 'betweenness',\n",
    "    'average_shortest_path_lenght', 'eigenvector', 'assortativity',\n",
    "    'information_centrality',\n",
    "    'approximate_current_flow_betweenness_centrality', 'shannon_entropy',\n",
    "    'degree_variance'\n",
    "]\n",
    "\n",
    "UNCORRELATED_FEATURE_SUBSET = [\n",
    "    'clustering', \n",
    "    'closeness',\n",
    "    'assortativity',\n",
    "    'shannon_entropy'\n",
    "]"
   ]
  },
  {
   "cell_type": "code",
   "execution_count": 20,
   "metadata": {},
   "outputs": [],
   "source": [
    "dataset = pd.read_csv('../data/dataset.csv')\n",
    "filtered_dataset = dataset[dataset['initialization'] == 'inverse']"
   ]
  },
  {
   "cell_type": "markdown",
   "metadata": {},
   "source": [
    "## Imports"
   ]
  },
  {
   "cell_type": "code",
   "execution_count": 21,
   "metadata": {},
   "outputs": [],
   "source": [
    "from sklearn.metrics import r2_score\n",
    "from sklearn.model_selection import train_test_split, KFold, GridSearchCV, GroupKFold, StratifiedGroupKFold, StratifiedKFold\n",
    "from sklearn.tree import DecisionTreeRegressor\n",
    "from sklearn.ensemble import RandomForestRegressor\n",
    "from sklearn.linear_model import PoissonRegressor, TweedieRegressor, LinearRegression\n",
    "from sklearn.base import clone\n",
    "from sklearn.preprocessing import LabelEncoder, StandardScaler\n",
    "from sklearn.feature_selection import SequentialFeatureSelector\n",
    "import optuna"
   ]
  },
  {
   "cell_type": "markdown",
   "metadata": {},
   "source": [
    "## Metrics"
   ]
  },
  {
   "cell_type": "code",
   "execution_count": 22,
   "metadata": {},
   "outputs": [],
   "source": [
    "p = 1\n",
    "from sklearn.metrics import r2_score\n",
    "\n",
    "def adjusted_r2_score(y: np.array, y_hat: np.array):\n",
    "    \"\"\"\n",
    "    Computes R² score. It decreases if many variables are introduced.\n",
    "    n: number of observations in sample \n",
    "    p: number of independent variables\n",
    "    \"\"\"\n",
    "    n = len(y_hat)\n",
    "    return 1 - ((1 - r2_score(y, y_hat)) * ((n - 1)/(n - p - 1)))"
   ]
  },
  {
   "cell_type": "markdown",
   "metadata": {},
   "source": [
    "## Linear Regression CV"
   ]
  },
  {
   "cell_type": "code",
   "execution_count": 23,
   "metadata": {},
   "outputs": [],
   "source": [
    "def LinearRegressionCV(X, y):\n",
    "    cross_validation = KFold(n_splits=10)\n",
    "\n",
    "    splits = cross_validation.split(\n",
    "        X, \n",
    "        y=y\n",
    "    )\n",
    "\n",
    "    score_list = []\n",
    "    feature_list = []\n",
    "    \n",
    "    regressor = LinearRegression()\n",
    "    feature_selector = SequentialFeatureSelector(\n",
    "        regressor,\n",
    "        # tol=0.01,\n",
    "        n_features_to_select=2,\n",
    "        direction='forward'\n",
    "    )\n",
    "    \n",
    "    for train_index, val_index in splits:\n",
    "        _X_train, _X_val = X.iloc[train_index], X.iloc[val_index]\n",
    "        _y_train, _y_val = y.iloc[train_index], y.iloc[val_index]\n",
    "        \n",
    "        # Feature selection\n",
    "        sfs = clone(feature_selector) \n",
    "        sfs.fit(_X_train, _y_train)\n",
    "        selected_subset = np.array(UNCORRELATED_FEATURE_SUBSET)[sfs.get_support()]\n",
    "        p = len(selected_subset)\n",
    "\n",
    "        # Evaluation\n",
    "        model = clone(regressor)\n",
    "        model.fit(_X_train[selected_subset], _y_train)\n",
    "        y_val_pred = model.predict(_X_val[selected_subset])\n",
    "        \n",
    "        score = adjusted_r2_score(_y_val, y_val_pred)\n",
    "        score_list.append(score)\n",
    "\n",
    "        for selected_feature in selected_subset:\n",
    "            feature_list.append(str(selected_feature))\n",
    "\n",
    "        # print(f'R2: {score:.3f} w/ {selected_subset}')\n",
    "\n",
    "    cv_subset = []\n",
    "    for feature, _ in Counter(feature_list).most_common():\n",
    "        cv_subset.append(feature)\n",
    "\n",
    "    print(f'Mean Score: {np.mean(score_list):.3f}')\n",
    "    \n",
    "    return cv_subset[:2]"
   ]
  },
  {
   "cell_type": "markdown",
   "metadata": {},
   "source": [
    "## Consensus Time"
   ]
  },
  {
   "cell_type": "code",
   "execution_count": 24,
   "metadata": {},
   "outputs": [],
   "source": [
    "X = filtered_dataset[UNCORRELATED_FEATURE_SUBSET]\n",
    "y = np.log(filtered_dataset[CONSENSUS_TIME])"
   ]
  },
  {
   "cell_type": "code",
   "execution_count": 25,
   "metadata": {},
   "outputs": [],
   "source": [
    "X_train, X_test, y_train, y_test = train_test_split(\n",
    "    X, y, test_size=0.2, random_state=0\n",
    ")"
   ]
  },
  {
   "cell_type": "markdown",
   "metadata": {},
   "source": [
    "### Scaler"
   ]
  },
  {
   "cell_type": "code",
   "execution_count": 26,
   "metadata": {},
   "outputs": [],
   "source": [
    "feature_scaler = StandardScaler()\n",
    "feature_scaler.fit(X_train[UNCORRELATED_FEATURE_SUBSET])\n",
    "X_train[UNCORRELATED_FEATURE_SUBSET] = feature_scaler.transform(X_train[UNCORRELATED_FEATURE_SUBSET])\n",
    "X_test[UNCORRELATED_FEATURE_SUBSET] = feature_scaler.transform(X_test[UNCORRELATED_FEATURE_SUBSET])"
   ]
  },
  {
   "cell_type": "markdown",
   "metadata": {},
   "source": [
    "### Cross Validation "
   ]
  },
  {
   "cell_type": "code",
   "execution_count": 27,
   "metadata": {},
   "outputs": [
    {
     "name": "stdout",
     "output_type": "stream",
     "text": [
      "Mean Score: 0.997\n"
     ]
    },
    {
     "data": {
      "text/plain": [
       "['clustering', 'closeness']"
      ]
     },
     "execution_count": 27,
     "metadata": {},
     "output_type": "execute_result"
    }
   ],
   "source": [
    "SELECTED_SUBSET = LinearRegressionCV(X_train, y_train)\n",
    "SELECTED_SUBSET"
   ]
  },
  {
   "cell_type": "code",
   "execution_count": 28,
   "metadata": {},
   "outputs": [
    {
     "name": "stdout",
     "output_type": "stream",
     "text": [
      "                            OLS Regression Results                            \n",
      "==============================================================================\n",
      "Dep. Variable:         consensus_time   R-squared:                       0.997\n",
      "Model:                            OLS   Adj. R-squared:                  0.997\n",
      "Method:                 Least Squares   F-statistic:                 8.259e+04\n",
      "Date:                Tue, 10 Sep 2024   Prob (F-statistic):               0.00\n",
      "Time:                        08:42:52   Log-Likelihood:                 383.93\n",
      "No. Observations:                 446   AIC:                            -761.9\n",
      "Df Residuals:                     443   BIC:                            -749.6\n",
      "Df Model:                           2                                         \n",
      "Covariance Type:            nonrobust                                         \n",
      "==============================================================================\n",
      "                 coef    std err          t      P>|t|      [0.025      0.975]\n",
      "------------------------------------------------------------------------------\n",
      "const          6.6062      0.005   1359.076      0.000       6.597       6.616\n",
      "clustering     1.2084      0.010    124.495      0.000       1.189       1.227\n",
      "closeness     -0.8346      0.010    -85.988      0.000      -0.854      -0.816\n",
      "==============================================================================\n",
      "Omnibus:                       99.927   Durbin-Watson:                   1.964\n",
      "Prob(Omnibus):                  0.000   Jarque-Bera (JB):              548.817\n",
      "Skew:                          -0.835   Prob(JB):                    6.70e-120\n",
      "Kurtosis:                       8.171   Cond. No.                         3.73\n",
      "==============================================================================\n",
      "\n",
      "Notes:\n",
      "[1] Standard Errors assume that the covariance matrix of the errors is correctly specified.\n"
     ]
    }
   ],
   "source": [
    "mod = sm.OLS(\n",
    "    endog=y_train, \n",
    "    exog=sm.add_constant(X_train[SELECTED_SUBSET]),\n",
    ")\n",
    "res = mod.fit()\n",
    "print(res.summary())"
   ]
  },
  {
   "cell_type": "markdown",
   "metadata": {},
   "source": [
    "### Testing"
   ]
  },
  {
   "cell_type": "code",
   "execution_count": 29,
   "metadata": {},
   "outputs": [
    {
     "data": {
      "text/plain": [
       "0.9976926693662183"
      ]
     },
     "execution_count": 29,
     "metadata": {},
     "output_type": "execute_result"
    }
   ],
   "source": [
    "y_pred = res.predict(sm.add_constant(X_test[SELECTED_SUBSET]))\n",
    "p = 2\n",
    "adjusted_r2_score(y_pred, y_test)"
   ]
  },
  {
   "cell_type": "markdown",
   "metadata": {},
   "source": [
    "## Opinion Change Frequency"
   ]
  },
  {
   "cell_type": "code",
   "execution_count": 30,
   "metadata": {},
   "outputs": [],
   "source": [
    "X = filtered_dataset[UNCORRELATED_FEATURE_SUBSET]\n",
    "y = np.log(filtered_dataset[OPINION_CHANGE_FREQUENCY])"
   ]
  },
  {
   "cell_type": "code",
   "execution_count": 31,
   "metadata": {},
   "outputs": [],
   "source": [
    "X_train, X_test, y_train, y_test = train_test_split(\n",
    "    X, y, test_size=0.2, random_state=0\n",
    ")"
   ]
  },
  {
   "cell_type": "markdown",
   "metadata": {},
   "source": [
    "### Scaler"
   ]
  },
  {
   "cell_type": "code",
   "execution_count": 32,
   "metadata": {},
   "outputs": [],
   "source": [
    "feature_scaler = StandardScaler()\n",
    "feature_scaler.fit(X_train[UNCORRELATED_FEATURE_SUBSET])\n",
    "X_train[UNCORRELATED_FEATURE_SUBSET] = feature_scaler.transform(X_train[UNCORRELATED_FEATURE_SUBSET])\n",
    "X_test[UNCORRELATED_FEATURE_SUBSET] = feature_scaler.transform(X_test[UNCORRELATED_FEATURE_SUBSET])"
   ]
  },
  {
   "cell_type": "markdown",
   "metadata": {},
   "source": [
    "### Cross Validation "
   ]
  },
  {
   "cell_type": "code",
   "execution_count": 33,
   "metadata": {},
   "outputs": [
    {
     "name": "stdout",
     "output_type": "stream",
     "text": [
      "Mean Score: 0.993\n"
     ]
    },
    {
     "data": {
      "text/plain": [
       "['clustering', 'closeness']"
      ]
     },
     "execution_count": 33,
     "metadata": {},
     "output_type": "execute_result"
    }
   ],
   "source": [
    "SELECTED_SUBSET = LinearRegressionCV(X_train, y_train)\n",
    "SELECTED_SUBSET"
   ]
  },
  {
   "cell_type": "code",
   "execution_count": 34,
   "metadata": {},
   "outputs": [
    {
     "name": "stdout",
     "output_type": "stream",
     "text": [
      "                               OLS Regression Results                               \n",
      "====================================================================================\n",
      "Dep. Variable:     opinion_change_frequency   R-squared:                       0.993\n",
      "Model:                                  OLS   Adj. R-squared:                  0.993\n",
      "Method:                       Least Squares   F-statistic:                 3.384e+04\n",
      "Date:                      Tue, 10 Sep 2024   Prob (F-statistic):               0.00\n",
      "Time:                              08:42:53   Log-Likelihood:                 425.46\n",
      "No. Observations:                       446   AIC:                            -844.9\n",
      "Df Residuals:                           443   BIC:                            -832.6\n",
      "Df Model:                                 2                                         \n",
      "Covariance Type:                  nonrobust                                         \n",
      "==============================================================================\n",
      "                 coef    std err          t      P>|t|      [0.025      0.975]\n",
      "------------------------------------------------------------------------------\n",
      "const          6.4802      0.004   1463.273      0.000       6.472       6.489\n",
      "clustering     1.2225      0.009    138.240      0.000       1.205       1.240\n",
      "closeness      0.0822      0.009      9.296      0.000       0.065       0.100\n",
      "==============================================================================\n",
      "Omnibus:                       27.276   Durbin-Watson:                   2.057\n",
      "Prob(Omnibus):                  0.000   Jarque-Bera (JB):               78.370\n",
      "Skew:                          -0.198   Prob(JB):                     9.60e-18\n",
      "Kurtosis:                       5.015   Cond. No.                         3.73\n",
      "==============================================================================\n",
      "\n",
      "Notes:\n",
      "[1] Standard Errors assume that the covariance matrix of the errors is correctly specified.\n"
     ]
    }
   ],
   "source": [
    "mod = sm.OLS(\n",
    "    endog=y_train, \n",
    "    exog=sm.add_constant(X_train[SELECTED_SUBSET]),\n",
    ")\n",
    "res = mod.fit()\n",
    "print(res.summary())"
   ]
  },
  {
   "cell_type": "markdown",
   "metadata": {},
   "source": [
    "### Testing"
   ]
  },
  {
   "cell_type": "code",
   "execution_count": 35,
   "metadata": {},
   "outputs": [
    {
     "data": {
      "text/plain": [
       "0.993715248655325"
      ]
     },
     "execution_count": 35,
     "metadata": {},
     "output_type": "execute_result"
    }
   ],
   "source": [
    "y_pred = res.predict(sm.add_constant(X_test[SELECTED_SUBSET]))\n",
    "p = 2\n",
    "adjusted_r2_score(y_pred, y_test)"
   ]
  },
  {
   "cell_type": "code",
   "execution_count": 36,
   "metadata": {},
   "outputs": [
    {
     "data": {
      "text/plain": [
       "Text(0.5, 1.0, 'Consensus Time')"
      ]
     },
     "execution_count": 36,
     "metadata": {},
     "output_type": "execute_result"
    },
    {
     "data": {
      "image/png": "[encoded data removed]",
      "text/plain": [
       "<Figure size 640x480 with 1 Axes>"
      ]
     },
     "metadata": {},
     "output_type": "display_data"
    }
   ],
   "source": [
    "plt.hist([y_pred, y_test])\n",
    "plt.legend(['Predicted', 'Real Values'])\n",
    "plt.title('Consensus Time')"
   ]
  },
  {
   "cell_type": "code",
   "execution_count": null,
   "metadata": {},
   "outputs": [],
   "source": []
  },
  {
   "cell_type": "code",
   "execution_count": null,
   "metadata": {},
   "outputs": [],
   "source": []
  }
 ],
 "metadata": {
  "kernelspec": {
   "display_name": "venv",
   "language": "python",
   "name": "python3"
  },
  "language_info": {
   "codemirror_mode": {
    "name": "ipython",
    "version": 3
   },
   "file_extension": ".py",
   "mimetype": "text/x-python",
   "name": "python",
   "nbconvert_exporter": "python",
   "pygments_lexer": "ipython3",
   "version": "3.12.4"
  }
 },
 "nbformat": 4,
 "nbformat_minor": 2
}
