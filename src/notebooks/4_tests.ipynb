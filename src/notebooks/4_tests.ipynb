{
 "cells": [
  {
   "cell_type": "markdown",
   "metadata": {},
   "source": [
    "# Tests\n",
    "The objective here is to summarize and summarize results from different response variables, initialization methods and different models using R2"
   ]
  },
  {
   "cell_type": "code",
   "execution_count": 1,
   "metadata": {},
   "outputs": [],
   "source": [
    "import pandas as pd\n",
    "import os\n",
    "from tqdm import tqdm\n",
    "import numpy as np\n",
    "import matplotlib.pyplot as plt\n",
    "import statsmodels.api as sm\n",
    "import seaborn as sns\n",
    "from collections import Counter\n",
    "\n",
    "CONSENSUS_TIME = 'consensus_time'\n",
    "OPINION_CHANGE_FREQUENCY = 'opinion_change_frequency'\n",
    "\n",
    "FEATURES = [\n",
    "    'clustering', 'closeness', 'betweenness',\n",
    "    'average_shortest_path_lenght', 'eigenvector', 'assortativity',\n",
    "    'information_centrality',\n",
    "    'approximate_current_flow_betweenness_centrality', 'shannon_entropy',\n",
    "    'degree_variance'\n",
    "]"
   ]
  },
  {
   "cell_type": "code",
   "execution_count": 2,
   "metadata": {},
   "outputs": [],
   "source": [
    "dataset = pd.read_csv('../data/dataset.csv')"
   ]
  },
  {
   "cell_type": "markdown",
   "metadata": {},
   "source": [
    "## Imports"
   ]
  },
  {
   "cell_type": "code",
   "execution_count": 3,
   "metadata": {},
   "outputs": [],
   "source": [
    "from sklearn.metrics import r2_score\n",
    "from sklearn.model_selection import train_test_split, KFold, GridSearchCV, GroupKFold, StratifiedGroupKFold, StratifiedKFold\n",
    "from sklearn.tree import DecisionTreeRegressor\n",
    "from sklearn.ensemble import RandomForestRegressor\n",
    "from sklearn.linear_model import PoissonRegressor, TweedieRegressor, LinearRegression\n",
    "from sklearn.base import clone\n",
    "from sklearn.preprocessing import LabelEncoder, StandardScaler\n",
    "from sklearn.feature_selection import SequentialFeatureSelector\n",
    "import optuna"
   ]
  },
  {
   "cell_type": "markdown",
   "metadata": {},
   "source": [
    "## Metrics"
   ]
  },
  {
   "cell_type": "code",
   "execution_count": 4,
   "metadata": {},
   "outputs": [],
   "source": [
    "p = 1\n",
    "from sklearn.metrics import r2_score\n",
    "\n",
    "def adjusted_r2_score(y: np.array, y_hat: np.array):\n",
    "    \"\"\"\n",
    "    Computes R² score. It decreases if many variables are introduced.\n",
    "    n: number of observations in sample \n",
    "    p: number of independent variables\n",
    "    \"\"\"\n",
    "    n = len(y_hat)\n",
    "    return 1 - ((1 - r2_score(y, y_hat)) * ((n - 1)/(n - p - 1)))"
   ]
  },
  {
   "cell_type": "markdown",
   "metadata": {},
   "source": [
    "## Linear Regression CV"
   ]
  },
  {
   "cell_type": "code",
   "execution_count": 31,
   "metadata": {},
   "outputs": [],
   "source": [
    "def LinearRegressionCV(X, y):\n",
    "    cross_validation = KFold(n_splits=10)\n",
    "\n",
    "    splits = cross_validation.split(\n",
    "        X, \n",
    "        y=y\n",
    "    )\n",
    "\n",
    "    score_list = []\n",
    "    feature_list = []\n",
    "    \n",
    "    regressor = LinearRegression()\n",
    "    feature_selector = SequentialFeatureSelector(\n",
    "        regressor,\n",
    "        # tol=0.01,\n",
    "        n_features_to_select=2,\n",
    "        direction='forward'\n",
    "    )\n",
    "    \n",
    "    for train_index, val_index in splits:\n",
    "        _X_train, _X_val = X.iloc[train_index], X.iloc[val_index]\n",
    "        _y_train, _y_val = y.iloc[train_index], y.iloc[val_index]\n",
    "        \n",
    "        # Feature selection\n",
    "        sfs = clone(feature_selector) \n",
    "        sfs.fit(_X_train, _y_train)\n",
    "        selected_subset = np.array(FEATURES)[sfs.get_support()]\n",
    "        p = len(selected_subset)\n",
    "\n",
    "        # Evaluation\n",
    "        model = clone(regressor)\n",
    "        model.fit(_X_train[selected_subset], _y_train)\n",
    "        y_val_pred = model.predict(_X_val[selected_subset])\n",
    "        \n",
    "        score = adjusted_r2_score(np.exp(_y_val), np.exp(y_val_pred))\n",
    "        score_list.append(score)\n",
    "\n",
    "        for selected_feature in selected_subset:\n",
    "            feature_list.append(str(selected_feature))\n",
    "\n",
    "    cv_subset = []\n",
    "    for feature, _ in Counter(feature_list).most_common():\n",
    "        cv_subset.append(feature)\n",
    "\n",
    "    print(f'Mean Score: {np.mean(score_list):.3f}')\n",
    "\n",
    "    if np.mean(score_list) < 0.9:\n",
    "        print(score_list)\n",
    "    \n",
    "    return cv_subset[:2]"
   ]
  },
  {
   "cell_type": "code",
   "execution_count": 32,
   "metadata": {},
   "outputs": [],
   "source": [
    "feature_scaler = StandardScaler()"
   ]
  },
  {
   "cell_type": "markdown",
   "metadata": {},
   "source": [
    "## Tests"
   ]
  },
  {
   "cell_type": "code",
   "execution_count": 36,
   "metadata": {},
   "outputs": [
    {
     "name": "stdout",
     "output_type": "stream",
     "text": [
      "Mean Score: 0.955\n",
      "Mean Score: 0.972\n",
      "Mean Score: 0.976\n",
      "Mean Score: 0.976\n",
      "Mean Score: 0.981\n",
      "Mean Score: 0.738\n",
      "[0.38428672555993626, 0.9190513903036354, 0.9460086912117606, 0.7495679392807035, 0.9527271520716553, 0.9422435128796287, 0.8506331243610112, -0.08578033136141716, 0.7932705944554319, 0.9251997682439684]\n"
     ]
    }
   ],
   "source": [
    "results_dict = {}\n",
    "\n",
    "for response_variable in [OPINION_CHANGE_FREQUENCY, CONSENSUS_TIME]:\n",
    "    for initialization in ['random', 'direct', 'inverse']:\n",
    "        # Prepare dataset\n",
    "        filtered_dataset = dataset[dataset['initialization'] == initialization]\n",
    "        X = filtered_dataset[FEATURES]\n",
    "        y = np.log(filtered_dataset[response_variable])\n",
    "        X_train, X_test, y_train, y_test = train_test_split(\n",
    "            X, y, test_size=0.2\n",
    "        )\n",
    "\n",
    "        # Scale and standardize\n",
    "        feature_scaler.fit(X_train[FEATURES])\n",
    "        X_train[FEATURES] = feature_scaler.transform(X_train[FEATURES])\n",
    "        X_test[FEATURES] = feature_scaler.transform(X_test[FEATURES])\n",
    "        \n",
    "        # Select variables using Forward Selection\n",
    "        selected_subset = LinearRegressionCV(X_train, y_train)\n",
    "\n",
    "        # Train and predict\n",
    "        model = LinearRegression()\n",
    "        model.fit(X_train[selected_subset], y_train)\n",
    "        y_train_pred = model.predict(X_train[selected_subset])\n",
    "        train_score = adjusted_r2_score(y_train_pred, y_train)\n",
    "        y_test_pred = model.predict(X_test[selected_subset])\n",
    "        test_score = adjusted_r2_score(y_test_pred, y_test)\n",
    "\n",
    "        # Save\n",
    "        instance_dict = {\n",
    "            'r2_train': train_score,\n",
    "            'r2_test': test_score,\n",
    "            'selected_features': selected_subset \n",
    "        }\n",
    "        results_dict[(response_variable, initialization)] = instance_dict\n"
   ]
  },
  {
   "cell_type": "code",
   "execution_count": 37,
   "metadata": {},
   "outputs": [
    {
     "data": {
      "text/html": [
       "<div>\n",
       "<style scoped>\n",
       "    .dataframe tbody tr th:only-of-type {\n",
       "        vertical-align: middle;\n",
       "    }\n",
       "\n",
       "    .dataframe tbody tr th {\n",
       "        vertical-align: top;\n",
       "    }\n",
       "\n",
       "    .dataframe thead th {\n",
       "        text-align: right;\n",
       "    }\n",
       "</style>\n",
       "<table border=\"1\" class=\"dataframe\">\n",
       "  <thead>\n",
       "    <tr style=\"text-align: right;\">\n",
       "      <th></th>\n",
       "      <th></th>\n",
       "      <th>r2_train</th>\n",
       "      <th>r2_test</th>\n",
       "      <th>selected_features</th>\n",
       "    </tr>\n",
       "  </thead>\n",
       "  <tbody>\n",
       "    <tr>\n",
       "      <th rowspan=\"3\" valign=\"top\">opinion_change_frequency</th>\n",
       "      <th>random</th>\n",
       "      <td>0.989096</td>\n",
       "      <td>0.994756</td>\n",
       "      <td>[clustering, approximate_current_flow_betweenn...</td>\n",
       "    </tr>\n",
       "    <tr>\n",
       "      <th>direct</th>\n",
       "      <td>0.9971</td>\n",
       "      <td>0.995814</td>\n",
       "      <td>[clustering, eigenvector]</td>\n",
       "    </tr>\n",
       "    <tr>\n",
       "      <th>inverse</th>\n",
       "      <td>0.994974</td>\n",
       "      <td>0.993011</td>\n",
       "      <td>[clustering, eigenvector]</td>\n",
       "    </tr>\n",
       "    <tr>\n",
       "      <th rowspan=\"3\" valign=\"top\">consensus_time</th>\n",
       "      <th>random</th>\n",
       "      <td>0.993358</td>\n",
       "      <td>0.993846</td>\n",
       "      <td>[closeness, degree_variance]</td>\n",
       "    </tr>\n",
       "    <tr>\n",
       "      <th>direct</th>\n",
       "      <td>0.990412</td>\n",
       "      <td>0.990563</td>\n",
       "      <td>[closeness, shannon_entropy]</td>\n",
       "    </tr>\n",
       "    <tr>\n",
       "      <th>inverse</th>\n",
       "      <td>0.992224</td>\n",
       "      <td>0.991881</td>\n",
       "      <td>[closeness, betweenness]</td>\n",
       "    </tr>\n",
       "  </tbody>\n",
       "</table>\n",
       "</div>"
      ],
      "text/plain": [
       "                                  r2_train   r2_test  \\\n",
       "opinion_change_frequency random   0.989096  0.994756   \n",
       "                         direct     0.9971  0.995814   \n",
       "                         inverse  0.994974  0.993011   \n",
       "consensus_time           random   0.993358  0.993846   \n",
       "                         direct   0.990412  0.990563   \n",
       "                         inverse  0.992224  0.991881   \n",
       "\n",
       "                                                                  selected_features  \n",
       "opinion_change_frequency random   [clustering, approximate_current_flow_betweenn...  \n",
       "                         direct                           [clustering, eigenvector]  \n",
       "                         inverse                          [clustering, eigenvector]  \n",
       "consensus_time           random                        [closeness, degree_variance]  \n",
       "                         direct                        [closeness, shannon_entropy]  \n",
       "                         inverse                           [closeness, betweenness]  "
      ]
     },
     "execution_count": 37,
     "metadata": {},
     "output_type": "execute_result"
    }
   ],
   "source": [
    "pd.DataFrame(results_dict).T"
   ]
  }
 ],
 "metadata": {
  "kernelspec": {
   "display_name": "venv",
   "language": "python",
   "name": "python3"
  },
  "language_info": {
   "codemirror_mode": {
    "name": "ipython",
    "version": 3
   },
   "file_extension": ".py",
   "mimetype": "text/x-python",
   "name": "python",
   "nbconvert_exporter": "python",
   "pygments_lexer": "ipython3",
   "version": "3.12.5"
  }
 },
 "nbformat": 4,
 "nbformat_minor": 2
}
