{
 "cells": [
  {
   "cell_type": "markdown",
   "metadata": {},
   "source": [
    "# Prediction of Dynamic Variables in Sznajd Model"
   ]
  },
  {
   "cell_type": "markdown",
   "metadata": {},
   "source": [
    "## Imports"
   ]
  },
  {
   "cell_type": "code",
   "execution_count": 1,
   "metadata": {},
   "outputs": [],
   "source": [
    "import pandas as pd\n",
    "import os\n",
    "from tqdm import tqdm\n",
    "import numpy as np\n",
    "import matplotlib.pyplot as plt\n",
    "\n",
    "BASE_SIMULATION_DIR = 'data/simulations/'\n",
    "BASE_MEASURE_DIR = 'data/measures/'\n",
    "C = 'consensus_time'\n",
    "F = 'opinion_change_frequency'"
   ]
  },
  {
   "cell_type": "markdown",
   "metadata": {},
   "source": [
    "## Reading CSV files"
   ]
  },
  {
   "cell_type": "markdown",
   "metadata": {},
   "source": [
    "### Measures"
   ]
  },
  {
   "cell_type": "code",
   "execution_count": 2,
   "metadata": {},
   "outputs": [],
   "source": [
    "measures_file_list = []\n",
    "for network in os.listdir(BASE_MEASURE_DIR):\n",
    "    df = pd.read_csv(BASE_MEASURE_DIR + network, index_col=0)\n",
    "    df.insert(0, 'type', network.split('.')[0])\n",
    "    measures_file_list.append(df)\n",
    "\n",
    "measures_df = pd.concat(measures_file_list)\n",
    "\n",
    "FEATURES = list(measures_df.columns)"
   ]
  },
  {
   "cell_type": "code",
   "execution_count": 3,
   "metadata": {},
   "outputs": [],
   "source": [
    "FEATURES = FEATURES[1:]"
   ]
  },
  {
   "cell_type": "code",
   "execution_count": 4,
   "metadata": {},
   "outputs": [
    {
     "data": {
      "text/html": [
       "<div>\n",
       "<style scoped>\n",
       "    .dataframe tbody tr th:only-of-type {\n",
       "        vertical-align: middle;\n",
       "    }\n",
       "\n",
       "    .dataframe tbody tr th {\n",
       "        vertical-align: top;\n",
       "    }\n",
       "\n",
       "    .dataframe thead th {\n",
       "        text-align: right;\n",
       "    }\n",
       "</style>\n",
       "<table border=\"1\" class=\"dataframe\">\n",
       "  <thead>\n",
       "    <tr style=\"text-align: right;\">\n",
       "      <th></th>\n",
       "      <th>type</th>\n",
       "      <th>clustering</th>\n",
       "      <th>closeness</th>\n",
       "      <th>betweenness</th>\n",
       "      <th>average_shortest_path_lenght</th>\n",
       "      <th>eigenvector</th>\n",
       "      <th>assortativity</th>\n",
       "      <th>information_centrality</th>\n",
       "      <th>approximate_current_flow_betweenness_centrality</th>\n",
       "      <th>shannon_entropy</th>\n",
       "      <th>degree_variance</th>\n",
       "    </tr>\n",
       "    <tr>\n",
       "      <th>network</th>\n",
       "      <th></th>\n",
       "      <th></th>\n",
       "      <th></th>\n",
       "      <th></th>\n",
       "      <th></th>\n",
       "      <th></th>\n",
       "      <th></th>\n",
       "      <th></th>\n",
       "      <th></th>\n",
       "      <th></th>\n",
       "      <th></th>\n",
       "    </tr>\n",
       "  </thead>\n",
       "  <tbody>\n",
       "    <tr>\n",
       "      <th>barabasi_linear_60.edgelist</th>\n",
       "      <td>barabasi_linear</td>\n",
       "      <td>0.032393</td>\n",
       "      <td>0.333205</td>\n",
       "      <td>1008.953</td>\n",
       "      <td>3.016906</td>\n",
       "      <td>0.082985</td>\n",
       "      <td>-0.012140</td>\n",
       "      <td>0.003442</td>\n",
       "      <td>0.005008</td>\n",
       "      <td>3.641398</td>\n",
       "      <td>28.577380</td>\n",
       "    </tr>\n",
       "    <tr>\n",
       "      <th>barabasi_linear_91.edgelist</th>\n",
       "      <td>barabasi_linear</td>\n",
       "      <td>0.032772</td>\n",
       "      <td>0.335566</td>\n",
       "      <td>998.585</td>\n",
       "      <td>2.996170</td>\n",
       "      <td>0.081414</td>\n",
       "      <td>-0.026616</td>\n",
       "      <td>0.003427</td>\n",
       "      <td>0.004956</td>\n",
       "      <td>3.629732</td>\n",
       "      <td>31.464265</td>\n",
       "    </tr>\n",
       "    <tr>\n",
       "      <th>barabasi_linear_41.edgelist</th>\n",
       "      <td>barabasi_linear</td>\n",
       "      <td>0.031068</td>\n",
       "      <td>0.335096</td>\n",
       "      <td>1000.464</td>\n",
       "      <td>2.999928</td>\n",
       "      <td>0.077702</td>\n",
       "      <td>-0.027484</td>\n",
       "      <td>0.003420</td>\n",
       "      <td>0.004914</td>\n",
       "      <td>3.629634</td>\n",
       "      <td>34.928498</td>\n",
       "    </tr>\n",
       "    <tr>\n",
       "      <th>barabasi_linear_73.edgelist</th>\n",
       "      <td>barabasi_linear</td>\n",
       "      <td>0.028693</td>\n",
       "      <td>0.335415</td>\n",
       "      <td>998.483</td>\n",
       "      <td>2.995966</td>\n",
       "      <td>0.090226</td>\n",
       "      <td>-0.035959</td>\n",
       "      <td>0.003408</td>\n",
       "      <td>0.004883</td>\n",
       "      <td>3.609923</td>\n",
       "      <td>30.020826</td>\n",
       "    </tr>\n",
       "    <tr>\n",
       "      <th>barabasi_linear_52.edgelist</th>\n",
       "      <td>barabasi_linear</td>\n",
       "      <td>0.030809</td>\n",
       "      <td>0.332543</td>\n",
       "      <td>1011.472</td>\n",
       "      <td>3.021944</td>\n",
       "      <td>0.095066</td>\n",
       "      <td>-0.023867</td>\n",
       "      <td>0.003437</td>\n",
       "      <td>0.005010</td>\n",
       "      <td>3.642259</td>\n",
       "      <td>24.535688</td>\n",
       "    </tr>\n",
       "    <tr>\n",
       "      <th>...</th>\n",
       "      <td>...</td>\n",
       "      <td>...</td>\n",
       "      <td>...</td>\n",
       "      <td>...</td>\n",
       "      <td>...</td>\n",
       "      <td>...</td>\n",
       "      <td>...</td>\n",
       "      <td>...</td>\n",
       "      <td>...</td>\n",
       "      <td>...</td>\n",
       "      <td>...</td>\n",
       "    </tr>\n",
       "    <tr>\n",
       "      <th>watts-strogatz_71.edgelist</th>\n",
       "      <td>watts-strogatz</td>\n",
       "      <td>0.647961</td>\n",
       "      <td>0.114572</td>\n",
       "      <td>3916.996</td>\n",
       "      <td>8.832992</td>\n",
       "      <td>0.406220</td>\n",
       "      <td>-0.009041</td>\n",
       "      <td>0.001537</td>\n",
       "      <td>0.020998</td>\n",
       "      <td>0.546883</td>\n",
       "      <td>3.741657</td>\n",
       "    </tr>\n",
       "    <tr>\n",
       "      <th>watts-strogatz_53.edgelist</th>\n",
       "      <td>watts-strogatz</td>\n",
       "      <td>0.642519</td>\n",
       "      <td>0.117571</td>\n",
       "      <td>3790.674</td>\n",
       "      <td>8.580348</td>\n",
       "      <td>0.383648</td>\n",
       "      <td>-0.008082</td>\n",
       "      <td>0.001609</td>\n",
       "      <td>0.021597</td>\n",
       "      <td>0.614113</td>\n",
       "      <td>3.741657</td>\n",
       "    </tr>\n",
       "    <tr>\n",
       "      <th>watts-strogatz_67.edgelist</th>\n",
       "      <td>watts-strogatz</td>\n",
       "      <td>0.640451</td>\n",
       "      <td>0.122419</td>\n",
       "      <td>3627.605</td>\n",
       "      <td>8.254210</td>\n",
       "      <td>0.347707</td>\n",
       "      <td>-0.002856</td>\n",
       "      <td>0.001657</td>\n",
       "      <td>0.021003</td>\n",
       "      <td>0.656211</td>\n",
       "      <td>3.741657</td>\n",
       "    </tr>\n",
       "    <tr>\n",
       "      <th>watts-strogatz_76.edgelist</th>\n",
       "      <td>watts-strogatz</td>\n",
       "      <td>0.645758</td>\n",
       "      <td>0.117242</td>\n",
       "      <td>3798.980</td>\n",
       "      <td>8.596960</td>\n",
       "      <td>0.429491</td>\n",
       "      <td>0.008234</td>\n",
       "      <td>0.001636</td>\n",
       "      <td>0.021184</td>\n",
       "      <td>0.596770</td>\n",
       "      <td>3.452053</td>\n",
       "    </tr>\n",
       "    <tr>\n",
       "      <th>watts-strogatz_69.edgelist</th>\n",
       "      <td>watts-strogatz</td>\n",
       "      <td>0.646363</td>\n",
       "      <td>0.116023</td>\n",
       "      <td>3854.486</td>\n",
       "      <td>8.707972</td>\n",
       "      <td>0.606427</td>\n",
       "      <td>-0.011195</td>\n",
       "      <td>0.001584</td>\n",
       "      <td>0.021171</td>\n",
       "      <td>0.560623</td>\n",
       "      <td>3.452053</td>\n",
       "    </tr>\n",
       "  </tbody>\n",
       "</table>\n",
       "<p>600 rows × 11 columns</p>\n",
       "</div>"
      ],
      "text/plain": [
       "                                        type  clustering  closeness  \\\n",
       "network                                                               \n",
       "barabasi_linear_60.edgelist  barabasi_linear    0.032393   0.333205   \n",
       "barabasi_linear_91.edgelist  barabasi_linear    0.032772   0.335566   \n",
       "barabasi_linear_41.edgelist  barabasi_linear    0.031068   0.335096   \n",
       "barabasi_linear_73.edgelist  barabasi_linear    0.028693   0.335415   \n",
       "barabasi_linear_52.edgelist  barabasi_linear    0.030809   0.332543   \n",
       "...                                      ...         ...        ...   \n",
       "watts-strogatz_71.edgelist    watts-strogatz    0.647961   0.114572   \n",
       "watts-strogatz_53.edgelist    watts-strogatz    0.642519   0.117571   \n",
       "watts-strogatz_67.edgelist    watts-strogatz    0.640451   0.122419   \n",
       "watts-strogatz_76.edgelist    watts-strogatz    0.645758   0.117242   \n",
       "watts-strogatz_69.edgelist    watts-strogatz    0.646363   0.116023   \n",
       "\n",
       "                             betweenness  average_shortest_path_lenght  \\\n",
       "network                                                                  \n",
       "barabasi_linear_60.edgelist     1008.953                      3.016906   \n",
       "barabasi_linear_91.edgelist      998.585                      2.996170   \n",
       "barabasi_linear_41.edgelist     1000.464                      2.999928   \n",
       "barabasi_linear_73.edgelist      998.483                      2.995966   \n",
       "barabasi_linear_52.edgelist     1011.472                      3.021944   \n",
       "...                                  ...                           ...   \n",
       "watts-strogatz_71.edgelist      3916.996                      8.832992   \n",
       "watts-strogatz_53.edgelist      3790.674                      8.580348   \n",
       "watts-strogatz_67.edgelist      3627.605                      8.254210   \n",
       "watts-strogatz_76.edgelist      3798.980                      8.596960   \n",
       "watts-strogatz_69.edgelist      3854.486                      8.707972   \n",
       "\n",
       "                             eigenvector  assortativity  \\\n",
       "network                                                   \n",
       "barabasi_linear_60.edgelist     0.082985      -0.012140   \n",
       "barabasi_linear_91.edgelist     0.081414      -0.026616   \n",
       "barabasi_linear_41.edgelist     0.077702      -0.027484   \n",
       "barabasi_linear_73.edgelist     0.090226      -0.035959   \n",
       "barabasi_linear_52.edgelist     0.095066      -0.023867   \n",
       "...                                  ...            ...   \n",
       "watts-strogatz_71.edgelist      0.406220      -0.009041   \n",
       "watts-strogatz_53.edgelist      0.383648      -0.008082   \n",
       "watts-strogatz_67.edgelist      0.347707      -0.002856   \n",
       "watts-strogatz_76.edgelist      0.429491       0.008234   \n",
       "watts-strogatz_69.edgelist      0.606427      -0.011195   \n",
       "\n",
       "                             information_centrality  \\\n",
       "network                                               \n",
       "barabasi_linear_60.edgelist                0.003442   \n",
       "barabasi_linear_91.edgelist                0.003427   \n",
       "barabasi_linear_41.edgelist                0.003420   \n",
       "barabasi_linear_73.edgelist                0.003408   \n",
       "barabasi_linear_52.edgelist                0.003437   \n",
       "...                                             ...   \n",
       "watts-strogatz_71.edgelist                 0.001537   \n",
       "watts-strogatz_53.edgelist                 0.001609   \n",
       "watts-strogatz_67.edgelist                 0.001657   \n",
       "watts-strogatz_76.edgelist                 0.001636   \n",
       "watts-strogatz_69.edgelist                 0.001584   \n",
       "\n",
       "                             approximate_current_flow_betweenness_centrality  \\\n",
       "network                                                                        \n",
       "barabasi_linear_60.edgelist                                         0.005008   \n",
       "barabasi_linear_91.edgelist                                         0.004956   \n",
       "barabasi_linear_41.edgelist                                         0.004914   \n",
       "barabasi_linear_73.edgelist                                         0.004883   \n",
       "barabasi_linear_52.edgelist                                         0.005010   \n",
       "...                                                                      ...   \n",
       "watts-strogatz_71.edgelist                                          0.020998   \n",
       "watts-strogatz_53.edgelist                                          0.021597   \n",
       "watts-strogatz_67.edgelist                                          0.021003   \n",
       "watts-strogatz_76.edgelist                                          0.021184   \n",
       "watts-strogatz_69.edgelist                                          0.021171   \n",
       "\n",
       "                             shannon_entropy  degree_variance  \n",
       "network                                                        \n",
       "barabasi_linear_60.edgelist         3.641398        28.577380  \n",
       "barabasi_linear_91.edgelist         3.629732        31.464265  \n",
       "barabasi_linear_41.edgelist         3.629634        34.928498  \n",
       "barabasi_linear_73.edgelist         3.609923        30.020826  \n",
       "barabasi_linear_52.edgelist         3.642259        24.535688  \n",
       "...                                      ...              ...  \n",
       "watts-strogatz_71.edgelist          0.546883         3.741657  \n",
       "watts-strogatz_53.edgelist          0.614113         3.741657  \n",
       "watts-strogatz_67.edgelist          0.656211         3.741657  \n",
       "watts-strogatz_76.edgelist          0.596770         3.452053  \n",
       "watts-strogatz_69.edgelist          0.560623         3.452053  \n",
       "\n",
       "[600 rows x 11 columns]"
      ]
     },
     "execution_count": 4,
     "metadata": {},
     "output_type": "execute_result"
    }
   ],
   "source": [
    "measures_df = measures_df.rename_axis(['network'])\n",
    "measures_df"
   ]
  },
  {
   "cell_type": "markdown",
   "metadata": {},
   "source": [
    "Get only finite values"
   ]
  },
  {
   "cell_type": "code",
   "execution_count": 5,
   "metadata": {},
   "outputs": [],
   "source": [
    "measures_df = measures_df[(measures_df['average_shortest_path_lenght'] != np.inf) & (measures_df['closeness'] != np.nan)]"
   ]
  },
  {
   "cell_type": "markdown",
   "metadata": {},
   "source": [
    "### Simulations"
   ]
  },
  {
   "cell_type": "code",
   "execution_count": 6,
   "metadata": {},
   "outputs": [],
   "source": [
    "simulations_file_list = []\n",
    "for network in os.listdir(BASE_SIMULATION_DIR):\n",
    "    simulations_file_list.append(pd.read_csv(BASE_SIMULATION_DIR + network, index_col=0, header=[0,1]))\n",
    "\n",
    "simulations_df = pd.concat(simulations_file_list)"
   ]
  },
  {
   "cell_type": "code",
   "execution_count": 7,
   "metadata": {},
   "outputs": [
    {
     "data": {
      "text/html": [
       "<div>\n",
       "<style scoped>\n",
       "    .dataframe tbody tr th:only-of-type {\n",
       "        vertical-align: middle;\n",
       "    }\n",
       "\n",
       "    .dataframe tbody tr th {\n",
       "        vertical-align: top;\n",
       "    }\n",
       "\n",
       "    .dataframe thead th {\n",
       "        text-align: right;\n",
       "    }\n",
       "</style>\n",
       "<table border=\"1\" class=\"dataframe\">\n",
       "  <thead>\n",
       "    <tr style=\"text-align: right;\">\n",
       "      <th></th>\n",
       "      <th>initialization</th>\n",
       "      <th>consensus_time</th>\n",
       "      <th>opinion_change_frequency</th>\n",
       "    </tr>\n",
       "    <tr>\n",
       "      <th>network</th>\n",
       "      <th></th>\n",
       "      <th></th>\n",
       "      <th></th>\n",
       "    </tr>\n",
       "  </thead>\n",
       "  <tbody>\n",
       "    <tr>\n",
       "      <th>barabasi_linear_60.edgelist</th>\n",
       "      <td>random</td>\n",
       "      <td>471.08</td>\n",
       "      <td>248.74</td>\n",
       "    </tr>\n",
       "    <tr>\n",
       "      <th>barabasi_linear_60.edgelist</th>\n",
       "      <td>direct</td>\n",
       "      <td>535.92</td>\n",
       "      <td>200.00</td>\n",
       "    </tr>\n",
       "    <tr>\n",
       "      <th>barabasi_linear_60.edgelist</th>\n",
       "      <td>inverse</td>\n",
       "      <td>323.41</td>\n",
       "      <td>386.60</td>\n",
       "    </tr>\n",
       "    <tr>\n",
       "      <th>barabasi_linear_91.edgelist</th>\n",
       "      <td>random</td>\n",
       "      <td>431.67</td>\n",
       "      <td>248.66</td>\n",
       "    </tr>\n",
       "    <tr>\n",
       "      <th>barabasi_linear_91.edgelist</th>\n",
       "      <td>direct</td>\n",
       "      <td>519.85</td>\n",
       "      <td>200.00</td>\n",
       "    </tr>\n",
       "    <tr>\n",
       "      <th>...</th>\n",
       "      <td>...</td>\n",
       "      <td>...</td>\n",
       "      <td>...</td>\n",
       "    </tr>\n",
       "    <tr>\n",
       "      <th>watts-strogatz_76.edgelist</th>\n",
       "      <td>direct</td>\n",
       "      <td>41172.93</td>\n",
       "      <td>7879.43</td>\n",
       "    </tr>\n",
       "    <tr>\n",
       "      <th>watts-strogatz_76.edgelist</th>\n",
       "      <td>inverse</td>\n",
       "      <td>37483.28</td>\n",
       "      <td>6954.85</td>\n",
       "    </tr>\n",
       "    <tr>\n",
       "      <th>watts-strogatz_69.edgelist</th>\n",
       "      <td>random</td>\n",
       "      <td>13790.04</td>\n",
       "      <td>1911.82</td>\n",
       "    </tr>\n",
       "    <tr>\n",
       "      <th>watts-strogatz_69.edgelist</th>\n",
       "      <td>direct</td>\n",
       "      <td>43281.68</td>\n",
       "      <td>7024.76</td>\n",
       "    </tr>\n",
       "    <tr>\n",
       "      <th>watts-strogatz_69.edgelist</th>\n",
       "      <td>inverse</td>\n",
       "      <td>42528.77</td>\n",
       "      <td>7004.53</td>\n",
       "    </tr>\n",
       "  </tbody>\n",
       "</table>\n",
       "<p>1800 rows × 3 columns</p>\n",
       "</div>"
      ],
      "text/plain": [
       "                            initialization  consensus_time  \\\n",
       "network                                                      \n",
       "barabasi_linear_60.edgelist         random          471.08   \n",
       "barabasi_linear_60.edgelist         direct          535.92   \n",
       "barabasi_linear_60.edgelist        inverse          323.41   \n",
       "barabasi_linear_91.edgelist         random          431.67   \n",
       "barabasi_linear_91.edgelist         direct          519.85   \n",
       "...                                    ...             ...   \n",
       "watts-strogatz_76.edgelist          direct        41172.93   \n",
       "watts-strogatz_76.edgelist         inverse        37483.28   \n",
       "watts-strogatz_69.edgelist          random        13790.04   \n",
       "watts-strogatz_69.edgelist          direct        43281.68   \n",
       "watts-strogatz_69.edgelist         inverse        42528.77   \n",
       "\n",
       "                             opinion_change_frequency  \n",
       "network                                                \n",
       "barabasi_linear_60.edgelist                    248.74  \n",
       "barabasi_linear_60.edgelist                    200.00  \n",
       "barabasi_linear_60.edgelist                    386.60  \n",
       "barabasi_linear_91.edgelist                    248.66  \n",
       "barabasi_linear_91.edgelist                    200.00  \n",
       "...                                               ...  \n",
       "watts-strogatz_76.edgelist                    7879.43  \n",
       "watts-strogatz_76.edgelist                    6954.85  \n",
       "watts-strogatz_69.edgelist                    1911.82  \n",
       "watts-strogatz_69.edgelist                    7024.76  \n",
       "watts-strogatz_69.edgelist                    7004.53  \n",
       "\n",
       "[1800 rows x 3 columns]"
      ]
     },
     "execution_count": 7,
     "metadata": {},
     "output_type": "execute_result"
    }
   ],
   "source": [
    "simulations_df = simulations_df.stack(level=0, future_stack=True).rename_axis(['network','initialization']).reset_index(1)\n",
    "simulations_df"
   ]
  },
  {
   "cell_type": "markdown",
   "metadata": {},
   "source": [
    "### Merging and creating the dataset"
   ]
  },
  {
   "cell_type": "code",
   "execution_count": 8,
   "metadata": {},
   "outputs": [],
   "source": [
    "dataset = measures_df.merge(simulations_df, on='network', how='inner')"
   ]
  },
  {
   "cell_type": "markdown",
   "metadata": {},
   "source": [
    "We are doing some scaling to visualize better the results"
   ]
  },
  {
   "cell_type": "code",
   "execution_count": 9,
   "metadata": {},
   "outputs": [],
   "source": [
    "from sklearn.preprocessing import MinMaxScaler\n",
    "scaler = MinMaxScaler()\n",
    "# dataset[FEATURES] = scaler.fit_transform(dataset[FEATURES])"
   ]
  },
  {
   "cell_type": "markdown",
   "metadata": {},
   "source": [
    "Visualizing the created dataset"
   ]
  },
  {
   "cell_type": "code",
   "execution_count": 10,
   "metadata": {},
   "outputs": [
    {
     "data": {
      "text/html": [
       "<div>\n",
       "<style scoped>\n",
       "    .dataframe tbody tr th:only-of-type {\n",
       "        vertical-align: middle;\n",
       "    }\n",
       "\n",
       "    .dataframe tbody tr th {\n",
       "        vertical-align: top;\n",
       "    }\n",
       "\n",
       "    .dataframe thead th {\n",
       "        text-align: right;\n",
       "    }\n",
       "</style>\n",
       "<table border=\"1\" class=\"dataframe\">\n",
       "  <thead>\n",
       "    <tr style=\"text-align: right;\">\n",
       "      <th></th>\n",
       "      <th>clustering</th>\n",
       "      <th>closeness</th>\n",
       "      <th>betweenness</th>\n",
       "      <th>average_shortest_path_lenght</th>\n",
       "      <th>eigenvector</th>\n",
       "      <th>assortativity</th>\n",
       "      <th>information_centrality</th>\n",
       "      <th>approximate_current_flow_betweenness_centrality</th>\n",
       "      <th>shannon_entropy</th>\n",
       "      <th>degree_variance</th>\n",
       "      <th>consensus_time</th>\n",
       "      <th>opinion_change_frequency</th>\n",
       "    </tr>\n",
       "  </thead>\n",
       "  <tbody>\n",
       "    <tr>\n",
       "      <th>count</th>\n",
       "      <td>1674.000000</td>\n",
       "      <td>1674.000000</td>\n",
       "      <td>1674.000000</td>\n",
       "      <td>1674.000000</td>\n",
       "      <td>1674.000000</td>\n",
       "      <td>1674.000000</td>\n",
       "      <td>1674.000000</td>\n",
       "      <td>1674.000000</td>\n",
       "      <td>1674.000000</td>\n",
       "      <td>1674.000000</td>\n",
       "      <td>1674.000000</td>\n",
       "      <td>1674.000000</td>\n",
       "    </tr>\n",
       "    <tr>\n",
       "      <th>mean</th>\n",
       "      <td>0.134973</td>\n",
       "      <td>0.302541</td>\n",
       "      <td>1522.851944</td>\n",
       "      <td>4.044704</td>\n",
       "      <td>0.230008</td>\n",
       "      <td>-0.018908</td>\n",
       "      <td>0.003183</td>\n",
       "      <td>0.007993</td>\n",
       "      <td>2.980314</td>\n",
       "      <td>40.393910</td>\n",
       "      <td>6366.644719</td>\n",
       "      <td>1243.208393</td>\n",
       "    </tr>\n",
       "    <tr>\n",
       "      <th>std</th>\n",
       "      <td>0.238810</td>\n",
       "      <td>0.101689</td>\n",
       "      <td>1150.783608</td>\n",
       "      <td>2.301567</td>\n",
       "      <td>0.173774</td>\n",
       "      <td>0.163433</td>\n",
       "      <td>0.000840</td>\n",
       "      <td>0.006716</td>\n",
       "      <td>1.209459</td>\n",
       "      <td>59.319039</td>\n",
       "      <td>14074.200627</td>\n",
       "      <td>2337.194329</td>\n",
       "    </tr>\n",
       "    <tr>\n",
       "      <th>min</th>\n",
       "      <td>0.008343</td>\n",
       "      <td>0.096122</td>\n",
       "      <td>548.311000</td>\n",
       "      <td>2.095622</td>\n",
       "      <td>0.048632</td>\n",
       "      <td>-0.394020</td>\n",
       "      <td>0.001307</td>\n",
       "      <td>0.003230</td>\n",
       "      <td>0.377454</td>\n",
       "      <td>3.452053</td>\n",
       "      <td>14.380000</td>\n",
       "      <td>200.000000</td>\n",
       "    </tr>\n",
       "    <tr>\n",
       "      <th>25%</th>\n",
       "      <td>0.023496</td>\n",
       "      <td>0.295643</td>\n",
       "      <td>1002.297000</td>\n",
       "      <td>3.003594</td>\n",
       "      <td>0.077858</td>\n",
       "      <td>-0.028178</td>\n",
       "      <td>0.002955</td>\n",
       "      <td>0.004962</td>\n",
       "      <td>2.621794</td>\n",
       "      <td>6.344289</td>\n",
       "      <td>354.175000</td>\n",
       "      <td>236.412500</td>\n",
       "    </tr>\n",
       "    <tr>\n",
       "      <th>50%</th>\n",
       "      <td>0.026425</td>\n",
       "      <td>0.313753</td>\n",
       "      <td>1101.902500</td>\n",
       "      <td>3.202805</td>\n",
       "      <td>0.101251</td>\n",
       "      <td>-0.005222</td>\n",
       "      <td>0.003437</td>\n",
       "      <td>0.005224</td>\n",
       "      <td>3.645626</td>\n",
       "      <td>14.142136</td>\n",
       "      <td>502.895000</td>\n",
       "      <td>271.650000</td>\n",
       "    </tr>\n",
       "    <tr>\n",
       "      <th>75%</th>\n",
       "      <td>0.032070</td>\n",
       "      <td>0.334657</td>\n",
       "      <td>1198.729000</td>\n",
       "      <td>3.396458</td>\n",
       "      <td>0.400133</td>\n",
       "      <td>0.117593</td>\n",
       "      <td>0.003652</td>\n",
       "      <td>0.005652</td>\n",
       "      <td>3.832035</td>\n",
       "      <td>32.907699</td>\n",
       "      <td>850.330000</td>\n",
       "      <td>405.840000</td>\n",
       "    </tr>\n",
       "    <tr>\n",
       "      <th>max</th>\n",
       "      <td>0.652846</td>\n",
       "      <td>0.478556</td>\n",
       "      <td>4797.811000</td>\n",
       "      <td>10.594622</td>\n",
       "      <td>0.621034</td>\n",
       "      <td>0.204217</td>\n",
       "      <td>0.004290</td>\n",
       "      <td>0.027219</td>\n",
       "      <td>4.027738</td>\n",
       "      <td>204.959142</td>\n",
       "      <td>72565.190000</td>\n",
       "      <td>10212.310000</td>\n",
       "    </tr>\n",
       "  </tbody>\n",
       "</table>\n",
       "</div>"
      ],
      "text/plain": [
       "        clustering    closeness  betweenness  average_shortest_path_lenght  \\\n",
       "count  1674.000000  1674.000000  1674.000000                   1674.000000   \n",
       "mean      0.134973     0.302541  1522.851944                      4.044704   \n",
       "std       0.238810     0.101689  1150.783608                      2.301567   \n",
       "min       0.008343     0.096122   548.311000                      2.095622   \n",
       "25%       0.023496     0.295643  1002.297000                      3.003594   \n",
       "50%       0.026425     0.313753  1101.902500                      3.202805   \n",
       "75%       0.032070     0.334657  1198.729000                      3.396458   \n",
       "max       0.652846     0.478556  4797.811000                     10.594622   \n",
       "\n",
       "       eigenvector  assortativity  information_centrality  \\\n",
       "count  1674.000000    1674.000000             1674.000000   \n",
       "mean      0.230008      -0.018908                0.003183   \n",
       "std       0.173774       0.163433                0.000840   \n",
       "min       0.048632      -0.394020                0.001307   \n",
       "25%       0.077858      -0.028178                0.002955   \n",
       "50%       0.101251      -0.005222                0.003437   \n",
       "75%       0.400133       0.117593                0.003652   \n",
       "max       0.621034       0.204217                0.004290   \n",
       "\n",
       "       approximate_current_flow_betweenness_centrality  shannon_entropy  \\\n",
       "count                                      1674.000000      1674.000000   \n",
       "mean                                          0.007993         2.980314   \n",
       "std                                           0.006716         1.209459   \n",
       "min                                           0.003230         0.377454   \n",
       "25%                                           0.004962         2.621794   \n",
       "50%                                           0.005224         3.645626   \n",
       "75%                                           0.005652         3.832035   \n",
       "max                                           0.027219         4.027738   \n",
       "\n",
       "       degree_variance  consensus_time  opinion_change_frequency  \n",
       "count      1674.000000     1674.000000               1674.000000  \n",
       "mean         40.393910     6366.644719               1243.208393  \n",
       "std          59.319039    14074.200627               2337.194329  \n",
       "min           3.452053       14.380000                200.000000  \n",
       "25%           6.344289      354.175000                236.412500  \n",
       "50%          14.142136      502.895000                271.650000  \n",
       "75%          32.907699      850.330000                405.840000  \n",
       "max         204.959142    72565.190000              10212.310000  "
      ]
     },
     "execution_count": 10,
     "metadata": {},
     "output_type": "execute_result"
    }
   ],
   "source": [
    "dataset.describe()"
   ]
  },
  {
   "cell_type": "code",
   "execution_count": 11,
   "metadata": {},
   "outputs": [
    {
     "data": {
      "text/html": [
       "<div>\n",
       "<style scoped>\n",
       "    .dataframe tbody tr th:only-of-type {\n",
       "        vertical-align: middle;\n",
       "    }\n",
       "\n",
       "    .dataframe tbody tr th {\n",
       "        vertical-align: top;\n",
       "    }\n",
       "\n",
       "    .dataframe thead th {\n",
       "        text-align: right;\n",
       "    }\n",
       "</style>\n",
       "<table border=\"1\" class=\"dataframe\">\n",
       "  <thead>\n",
       "    <tr style=\"text-align: right;\">\n",
       "      <th></th>\n",
       "      <th>type</th>\n",
       "      <th>clustering</th>\n",
       "      <th>closeness</th>\n",
       "      <th>betweenness</th>\n",
       "      <th>average_shortest_path_lenght</th>\n",
       "      <th>eigenvector</th>\n",
       "      <th>assortativity</th>\n",
       "      <th>information_centrality</th>\n",
       "      <th>approximate_current_flow_betweenness_centrality</th>\n",
       "      <th>shannon_entropy</th>\n",
       "      <th>degree_variance</th>\n",
       "      <th>initialization</th>\n",
       "      <th>consensus_time</th>\n",
       "      <th>opinion_change_frequency</th>\n",
       "    </tr>\n",
       "    <tr>\n",
       "      <th>network</th>\n",
       "      <th></th>\n",
       "      <th></th>\n",
       "      <th></th>\n",
       "      <th></th>\n",
       "      <th></th>\n",
       "      <th></th>\n",
       "      <th></th>\n",
       "      <th></th>\n",
       "      <th></th>\n",
       "      <th></th>\n",
       "      <th></th>\n",
       "      <th></th>\n",
       "      <th></th>\n",
       "      <th></th>\n",
       "    </tr>\n",
       "  </thead>\n",
       "  <tbody>\n",
       "    <tr>\n",
       "      <th>barabasi_linear_60.edgelist</th>\n",
       "      <td>barabasi_linear</td>\n",
       "      <td>0.032393</td>\n",
       "      <td>0.333205</td>\n",
       "      <td>1008.953</td>\n",
       "      <td>3.016906</td>\n",
       "      <td>0.082985</td>\n",
       "      <td>-0.012140</td>\n",
       "      <td>0.003442</td>\n",
       "      <td>0.005008</td>\n",
       "      <td>3.641398</td>\n",
       "      <td>28.577380</td>\n",
       "      <td>random</td>\n",
       "      <td>471.08</td>\n",
       "      <td>248.74</td>\n",
       "    </tr>\n",
       "    <tr>\n",
       "      <th>barabasi_linear_60.edgelist</th>\n",
       "      <td>barabasi_linear</td>\n",
       "      <td>0.032393</td>\n",
       "      <td>0.333205</td>\n",
       "      <td>1008.953</td>\n",
       "      <td>3.016906</td>\n",
       "      <td>0.082985</td>\n",
       "      <td>-0.012140</td>\n",
       "      <td>0.003442</td>\n",
       "      <td>0.005008</td>\n",
       "      <td>3.641398</td>\n",
       "      <td>28.577380</td>\n",
       "      <td>direct</td>\n",
       "      <td>535.92</td>\n",
       "      <td>200.00</td>\n",
       "    </tr>\n",
       "    <tr>\n",
       "      <th>barabasi_linear_60.edgelist</th>\n",
       "      <td>barabasi_linear</td>\n",
       "      <td>0.032393</td>\n",
       "      <td>0.333205</td>\n",
       "      <td>1008.953</td>\n",
       "      <td>3.016906</td>\n",
       "      <td>0.082985</td>\n",
       "      <td>-0.012140</td>\n",
       "      <td>0.003442</td>\n",
       "      <td>0.005008</td>\n",
       "      <td>3.641398</td>\n",
       "      <td>28.577380</td>\n",
       "      <td>inverse</td>\n",
       "      <td>323.41</td>\n",
       "      <td>386.60</td>\n",
       "    </tr>\n",
       "    <tr>\n",
       "      <th>barabasi_linear_91.edgelist</th>\n",
       "      <td>barabasi_linear</td>\n",
       "      <td>0.032772</td>\n",
       "      <td>0.335566</td>\n",
       "      <td>998.585</td>\n",
       "      <td>2.996170</td>\n",
       "      <td>0.081414</td>\n",
       "      <td>-0.026616</td>\n",
       "      <td>0.003427</td>\n",
       "      <td>0.004956</td>\n",
       "      <td>3.629732</td>\n",
       "      <td>31.464265</td>\n",
       "      <td>random</td>\n",
       "      <td>431.67</td>\n",
       "      <td>248.66</td>\n",
       "    </tr>\n",
       "    <tr>\n",
       "      <th>barabasi_linear_91.edgelist</th>\n",
       "      <td>barabasi_linear</td>\n",
       "      <td>0.032772</td>\n",
       "      <td>0.335566</td>\n",
       "      <td>998.585</td>\n",
       "      <td>2.996170</td>\n",
       "      <td>0.081414</td>\n",
       "      <td>-0.026616</td>\n",
       "      <td>0.003427</td>\n",
       "      <td>0.004956</td>\n",
       "      <td>3.629732</td>\n",
       "      <td>31.464265</td>\n",
       "      <td>direct</td>\n",
       "      <td>519.85</td>\n",
       "      <td>200.00</td>\n",
       "    </tr>\n",
       "    <tr>\n",
       "      <th>...</th>\n",
       "      <td>...</td>\n",
       "      <td>...</td>\n",
       "      <td>...</td>\n",
       "      <td>...</td>\n",
       "      <td>...</td>\n",
       "      <td>...</td>\n",
       "      <td>...</td>\n",
       "      <td>...</td>\n",
       "      <td>...</td>\n",
       "      <td>...</td>\n",
       "      <td>...</td>\n",
       "      <td>...</td>\n",
       "      <td>...</td>\n",
       "      <td>...</td>\n",
       "    </tr>\n",
       "    <tr>\n",
       "      <th>watts-strogatz_76.edgelist</th>\n",
       "      <td>watts-strogatz</td>\n",
       "      <td>0.645758</td>\n",
       "      <td>0.117242</td>\n",
       "      <td>3798.980</td>\n",
       "      <td>8.596960</td>\n",
       "      <td>0.429491</td>\n",
       "      <td>0.008234</td>\n",
       "      <td>0.001636</td>\n",
       "      <td>0.021184</td>\n",
       "      <td>0.596770</td>\n",
       "      <td>3.452053</td>\n",
       "      <td>direct</td>\n",
       "      <td>41172.93</td>\n",
       "      <td>7879.43</td>\n",
       "    </tr>\n",
       "    <tr>\n",
       "      <th>watts-strogatz_76.edgelist</th>\n",
       "      <td>watts-strogatz</td>\n",
       "      <td>0.645758</td>\n",
       "      <td>0.117242</td>\n",
       "      <td>3798.980</td>\n",
       "      <td>8.596960</td>\n",
       "      <td>0.429491</td>\n",
       "      <td>0.008234</td>\n",
       "      <td>0.001636</td>\n",
       "      <td>0.021184</td>\n",
       "      <td>0.596770</td>\n",
       "      <td>3.452053</td>\n",
       "      <td>inverse</td>\n",
       "      <td>37483.28</td>\n",
       "      <td>6954.85</td>\n",
       "    </tr>\n",
       "    <tr>\n",
       "      <th>watts-strogatz_69.edgelist</th>\n",
       "      <td>watts-strogatz</td>\n",
       "      <td>0.646363</td>\n",
       "      <td>0.116023</td>\n",
       "      <td>3854.486</td>\n",
       "      <td>8.707972</td>\n",
       "      <td>0.606427</td>\n",
       "      <td>-0.011195</td>\n",
       "      <td>0.001584</td>\n",
       "      <td>0.021171</td>\n",
       "      <td>0.560623</td>\n",
       "      <td>3.452053</td>\n",
       "      <td>random</td>\n",
       "      <td>13790.04</td>\n",
       "      <td>1911.82</td>\n",
       "    </tr>\n",
       "    <tr>\n",
       "      <th>watts-strogatz_69.edgelist</th>\n",
       "      <td>watts-strogatz</td>\n",
       "      <td>0.646363</td>\n",
       "      <td>0.116023</td>\n",
       "      <td>3854.486</td>\n",
       "      <td>8.707972</td>\n",
       "      <td>0.606427</td>\n",
       "      <td>-0.011195</td>\n",
       "      <td>0.001584</td>\n",
       "      <td>0.021171</td>\n",
       "      <td>0.560623</td>\n",
       "      <td>3.452053</td>\n",
       "      <td>direct</td>\n",
       "      <td>43281.68</td>\n",
       "      <td>7024.76</td>\n",
       "    </tr>\n",
       "    <tr>\n",
       "      <th>watts-strogatz_69.edgelist</th>\n",
       "      <td>watts-strogatz</td>\n",
       "      <td>0.646363</td>\n",
       "      <td>0.116023</td>\n",
       "      <td>3854.486</td>\n",
       "      <td>8.707972</td>\n",
       "      <td>0.606427</td>\n",
       "      <td>-0.011195</td>\n",
       "      <td>0.001584</td>\n",
       "      <td>0.021171</td>\n",
       "      <td>0.560623</td>\n",
       "      <td>3.452053</td>\n",
       "      <td>inverse</td>\n",
       "      <td>42528.77</td>\n",
       "      <td>7004.53</td>\n",
       "    </tr>\n",
       "  </tbody>\n",
       "</table>\n",
       "<p>1674 rows × 14 columns</p>\n",
       "</div>"
      ],
      "text/plain": [
       "                                        type  clustering  closeness  \\\n",
       "network                                                               \n",
       "barabasi_linear_60.edgelist  barabasi_linear    0.032393   0.333205   \n",
       "barabasi_linear_60.edgelist  barabasi_linear    0.032393   0.333205   \n",
       "barabasi_linear_60.edgelist  barabasi_linear    0.032393   0.333205   \n",
       "barabasi_linear_91.edgelist  barabasi_linear    0.032772   0.335566   \n",
       "barabasi_linear_91.edgelist  barabasi_linear    0.032772   0.335566   \n",
       "...                                      ...         ...        ...   \n",
       "watts-strogatz_76.edgelist    watts-strogatz    0.645758   0.117242   \n",
       "watts-strogatz_76.edgelist    watts-strogatz    0.645758   0.117242   \n",
       "watts-strogatz_69.edgelist    watts-strogatz    0.646363   0.116023   \n",
       "watts-strogatz_69.edgelist    watts-strogatz    0.646363   0.116023   \n",
       "watts-strogatz_69.edgelist    watts-strogatz    0.646363   0.116023   \n",
       "\n",
       "                             betweenness  average_shortest_path_lenght  \\\n",
       "network                                                                  \n",
       "barabasi_linear_60.edgelist     1008.953                      3.016906   \n",
       "barabasi_linear_60.edgelist     1008.953                      3.016906   \n",
       "barabasi_linear_60.edgelist     1008.953                      3.016906   \n",
       "barabasi_linear_91.edgelist      998.585                      2.996170   \n",
       "barabasi_linear_91.edgelist      998.585                      2.996170   \n",
       "...                                  ...                           ...   \n",
       "watts-strogatz_76.edgelist      3798.980                      8.596960   \n",
       "watts-strogatz_76.edgelist      3798.980                      8.596960   \n",
       "watts-strogatz_69.edgelist      3854.486                      8.707972   \n",
       "watts-strogatz_69.edgelist      3854.486                      8.707972   \n",
       "watts-strogatz_69.edgelist      3854.486                      8.707972   \n",
       "\n",
       "                             eigenvector  assortativity  \\\n",
       "network                                                   \n",
       "barabasi_linear_60.edgelist     0.082985      -0.012140   \n",
       "barabasi_linear_60.edgelist     0.082985      -0.012140   \n",
       "barabasi_linear_60.edgelist     0.082985      -0.012140   \n",
       "barabasi_linear_91.edgelist     0.081414      -0.026616   \n",
       "barabasi_linear_91.edgelist     0.081414      -0.026616   \n",
       "...                                  ...            ...   \n",
       "watts-strogatz_76.edgelist      0.429491       0.008234   \n",
       "watts-strogatz_76.edgelist      0.429491       0.008234   \n",
       "watts-strogatz_69.edgelist      0.606427      -0.011195   \n",
       "watts-strogatz_69.edgelist      0.606427      -0.011195   \n",
       "watts-strogatz_69.edgelist      0.606427      -0.011195   \n",
       "\n",
       "                             information_centrality  \\\n",
       "network                                               \n",
       "barabasi_linear_60.edgelist                0.003442   \n",
       "barabasi_linear_60.edgelist                0.003442   \n",
       "barabasi_linear_60.edgelist                0.003442   \n",
       "barabasi_linear_91.edgelist                0.003427   \n",
       "barabasi_linear_91.edgelist                0.003427   \n",
       "...                                             ...   \n",
       "watts-strogatz_76.edgelist                 0.001636   \n",
       "watts-strogatz_76.edgelist                 0.001636   \n",
       "watts-strogatz_69.edgelist                 0.001584   \n",
       "watts-strogatz_69.edgelist                 0.001584   \n",
       "watts-strogatz_69.edgelist                 0.001584   \n",
       "\n",
       "                             approximate_current_flow_betweenness_centrality  \\\n",
       "network                                                                        \n",
       "barabasi_linear_60.edgelist                                         0.005008   \n",
       "barabasi_linear_60.edgelist                                         0.005008   \n",
       "barabasi_linear_60.edgelist                                         0.005008   \n",
       "barabasi_linear_91.edgelist                                         0.004956   \n",
       "barabasi_linear_91.edgelist                                         0.004956   \n",
       "...                                                                      ...   \n",
       "watts-strogatz_76.edgelist                                          0.021184   \n",
       "watts-strogatz_76.edgelist                                          0.021184   \n",
       "watts-strogatz_69.edgelist                                          0.021171   \n",
       "watts-strogatz_69.edgelist                                          0.021171   \n",
       "watts-strogatz_69.edgelist                                          0.021171   \n",
       "\n",
       "                             shannon_entropy  degree_variance initialization  \\\n",
       "network                                                                        \n",
       "barabasi_linear_60.edgelist         3.641398        28.577380         random   \n",
       "barabasi_linear_60.edgelist         3.641398        28.577380         direct   \n",
       "barabasi_linear_60.edgelist         3.641398        28.577380        inverse   \n",
       "barabasi_linear_91.edgelist         3.629732        31.464265         random   \n",
       "barabasi_linear_91.edgelist         3.629732        31.464265         direct   \n",
       "...                                      ...              ...            ...   \n",
       "watts-strogatz_76.edgelist          0.596770         3.452053         direct   \n",
       "watts-strogatz_76.edgelist          0.596770         3.452053        inverse   \n",
       "watts-strogatz_69.edgelist          0.560623         3.452053         random   \n",
       "watts-strogatz_69.edgelist          0.560623         3.452053         direct   \n",
       "watts-strogatz_69.edgelist          0.560623         3.452053        inverse   \n",
       "\n",
       "                             consensus_time  opinion_change_frequency  \n",
       "network                                                                \n",
       "barabasi_linear_60.edgelist          471.08                    248.74  \n",
       "barabasi_linear_60.edgelist          535.92                    200.00  \n",
       "barabasi_linear_60.edgelist          323.41                    386.60  \n",
       "barabasi_linear_91.edgelist          431.67                    248.66  \n",
       "barabasi_linear_91.edgelist          519.85                    200.00  \n",
       "...                                     ...                       ...  \n",
       "watts-strogatz_76.edgelist         41172.93                   7879.43  \n",
       "watts-strogatz_76.edgelist         37483.28                   6954.85  \n",
       "watts-strogatz_69.edgelist         13790.04                   1911.82  \n",
       "watts-strogatz_69.edgelist         43281.68                   7024.76  \n",
       "watts-strogatz_69.edgelist         42528.77                   7004.53  \n",
       "\n",
       "[1674 rows x 14 columns]"
      ]
     },
     "execution_count": 11,
     "metadata": {},
     "output_type": "execute_result"
    }
   ],
   "source": [
    "dataset"
   ]
  },
  {
   "cell_type": "markdown",
   "metadata": {},
   "source": [
    "## Training and prediction"
   ]
  },
  {
   "cell_type": "code",
   "execution_count": 12,
   "metadata": {},
   "outputs": [],
   "source": [
    "from sklearn.metrics import r2_score\n",
    "from sklearn.model_selection import train_test_split, KFold, GridSearchCV, GroupKFold, StratifiedGroupKFold, StratifiedKFold\n",
    "from sklearn.tree import DecisionTreeRegressor\n",
    "from sklearn.ensemble import RandomForestRegressor\n",
    "from sklearn.base import clone\n",
    "from sklearn.preprocessing import LabelEncoder\n",
    "import optuna"
   ]
  },
  {
   "cell_type": "markdown",
   "metadata": {},
   "source": [
    "## Opinion Change Frequency\n",
    "considering only random initialization"
   ]
  },
  {
   "cell_type": "code",
   "execution_count": 13,
   "metadata": {},
   "outputs": [],
   "source": [
    "dataset['groups'] = LabelEncoder().fit_transform(dataset['type'])\n",
    "dataset.reset_index(inplace=True)"
   ]
  },
  {
   "cell_type": "code",
   "execution_count": 14,
   "metadata": {},
   "outputs": [],
   "source": [
    "filtered_dataset = dataset[dataset['initialization'] == 'inverse']\n",
    "X = filtered_dataset[FEATURES]\n",
    "y = filtered_dataset[F]"
   ]
  },
  {
   "cell_type": "code",
   "execution_count": 15,
   "metadata": {},
   "outputs": [],
   "source": [
    "X_train, X_test, y_train, y_test = train_test_split(\n",
    "    X, y, test_size=0.2, random_state=0\n",
    ")"
   ]
  },
  {
   "cell_type": "code",
   "execution_count": 16,
   "metadata": {},
   "outputs": [],
   "source": [
    "model = RandomForestRegressor()"
   ]
  },
  {
   "cell_type": "markdown",
   "metadata": {},
   "source": [
    "### Cross Validation"
   ]
  },
  {
   "cell_type": "code",
   "execution_count": 17,
   "metadata": {},
   "outputs": [
    {
     "name": "stderr",
     "output_type": "stream",
     "text": [
      "1it [00:27, 27.27s/it]"
     ]
    },
    {
     "name": "stdout",
     "output_type": "stream",
     "text": [
      "--> R2=0.602, Inner Estimation=0.689, Param={'max_features': 2, 'n_estimators': 400}\n"
     ]
    },
    {
     "name": "stderr",
     "output_type": "stream",
     "text": [
      "2it [00:53, 26.84s/it]"
     ]
    },
    {
     "name": "stdout",
     "output_type": "stream",
     "text": [
      "--> R2=0.630, Inner Estimation=0.653, Param={'max_features': 3, 'n_estimators': 400}\n"
     ]
    },
    {
     "name": "stderr",
     "output_type": "stream",
     "text": [
      "3it [01:22, 27.48s/it]"
     ]
    },
    {
     "name": "stdout",
     "output_type": "stream",
     "text": [
      "--> R2=0.683, Inner Estimation=0.676, Param={'max_features': 3, 'n_estimators': 1000}\n"
     ]
    },
    {
     "name": "stderr",
     "output_type": "stream",
     "text": [
      "4it [01:56, 30.08s/it]"
     ]
    },
    {
     "name": "stdout",
     "output_type": "stream",
     "text": [
      "--> R2=0.706, Inner Estimation=0.653, Param={'max_features': 2, 'n_estimators': 400}\n"
     ]
    },
    {
     "name": "stderr",
     "output_type": "stream",
     "text": [
      "5it [02:35, 31.11s/it]"
     ]
    },
    {
     "name": "stdout",
     "output_type": "stream",
     "text": [
      "--> R2=0.716, Inner Estimation=0.669, Param={'max_features': 3, 'n_estimators': 400}\n",
      "Mean R2 Score: 0.6671583320019547 +- 0.044156263696848885\n"
     ]
    },
    {
     "name": "stderr",
     "output_type": "stream",
     "text": [
      "\n"
     ]
    }
   ],
   "source": [
    "outer_cross_validation = GroupKFold(n_splits=5)\n",
    "\n",
    "splits = outer_cross_validation.split(X_train, y=y_train, groups=np.array(dataset.loc[X_train.index, 'groups']))\n",
    "r2_score_list = []\n",
    "\n",
    "for train_index, val_index in tqdm(splits):\n",
    "    # Divide dataset de acordo com os splits da validação cruzada\n",
    "    _X_train, _X_val = X.iloc[train_index], X.iloc[val_index]\n",
    "    _y_train, _y_val = y.iloc[train_index], y.iloc[val_index]\n",
    "    \n",
    "\n",
    "    # Implementa a Inner CV\n",
    "    inner_cross_validation = KFold(n_splits=3, shuffle=True, random_state=0)\n",
    "    # Define o modelo\n",
    "    model = RandomForestRegressor(random_state=1)\n",
    "    # Define o espaço de busca\n",
    "    space = {\n",
    "        # 'max_depth': [10, 20, 30, 40, 50],\n",
    "        'max_features': [2, 3, 4],\n",
    "        # 'min_samples_leaf': [1, 2, 4],\n",
    "        # 'min_samples_split': [2, 5, 10],\n",
    "        'n_estimators': [300, 400, 1000],\n",
    "    }\n",
    "\n",
    "    # Define a busca\n",
    "    search = GridSearchCV(model, space, scoring='r2', cv=inner_cross_validation, refit=True)\n",
    "    # Executa\n",
    "    result = search.fit(_X_train, _y_train)\n",
    "    # Pega o melhor estimador\n",
    "    best_model = result.best_estimator_\n",
    "\n",
    "    y_val_pred = best_model.predict(_X_val)\n",
    "    score = r2_score(_y_val, y_val_pred)\n",
    "    r2_score_list.append(score)\n",
    "\n",
    "    print('--> R2=%.3f, Inner Estimation=%.3f, Param=%s' % (score, result.best_score_, result.best_params_))\n",
    "\n",
    "print(f'Mean R2 Score: {np.mean(r2_score_list)} +- {np.std(r2_score_list)}')"
   ]
  },
  {
   "cell_type": "markdown",
   "metadata": {},
   "source": [
    "### Nested Cross Validation"
   ]
  },
  {
   "cell_type": "code",
   "execution_count": 193,
   "metadata": {},
   "outputs": [],
   "source": [
    "class Objective:\n",
    "    def __init__(self, X, y, cross_validation):\n",
    "        self.X = X\n",
    "        self.y = y\n",
    "        self.cross_validation = cross_validation\n",
    "        \n",
    "    def __call__(self, trial):\n",
    "        parameters = {\n",
    "            'random_state': 1,\n",
    "            'max_depth': trial.suggest_int('max_depth', 2, 50),\n",
    "            'max_features': trial.suggest_int('max_features', 2, 4),\n",
    "            'min_samples_leaf': trial.suggest_int('min_samples_leaf', 1, 4),\n",
    "            'min_samples_split': trial.suggest_int('min_samples_split', 2, 10, step=2),\n",
    "            'n_estimators': trial.suggest_int('n_estimators', 100, 2000),\n",
    "        }\n",
    "\n",
    "        rf_regressor = RandomForestRegressor(**parameters)\n",
    "        score_list = []\n",
    "        splits = self.cross_validation.split(\n",
    "            self.X, \n",
    "            y=self.y\n",
    "        )\n",
    "\n",
    "        for train_index, val_index in splits:\n",
    "            _X_train, _X_val = self.X.iloc[train_index], self.X.iloc[val_index]\n",
    "            _y_train, _y_val = self.y.iloc[train_index], self.y.iloc[val_index]\n",
    "\n",
    "            model = clone(rf_regressor)\n",
    "\n",
    "            model.fit(_X_train, _y_train)\n",
    "            y_val_pred = model.predict(_X_val)\n",
    "            score = r2_score(_y_val, y_val_pred)\n",
    "            score_list.append(score)\n",
    "\n",
    "        return np.mean(score_list)"
   ]
  },
  {
   "cell_type": "code",
   "execution_count": 195,
   "metadata": {},
   "outputs": [
    {
     "name": "stderr",
     "output_type": "stream",
     "text": [
      "/home/frois/Documentos/SznajdNetworks/venv/lib/python3.12/site-packages/sklearn/model_selection/_split.py:848: UserWarning: The groups parameter is ignored by StratifiedKFold\n",
      "  warnings.warn(\n",
      "0it [00:00, ?it/s][I 2024-08-12 11:13:54,535] A new study created in memory with name: no-name-fae11169-530f-4779-8e91-d51a571d521b\n",
      "[I 2024-08-12 11:14:16,272] Trial 0 finished with value: 0.6296417839599797 and parameters: {'max_depth': 28, 'max_features': 4, 'min_samples_leaf': 1, 'min_samples_split': 6, 'n_estimators': 1362}. Best is trial 0 with value: 0.6296417839599797.\n",
      "[I 2024-08-12 11:14:36,101] Trial 1 finished with value: 0.674993823861979 and parameters: {'max_depth': 17, 'max_features': 2, 'min_samples_leaf': 2, 'min_samples_split': 8, 'n_estimators': 1838}. Best is trial 1 with value: 0.674993823861979.\n",
      "[I 2024-08-12 11:14:41,014] Trial 2 finished with value: 0.6369090607219439 and parameters: {'max_depth': 22, 'max_features': 3, 'min_samples_leaf': 2, 'min_samples_split': 4, 'n_estimators': 366}. Best is trial 1 with value: 0.674993823861979.\n",
      "[I 2024-08-12 11:14:56,856] Trial 3 finished with value: 0.6583411479625514 and parameters: {'max_depth': 50, 'max_features': 2, 'min_samples_leaf': 1, 'min_samples_split': 8, 'n_estimators': 1435}. Best is trial 1 with value: 0.674993823861979.\n",
      "[I 2024-08-12 11:14:59,603] Trial 4 finished with value: 0.6644080680832151 and parameters: {'max_depth': 42, 'max_features': 4, 'min_samples_leaf': 3, 'min_samples_split': 4, 'n_estimators': 189}. Best is trial 1 with value: 0.674993823861979.\n",
      "[I 2024-08-12 11:15:01,691] Trial 5 finished with value: 0.6602233486476503 and parameters: {'max_depth': 21, 'max_features': 2, 'min_samples_leaf': 2, 'min_samples_split': 6, 'n_estimators': 186}. Best is trial 1 with value: 0.674993823861979.\n",
      "[I 2024-08-12 11:15:16,933] Trial 6 finished with value: 0.6906842827488401 and parameters: {'max_depth': 23, 'max_features': 4, 'min_samples_leaf': 4, 'min_samples_split': 4, 'n_estimators': 1119}. Best is trial 6 with value: 0.6906842827488401.\n",
      "[I 2024-08-12 11:15:18,271] Trial 7 finished with value: 0.6793767529603437 and parameters: {'max_depth': 27, 'max_features': 2, 'min_samples_leaf': 3, 'min_samples_split': 6, 'n_estimators': 124}. Best is trial 6 with value: 0.6906842827488401.\n",
      "[I 2024-08-12 11:15:29,468] Trial 8 finished with value: 0.6868756521429715 and parameters: {'max_depth': 45, 'max_features': 2, 'min_samples_leaf': 2, 'min_samples_split': 10, 'n_estimators': 1062}. Best is trial 6 with value: 0.6906842827488401.\n",
      "[I 2024-08-12 11:15:34,301] Trial 9 finished with value: 0.6621439583696123 and parameters: {'max_depth': 24, 'max_features': 4, 'min_samples_leaf': 2, 'min_samples_split': 8, 'n_estimators': 329}. Best is trial 6 with value: 0.6906842827488401.\n",
      "[I 2024-08-12 11:15:39,906] Trial 10 finished with value: 0.7189510818967784 and parameters: {'max_depth': 4, 'max_features': 3, 'min_samples_leaf': 4, 'min_samples_split': 2, 'n_estimators': 715}. Best is trial 10 with value: 0.7189510818967784.\n",
      "[I 2024-08-12 11:15:45,538] Trial 11 finished with value: 0.7389444947493268 and parameters: {'max_depth': 3, 'max_features': 3, 'min_samples_leaf': 4, 'min_samples_split': 2, 'n_estimators': 749}. Best is trial 11 with value: 0.7389444947493268.\n",
      "[I 2024-08-12 11:15:50,017] Trial 12 finished with value: 0.7377255741849442 and parameters: {'max_depth': 3, 'max_features': 3, 'min_samples_leaf': 4, 'min_samples_split': 2, 'n_estimators': 617}. Best is trial 11 with value: 0.7389444947493268.\n",
      "[I 2024-08-12 11:15:54,716] Trial 13 finished with value: 0.7616015865110175 and parameters: {'max_depth': 2, 'max_features': 3, 'min_samples_leaf': 4, 'min_samples_split': 2, 'n_estimators': 694}. Best is trial 13 with value: 0.7616015865110175.\n",
      "[I 2024-08-12 11:16:02,681] Trial 14 finished with value: 0.6738997041227408 and parameters: {'max_depth': 11, 'max_features': 3, 'min_samples_leaf': 3, 'min_samples_split': 2, 'n_estimators': 710}. Best is trial 13 with value: 0.7616015865110175.\n",
      "[I 2024-08-12 11:16:12,042] Trial 15 finished with value: 0.6952900733354574 and parameters: {'max_depth': 10, 'max_features': 3, 'min_samples_leaf': 4, 'min_samples_split': 2, 'n_estimators': 857}. Best is trial 13 with value: 0.7616015865110175.\n",
      "[I 2024-08-12 11:16:17,797] Trial 16 finished with value: 0.6955320880276477 and parameters: {'max_depth': 10, 'max_features': 3, 'min_samples_leaf': 4, 'min_samples_split': 4, 'n_estimators': 517}. Best is trial 13 with value: 0.7616015865110175.\n",
      "[I 2024-08-12 11:16:29,061] Trial 17 finished with value: 0.6733947959988266 and parameters: {'max_depth': 34, 'max_features': 3, 'min_samples_leaf': 3, 'min_samples_split': 2, 'n_estimators': 877}. Best is trial 13 with value: 0.7616015865110175.\n",
      "[I 2024-08-12 11:16:38,467] Trial 18 finished with value: 0.7612652450936371 and parameters: {'max_depth': 2, 'max_features': 3, 'min_samples_leaf': 4, 'min_samples_split': 4, 'n_estimators': 1380}. Best is trial 13 with value: 0.7616015865110175.\n",
      "[I 2024-08-12 11:17:03,093] Trial 19 finished with value: 0.6670026147160115 and parameters: {'max_depth': 16, 'max_features': 4, 'min_samples_leaf': 3, 'min_samples_split': 4, 'n_estimators': 1732}. Best is trial 13 with value: 0.7616015865110175.\n",
      "[I 2024-08-12 11:17:15,877] Trial 20 finished with value: 0.6961535598815801 and parameters: {'max_depth': 7, 'max_features': 3, 'min_samples_leaf': 4, 'min_samples_split': 6, 'n_estimators': 1299}. Best is trial 13 with value: 0.7616015865110175.\n",
      "[I 2024-08-12 11:17:26,756] Trial 21 finished with value: 0.7610374993538241 and parameters: {'max_depth': 2, 'max_features': 3, 'min_samples_leaf': 4, 'min_samples_split': 2, 'n_estimators': 1571}. Best is trial 13 with value: 0.7616015865110175.\n",
      "[I 2024-08-12 11:17:45,102] Trial 22 finished with value: 0.6956130428694072 and parameters: {'max_depth': 14, 'max_features': 3, 'min_samples_leaf': 4, 'min_samples_split': 4, 'n_estimators': 1588}. Best is trial 13 with value: 0.7616015865110175.\n",
      "[I 2024-08-12 11:18:00,570] Trial 23 finished with value: 0.6763592451216353 and parameters: {'max_depth': 7, 'max_features': 3, 'min_samples_leaf': 3, 'min_samples_split': 2, 'n_estimators': 1574}. Best is trial 13 with value: 0.7616015865110175.\n",
      "[I 2024-08-12 11:18:13,939] Trial 24 finished with value: 0.7610835001462162 and parameters: {'max_depth': 2, 'max_features': 3, 'min_samples_leaf': 4, 'min_samples_split': 4, 'n_estimators': 1948}. Best is trial 13 with value: 0.7616015865110175.\n",
      "[I 2024-08-12 11:18:32,256] Trial 25 finished with value: 0.6984291414226906 and parameters: {'max_depth': 6, 'max_features': 3, 'min_samples_leaf': 4, 'min_samples_split': 4, 'n_estimators': 1975}. Best is trial 13 with value: 0.7616015865110175.\n",
      "[I 2024-08-12 11:18:44,753] Trial 26 finished with value: 0.6814874509064179 and parameters: {'max_depth': 13, 'max_features': 2, 'min_samples_leaf': 3, 'min_samples_split': 4, 'n_estimators': 1228}. Best is trial 13 with value: 0.7616015865110175.\n",
      "[I 2024-08-12 11:19:12,433] Trial 27 finished with value: 0.6896781078380168 and parameters: {'max_depth': 34, 'max_features': 4, 'min_samples_leaf': 4, 'min_samples_split': 4, 'n_estimators': 1998}. Best is trial 13 with value: 0.7616015865110175.\n",
      "[I 2024-08-12 11:19:21,590] Trial 28 finished with value: 0.6763765425346069 and parameters: {'max_depth': 7, 'max_features': 3, 'min_samples_leaf': 3, 'min_samples_split': 6, 'n_estimators': 933}. Best is trial 13 with value: 0.7616015865110175.\n",
      "[I 2024-08-12 11:19:46,137] Trial 29 finished with value: 0.6900059655378801 and parameters: {'max_depth': 18, 'max_features': 4, 'min_samples_leaf': 4, 'min_samples_split': 6, 'n_estimators': 1780}. Best is trial 13 with value: 0.7616015865110175.\n",
      "1it [05:52, 352.60s/it][I 2024-08-12 11:19:47,132] A new study created in memory with name: no-name-c95f598e-f11c-428a-aba1-7243922b1f7c\n"
     ]
    },
    {
     "name": "stdout",
     "output_type": "stream",
     "text": [
      "--> R2=0.677, Inner Estimation=0.762, Param={'max_depth': 2, 'max_features': 3, 'min_samples_leaf': 4, 'min_samples_split': 2, 'n_estimators': 694}\n"
     ]
    },
    {
     "name": "stderr",
     "output_type": "stream",
     "text": [
      "[I 2024-08-12 11:20:00,181] Trial 0 finished with value: 0.6899105785199448 and parameters: {'max_depth': 27, 'max_features': 4, 'min_samples_leaf': 4, 'min_samples_split': 4, 'n_estimators': 1004}. Best is trial 0 with value: 0.6899105785199448.\n",
      "[I 2024-08-12 11:20:18,745] Trial 1 finished with value: 0.6825819775173421 and parameters: {'max_depth': 41, 'max_features': 3, 'min_samples_leaf': 2, 'min_samples_split': 10, 'n_estimators': 1554}. Best is trial 0 with value: 0.6899105785199448.\n",
      "[I 2024-08-12 11:20:34,287] Trial 2 finished with value: 0.712794468897435 and parameters: {'max_depth': 6, 'max_features': 2, 'min_samples_leaf': 2, 'min_samples_split': 10, 'n_estimators': 1894}. Best is trial 2 with value: 0.712794468897435.\n",
      "[I 2024-08-12 11:20:44,357] Trial 3 finished with value: 0.6208218933859284 and parameters: {'max_depth': 41, 'max_features': 3, 'min_samples_leaf': 1, 'min_samples_split': 2, 'n_estimators': 663}. Best is trial 2 with value: 0.712794468897435.\n",
      "[I 2024-08-12 11:21:02,379] Trial 4 finished with value: 0.6898603148601092 and parameters: {'max_depth': 23, 'max_features': 4, 'min_samples_leaf': 4, 'min_samples_split': 6, 'n_estimators': 1356}. Best is trial 2 with value: 0.712794468897435.\n",
      "[I 2024-08-12 11:21:07,678] Trial 5 finished with value: 0.7702745668483222 and parameters: {'max_depth': 2, 'max_features': 2, 'min_samples_leaf': 2, 'min_samples_split': 2, 'n_estimators': 788}. Best is trial 5 with value: 0.7702745668483222.\n",
      "[I 2024-08-12 11:21:24,245] Trial 6 finished with value: 0.6887944718137728 and parameters: {'max_depth': 28, 'max_features': 2, 'min_samples_leaf': 2, 'min_samples_split': 10, 'n_estimators': 1611}. Best is trial 5 with value: 0.7702745668483222.\n",
      "[I 2024-08-12 11:21:42,785] Trial 7 finished with value: 0.6897556591638674 and parameters: {'max_depth': 14, 'max_features': 2, 'min_samples_leaf': 3, 'min_samples_split': 8, 'n_estimators': 1926}. Best is trial 5 with value: 0.7702745668483222.\n",
      "[I 2024-08-12 11:22:09,875] Trial 8 finished with value: 0.6783464501822574 and parameters: {'max_depth': 32, 'max_features': 4, 'min_samples_leaf': 2, 'min_samples_split': 10, 'n_estimators': 1931}. Best is trial 5 with value: 0.7702745668483222.\n",
      "[I 2024-08-12 11:22:17,578] Trial 9 finished with value: 0.6760342012033547 and parameters: {'max_depth': 18, 'max_features': 3, 'min_samples_leaf': 3, 'min_samples_split': 4, 'n_estimators': 644}. Best is trial 5 with value: 0.7702745668483222.\n",
      "[I 2024-08-12 11:22:19,024] Trial 10 finished with value: 0.770614874027643 and parameters: {'max_depth': 2, 'max_features': 2, 'min_samples_leaf': 1, 'min_samples_split': 2, 'n_estimators': 217}. Best is trial 10 with value: 0.770614874027643.\n",
      "[I 2024-08-12 11:22:19,928] Trial 11 finished with value: 0.7709669008722879 and parameters: {'max_depth': 2, 'max_features': 2, 'min_samples_leaf': 1, 'min_samples_split': 2, 'n_estimators': 133}. Best is trial 11 with value: 0.7709669008722879.\n",
      "[I 2024-08-12 11:22:21,020] Trial 12 finished with value: 0.6367036954229922 and parameters: {'max_depth': 10, 'max_features': 2, 'min_samples_leaf': 1, 'min_samples_split': 4, 'n_estimators': 105}. Best is trial 11 with value: 0.7709669008722879.\n",
      "[I 2024-08-12 11:22:22,067] Trial 13 finished with value: 0.7707609361273622 and parameters: {'max_depth': 2, 'max_features': 2, 'min_samples_leaf': 1, 'min_samples_split': 2, 'n_estimators': 154}. Best is trial 11 with value: 0.7709669008722879.\n",
      "[I 2024-08-12 11:22:26,146] Trial 14 finished with value: 0.6475288279816485 and parameters: {'max_depth': 11, 'max_features': 3, 'min_samples_leaf': 1, 'min_samples_split': 6, 'n_estimators': 334}. Best is trial 11 with value: 0.7709669008722879.\n",
      "[I 2024-08-12 11:22:31,718] Trial 15 finished with value: 0.6200311766266324 and parameters: {'max_depth': 18, 'max_features': 2, 'min_samples_leaf': 1, 'min_samples_split': 2, 'n_estimators': 401}. Best is trial 11 with value: 0.7709669008722879.\n",
      "[I 2024-08-12 11:22:36,805] Trial 16 finished with value: 0.6556264916952144 and parameters: {'max_depth': 8, 'max_features': 3, 'min_samples_leaf': 1, 'min_samples_split': 4, 'n_estimators': 447}. Best is trial 11 with value: 0.7709669008722879.\n",
      "[I 2024-08-12 11:22:47,432] Trial 17 finished with value: 0.6834343622477939 and parameters: {'max_depth': 17, 'max_features': 2, 'min_samples_leaf': 3, 'min_samples_split': 2, 'n_estimators': 972}. Best is trial 11 with value: 0.7709669008722879.\n",
      "[I 2024-08-12 11:22:48,972] Trial 18 finished with value: 0.6458112903792248 and parameters: {'max_depth': 34, 'max_features': 2, 'min_samples_leaf': 1, 'min_samples_split': 6, 'n_estimators': 125}. Best is trial 11 with value: 0.7709669008722879.\n",
      "[I 2024-08-12 11:22:54,233] Trial 19 finished with value: 0.7165906873548205 and parameters: {'max_depth': 5, 'max_features': 3, 'min_samples_leaf': 2, 'min_samples_split': 4, 'n_estimators': 554}. Best is trial 11 with value: 0.7709669008722879.\n",
      "[I 2024-08-12 11:23:05,890] Trial 20 finished with value: 0.6580996878390711 and parameters: {'max_depth': 49, 'max_features': 3, 'min_samples_leaf': 1, 'min_samples_split': 8, 'n_estimators': 852}. Best is trial 11 with value: 0.7709669008722879.\n",
      "[I 2024-08-12 11:23:08,011] Trial 21 finished with value: 0.758618450177629 and parameters: {'max_depth': 3, 'max_features': 2, 'min_samples_leaf': 1, 'min_samples_split': 2, 'n_estimators': 279}. Best is trial 11 with value: 0.7709669008722879.\n",
      "[I 2024-08-12 11:23:09,403] Trial 22 finished with value: 0.7704537493219858 and parameters: {'max_depth': 2, 'max_features': 2, 'min_samples_leaf': 1, 'min_samples_split': 2, 'n_estimators': 192}. Best is trial 11 with value: 0.7709669008722879.\n",
      "[I 2024-08-12 11:23:14,989] Trial 23 finished with value: 0.6225029965333618 and parameters: {'max_depth': 13, 'max_features': 2, 'min_samples_leaf': 1, 'min_samples_split': 2, 'n_estimators': 440}. Best is trial 11 with value: 0.7709669008722879.\n",
      "[I 2024-08-12 11:23:17,995] Trial 24 finished with value: 0.6609582993791226 and parameters: {'max_depth': 10, 'max_features': 2, 'min_samples_leaf': 2, 'min_samples_split': 4, 'n_estimators': 281}. Best is trial 11 with value: 0.7709669008722879.\n",
      "[I 2024-08-12 11:23:29,804] Trial 25 finished with value: 0.6932069630555612 and parameters: {'max_depth': 6, 'max_features': 2, 'min_samples_leaf': 1, 'min_samples_split': 2, 'n_estimators': 1307}. Best is trial 11 with value: 0.7709669008722879.\n",
      "[I 2024-08-12 11:23:36,291] Trial 26 finished with value: 0.6561325465244594 and parameters: {'max_depth': 23, 'max_features': 2, 'min_samples_leaf': 2, 'min_samples_split': 4, 'n_estimators': 540}. Best is trial 11 with value: 0.7709669008722879.\n",
      "[I 2024-08-12 11:23:38,599] Trial 27 finished with value: 0.6878692117057652 and parameters: {'max_depth': 6, 'max_features': 3, 'min_samples_leaf': 1, 'min_samples_split': 2, 'n_estimators': 227}. Best is trial 11 with value: 0.7709669008722879.\n",
      "[I 2024-08-12 11:23:39,843] Trial 28 finished with value: 0.6812707456081798 and parameters: {'max_depth': 15, 'max_features': 2, 'min_samples_leaf': 3, 'min_samples_split': 4, 'n_estimators': 112}. Best is trial 11 with value: 0.7709669008722879.\n",
      "[I 2024-08-12 11:23:45,600] Trial 29 finished with value: 0.7684533112635492 and parameters: {'max_depth': 2, 'max_features': 4, 'min_samples_leaf': 4, 'min_samples_split': 8, 'n_estimators': 750}. Best is trial 11 with value: 0.7709669008722879.\n",
      "2it [09:51, 285.58s/it][I 2024-08-12 11:23:45,799] A new study created in memory with name: no-name-c3b63093-9940-4f7a-8c38-462ac1718c3e\n"
     ]
    },
    {
     "name": "stdout",
     "output_type": "stream",
     "text": [
      "--> R2=0.762, Inner Estimation=0.771, Param={'max_depth': 2, 'max_features': 2, 'min_samples_leaf': 1, 'min_samples_split': 2, 'n_estimators': 133}\n"
     ]
    },
    {
     "name": "stderr",
     "output_type": "stream",
     "text": [
      "[I 2024-08-12 11:23:59,445] Trial 0 finished with value: 0.5965441483856135 and parameters: {'max_depth': 41, 'max_features': 3, 'min_samples_leaf': 2, 'min_samples_split': 4, 'n_estimators': 941}. Best is trial 0 with value: 0.5965441483856135.\n",
      "[I 2024-08-12 11:24:06,576] Trial 1 finished with value: 0.6502103120518076 and parameters: {'max_depth': 21, 'max_features': 3, 'min_samples_leaf': 4, 'min_samples_split': 2, 'n_estimators': 556}. Best is trial 1 with value: 0.6502103120518076.\n",
      "[I 2024-08-12 11:24:13,889] Trial 2 finished with value: 0.6155127333322798 and parameters: {'max_depth': 45, 'max_features': 2, 'min_samples_leaf': 2, 'min_samples_split': 6, 'n_estimators': 624}. Best is trial 1 with value: 0.6502103120518076.\n",
      "[I 2024-08-12 11:24:31,420] Trial 3 finished with value: 0.6973212868555078 and parameters: {'max_depth': 5, 'max_features': 4, 'min_samples_leaf': 2, 'min_samples_split': 8, 'n_estimators': 1626}. Best is trial 3 with value: 0.6973212868555078.\n",
      "[I 2024-08-12 11:24:55,576] Trial 4 finished with value: 0.6036880080154603 and parameters: {'max_depth': 44, 'max_features': 4, 'min_samples_leaf': 2, 'min_samples_split': 6, 'n_estimators': 1525}. Best is trial 3 with value: 0.6973212868555078.\n",
      "[I 2024-08-12 11:25:16,441] Trial 5 finished with value: 0.6365433709588364 and parameters: {'max_depth': 15, 'max_features': 2, 'min_samples_leaf': 3, 'min_samples_split': 4, 'n_estimators': 1916}. Best is trial 3 with value: 0.6973212868555078.\n",
      "[I 2024-08-12 11:25:28,511] Trial 6 finished with value: 0.6586091051176124 and parameters: {'max_depth': 35, 'max_features': 2, 'min_samples_leaf': 4, 'min_samples_split': 8, 'n_estimators': 1173}. Best is trial 3 with value: 0.6973212868555078.\n",
      "[I 2024-08-12 11:25:44,454] Trial 7 finished with value: 0.6591232574292204 and parameters: {'max_depth': 15, 'max_features': 2, 'min_samples_leaf': 4, 'min_samples_split': 8, 'n_estimators': 1577}. Best is trial 3 with value: 0.6973212868555078.\n",
      "[I 2024-08-12 11:25:50,685] Trial 8 finished with value: 0.5997242521852836 and parameters: {'max_depth': 20, 'max_features': 4, 'min_samples_leaf': 1, 'min_samples_split': 8, 'n_estimators': 401}. Best is trial 3 with value: 0.6973212868555078.\n",
      "[I 2024-08-12 11:26:11,105] Trial 9 finished with value: 0.6545494900268816 and parameters: {'max_depth': 21, 'max_features': 2, 'min_samples_leaf': 3, 'min_samples_split': 10, 'n_estimators': 1984}. Best is trial 3 with value: 0.6973212868555078.\n",
      "[I 2024-08-12 11:26:12,320] Trial 10 finished with value: 0.738973314729724 and parameters: {'max_depth': 3, 'max_features': 4, 'min_samples_leaf': 1, 'min_samples_split': 10, 'n_estimators': 134}. Best is trial 10 with value: 0.738973314729724.\n",
      "[I 2024-08-12 11:26:14,216] Trial 11 finished with value: 0.7390955094366713 and parameters: {'max_depth': 3, 'max_features': 4, 'min_samples_leaf': 1, 'min_samples_split': 10, 'n_estimators': 216}. Best is trial 11 with value: 0.7390955094366713.\n",
      "[I 2024-08-12 11:26:16,230] Trial 12 finished with value: 0.7511569988557844 and parameters: {'max_depth': 2, 'max_features': 4, 'min_samples_leaf': 1, 'min_samples_split': 10, 'n_estimators': 250}. Best is trial 12 with value: 0.7511569988557844.\n",
      "[I 2024-08-12 11:26:17,790] Trial 13 finished with value: 0.6381910034387601 and parameters: {'max_depth': 9, 'max_features': 3, 'min_samples_leaf': 1, 'min_samples_split': 10, 'n_estimators': 128}. Best is trial 12 with value: 0.7511569988557844.\n",
      "[I 2024-08-12 11:26:31,983] Trial 14 finished with value: 0.6157023960249077 and parameters: {'max_depth': 32, 'max_features': 4, 'min_samples_leaf': 1, 'min_samples_split': 10, 'n_estimators': 853}. Best is trial 12 with value: 0.7511569988557844.\n",
      "[I 2024-08-12 11:26:37,349] Trial 15 finished with value: 0.6269644934446126 and parameters: {'max_depth': 10, 'max_features': 4, 'min_samples_leaf': 1, 'min_samples_split': 10, 'n_estimators': 374}. Best is trial 12 with value: 0.7511569988557844.\n",
      "[I 2024-08-12 11:26:44,142] Trial 16 finished with value: 0.740219484667793 and parameters: {'max_depth': 3, 'max_features': 3, 'min_samples_leaf': 1, 'min_samples_split': 8, 'n_estimators': 762}. Best is trial 12 with value: 0.7511569988557844.\n",
      "[I 2024-08-12 11:26:57,985] Trial 17 finished with value: 0.641192866628379 and parameters: {'max_depth': 10, 'max_features': 3, 'min_samples_leaf': 3, 'min_samples_split': 8, 'n_estimators': 1172}. Best is trial 12 with value: 0.7511569988557844.\n",
      "[I 2024-08-12 11:27:08,611] Trial 18 finished with value: 0.6079961702171406 and parameters: {'max_depth': 27, 'max_features': 3, 'min_samples_leaf': 2, 'min_samples_split': 6, 'n_estimators': 737}. Best is trial 12 with value: 0.7511569988557844.\n",
      "[I 2024-08-12 11:27:15,082] Trial 19 finished with value: 0.58793443959444 and parameters: {'max_depth': 15, 'max_features': 3, 'min_samples_leaf': 1, 'min_samples_split': 6, 'n_estimators': 437}. Best is trial 12 with value: 0.7511569988557844.\n",
      "[I 2024-08-12 11:27:26,069] Trial 20 finished with value: 0.6618803357676267 and parameters: {'max_depth': 7, 'max_features': 3, 'min_samples_leaf': 2, 'min_samples_split': 8, 'n_estimators': 1061}. Best is trial 12 with value: 0.7511569988557844.\n",
      "[I 2024-08-12 11:27:28,063] Trial 21 finished with value: 0.7512266021694566 and parameters: {'max_depth': 2, 'max_features': 4, 'min_samples_leaf': 1, 'min_samples_split': 10, 'n_estimators': 247}. Best is trial 21 with value: 0.7512266021694566.\n",
      "[I 2024-08-12 11:27:30,609] Trial 22 finished with value: 0.7510940674797691 and parameters: {'max_depth': 2, 'max_features': 4, 'min_samples_leaf': 1, 'min_samples_split': 10, 'n_estimators': 319}. Best is trial 21 with value: 0.7512266021694566.\n",
      "[I 2024-08-12 11:27:33,009] Trial 23 finished with value: 0.7512293024402947 and parameters: {'max_depth': 2, 'max_features': 4, 'min_samples_leaf': 1, 'min_samples_split': 10, 'n_estimators': 300}. Best is trial 23 with value: 0.7512293024402947.\n",
      "[I 2024-08-12 11:27:40,980] Trial 24 finished with value: 0.6184025161969373 and parameters: {'max_depth': 12, 'max_features': 4, 'min_samples_leaf': 1, 'min_samples_split': 10, 'n_estimators': 543}. Best is trial 23 with value: 0.7512293024402947.\n",
      "[I 2024-08-12 11:27:44,631] Trial 25 finished with value: 0.6621798327317819 and parameters: {'max_depth': 7, 'max_features': 4, 'min_samples_leaf': 2, 'min_samples_split': 10, 'n_estimators': 288}. Best is trial 23 with value: 0.7512293024402947.\n",
      "[I 2024-08-12 11:27:51,825] Trial 26 finished with value: 0.6183727787244238 and parameters: {'max_depth': 13, 'max_features': 4, 'min_samples_leaf': 1, 'min_samples_split': 10, 'n_estimators': 492}. Best is trial 23 with value: 0.7512293024402947.\n",
      "[I 2024-08-12 11:27:54,177] Trial 27 finished with value: 0.6462188664269654 and parameters: {'max_depth': 7, 'max_features': 4, 'min_samples_leaf': 2, 'min_samples_split': 2, 'n_estimators': 205}. Best is trial 23 with value: 0.7512293024402947.\n",
      "[I 2024-08-12 11:27:55,826] Trial 28 finished with value: 0.600874872956516 and parameters: {'max_depth': 19, 'max_features': 4, 'min_samples_leaf': 1, 'min_samples_split': 8, 'n_estimators': 101}. Best is trial 23 with value: 0.7512293024402947.\n",
      "[I 2024-08-12 11:28:06,998] Trial 29 finished with value: 0.5934885017353893 and parameters: {'max_depth': 37, 'max_features': 4, 'min_samples_leaf': 2, 'min_samples_split': 4, 'n_estimators': 687}. Best is trial 23 with value: 0.7512293024402947.\n",
      "3it [14:12, 274.68s/it][I 2024-08-12 11:28:07,510] A new study created in memory with name: no-name-417d771c-5755-483b-9830-51e0f3760d06\n"
     ]
    },
    {
     "name": "stdout",
     "output_type": "stream",
     "text": [
      "--> R2=0.038, Inner Estimation=0.751, Param={'max_depth': 2, 'max_features': 4, 'min_samples_leaf': 1, 'min_samples_split': 10, 'n_estimators': 300}\n"
     ]
    },
    {
     "name": "stderr",
     "output_type": "stream",
     "text": [
      "[I 2024-08-12 11:28:24,855] Trial 0 finished with value: 0.6492675307811935 and parameters: {'max_depth': 43, 'max_features': 4, 'min_samples_leaf': 4, 'min_samples_split': 10, 'n_estimators': 1193}. Best is trial 0 with value: 0.6492675307811935.\n",
      "[I 2024-08-12 11:28:49,317] Trial 1 finished with value: 0.6421120265054092 and parameters: {'max_depth': 35, 'max_features': 4, 'min_samples_leaf': 4, 'min_samples_split': 8, 'n_estimators': 1636}. Best is trial 0 with value: 0.6492675307811935.\n",
      "[I 2024-08-12 11:29:06,703] Trial 2 finished with value: 0.6288461102356004 and parameters: {'max_depth': 27, 'max_features': 2, 'min_samples_leaf': 2, 'min_samples_split': 8, 'n_estimators': 1532}. Best is trial 0 with value: 0.6492675307811935.\n",
      "[I 2024-08-12 11:29:34,110] Trial 3 finished with value: 0.6490097534531285 and parameters: {'max_depth': 22, 'max_features': 4, 'min_samples_leaf': 4, 'min_samples_split': 10, 'n_estimators': 1877}. Best is trial 0 with value: 0.6492675307811935.\n",
      "[I 2024-08-12 11:29:52,466] Trial 4 finished with value: 0.6210147625179193 and parameters: {'max_depth': 17, 'max_features': 3, 'min_samples_leaf': 2, 'min_samples_split': 8, 'n_estimators': 1419}. Best is trial 0 with value: 0.6492675307811935.\n",
      "[I 2024-08-12 11:29:56,988] Trial 5 finished with value: 0.6639060318674188 and parameters: {'max_depth': 27, 'max_features': 2, 'min_samples_leaf': 4, 'min_samples_split': 10, 'n_estimators': 444}. Best is trial 5 with value: 0.6639060318674188.\n",
      "[I 2024-08-12 11:30:12,522] Trial 6 finished with value: 0.6582373135574097 and parameters: {'max_depth': 31, 'max_features': 2, 'min_samples_leaf': 4, 'min_samples_split': 4, 'n_estimators': 1466}. Best is trial 5 with value: 0.6639060318674188.\n",
      "[I 2024-08-12 11:30:17,743] Trial 7 finished with value: 0.6150256007162269 and parameters: {'max_depth': 24, 'max_features': 4, 'min_samples_leaf': 2, 'min_samples_split': 8, 'n_estimators': 332}. Best is trial 5 with value: 0.6639060318674188.\n",
      "[I 2024-08-12 11:30:50,536] Trial 8 finished with value: 0.60205789900681 and parameters: {'max_depth': 42, 'max_features': 4, 'min_samples_leaf': 2, 'min_samples_split': 6, 'n_estimators': 1960}. Best is trial 5 with value: 0.6639060318674188.\n",
      "[I 2024-08-12 11:30:51,425] Trial 9 finished with value: 0.7418890987275133 and parameters: {'max_depth': 3, 'max_features': 3, 'min_samples_leaf': 1, 'min_samples_split': 10, 'n_estimators': 105}. Best is trial 9 with value: 0.7418890987275133.\n",
      "[I 2024-08-12 11:30:57,263] Trial 10 finished with value: 0.7402411197560957 and parameters: {'max_depth': 3, 'max_features': 3, 'min_samples_leaf': 1, 'min_samples_split': 2, 'n_estimators': 709}. Best is trial 9 with value: 0.7418890987275133.\n",
      "[I 2024-08-12 11:31:02,806] Trial 11 finished with value: 0.751676222020792 and parameters: {'max_depth': 2, 'max_features': 3, 'min_samples_leaf': 1, 'min_samples_split': 2, 'n_estimators': 767}. Best is trial 11 with value: 0.751676222020792.\n",
      "[I 2024-08-12 11:31:03,759] Trial 12 finished with value: 0.7519863717243218 and parameters: {'max_depth': 2, 'max_features': 3, 'min_samples_leaf': 1, 'min_samples_split': 2, 'n_estimators': 131}. Best is trial 12 with value: 0.7519863717243218.\n",
      "[I 2024-08-12 11:31:14,719] Trial 13 finished with value: 0.5746444899976748 and parameters: {'max_depth': 11, 'max_features': 3, 'min_samples_leaf': 1, 'min_samples_split': 2, 'n_estimators': 823}. Best is trial 12 with value: 0.7519863717243218.\n",
      "[I 2024-08-12 11:31:24,060] Trial 14 finished with value: 0.6269744293421645 and parameters: {'max_depth': 13, 'max_features': 3, 'min_samples_leaf': 3, 'min_samples_split': 4, 'n_estimators': 743}. Best is trial 12 with value: 0.7519863717243218.\n",
      "[I 2024-08-12 11:31:36,216] Trial 15 finished with value: 0.6217453323503043 and parameters: {'max_depth': 8, 'max_features': 3, 'min_samples_leaf': 1, 'min_samples_split': 4, 'n_estimators': 1075}. Best is trial 12 with value: 0.7519863717243218.\n",
      "[I 2024-08-12 11:31:39,497] Trial 16 finished with value: 0.751977268702243 and parameters: {'max_depth': 2, 'max_features': 2, 'min_samples_leaf': 3, 'min_samples_split': 2, 'n_estimators': 491}. Best is trial 12 with value: 0.7519863717243218.\n",
      "[I 2024-08-12 11:31:40,852] Trial 17 finished with value: 0.6339329243707722 and parameters: {'max_depth': 17, 'max_features': 2, 'min_samples_leaf': 3, 'min_samples_split': 4, 'n_estimators': 121}. Best is trial 12 with value: 0.7519863717243218.\n",
      "[I 2024-08-12 11:31:45,255] Trial 18 finished with value: 0.6565919835977327 and parameters: {'max_depth': 8, 'max_features': 2, 'min_samples_leaf': 3, 'min_samples_split': 2, 'n_estimators': 444}. Best is trial 12 with value: 0.7519863717243218.\n",
      "[I 2024-08-12 11:31:49,370] Trial 19 finished with value: 0.6356784250150163 and parameters: {'max_depth': 50, 'max_features': 2, 'min_samples_leaf': 3, 'min_samples_split': 6, 'n_estimators': 357}. Best is trial 12 with value: 0.7519863717243218.\n",
      "[I 2024-08-12 11:31:56,432] Trial 20 finished with value: 0.6028673250417682 and parameters: {'max_depth': 17, 'max_features': 2, 'min_samples_leaf': 2, 'min_samples_split': 2, 'n_estimators': 585}. Best is trial 12 with value: 0.7519863717243218.\n",
      "[I 2024-08-12 11:32:02,577] Trial 21 finished with value: 0.7517213189602072 and parameters: {'max_depth': 2, 'max_features': 3, 'min_samples_leaf': 1, 'min_samples_split': 2, 'n_estimators': 882}. Best is trial 12 with value: 0.7519863717243218.\n",
      "[I 2024-08-12 11:32:12,946] Trial 22 finished with value: 0.6700641919039622 and parameters: {'max_depth': 6, 'max_features': 3, 'min_samples_leaf': 1, 'min_samples_split': 4, 'n_estimators': 1015}. Best is trial 12 with value: 0.7519863717243218.\n",
      "[I 2024-08-12 11:32:15,907] Trial 23 finished with value: 0.626768087884984 and parameters: {'max_depth': 12, 'max_features': 3, 'min_samples_leaf': 3, 'min_samples_split': 2, 'n_estimators': 230}. Best is trial 12 with value: 0.7519863717243218.\n",
      "[I 2024-08-12 11:32:21,800] Trial 24 finished with value: 0.6761261838449819 and parameters: {'max_depth': 6, 'max_features': 3, 'min_samples_leaf': 2, 'min_samples_split': 6, 'n_estimators': 565}. Best is trial 12 with value: 0.7519863717243218.\n",
      "[I 2024-08-12 11:32:28,420] Trial 25 finished with value: 0.752259966955122 and parameters: {'max_depth': 2, 'max_features': 2, 'min_samples_leaf': 1, 'min_samples_split': 2, 'n_estimators': 974}. Best is trial 25 with value: 0.752259966955122.\n",
      "[I 2024-08-12 11:32:41,315] Trial 26 finished with value: 0.6170048529889218 and parameters: {'max_depth': 10, 'max_features': 2, 'min_samples_leaf': 2, 'min_samples_split': 4, 'n_estimators': 1243}. Best is trial 25 with value: 0.752259966955122.\n",
      "[I 2024-08-12 11:32:46,390] Trial 27 finished with value: 0.6868979619875016 and parameters: {'max_depth': 6, 'max_features': 2, 'min_samples_leaf': 3, 'min_samples_split': 2, 'n_estimators': 577}. Best is trial 25 with value: 0.752259966955122.\n",
      "[I 2024-08-12 11:32:49,933] Trial 28 finished with value: 0.571867118694159 and parameters: {'max_depth': 15, 'max_features': 2, 'min_samples_leaf': 1, 'min_samples_split': 4, 'n_estimators': 292}. Best is trial 25 with value: 0.752259966955122.\n",
      "[I 2024-08-12 11:33:04,457] Trial 29 finished with value: 0.6024028163060487 and parameters: {'max_depth': 20, 'max_features': 2, 'min_samples_leaf': 2, 'min_samples_split': 2, 'n_estimators': 1256}. Best is trial 25 with value: 0.752259966955122.\n",
      "4it [19:11, 287.82s/it]"
     ]
    },
    {
     "name": "stdout",
     "output_type": "stream",
     "text": [
      "--> R2=-1.277, Inner Estimation=0.752, Param={'max_depth': 2, 'max_features': 2, 'min_samples_leaf': 1, 'min_samples_split': 2, 'n_estimators': 974}\n",
      "Mean R2 Score: 0.05010331428055037 +- 0.8159730561489846\n"
     ]
    },
    {
     "name": "stderr",
     "output_type": "stream",
     "text": [
      "\n"
     ]
    }
   ],
   "source": [
    "outer_cross_validation = StratifiedKFold(n_splits=4)\n",
    "\n",
    "groups = np.array(dataset.loc[X_train.index, 'groups'])\n",
    "splits = outer_cross_validation.split(X_train, y=groups, groups=groups)\n",
    "r2_score_list = []\n",
    "\n",
    "for train_index, val_index in tqdm(splits):\n",
    "    # Divide dataset de acordo com os splits da validação cruzada\n",
    "    _X_train, _X_val = X.iloc[train_index], X.iloc[val_index]\n",
    "    _y_train, _y_val = y.iloc[train_index], y.iloc[val_index]\n",
    "    \n",
    "    study = optuna.create_study(direction='maximize')\n",
    "    study.optimize(\n",
    "        Objective(\n",
    "            _X_train, \n",
    "            _y_train, \n",
    "            KFold(n_splits=5, shuffle=True, random_state=0)\n",
    "        ), \n",
    "        n_trials=30,\n",
    "    )\n",
    "    \n",
    "    best_inner = study.best_value\n",
    "    best_params = study.best_params\n",
    "\n",
    "    best_model = RandomForestRegressor(**best_params)\n",
    "    best_model.fit(_X_train, _y_train)\n",
    "    y_val_pred = best_model.predict(_X_val)\n",
    "    score = r2_score(_y_val, y_val_pred)\n",
    "    r2_score_list.append(score)\n",
    "\n",
    "    print('--> R2=%.3f, Inner Estimation=%.3f, Param=%s' % (score, best_inner, best_params))\n",
    "\n",
    "print(f'Mean R2 Score: {np.mean(r2_score_list)} +- {np.std(r2_score_list)}')"
   ]
  },
  {
   "cell_type": "code",
   "execution_count": 18,
   "metadata": {},
   "outputs": [
    {
     "data": {
      "text/plain": [
       "Text(0.5, 1.0, 'Opinion Change Frequency')"
      ]
     },
     "execution_count": 18,
     "metadata": {},
     "output_type": "execute_result"
    },
    {
     "data": {
      "image/png": "[encoded data removed]",
      "text/plain": [
       "<Figure size 640x480 with 1 Axes>"
      ]
     },
     "metadata": {},
     "output_type": "display_data"
    }
   ],
   "source": [
    "plt.hist([y_val_pred, _y_val])\n",
    "plt.legend(['Predicted', 'Real Values'])\n",
    "plt.title('Opinion Change Frequency')"
   ]
  },
  {
   "cell_type": "markdown",
   "metadata": {},
   "source": [
    "### Ploting Feature Importance"
   ]
  },
  {
   "cell_type": "code",
   "execution_count": 20,
   "metadata": {},
   "outputs": [
    {
     "data": {
      "text/plain": [
       "Text(0.5, 1.0, 'Feature Importance Opinion Change Frequency')"
      ]
     },
     "execution_count": 20,
     "metadata": {},
     "output_type": "execute_result"
    },
    {
     "data": {
      "image/png": "[encoded data removed]",
      "text/plain": [
       "<Figure size 640x480 with 1 Axes>"
      ]
     },
     "metadata": {},
     "output_type": "display_data"
    }
   ],
   "source": [
    "model = RandomForestRegressor(\n",
    "    **{\n",
    "        'max_features': 3, \n",
    "        'n_estimators': 400\n",
    "    }\n",
    ")\n",
    "model.fit(X_train, y_train)\n",
    "fig, ax = plt.subplots()\n",
    "ax.barh(FEATURES, model.feature_importances_)\n",
    "ax.set_title(f'Feature Importance Opinion Change Frequency')"
   ]
  },
  {
   "cell_type": "markdown",
   "metadata": {},
   "source": [
    "### Ploting correlation"
   ]
  },
  {
   "cell_type": "code",
   "execution_count": 22,
   "metadata": {},
   "outputs": [
    {
     "data": {
      "text/plain": [
       "[]"
      ]
     },
     "execution_count": 22,
     "metadata": {},
     "output_type": "execute_result"
    },
    {
     "data": {
      "image/png": "[encoded data removed]",
      "text/plain": [
       "<Figure size 640x480 with 1 Axes>"
      ]
     },
     "metadata": {},
     "output_type": "display_data"
    }
   ],
   "source": [
    "fig, ax = plt.subplots()\n",
    "measure_to_plot = 'shannon_entropy'\n",
    "scaled_y = scaler.fit_transform(np.array(y).reshape(-1, 1))\n",
    "ax.scatter(X[measure_to_plot], scaled_y)\n",
    "ax.set_xlabel(measure_to_plot)\n",
    "ax.set_ylabel('Consensus Time')\n",
    "max_value = max(max(X[measure_to_plot]), max(scaled_y)) * 1.01\n",
    "line = ax.plot([0,1], [0, 1], '--', color='red', label='y=x')\n",
    "ax.legend(handles=line)\n",
    "ax.set_xlim(0,max_value)\n",
    "ax.set_ylim(0, max_value)\n",
    "ax.set_title('Correlation Plot')\n",
    "plt.plot()"
   ]
  },
  {
   "cell_type": "markdown",
   "metadata": {},
   "source": [
    "### Testing"
   ]
  },
  {
   "cell_type": "code",
   "execution_count": 23,
   "metadata": {},
   "outputs": [
    {
     "name": "stdout",
     "output_type": "stream",
     "text": [
      "R2 Score on test: 0.9886130006699217\n"
     ]
    }
   ],
   "source": [
    "y_test_pred = model.predict(X_test)\n",
    "score = r2_score(y_test, y_test_pred)\n",
    "print(f'R2 Score on test: {score}')"
   ]
  },
  {
   "cell_type": "code",
   "execution_count": 24,
   "metadata": {},
   "outputs": [
    {
     "data": {
      "text/plain": [
       "[]"
      ]
     },
     "execution_count": 24,
     "metadata": {},
     "output_type": "execute_result"
    },
    {
     "data": {
      "image/png": "[encoded data removed]",
      "text/plain": [
       "<Figure size 640x480 with 1 Axes>"
      ]
     },
     "metadata": {},
     "output_type": "display_data"
    }
   ],
   "source": [
    "fig, ax = plt.subplots()\n",
    "ax.scatter(y_test, y_test_pred)\n",
    "ax.set_xlabel('Real y')\n",
    "ax.set_ylabel('Predicted y')\n",
    "max_value = max(max(y_test), max(y_test_pred)) * 1.01\n",
    "min_value = min(min(y_test), min(y_test_pred)) * 1.01\n",
    "line = ax.plot([0,600], [0, 600], '--', color='red', label='y=x')\n",
    "ax.legend(handles=line)\n",
    "ax.set_xlim(min_value,max_value)\n",
    "ax.set_ylim(min_value, max_value)\n",
    "ax.set_title('Correlation Plot')\n",
    "plt.plot()"
   ]
  },
  {
   "cell_type": "markdown",
   "metadata": {},
   "source": [
    "## Consensus Time"
   ]
  },
  {
   "cell_type": "code",
   "execution_count": 25,
   "metadata": {},
   "outputs": [],
   "source": [
    "dataset['groups'] = LabelEncoder().fit_transform(dataset['type'])"
   ]
  },
  {
   "cell_type": "code",
   "execution_count": 26,
   "metadata": {},
   "outputs": [],
   "source": [
    "X = dataset[FEATURES]\n",
    "y = dataset[C]"
   ]
  },
  {
   "cell_type": "code",
   "execution_count": 27,
   "metadata": {},
   "outputs": [],
   "source": [
    "X_train, X_test, y_train, y_test = train_test_split(\n",
    "    X, y, test_size=0.2, random_state=0\n",
    ")"
   ]
  },
  {
   "cell_type": "code",
   "execution_count": 28,
   "metadata": {},
   "outputs": [],
   "source": [
    "model = RandomForestRegressor()"
   ]
  },
  {
   "cell_type": "markdown",
   "metadata": {},
   "source": [
    "### Nested Cross Validation"
   ]
  },
  {
   "cell_type": "code",
   "execution_count": 29,
   "metadata": {},
   "outputs": [],
   "source": [
    "class Objective:\n",
    "    def __init__(self, X, y, cross_validation):\n",
    "        self.X = X\n",
    "        self.y = y\n",
    "        self.cross_validation = cross_validation\n",
    "        \n",
    "    def __call__(self, trial):\n",
    "        parameters = {\n",
    "            'random_state': 1,\n",
    "            'max_depth': trial.suggest_int('max_depth', 2, 50),\n",
    "            'max_features': trial.suggest_int('max_features', 2, 4),\n",
    "            'min_samples_leaf': trial.suggest_int('min_samples_leaf', 1, 4),\n",
    "            'min_samples_split': trial.suggest_int('min_samples_split', 2, 10, step=2),\n",
    "            'n_estimators': trial.suggest_int('n_estimators', 100, 2000),\n",
    "        }\n",
    "\n",
    "        rf_regressor = RandomForestRegressor(**parameters)\n",
    "        score_list = []\n",
    "        splits = self.cross_validation.split(\n",
    "            self.X, \n",
    "            y=self.y\n",
    "        )\n",
    "\n",
    "        for train_index, val_index in splits:\n",
    "            _X_train, _X_val = self.X.iloc[train_index], self.X.iloc[val_index]\n",
    "            _y_train, _y_val = self.y.iloc[train_index], self.y.iloc[val_index]\n",
    "\n",
    "            model = clone(rf_regressor)\n",
    "\n",
    "            model.fit(_X_train, _y_train)\n",
    "            y_val_pred = model.predict(_X_val)\n",
    "            score = r2_score(_y_val, y_val_pred)\n",
    "            score_list.append(score)\n",
    "\n",
    "        return np.mean(score_list)"
   ]
  },
  {
   "cell_type": "code",
   "execution_count": 30,
   "metadata": {},
   "outputs": [
    {
     "name": "stderr",
     "output_type": "stream",
     "text": [
      "/home/vitor/Documents/SznajdNetworks/venv/lib/python3.12/site-packages/sklearn/model_selection/_split.py:848: UserWarning: The groups parameter is ignored by StratifiedKFold\n",
      "  warnings.warn(\n",
      "0it [00:00, ?it/s][I 2024-08-13 15:43:36,864] A new study created in memory with name: no-name-72725cb5-ba3f-4206-8bc9-1ab8043eba25\n",
      "[I 2024-08-13 15:43:38,749] Trial 0 finished with value: 0.37081914262790605 and parameters: {'max_depth': 19, 'max_features': 4, 'min_samples_leaf': 4, 'min_samples_split': 2, 'n_estimators': 123}. Best is trial 0 with value: 0.37081914262790605.\n",
      "[I 2024-08-13 15:43:54,484] Trial 1 finished with value: 0.30865976014080826 and parameters: {'max_depth': 50, 'max_features': 2, 'min_samples_leaf': 1, 'min_samples_split': 8, 'n_estimators': 1356}. Best is trial 0 with value: 0.37081914262790605.\n",
      "[I 2024-08-13 15:44:16,217] Trial 2 finished with value: 0.3862038780994511 and parameters: {'max_depth': 9, 'max_features': 3, 'min_samples_leaf': 2, 'min_samples_split': 10, 'n_estimators': 1804}. Best is trial 2 with value: 0.3862038780994511.\n",
      "[I 2024-08-13 15:44:27,992] Trial 3 finished with value: 0.3367396514928408 and parameters: {'max_depth': 14, 'max_features': 3, 'min_samples_leaf': 2, 'min_samples_split': 8, 'n_estimators': 906}. Best is trial 2 with value: 0.3862038780994511.\n",
      "[I 2024-08-13 15:44:29,881] Trial 4 finished with value: 0.44832999571387483 and parameters: {'max_depth': 6, 'max_features': 4, 'min_samples_leaf': 2, 'min_samples_split': 10, 'n_estimators': 152}. Best is trial 4 with value: 0.44832999571387483.\n",
      "[I 2024-08-13 15:44:57,861] Trial 5 finished with value: 0.37327773335765074 and parameters: {'max_depth': 45, 'max_features': 4, 'min_samples_leaf': 4, 'min_samples_split': 4, 'n_estimators': 1957}. Best is trial 4 with value: 0.44832999571387483.\n",
      "[I 2024-08-13 15:45:07,023] Trial 6 finished with value: 0.35949360998884927 and parameters: {'max_depth': 19, 'max_features': 2, 'min_samples_leaf': 3, 'min_samples_split': 4, 'n_estimators': 847}. Best is trial 4 with value: 0.44832999571387483.\n",
      "[I 2024-08-13 15:45:09,914] Trial 7 finished with value: 0.22059558938600698 and parameters: {'max_depth': 15, 'max_features': 3, 'min_samples_leaf': 1, 'min_samples_split': 4, 'n_estimators': 200}. Best is trial 4 with value: 0.44832999571387483.\n",
      "[I 2024-08-13 15:45:23,379] Trial 8 finished with value: 0.19049031861931282 and parameters: {'max_depth': 39, 'max_features': 2, 'min_samples_leaf': 1, 'min_samples_split': 2, 'n_estimators': 1010}. Best is trial 4 with value: 0.44832999571387483.\n",
      "[I 2024-08-13 15:45:42,474] Trial 9 finished with value: 0.37970299508308347 and parameters: {'max_depth': 23, 'max_features': 3, 'min_samples_leaf': 3, 'min_samples_split': 10, 'n_estimators': 1547}. Best is trial 4 with value: 0.44832999571387483.\n",
      "[I 2024-08-13 15:45:49,668] Trial 10 finished with value: 0.3239656895271395 and parameters: {'max_depth': 33, 'max_features': 4, 'min_samples_leaf': 2, 'min_samples_split': 8, 'n_estimators': 482}. Best is trial 4 with value: 0.44832999571387483.\n",
      "[I 2024-08-13 15:46:05,302] Trial 11 finished with value: 0.5568822746471491 and parameters: {'max_depth': 3, 'max_features': 3, 'min_samples_leaf': 2, 'min_samples_split': 10, 'n_estimators': 1926}. Best is trial 11 with value: 0.5568822746471491.\n",
      "[I 2024-08-13 15:46:10,325] Trial 12 finished with value: 0.55474142866818 and parameters: {'max_depth': 3, 'max_features': 4, 'min_samples_leaf': 2, 'min_samples_split': 10, 'n_estimators': 561}. Best is trial 11 with value: 0.5568822746471491.\n",
      "[I 2024-08-13 15:46:14,169] Trial 13 finished with value: 0.5684503617068091 and parameters: {'max_depth': 2, 'max_features': 3, 'min_samples_leaf': 3, 'min_samples_split': 6, 'n_estimators': 513}. Best is trial 13 with value: 0.5684503617068091.\n",
      "[I 2024-08-13 15:46:24,296] Trial 14 finished with value: 0.5573163923043142 and parameters: {'max_depth': 3, 'max_features': 3, 'min_samples_leaf': 3, 'min_samples_split': 6, 'n_estimators': 1244}. Best is trial 13 with value: 0.5684503617068091.\n",
      "[I 2024-08-13 15:46:40,469] Trial 15 finished with value: 0.34170210434116627 and parameters: {'max_depth': 29, 'max_features': 3, 'min_samples_leaf': 3, 'min_samples_split': 6, 'n_estimators': 1263}. Best is trial 13 with value: 0.5684503617068091.\n",
      "[I 2024-08-13 15:46:48,851] Trial 16 finished with value: 0.40212962372728916 and parameters: {'max_depth': 9, 'max_features': 3, 'min_samples_leaf': 4, 'min_samples_split': 6, 'n_estimators': 636}. Best is trial 13 with value: 0.5684503617068091.\n",
      "[I 2024-08-13 15:47:03,360] Trial 17 finished with value: 0.3707188889147128 and parameters: {'max_depth': 11, 'max_features': 2, 'min_samples_leaf': 3, 'min_samples_split': 6, 'n_estimators': 1216}. Best is trial 13 with value: 0.5684503617068091.\n",
      "[I 2024-08-13 15:47:17,848] Trial 18 finished with value: 0.5608640908569766 and parameters: {'max_depth': 3, 'max_features': 2, 'min_samples_leaf': 3, 'min_samples_split': 4, 'n_estimators': 1576}. Best is trial 13 with value: 0.5684503617068091.\n",
      "[I 2024-08-13 15:47:35,034] Trial 19 finished with value: 0.40385630669347206 and parameters: {'max_depth': 27, 'max_features': 2, 'min_samples_leaf': 4, 'min_samples_split': 4, 'n_estimators': 1613}. Best is trial 13 with value: 0.5684503617068091.\n",
      "[I 2024-08-13 15:47:38,893] Trial 20 finished with value: 0.35992475882574976 and parameters: {'max_depth': 20, 'max_features': 2, 'min_samples_leaf': 3, 'min_samples_split': 2, 'n_estimators': 326}. Best is trial 13 with value: 0.5684503617068091.\n",
      "[I 2024-08-13 15:47:48,802] Trial 21 finished with value: 0.5688022436798175 and parameters: {'max_depth': 2, 'max_features': 3, 'min_samples_leaf': 3, 'min_samples_split': 6, 'n_estimators': 1501}. Best is trial 21 with value: 0.5688022436798175.\n",
      "[I 2024-08-13 15:47:59,069] Trial 22 finished with value: 0.5688158611489018 and parameters: {'max_depth': 2, 'max_features': 3, 'min_samples_leaf': 3, 'min_samples_split': 6, 'n_estimators': 1548}. Best is trial 22 with value: 0.5688158611489018.\n",
      "[I 2024-08-13 15:48:19,903] Trial 23 finished with value: 0.39083112791663555 and parameters: {'max_depth': 8, 'max_features': 3, 'min_samples_leaf': 3, 'min_samples_split': 6, 'n_estimators': 1746}. Best is trial 22 with value: 0.5688158611489018.\n",
      "[I 2024-08-13 15:48:40,450] Trial 24 finished with value: 0.38661358566694126 and parameters: {'max_depth': 12, 'max_features': 3, 'min_samples_leaf': 4, 'min_samples_split': 8, 'n_estimators': 1416}. Best is trial 22 with value: 0.5688158611489018.\n",
      "[I 2024-08-13 15:48:52,628] Trial 25 finished with value: 0.4558936886659028 and parameters: {'max_depth': 6, 'max_features': 3, 'min_samples_leaf': 3, 'min_samples_split': 6, 'n_estimators': 1102}. Best is trial 22 with value: 0.5688158611489018.\n",
      "[I 2024-08-13 15:49:00,593] Trial 26 finished with value: 0.35962710458569835 and parameters: {'max_depth': 15, 'max_features': 3, 'min_samples_leaf': 3, 'min_samples_split': 8, 'n_estimators': 685}. Best is trial 22 with value: 0.5688158611489018.\n",
      "[I 2024-08-13 15:49:10,014] Trial 27 finished with value: 0.5687790954774842 and parameters: {'max_depth': 2, 'max_features': 3, 'min_samples_leaf': 4, 'min_samples_split': 6, 'n_estimators': 1448}. Best is trial 22 with value: 0.5688158611489018.\n",
      "[I 2024-08-13 15:49:24,637] Trial 28 finished with value: 0.4534945268123187 and parameters: {'max_depth': 6, 'max_features': 4, 'min_samples_leaf': 4, 'min_samples_split': 4, 'n_estimators': 1409}. Best is trial 22 with value: 0.5688158611489018.\n",
      "[I 2024-08-13 15:49:44,766] Trial 29 finished with value: 0.3850956226591963 and parameters: {'max_depth': 17, 'max_features': 3, 'min_samples_leaf': 4, 'min_samples_split': 8, 'n_estimators': 1718}. Best is trial 22 with value: 0.5688158611489018.\n",
      "1it [06:09, 369.96s/it][I 2024-08-13 15:49:46,820] A new study created in memory with name: no-name-2ca6ba95-8a6c-4519-b23f-e850bfb27021\n"
     ]
    },
    {
     "name": "stdout",
     "output_type": "stream",
     "text": [
      "--> R2=0.360, Inner Estimation=0.569, Param={'max_depth': 2, 'max_features': 3, 'min_samples_leaf': 3, 'min_samples_split': 6, 'n_estimators': 1548}\n"
     ]
    },
    {
     "name": "stderr",
     "output_type": "stream",
     "text": [
      "[I 2024-08-13 15:49:57,105] Trial 0 finished with value: 0.13183532121299496 and parameters: {'max_depth': 50, 'max_features': 2, 'min_samples_leaf': 3, 'min_samples_split': 8, 'n_estimators': 1113}. Best is trial 0 with value: 0.13183532121299496.\n",
      "[I 2024-08-13 15:50:01,755] Trial 1 finished with value: 0.055220196318185796 and parameters: {'max_depth': 47, 'max_features': 4, 'min_samples_leaf': 2, 'min_samples_split': 8, 'n_estimators': 331}. Best is trial 0 with value: 0.13183532121299496.\n",
      "[I 2024-08-13 15:50:14,800] Trial 2 finished with value: 0.143302778018204 and parameters: {'max_depth': 43, 'max_features': 3, 'min_samples_leaf': 4, 'min_samples_split': 8, 'n_estimators': 1144}. Best is trial 2 with value: 0.143302778018204.\n",
      "[I 2024-08-13 15:50:21,128] Trial 3 finished with value: 0.15888528165600388 and parameters: {'max_depth': 36, 'max_features': 3, 'min_samples_leaf': 4, 'min_samples_split': 10, 'n_estimators': 595}. Best is trial 3 with value: 0.15888528165600388.\n",
      "[I 2024-08-13 15:50:39,958] Trial 4 finished with value: 0.16967173222684132 and parameters: {'max_depth': 16, 'max_features': 2, 'min_samples_leaf': 4, 'min_samples_split': 4, 'n_estimators': 1997}. Best is trial 4 with value: 0.16967173222684132.\n",
      "[I 2024-08-13 15:50:56,398] Trial 5 finished with value: -0.08047081735593134 and parameters: {'max_depth': 43, 'max_features': 2, 'min_samples_leaf': 1, 'min_samples_split': 4, 'n_estimators': 1372}. Best is trial 4 with value: 0.16967173222684132.\n",
      "[I 2024-08-13 15:51:20,252] Trial 6 finished with value: 0.1267938247158993 and parameters: {'max_depth': 41, 'max_features': 4, 'min_samples_leaf': 4, 'min_samples_split': 8, 'n_estimators': 1555}. Best is trial 4 with value: 0.16967173222684132.\n",
      "[I 2024-08-13 15:51:22,128] Trial 7 finished with value: 0.3694538292605307 and parameters: {'max_depth': 2, 'max_features': 2, 'min_samples_leaf': 2, 'min_samples_split': 2, 'n_estimators': 265}. Best is trial 7 with value: 0.3694538292605307.\n",
      "[I 2024-08-13 15:51:23,893] Trial 8 finished with value: 0.14241876914413398 and parameters: {'max_depth': 49, 'max_features': 3, 'min_samples_leaf': 4, 'min_samples_split': 8, 'n_estimators': 144}. Best is trial 7 with value: 0.3694538292605307.\n",
      "[I 2024-08-13 15:51:41,163] Trial 9 finished with value: 0.12678684845775395 and parameters: {'max_depth': 40, 'max_features': 4, 'min_samples_leaf': 4, 'min_samples_split': 2, 'n_estimators': 1191}. Best is trial 7 with value: 0.3694538292605307.\n",
      "[I 2024-08-13 15:51:45,293] Trial 10 finished with value: 0.36942505263429554 and parameters: {'max_depth': 2, 'max_features': 2, 'min_samples_leaf': 1, 'min_samples_split': 2, 'n_estimators': 576}. Best is trial 7 with value: 0.3694538292605307.\n",
      "[I 2024-08-13 15:51:50,875] Trial 11 finished with value: 0.30998617477903934 and parameters: {'max_depth': 4, 'max_features': 2, 'min_samples_leaf': 1, 'min_samples_split': 2, 'n_estimators': 653}. Best is trial 7 with value: 0.3694538292605307.\n",
      "[I 2024-08-13 15:51:55,853] Trial 12 finished with value: 0.3693206017723112 and parameters: {'max_depth': 2, 'max_features': 2, 'min_samples_leaf': 2, 'min_samples_split': 4, 'n_estimators': 708}. Best is trial 7 with value: 0.3694538292605307.\n",
      "[I 2024-08-13 15:52:01,389] Trial 13 finished with value: 0.0271906573267112 and parameters: {'max_depth': 12, 'max_features': 2, 'min_samples_leaf': 2, 'min_samples_split': 2, 'n_estimators': 378}. Best is trial 7 with value: 0.3694538292605307.\n",
      "[I 2024-08-13 15:52:14,173] Trial 14 finished with value: -0.09140302154459841 and parameters: {'max_depth': 22, 'max_features': 3, 'min_samples_leaf': 1, 'min_samples_split': 4, 'n_estimators': 853}. Best is trial 7 with value: 0.3694538292605307.\n",
      "[I 2024-08-13 15:52:16,243] Trial 15 finished with value: 0.10381566377570961 and parameters: {'max_depth': 9, 'max_features': 3, 'min_samples_leaf': 3, 'min_samples_split': 6, 'n_estimators': 117}. Best is trial 7 with value: 0.3694538292605307.\n",
      "[I 2024-08-13 15:52:22,532] Trial 16 finished with value: -0.12621804339394044 and parameters: {'max_depth': 30, 'max_features': 2, 'min_samples_leaf': 1, 'min_samples_split': 2, 'n_estimators': 472}. Best is trial 7 with value: 0.3694538292605307.\n",
      "[I 2024-08-13 15:52:31,970] Trial 17 finished with value: 0.05465920943002247 and parameters: {'max_depth': 20, 'max_features': 2, 'min_samples_leaf': 2, 'min_samples_split': 6, 'n_estimators': 841}. Best is trial 7 with value: 0.3694538292605307.\n",
      "[I 2024-08-13 15:52:35,831] Trial 18 finished with value: 0.12434566942841654 and parameters: {'max_depth': 10, 'max_features': 2, 'min_samples_leaf': 3, 'min_samples_split': 2, 'n_estimators': 295}. Best is trial 7 with value: 0.3694538292605307.\n",
      "[I 2024-08-13 15:52:48,162] Trial 19 finished with value: 0.16599647606312962 and parameters: {'max_depth': 6, 'max_features': 3, 'min_samples_leaf': 1, 'min_samples_split': 6, 'n_estimators': 932}. Best is trial 7 with value: 0.3694538292605307.\n",
      "[I 2024-08-13 15:52:55,816] Trial 20 finished with value: -0.002446159000185455 and parameters: {'max_depth': 29, 'max_features': 3, 'min_samples_leaf': 2, 'min_samples_split': 4, 'n_estimators': 510}. Best is trial 7 with value: 0.3694538292605307.\n",
      "[I 2024-08-13 15:53:00,632] Trial 21 finished with value: 0.36927928265440235 and parameters: {'max_depth': 2, 'max_features': 2, 'min_samples_leaf': 2, 'min_samples_split': 4, 'n_estimators': 692}. Best is trial 7 with value: 0.3694538292605307.\n",
      "[I 2024-08-13 15:53:05,797] Trial 22 finished with value: 0.36944944462570894 and parameters: {'max_depth': 2, 'max_features': 2, 'min_samples_leaf': 2, 'min_samples_split': 2, 'n_estimators': 737}. Best is trial 7 with value: 0.3694538292605307.\n",
      "[I 2024-08-13 15:53:08,271] Trial 23 finished with value: 0.10745404905473036 and parameters: {'max_depth': 15, 'max_features': 2, 'min_samples_leaf': 3, 'min_samples_split': 2, 'n_estimators': 252}. Best is trial 7 with value: 0.3694538292605307.\n",
      "[I 2024-08-13 15:53:11,978] Trial 24 finished with value: 0.09502114741016159 and parameters: {'max_depth': 7, 'max_features': 2, 'min_samples_leaf': 1, 'min_samples_split': 2, 'n_estimators': 423}. Best is trial 7 with value: 0.3694538292605307.\n",
      "[I 2024-08-13 15:53:21,170] Trial 25 finished with value: 0.026321368712080285 and parameters: {'max_depth': 13, 'max_features': 2, 'min_samples_leaf': 2, 'min_samples_split': 2, 'n_estimators': 810}. Best is trial 7 with value: 0.3694538292605307.\n",
      "[I 2024-08-13 15:53:32,850] Trial 26 finished with value: 0.20655700263364887 and parameters: {'max_depth': 6, 'max_features': 2, 'min_samples_leaf': 2, 'min_samples_split': 4, 'n_estimators': 978}. Best is trial 7 with value: 0.3694538292605307.\n",
      "[I 2024-08-13 15:53:42,394] Trial 27 finished with value: -0.12733690999694453 and parameters: {'max_depth': 17, 'max_features': 3, 'min_samples_leaf': 1, 'min_samples_split': 2, 'n_estimators': 552}. Best is trial 7 with value: 0.3694538292605307.\n",
      "[I 2024-08-13 15:53:55,982] Trial 28 finished with value: 0.1381224219723701 and parameters: {'max_depth': 9, 'max_features': 2, 'min_samples_leaf': 3, 'min_samples_split': 6, 'n_estimators': 1301}. Best is trial 7 with value: 0.3694538292605307.\n",
      "[I 2024-08-13 15:53:58,285] Trial 29 finished with value: 0.012789584876168792 and parameters: {'max_depth': 24, 'max_features': 2, 'min_samples_leaf': 2, 'min_samples_split': 2, 'n_estimators': 197}. Best is trial 7 with value: 0.3694538292605307.\n",
      "2it [10:21, 300.45s/it][I 2024-08-13 15:53:58,622] A new study created in memory with name: no-name-891f52a2-6b94-4bf7-b508-c34bad97d952\n"
     ]
    },
    {
     "name": "stdout",
     "output_type": "stream",
     "text": [
      "--> R2=0.737, Inner Estimation=0.369, Param={'max_depth': 2, 'max_features': 2, 'min_samples_leaf': 2, 'min_samples_split': 2, 'n_estimators': 265}\n"
     ]
    },
    {
     "name": "stderr",
     "output_type": "stream",
     "text": [
      "[I 2024-08-13 15:54:06,127] Trial 0 finished with value: 0.567402297276949 and parameters: {'max_depth': 42, 'max_features': 2, 'min_samples_leaf': 2, 'min_samples_split': 8, 'n_estimators': 765}. Best is trial 0 with value: 0.567402297276949.\n",
      "[I 2024-08-13 15:54:14,681] Trial 1 finished with value: 0.5194911527802308 and parameters: {'max_depth': 14, 'max_features': 3, 'min_samples_leaf': 2, 'min_samples_split': 2, 'n_estimators': 674}. Best is trial 0 with value: 0.567402297276949.\n",
      "[I 2024-08-13 15:54:20,411] Trial 2 finished with value: 0.5883831972050471 and parameters: {'max_depth': 44, 'max_features': 3, 'min_samples_leaf': 4, 'min_samples_split': 4, 'n_estimators': 502}. Best is trial 2 with value: 0.5883831972050471.\n",
      "[I 2024-08-13 15:54:33,674] Trial 3 finished with value: 0.4798254114500374 and parameters: {'max_depth': 23, 'max_features': 4, 'min_samples_leaf': 1, 'min_samples_split': 4, 'n_estimators': 762}. Best is trial 2 with value: 0.5883831972050471.\n",
      "[I 2024-08-13 15:54:57,461] Trial 4 finished with value: 0.5825156560522119 and parameters: {'max_depth': 49, 'max_features': 4, 'min_samples_leaf': 4, 'min_samples_split': 8, 'n_estimators': 1572}. Best is trial 2 with value: 0.5883831972050471.\n",
      "[I 2024-08-13 15:55:17,849] Trial 5 finished with value: 0.48769746824758753 and parameters: {'max_depth': 39, 'max_features': 3, 'min_samples_leaf': 1, 'min_samples_split': 4, 'n_estimators': 1292}. Best is trial 2 with value: 0.5883831972050471.\n",
      "[I 2024-08-13 15:55:28,683] Trial 6 finished with value: 0.577100525343333 and parameters: {'max_depth': 35, 'max_features': 4, 'min_samples_leaf': 3, 'min_samples_split': 10, 'n_estimators': 692}. Best is trial 2 with value: 0.5883831972050471.\n",
      "[I 2024-08-13 15:55:47,089] Trial 7 finished with value: 0.6096352513163789 and parameters: {'max_depth': 49, 'max_features': 2, 'min_samples_leaf': 4, 'min_samples_split': 10, 'n_estimators': 1984}. Best is trial 7 with value: 0.6096352513163789.\n",
      "[I 2024-08-13 15:55:53,242] Trial 8 finished with value: 0.5866460229442921 and parameters: {'max_depth': 37, 'max_features': 3, 'min_samples_leaf': 3, 'min_samples_split': 10, 'n_estimators': 482}. Best is trial 7 with value: 0.6096352513163789.\n",
      "[I 2024-08-13 15:56:12,657] Trial 9 finished with value: 0.546927151189591 and parameters: {'max_depth': 33, 'max_features': 4, 'min_samples_leaf': 1, 'min_samples_split': 10, 'n_estimators': 1273}. Best is trial 7 with value: 0.6096352513163789.\n",
      "[I 2024-08-13 15:56:31,746] Trial 10 finished with value: 0.6138657502605489 and parameters: {'max_depth': 9, 'max_features': 2, 'min_samples_leaf': 4, 'min_samples_split': 8, 'n_estimators': 1894}. Best is trial 10 with value: 0.6138657502605489.\n",
      "[I 2024-08-13 15:56:48,869] Trial 11 finished with value: 0.6648437614603664 and parameters: {'max_depth': 4, 'max_features': 2, 'min_samples_leaf': 4, 'min_samples_split': 8, 'n_estimators': 1917}. Best is trial 11 with value: 0.6648437614603664.\n",
      "[I 2024-08-13 15:57:00,974] Trial 12 finished with value: 0.6852516012265842 and parameters: {'max_depth': 2, 'max_features': 2, 'min_samples_leaf': 3, 'min_samples_split': 8, 'n_estimators': 1979}. Best is trial 12 with value: 0.6852516012265842.\n",
      "[I 2024-08-13 15:57:11,180] Trial 13 finished with value: 0.6854423983447085 and parameters: {'max_depth': 2, 'max_features': 2, 'min_samples_leaf': 3, 'min_samples_split': 6, 'n_estimators': 1676}. Best is trial 13 with value: 0.6854423983447085.\n",
      "[I 2024-08-13 15:57:21,839] Trial 14 finished with value: 0.6826193649558822 and parameters: {'max_depth': 3, 'max_features': 2, 'min_samples_leaf': 3, 'min_samples_split': 6, 'n_estimators': 1595}. Best is trial 13 with value: 0.6854423983447085.\n",
      "[I 2024-08-13 15:57:37,527] Trial 15 finished with value: 0.5510120255044789 and parameters: {'max_depth': 18, 'max_features': 2, 'min_samples_leaf': 2, 'min_samples_split': 6, 'n_estimators': 1580}. Best is trial 13 with value: 0.6854423983447085.\n",
      "[I 2024-08-13 15:57:56,492] Trial 16 finished with value: 0.5780470953671679 and parameters: {'max_depth': 9, 'max_features': 3, 'min_samples_leaf': 3, 'min_samples_split': 6, 'n_estimators': 1744}. Best is trial 13 with value: 0.6854423983447085.\n",
      "[I 2024-08-13 15:58:08,416] Trial 17 finished with value: 0.5757301878058371 and parameters: {'max_depth': 26, 'max_features': 2, 'min_samples_leaf': 3, 'min_samples_split': 2, 'n_estimators': 1163}. Best is trial 13 with value: 0.6854423983447085.\n",
      "[I 2024-08-13 15:58:11,061] Trial 18 finished with value: 0.5632785319565817 and parameters: {'max_depth': 10, 'max_features': 2, 'min_samples_leaf': 2, 'min_samples_split': 6, 'n_estimators': 198}. Best is trial 13 with value: 0.6854423983447085.\n",
      "[I 2024-08-13 15:58:22,331] Trial 19 finished with value: 0.67592532308734 and parameters: {'max_depth': 3, 'max_features': 3, 'min_samples_leaf': 3, 'min_samples_split': 8, 'n_estimators': 1397}. Best is trial 13 with value: 0.6854423983447085.\n",
      "[I 2024-08-13 15:58:32,961] Trial 20 finished with value: 0.5501470741313836 and parameters: {'max_depth': 19, 'max_features': 2, 'min_samples_leaf': 2, 'min_samples_split': 6, 'n_estimators': 1001}. Best is trial 13 with value: 0.6854423983447085.\n",
      "[I 2024-08-13 15:58:46,294] Trial 21 finished with value: 0.6826966919275033 and parameters: {'max_depth': 3, 'max_features': 2, 'min_samples_leaf': 3, 'min_samples_split': 6, 'n_estimators': 1682}. Best is trial 13 with value: 0.6854423983447085.\n",
      "[I 2024-08-13 15:59:05,362] Trial 22 finished with value: 0.6043565524926129 and parameters: {'max_depth': 7, 'max_features': 2, 'min_samples_leaf': 3, 'min_samples_split': 4, 'n_estimators': 1794}. Best is trial 13 with value: 0.6854423983447085.\n",
      "[I 2024-08-13 15:59:26,993] Trial 23 finished with value: 0.5767129995928124 and parameters: {'max_depth': 15, 'max_features': 2, 'min_samples_leaf': 3, 'min_samples_split': 6, 'n_estimators': 1731}. Best is trial 13 with value: 0.6854423983447085.\n",
      "[I 2024-08-13 15:59:42,048] Trial 24 finished with value: 0.5871632201344753 and parameters: {'max_depth': 13, 'max_features': 2, 'min_samples_leaf': 3, 'min_samples_split': 8, 'n_estimators': 1451}. Best is trial 13 with value: 0.6854423983447085.\n",
      "[I 2024-08-13 16:00:02,556] Trial 25 finished with value: 0.606508411626064 and parameters: {'max_depth': 6, 'max_features': 2, 'min_samples_leaf': 2, 'min_samples_split': 6, 'n_estimators': 1995}. Best is trial 13 with value: 0.6854423983447085.\n",
      "[I 2024-08-13 16:00:11,135] Trial 26 finished with value: 0.6795939679258295 and parameters: {'max_depth': 2, 'max_features': 3, 'min_samples_leaf': 3, 'min_samples_split': 4, 'n_estimators': 1034}. Best is trial 13 with value: 0.6854423983447085.\n",
      "[I 2024-08-13 16:00:27,953] Trial 27 finished with value: 0.6041506308091639 and parameters: {'max_depth': 30, 'max_features': 2, 'min_samples_leaf': 4, 'min_samples_split': 8, 'n_estimators': 1787}. Best is trial 13 with value: 0.6854423983447085.\n",
      "[I 2024-08-13 16:00:46,049] Trial 28 finished with value: 0.5696732036638052 and parameters: {'max_depth': 11, 'max_features': 3, 'min_samples_leaf': 3, 'min_samples_split': 6, 'n_estimators': 1631}. Best is trial 13 with value: 0.6854423983447085.\n",
      "[I 2024-08-13 16:01:01,464] Trial 29 finished with value: 0.5685885311249225 and parameters: {'max_depth': 20, 'max_features': 2, 'min_samples_leaf': 2, 'min_samples_split': 8, 'n_estimators': 1483}. Best is trial 13 with value: 0.6854423983447085.\n",
      "3it [17:27, 357.57s/it][I 2024-08-13 16:01:04,166] A new study created in memory with name: no-name-dec1d6ac-8304-40aa-87aa-67c649a10de1\n"
     ]
    },
    {
     "name": "stdout",
     "output_type": "stream",
     "text": [
      "--> R2=0.159, Inner Estimation=0.685, Param={'max_depth': 2, 'max_features': 2, 'min_samples_leaf': 3, 'min_samples_split': 6, 'n_estimators': 1676}\n"
     ]
    },
    {
     "name": "stderr",
     "output_type": "stream",
     "text": [
      "[I 2024-08-13 16:01:14,414] Trial 0 finished with value: 0.3977237373880854 and parameters: {'max_depth': 27, 'max_features': 3, 'min_samples_leaf': 1, 'min_samples_split': 8, 'n_estimators': 736}. Best is trial 0 with value: 0.3977237373880854.\n",
      "[I 2024-08-13 16:01:23,147] Trial 1 finished with value: 0.3894097037162062 and parameters: {'max_depth': 47, 'max_features': 4, 'min_samples_leaf': 1, 'min_samples_split': 8, 'n_estimators': 537}. Best is trial 0 with value: 0.3977237373880854.\n",
      "[I 2024-08-13 16:01:26,668] Trial 2 finished with value: 0.4377404273781342 and parameters: {'max_depth': 49, 'max_features': 4, 'min_samples_leaf': 2, 'min_samples_split': 10, 'n_estimators': 238}. Best is trial 2 with value: 0.4377404273781342.\n",
      "[I 2024-08-13 16:01:38,635] Trial 3 finished with value: 0.45343283632065867 and parameters: {'max_depth': 19, 'max_features': 4, 'min_samples_leaf': 4, 'min_samples_split': 2, 'n_estimators': 848}. Best is trial 3 with value: 0.45343283632065867.\n",
      "[I 2024-08-13 16:01:57,003] Trial 4 finished with value: 0.41270487907337206 and parameters: {'max_depth': 14, 'max_features': 2, 'min_samples_leaf': 1, 'min_samples_split': 8, 'n_estimators': 1944}. Best is trial 3 with value: 0.45343283632065867.\n",
      "[I 2024-08-13 16:02:02,701] Trial 5 finished with value: 0.4226809536289398 and parameters: {'max_depth': 28, 'max_features': 3, 'min_samples_leaf': 1, 'min_samples_split': 10, 'n_estimators': 506}. Best is trial 3 with value: 0.45343283632065867.\n",
      "[I 2024-08-13 16:02:25,809] Trial 6 finished with value: 0.45383755469647447 and parameters: {'max_depth': 20, 'max_features': 4, 'min_samples_leaf': 4, 'min_samples_split': 6, 'n_estimators': 1917}. Best is trial 6 with value: 0.45383755469647447.\n",
      "[I 2024-08-13 16:02:34,149] Trial 7 finished with value: 0.4577619324770971 and parameters: {'max_depth': 17, 'max_features': 3, 'min_samples_leaf': 3, 'min_samples_split': 10, 'n_estimators': 795}. Best is trial 7 with value: 0.4577619324770971.\n",
      "[I 2024-08-13 16:02:51,110] Trial 8 finished with value: 0.3804483629376536 and parameters: {'max_depth': 13, 'max_features': 3, 'min_samples_leaf': 1, 'min_samples_split': 6, 'n_estimators': 1469}. Best is trial 7 with value: 0.4577619324770971.\n",
      "[I 2024-08-13 16:03:02,800] Trial 9 finished with value: 0.3282591056357133 and parameters: {'max_depth': 16, 'max_features': 3, 'min_samples_leaf': 1, 'min_samples_split': 2, 'n_estimators': 875}. Best is trial 7 with value: 0.4577619324770971.\n",
      "[I 2024-08-13 16:03:10,676] Trial 10 finished with value: 0.5837110661490559 and parameters: {'max_depth': 2, 'max_features': 2, 'min_samples_leaf': 3, 'min_samples_split': 4, 'n_estimators': 1276}. Best is trial 10 with value: 0.5837110661490559.\n",
      "[I 2024-08-13 16:03:18,521] Trial 11 finished with value: 0.583650038858955 and parameters: {'max_depth': 2, 'max_features': 2, 'min_samples_leaf': 3, 'min_samples_split': 4, 'n_estimators': 1280}. Best is trial 10 with value: 0.5837110661490559.\n",
      "[I 2024-08-13 16:03:26,083] Trial 12 finished with value: 0.5836615110684814 and parameters: {'max_depth': 2, 'max_features': 2, 'min_samples_leaf': 3, 'min_samples_split': 4, 'n_estimators': 1279}. Best is trial 10 with value: 0.5837110661490559.\n",
      "[I 2024-08-13 16:03:35,401] Trial 13 finished with value: 0.5835384419784317 and parameters: {'max_depth': 2, 'max_features': 2, 'min_samples_leaf': 3, 'min_samples_split': 4, 'n_estimators': 1423}. Best is trial 10 with value: 0.5837110661490559.\n",
      "[I 2024-08-13 16:03:49,120] Trial 14 finished with value: 0.4582050937038765 and parameters: {'max_depth': 8, 'max_features': 2, 'min_samples_leaf': 2, 'min_samples_split': 4, 'n_estimators': 1169}. Best is trial 10 with value: 0.5837110661490559.\n",
      "[I 2024-08-13 16:04:09,530] Trial 15 finished with value: 0.44391148039240536 and parameters: {'max_depth': 35, 'max_features': 2, 'min_samples_leaf': 3, 'min_samples_split': 6, 'n_estimators': 1614}. Best is trial 10 with value: 0.5837110661490559.\n",
      "[I 2024-08-13 16:04:26,673] Trial 16 finished with value: 0.5134526351213082 and parameters: {'max_depth': 7, 'max_features': 2, 'min_samples_leaf': 4, 'min_samples_split': 4, 'n_estimators': 1690}. Best is trial 10 with value: 0.5837110661490559.\n",
      "[I 2024-08-13 16:04:36,899] Trial 17 finished with value: 0.45773132996658433 and parameters: {'max_depth': 8, 'max_features': 2, 'min_samples_leaf': 2, 'min_samples_split': 2, 'n_estimators': 1106}. Best is trial 10 with value: 0.5837110661490559.\n",
      "[I 2024-08-13 16:04:51,270] Trial 18 finished with value: 0.44379840131087744 and parameters: {'max_depth': 36, 'max_features': 2, 'min_samples_leaf': 3, 'min_samples_split': 4, 'n_estimators': 1334}. Best is trial 10 with value: 0.5837110661490559.\n",
      "[I 2024-08-13 16:05:07,091] Trial 19 finished with value: 0.5106987176102898 and parameters: {'max_depth': 6, 'max_features': 3, 'min_samples_leaf': 2, 'min_samples_split': 6, 'n_estimators': 1680}. Best is trial 10 with value: 0.5837110661490559.\n",
      "[I 2024-08-13 16:05:17,608] Trial 20 finished with value: 0.47749165677265415 and parameters: {'max_depth': 24, 'max_features': 2, 'min_samples_leaf': 4, 'min_samples_split': 2, 'n_estimators': 1031}. Best is trial 10 with value: 0.5837110661490559.\n",
      "[I 2024-08-13 16:05:25,531] Trial 21 finished with value: 0.5836526105972606 and parameters: {'max_depth': 2, 'max_features': 2, 'min_samples_leaf': 3, 'min_samples_split': 4, 'n_estimators': 1290}. Best is trial 10 with value: 0.5837110661490559.\n",
      "[I 2024-08-13 16:05:35,405] Trial 22 finished with value: 0.4544718880842872 and parameters: {'max_depth': 11, 'max_features': 2, 'min_samples_leaf': 3, 'min_samples_split': 4, 'n_estimators': 1011}. Best is trial 10 with value: 0.5837110661490559.\n",
      "[I 2024-08-13 16:05:45,290] Trial 23 finished with value: 0.5932980431842864 and parameters: {'max_depth': 3, 'max_features': 2, 'min_samples_leaf': 3, 'min_samples_split': 4, 'n_estimators': 1224}. Best is trial 23 with value: 0.5932980431842864.\n",
      "[I 2024-08-13 16:05:59,007] Trial 24 finished with value: 0.5253843036782675 and parameters: {'max_depth': 6, 'max_features': 2, 'min_samples_leaf': 3, 'min_samples_split': 6, 'n_estimators': 1562}. Best is trial 23 with value: 0.5932980431842864.\n",
      "[I 2024-08-13 16:06:13,413] Trial 25 finished with value: 0.4238217614817851 and parameters: {'max_depth': 10, 'max_features': 2, 'min_samples_leaf': 2, 'min_samples_split': 2, 'n_estimators': 1181}. Best is trial 23 with value: 0.5932980431842864.\n",
      "[I 2024-08-13 16:06:29,208] Trial 26 finished with value: 0.5471911862422097 and parameters: {'max_depth': 5, 'max_features': 3, 'min_samples_leaf': 4, 'min_samples_split': 4, 'n_estimators': 1813}. Best is trial 23 with value: 0.5932980431842864.\n",
      "[I 2024-08-13 16:06:43,497] Trial 27 finished with value: 0.45417244276211066 and parameters: {'max_depth': 11, 'max_features': 2, 'min_samples_leaf': 3, 'min_samples_split': 6, 'n_estimators': 1450}. Best is trial 23 with value: 0.5932980431842864.\n",
      "[I 2024-08-13 16:06:50,959] Trial 28 finished with value: 0.5746379693180325 and parameters: {'max_depth': 2, 'max_features': 3, 'min_samples_leaf': 2, 'min_samples_split': 4, 'n_estimators': 947}. Best is trial 23 with value: 0.5932980431842864.\n",
      "[I 2024-08-13 16:07:07,630] Trial 29 finished with value: 0.4289405539578935 and parameters: {'max_depth': 32, 'max_features': 3, 'min_samples_leaf': 3, 'min_samples_split': 2, 'n_estimators': 1204}. Best is trial 23 with value: 0.5932980431842864.\n",
      "4it [23:33, 353.33s/it]"
     ]
    },
    {
     "name": "stdout",
     "output_type": "stream",
     "text": [
      "--> R2=0.311, Inner Estimation=0.593, Param={'max_depth': 3, 'max_features': 2, 'min_samples_leaf': 3, 'min_samples_split': 4, 'n_estimators': 1224}\n",
      "Mean R2 Score: 0.3920572154088694 +- 0.2126153770032109\n"
     ]
    },
    {
     "name": "stderr",
     "output_type": "stream",
     "text": [
      "\n"
     ]
    }
   ],
   "source": [
    "outer_cross_validation = StratifiedKFold(n_splits=4)\n",
    "\n",
    "groups = np.array(dataset.loc[X_train.index, 'groups'])\n",
    "splits = outer_cross_validation.split(X_train, y=groups, groups=groups)\n",
    "r2_score_list = []\n",
    "\n",
    "for train_index, val_index in tqdm(splits):\n",
    "    # Divide dataset de acordo com os splits da validação cruzada\n",
    "    _X_train, _X_val = X.iloc[train_index], X.iloc[val_index]\n",
    "    _y_train, _y_val = y.iloc[train_index], y.iloc[val_index]\n",
    "    \n",
    "    study = optuna.create_study(direction='maximize')\n",
    "    study.optimize(\n",
    "        Objective(\n",
    "            _X_train, \n",
    "            _y_train, \n",
    "            KFold(n_splits=5, shuffle=True, random_state=0)\n",
    "        ), \n",
    "        n_trials=30,\n",
    "    )\n",
    "    \n",
    "    best_inner = study.best_value\n",
    "    best_params = study.best_params\n",
    "\n",
    "    best_model = RandomForestRegressor(**best_params)\n",
    "    best_model.fit(_X_train, _y_train)\n",
    "    y_val_pred = best_model.predict(_X_val)\n",
    "    score = r2_score(_y_val, y_val_pred)\n",
    "    r2_score_list.append(score)\n",
    "\n",
    "    print('--> R2=%.3f, Inner Estimation=%.3f, Param=%s' % (score, best_inner, best_params))\n",
    "\n",
    "print(f'Mean R2 Score: {np.mean(r2_score_list)} +- {np.std(r2_score_list)}')"
   ]
  },
  {
   "cell_type": "code",
   "execution_count": 31,
   "metadata": {},
   "outputs": [
    {
     "data": {
      "text/plain": [
       "Text(0.5, 1.0, 'Consensus Time')"
      ]
     },
     "execution_count": 31,
     "metadata": {},
     "output_type": "execute_result"
    },
    {
     "data": {
      "image/png": "[encoded data removed]",
      "text/plain": [
       "<Figure size 640x480 with 1 Axes>"
      ]
     },
     "metadata": {},
     "output_type": "display_data"
    }
   ],
   "source": [
    "plt.hist([y_val_pred, _y_val])\n",
    "plt.legend(['Predicted', 'Real Values'])\n",
    "plt.title('Consensus Time')"
   ]
  },
  {
   "cell_type": "markdown",
   "metadata": {},
   "source": [
    "### Ploting Feature Importance"
   ]
  },
  {
   "cell_type": "code",
   "execution_count": 32,
   "metadata": {},
   "outputs": [
    {
     "data": {
      "text/plain": [
       "Text(0.5, 1.0, 'Feature Importance Consensus Time')"
      ]
     },
     "execution_count": 32,
     "metadata": {},
     "output_type": "execute_result"
    },
    {
     "data": {
      "image/png": "[encoded data removed]",
      "text/plain": [
       "<Figure size 640x480 with 1 Axes>"
      ]
     },
     "metadata": {},
     "output_type": "display_data"
    }
   ],
   "source": [
    "model = RandomForestRegressor(**best_params)\n",
    "model.fit(X_train, y_train)\n",
    "fig, ax = plt.subplots()\n",
    "ax.barh(FEATURES, model.feature_importances_)\n",
    "ax.set_title(f'Feature Importance Consensus Time')"
   ]
  },
  {
   "cell_type": "markdown",
   "metadata": {},
   "source": [
    "### Testing"
   ]
  },
  {
   "cell_type": "code",
   "execution_count": 33,
   "metadata": {},
   "outputs": [
    {
     "name": "stdout",
     "output_type": "stream",
     "text": [
      "R2 Score on test: 0.7980479138512802\n"
     ]
    }
   ],
   "source": [
    "y_test_pred = model.predict(X_test)\n",
    "score = r2_score(y_test, y_test_pred)\n",
    "print(f'R2 Score on test: {score}')"
   ]
  },
  {
   "cell_type": "code",
   "execution_count": 34,
   "metadata": {},
   "outputs": [
    {
     "data": {
      "text/plain": [
       "[]"
      ]
     },
     "execution_count": 34,
     "metadata": {},
     "output_type": "execute_result"
    },
    {
     "data": {
      "image/png": "[encoded data removed]",
      "text/plain": [
       "<Figure size 640x480 with 1 Axes>"
      ]
     },
     "metadata": {},
     "output_type": "display_data"
    }
   ],
   "source": [
    "fig, ax = plt.subplots()\n",
    "ax.scatter(y_test, y_test_pred)\n",
    "ax.set_xlabel('Real y')\n",
    "ax.set_ylabel('Predicted y')\n",
    "max_value = max(max(y_test), max(y_test_pred)) * 1.01\n",
    "min_value = min(min(y_test), min(y_test_pred)) * 1.01\n",
    "line = ax.plot([0,1100], [0, 1100], '--', color='red', label='y=x')\n",
    "ax.legend(handles=line)\n",
    "ax.set_xlim(min_value,max_value)\n",
    "ax.set_ylim(min_value, max_value)\n",
    "ax.set_title('Correlation Plot')\n",
    "plt.plot()"
   ]
  },
  {
   "cell_type": "code",
   "execution_count": null,
   "metadata": {},
   "outputs": [],
   "source": []
  }
 ],
 "metadata": {
  "kernelspec": {
   "display_name": "venv",
   "language": "python",
   "name": "python3"
  },
  "language_info": {
   "codemirror_mode": {
    "name": "ipython",
    "version": 3
   },
   "file_extension": ".py",
   "mimetype": "text/x-python",
   "name": "python",
   "nbconvert_exporter": "python",
   "pygments_lexer": "ipython3",
   "version": "3.12.4"
  }
 },
 "nbformat": 4,
 "nbformat_minor": 2
}
