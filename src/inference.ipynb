{
 "cells": [
  {
   "cell_type": "markdown",
   "metadata": {},
   "source": [
    "# Prediction of Dynamic Variables in Sznajd Model"
   ]
  },
  {
   "cell_type": "markdown",
   "metadata": {},
   "source": [
    "## Imports"
   ]
  },
  {
   "cell_type": "code",
   "execution_count": 4,
   "metadata": {},
   "outputs": [],
   "source": [
    "import pandas as pd\n",
    "import os\n",
    "from tqdm import tqdm\n",
    "import numpy as np\n",
    "import matplotlib.pyplot as plt\n",
    "\n",
    "BASE_SIMULATION_DIR = 'data/simulations/'\n",
    "BASE_MEASURE_DIR = 'data/measures/'\n",
    "C = 'consensus_time'\n",
    "F = 'opinion_change_frequency'"
   ]
  },
  {
   "cell_type": "markdown",
   "metadata": {},
   "source": [
    "## Reading CSV files"
   ]
  },
  {
   "cell_type": "markdown",
   "metadata": {},
   "source": [
    "### Measures"
   ]
  },
  {
   "cell_type": "code",
   "execution_count": 5,
   "metadata": {},
   "outputs": [],
   "source": [
    "measures_file_list = []\n",
    "for network in os.listdir(BASE_MEASURE_DIR):\n",
    "    df = pd.read_csv(BASE_MEASURE_DIR + network, index_col=0)\n",
    "    df.insert(0, 'type', network.split('.')[0])\n",
    "    measures_file_list.append(df)\n",
    "\n",
    "measures_df = pd.concat(measures_file_list)\n",
    "\n",
    "FEATURES = list(measures_df.columns)"
   ]
  },
  {
   "cell_type": "code",
   "execution_count": 6,
   "metadata": {},
   "outputs": [],
   "source": [
    "FEATURES = FEATURES[1:]"
   ]
  },
  {
   "cell_type": "code",
   "execution_count": 7,
   "metadata": {},
   "outputs": [
    {
     "data": {
      "text/html": [
       "<div>\n",
       "<style scoped>\n",
       "    .dataframe tbody tr th:only-of-type {\n",
       "        vertical-align: middle;\n",
       "    }\n",
       "\n",
       "    .dataframe tbody tr th {\n",
       "        vertical-align: top;\n",
       "    }\n",
       "\n",
       "    .dataframe thead th {\n",
       "        text-align: right;\n",
       "    }\n",
       "</style>\n",
       "<table border=\"1\" class=\"dataframe\">\n",
       "  <thead>\n",
       "    <tr style=\"text-align: right;\">\n",
       "      <th></th>\n",
       "      <th>type</th>\n",
       "      <th>clustering</th>\n",
       "      <th>closeness</th>\n",
       "      <th>betweenness</th>\n",
       "      <th>average_shortest_path_lenght</th>\n",
       "      <th>eigenvector</th>\n",
       "      <th>assortativity</th>\n",
       "      <th>information_centrality</th>\n",
       "      <th>approximate_current_flow_betweenness_centrality</th>\n",
       "    </tr>\n",
       "    <tr>\n",
       "      <th>network</th>\n",
       "      <th></th>\n",
       "      <th></th>\n",
       "      <th></th>\n",
       "      <th></th>\n",
       "      <th></th>\n",
       "      <th></th>\n",
       "      <th></th>\n",
       "      <th></th>\n",
       "      <th></th>\n",
       "    </tr>\n",
       "  </thead>\n",
       "  <tbody>\n",
       "    <tr>\n",
       "      <th>barabasi_linear_60.edgelist</th>\n",
       "      <td>barabasi_linear</td>\n",
       "      <td>0.032393</td>\n",
       "      <td>0.333205</td>\n",
       "      <td>1008.953</td>\n",
       "      <td>3.016906</td>\n",
       "      <td>0.082985</td>\n",
       "      <td>-0.012140</td>\n",
       "      <td>0.003442</td>\n",
       "      <td>0.005008</td>\n",
       "    </tr>\n",
       "    <tr>\n",
       "      <th>barabasi_linear_91.edgelist</th>\n",
       "      <td>barabasi_linear</td>\n",
       "      <td>0.032772</td>\n",
       "      <td>0.335566</td>\n",
       "      <td>998.585</td>\n",
       "      <td>2.996170</td>\n",
       "      <td>0.081414</td>\n",
       "      <td>-0.026616</td>\n",
       "      <td>0.003427</td>\n",
       "      <td>0.004956</td>\n",
       "    </tr>\n",
       "    <tr>\n",
       "      <th>barabasi_linear_41.edgelist</th>\n",
       "      <td>barabasi_linear</td>\n",
       "      <td>0.031068</td>\n",
       "      <td>0.335096</td>\n",
       "      <td>1000.464</td>\n",
       "      <td>2.999928</td>\n",
       "      <td>0.077702</td>\n",
       "      <td>-0.027484</td>\n",
       "      <td>0.003420</td>\n",
       "      <td>0.004914</td>\n",
       "    </tr>\n",
       "    <tr>\n",
       "      <th>barabasi_linear_73.edgelist</th>\n",
       "      <td>barabasi_linear</td>\n",
       "      <td>0.028693</td>\n",
       "      <td>0.335415</td>\n",
       "      <td>998.483</td>\n",
       "      <td>2.995966</td>\n",
       "      <td>0.090226</td>\n",
       "      <td>-0.035959</td>\n",
       "      <td>0.003408</td>\n",
       "      <td>0.004883</td>\n",
       "    </tr>\n",
       "    <tr>\n",
       "      <th>barabasi_linear_52.edgelist</th>\n",
       "      <td>barabasi_linear</td>\n",
       "      <td>0.030809</td>\n",
       "      <td>0.332543</td>\n",
       "      <td>1011.472</td>\n",
       "      <td>3.021944</td>\n",
       "      <td>0.095066</td>\n",
       "      <td>-0.023867</td>\n",
       "      <td>0.003437</td>\n",
       "      <td>0.005010</td>\n",
       "    </tr>\n",
       "    <tr>\n",
       "      <th>...</th>\n",
       "      <td>...</td>\n",
       "      <td>...</td>\n",
       "      <td>...</td>\n",
       "      <td>...</td>\n",
       "      <td>...</td>\n",
       "      <td>...</td>\n",
       "      <td>...</td>\n",
       "      <td>...</td>\n",
       "      <td>...</td>\n",
       "    </tr>\n",
       "    <tr>\n",
       "      <th>watts-strogatz_71.edgelist</th>\n",
       "      <td>watts-strogatz</td>\n",
       "      <td>0.647961</td>\n",
       "      <td>0.114572</td>\n",
       "      <td>3916.996</td>\n",
       "      <td>8.832992</td>\n",
       "      <td>0.406220</td>\n",
       "      <td>-0.009041</td>\n",
       "      <td>0.001537</td>\n",
       "      <td>0.020998</td>\n",
       "    </tr>\n",
       "    <tr>\n",
       "      <th>watts-strogatz_53.edgelist</th>\n",
       "      <td>watts-strogatz</td>\n",
       "      <td>0.642519</td>\n",
       "      <td>0.117571</td>\n",
       "      <td>3790.674</td>\n",
       "      <td>8.580348</td>\n",
       "      <td>0.383648</td>\n",
       "      <td>-0.008082</td>\n",
       "      <td>0.001609</td>\n",
       "      <td>0.021597</td>\n",
       "    </tr>\n",
       "    <tr>\n",
       "      <th>watts-strogatz_67.edgelist</th>\n",
       "      <td>watts-strogatz</td>\n",
       "      <td>0.640451</td>\n",
       "      <td>0.122419</td>\n",
       "      <td>3627.605</td>\n",
       "      <td>8.254210</td>\n",
       "      <td>0.347707</td>\n",
       "      <td>-0.002856</td>\n",
       "      <td>0.001657</td>\n",
       "      <td>0.021003</td>\n",
       "    </tr>\n",
       "    <tr>\n",
       "      <th>watts-strogatz_76.edgelist</th>\n",
       "      <td>watts-strogatz</td>\n",
       "      <td>0.645758</td>\n",
       "      <td>0.117242</td>\n",
       "      <td>3798.980</td>\n",
       "      <td>8.596960</td>\n",
       "      <td>0.429491</td>\n",
       "      <td>0.008234</td>\n",
       "      <td>0.001636</td>\n",
       "      <td>0.021184</td>\n",
       "    </tr>\n",
       "    <tr>\n",
       "      <th>watts-strogatz_69.edgelist</th>\n",
       "      <td>watts-strogatz</td>\n",
       "      <td>0.646363</td>\n",
       "      <td>0.116023</td>\n",
       "      <td>3854.486</td>\n",
       "      <td>8.707972</td>\n",
       "      <td>0.606427</td>\n",
       "      <td>-0.011195</td>\n",
       "      <td>0.001584</td>\n",
       "      <td>0.021171</td>\n",
       "    </tr>\n",
       "  </tbody>\n",
       "</table>\n",
       "<p>700 rows × 9 columns</p>\n",
       "</div>"
      ],
      "text/plain": [
       "                                        type  clustering  closeness  \\\n",
       "network                                                               \n",
       "barabasi_linear_60.edgelist  barabasi_linear    0.032393   0.333205   \n",
       "barabasi_linear_91.edgelist  barabasi_linear    0.032772   0.335566   \n",
       "barabasi_linear_41.edgelist  barabasi_linear    0.031068   0.335096   \n",
       "barabasi_linear_73.edgelist  barabasi_linear    0.028693   0.335415   \n",
       "barabasi_linear_52.edgelist  barabasi_linear    0.030809   0.332543   \n",
       "...                                      ...         ...        ...   \n",
       "watts-strogatz_71.edgelist    watts-strogatz    0.647961   0.114572   \n",
       "watts-strogatz_53.edgelist    watts-strogatz    0.642519   0.117571   \n",
       "watts-strogatz_67.edgelist    watts-strogatz    0.640451   0.122419   \n",
       "watts-strogatz_76.edgelist    watts-strogatz    0.645758   0.117242   \n",
       "watts-strogatz_69.edgelist    watts-strogatz    0.646363   0.116023   \n",
       "\n",
       "                             betweenness  average_shortest_path_lenght  \\\n",
       "network                                                                  \n",
       "barabasi_linear_60.edgelist     1008.953                      3.016906   \n",
       "barabasi_linear_91.edgelist      998.585                      2.996170   \n",
       "barabasi_linear_41.edgelist     1000.464                      2.999928   \n",
       "barabasi_linear_73.edgelist      998.483                      2.995966   \n",
       "barabasi_linear_52.edgelist     1011.472                      3.021944   \n",
       "...                                  ...                           ...   \n",
       "watts-strogatz_71.edgelist      3916.996                      8.832992   \n",
       "watts-strogatz_53.edgelist      3790.674                      8.580348   \n",
       "watts-strogatz_67.edgelist      3627.605                      8.254210   \n",
       "watts-strogatz_76.edgelist      3798.980                      8.596960   \n",
       "watts-strogatz_69.edgelist      3854.486                      8.707972   \n",
       "\n",
       "                             eigenvector  assortativity  \\\n",
       "network                                                   \n",
       "barabasi_linear_60.edgelist     0.082985      -0.012140   \n",
       "barabasi_linear_91.edgelist     0.081414      -0.026616   \n",
       "barabasi_linear_41.edgelist     0.077702      -0.027484   \n",
       "barabasi_linear_73.edgelist     0.090226      -0.035959   \n",
       "barabasi_linear_52.edgelist     0.095066      -0.023867   \n",
       "...                                  ...            ...   \n",
       "watts-strogatz_71.edgelist      0.406220      -0.009041   \n",
       "watts-strogatz_53.edgelist      0.383648      -0.008082   \n",
       "watts-strogatz_67.edgelist      0.347707      -0.002856   \n",
       "watts-strogatz_76.edgelist      0.429491       0.008234   \n",
       "watts-strogatz_69.edgelist      0.606427      -0.011195   \n",
       "\n",
       "                             information_centrality  \\\n",
       "network                                               \n",
       "barabasi_linear_60.edgelist                0.003442   \n",
       "barabasi_linear_91.edgelist                0.003427   \n",
       "barabasi_linear_41.edgelist                0.003420   \n",
       "barabasi_linear_73.edgelist                0.003408   \n",
       "barabasi_linear_52.edgelist                0.003437   \n",
       "...                                             ...   \n",
       "watts-strogatz_71.edgelist                 0.001537   \n",
       "watts-strogatz_53.edgelist                 0.001609   \n",
       "watts-strogatz_67.edgelist                 0.001657   \n",
       "watts-strogatz_76.edgelist                 0.001636   \n",
       "watts-strogatz_69.edgelist                 0.001584   \n",
       "\n",
       "                             approximate_current_flow_betweenness_centrality  \n",
       "network                                                                       \n",
       "barabasi_linear_60.edgelist                                         0.005008  \n",
       "barabasi_linear_91.edgelist                                         0.004956  \n",
       "barabasi_linear_41.edgelist                                         0.004914  \n",
       "barabasi_linear_73.edgelist                                         0.004883  \n",
       "barabasi_linear_52.edgelist                                         0.005010  \n",
       "...                                                                      ...  \n",
       "watts-strogatz_71.edgelist                                          0.020998  \n",
       "watts-strogatz_53.edgelist                                          0.021597  \n",
       "watts-strogatz_67.edgelist                                          0.021003  \n",
       "watts-strogatz_76.edgelist                                          0.021184  \n",
       "watts-strogatz_69.edgelist                                          0.021171  \n",
       "\n",
       "[700 rows x 9 columns]"
      ]
     },
     "execution_count": 7,
     "metadata": {},
     "output_type": "execute_result"
    }
   ],
   "source": [
    "measures_df = measures_df.rename_axis(['network'])\n",
    "measures_df"
   ]
  },
  {
   "cell_type": "markdown",
   "metadata": {},
   "source": [
    "Get only finite values"
   ]
  },
  {
   "cell_type": "code",
   "execution_count": 8,
   "metadata": {},
   "outputs": [],
   "source": [
    "measures_df = measures_df[measures_df['average_shortest_path_lenght'] != np.inf]"
   ]
  },
  {
   "cell_type": "markdown",
   "metadata": {},
   "source": [
    "### Simulations"
   ]
  },
  {
   "cell_type": "code",
   "execution_count": 9,
   "metadata": {},
   "outputs": [],
   "source": [
    "simulations_file_list = []\n",
    "for network in os.listdir(BASE_SIMULATION_DIR):\n",
    "    simulations_file_list.append(pd.read_csv(BASE_SIMULATION_DIR + network, index_col=0, header=[0,1]))\n",
    "\n",
    "simulations_df = pd.concat(simulations_file_list)"
   ]
  },
  {
   "cell_type": "code",
   "execution_count": 10,
   "metadata": {},
   "outputs": [
    {
     "data": {
      "text/html": [
       "<div>\n",
       "<style scoped>\n",
       "    .dataframe tbody tr th:only-of-type {\n",
       "        vertical-align: middle;\n",
       "    }\n",
       "\n",
       "    .dataframe tbody tr th {\n",
       "        vertical-align: top;\n",
       "    }\n",
       "\n",
       "    .dataframe thead th {\n",
       "        text-align: right;\n",
       "    }\n",
       "</style>\n",
       "<table border=\"1\" class=\"dataframe\">\n",
       "  <thead>\n",
       "    <tr style=\"text-align: right;\">\n",
       "      <th></th>\n",
       "      <th>initialization</th>\n",
       "      <th>consensus_time</th>\n",
       "      <th>opinion_change_frequency</th>\n",
       "    </tr>\n",
       "    <tr>\n",
       "      <th>network</th>\n",
       "      <th></th>\n",
       "      <th></th>\n",
       "      <th></th>\n",
       "    </tr>\n",
       "  </thead>\n",
       "  <tbody>\n",
       "    <tr>\n",
       "      <th>barabasi_linear_60.edgelist</th>\n",
       "      <td>random</td>\n",
       "      <td>415.80</td>\n",
       "      <td>260.92</td>\n",
       "    </tr>\n",
       "    <tr>\n",
       "      <th>barabasi_linear_91.edgelist</th>\n",
       "      <td>random</td>\n",
       "      <td>434.54</td>\n",
       "      <td>254.73</td>\n",
       "    </tr>\n",
       "    <tr>\n",
       "      <th>barabasi_linear_41.edgelist</th>\n",
       "      <td>random</td>\n",
       "      <td>410.80</td>\n",
       "      <td>232.71</td>\n",
       "    </tr>\n",
       "    <tr>\n",
       "      <th>barabasi_linear_73.edgelist</th>\n",
       "      <td>random</td>\n",
       "      <td>394.59</td>\n",
       "      <td>228.50</td>\n",
       "    </tr>\n",
       "    <tr>\n",
       "      <th>barabasi_linear_52.edgelist</th>\n",
       "      <td>random</td>\n",
       "      <td>404.90</td>\n",
       "      <td>243.94</td>\n",
       "    </tr>\n",
       "    <tr>\n",
       "      <th>...</th>\n",
       "      <td>...</td>\n",
       "      <td>...</td>\n",
       "      <td>...</td>\n",
       "    </tr>\n",
       "    <tr>\n",
       "      <th>watts-strogatz_71.edgelist</th>\n",
       "      <td>random</td>\n",
       "      <td>971.51</td>\n",
       "      <td>400.73</td>\n",
       "    </tr>\n",
       "    <tr>\n",
       "      <th>watts-strogatz_53.edgelist</th>\n",
       "      <td>random</td>\n",
       "      <td>947.35</td>\n",
       "      <td>387.56</td>\n",
       "    </tr>\n",
       "    <tr>\n",
       "      <th>watts-strogatz_67.edgelist</th>\n",
       "      <td>random</td>\n",
       "      <td>954.75</td>\n",
       "      <td>394.93</td>\n",
       "    </tr>\n",
       "    <tr>\n",
       "      <th>watts-strogatz_76.edgelist</th>\n",
       "      <td>random</td>\n",
       "      <td>960.45</td>\n",
       "      <td>388.78</td>\n",
       "    </tr>\n",
       "    <tr>\n",
       "      <th>watts-strogatz_69.edgelist</th>\n",
       "      <td>random</td>\n",
       "      <td>975.00</td>\n",
       "      <td>406.14</td>\n",
       "    </tr>\n",
       "  </tbody>\n",
       "</table>\n",
       "<p>700 rows × 3 columns</p>\n",
       "</div>"
      ],
      "text/plain": [
       "                            initialization  consensus_time  \\\n",
       "network                                                      \n",
       "barabasi_linear_60.edgelist         random          415.80   \n",
       "barabasi_linear_91.edgelist         random          434.54   \n",
       "barabasi_linear_41.edgelist         random          410.80   \n",
       "barabasi_linear_73.edgelist         random          394.59   \n",
       "barabasi_linear_52.edgelist         random          404.90   \n",
       "...                                    ...             ...   \n",
       "watts-strogatz_71.edgelist          random          971.51   \n",
       "watts-strogatz_53.edgelist          random          947.35   \n",
       "watts-strogatz_67.edgelist          random          954.75   \n",
       "watts-strogatz_76.edgelist          random          960.45   \n",
       "watts-strogatz_69.edgelist          random          975.00   \n",
       "\n",
       "                             opinion_change_frequency  \n",
       "network                                                \n",
       "barabasi_linear_60.edgelist                    260.92  \n",
       "barabasi_linear_91.edgelist                    254.73  \n",
       "barabasi_linear_41.edgelist                    232.71  \n",
       "barabasi_linear_73.edgelist                    228.50  \n",
       "barabasi_linear_52.edgelist                    243.94  \n",
       "...                                               ...  \n",
       "watts-strogatz_71.edgelist                     400.73  \n",
       "watts-strogatz_53.edgelist                     387.56  \n",
       "watts-strogatz_67.edgelist                     394.93  \n",
       "watts-strogatz_76.edgelist                     388.78  \n",
       "watts-strogatz_69.edgelist                     406.14  \n",
       "\n",
       "[700 rows x 3 columns]"
      ]
     },
     "execution_count": 10,
     "metadata": {},
     "output_type": "execute_result"
    }
   ],
   "source": [
    "simulations_df = simulations_df.stack(level=0, future_stack=True).rename_axis(['network','initialization']).reset_index(1)\n",
    "simulations_df"
   ]
  },
  {
   "cell_type": "markdown",
   "metadata": {},
   "source": [
    "### Merging and creating the dataset"
   ]
  },
  {
   "cell_type": "code",
   "execution_count": 11,
   "metadata": {},
   "outputs": [],
   "source": [
    "dataset = measures_df.merge(simulations_df, on='network', how='right')"
   ]
  },
  {
   "cell_type": "markdown",
   "metadata": {},
   "source": [
    "We are doing some scaling to visualize better the results"
   ]
  },
  {
   "cell_type": "code",
   "execution_count": 12,
   "metadata": {},
   "outputs": [],
   "source": [
    "from sklearn.preprocessing import MinMaxScaler\n",
    "scaler = MinMaxScaler()\n",
    "# dataset[FEATURES] = scaler.fit_transform(dataset[FEATURES])"
   ]
  },
  {
   "cell_type": "markdown",
   "metadata": {},
   "source": [
    "Visualizing the created dataset"
   ]
  },
  {
   "cell_type": "code",
   "execution_count": 145,
   "metadata": {},
   "outputs": [
    {
     "data": {
      "text/html": [
       "<div>\n",
       "<style scoped>\n",
       "    .dataframe tbody tr th:only-of-type {\n",
       "        vertical-align: middle;\n",
       "    }\n",
       "\n",
       "    .dataframe tbody tr th {\n",
       "        vertical-align: top;\n",
       "    }\n",
       "\n",
       "    .dataframe thead th {\n",
       "        text-align: right;\n",
       "    }\n",
       "</style>\n",
       "<table border=\"1\" class=\"dataframe\">\n",
       "  <thead>\n",
       "    <tr style=\"text-align: right;\">\n",
       "      <th></th>\n",
       "      <th>clustering</th>\n",
       "      <th>closeness</th>\n",
       "      <th>betweenness</th>\n",
       "      <th>average_shortest_path_lenght</th>\n",
       "      <th>eigenvector</th>\n",
       "      <th>assortativity</th>\n",
       "      <th>information_centrality</th>\n",
       "      <th>approximate_current_flow_betweenness_centrality</th>\n",
       "      <th>consensus_time</th>\n",
       "      <th>opinion_change_frequency</th>\n",
       "      <th>groups</th>\n",
       "    </tr>\n",
       "  </thead>\n",
       "  <tbody>\n",
       "    <tr>\n",
       "      <th>count</th>\n",
       "      <td>658.000000</td>\n",
       "      <td>658.000000</td>\n",
       "      <td>658.000000</td>\n",
       "      <td>658.000000</td>\n",
       "      <td>658.000000</td>\n",
       "      <td>658.000000</td>\n",
       "      <td>658.000000</td>\n",
       "      <td>658.000000</td>\n",
       "      <td>700.000000</td>\n",
       "      <td>700.000000</td>\n",
       "      <td>700.000000</td>\n",
       "    </tr>\n",
       "    <tr>\n",
       "      <th>mean</th>\n",
       "      <td>0.124723</td>\n",
       "      <td>0.306941</td>\n",
       "      <td>1445.612743</td>\n",
       "      <td>3.890225</td>\n",
       "      <td>0.199581</td>\n",
       "      <td>-0.027939</td>\n",
       "      <td>0.003352</td>\n",
       "      <td>0.007609</td>\n",
       "      <td>511.079714</td>\n",
       "      <td>281.464700</td>\n",
       "      <td>3.071429</td>\n",
       "    </tr>\n",
       "    <tr>\n",
       "      <th>std</th>\n",
       "      <td>0.221348</td>\n",
       "      <td>0.094263</td>\n",
       "      <td>1075.834041</td>\n",
       "      <td>2.151668</td>\n",
       "      <td>0.175515</td>\n",
       "      <td>0.152078</td>\n",
       "      <td>0.000871</td>\n",
       "      <td>0.006254</td>\n",
       "      <td>265.750381</td>\n",
       "      <td>53.965533</td>\n",
       "      <td>2.113526</td>\n",
       "    </tr>\n",
       "    <tr>\n",
       "      <th>min</th>\n",
       "      <td>0.008343</td>\n",
       "      <td>0.096122</td>\n",
       "      <td>548.311000</td>\n",
       "      <td>2.095622</td>\n",
       "      <td>0.029795</td>\n",
       "      <td>-0.394020</td>\n",
       "      <td>0.001307</td>\n",
       "      <td>0.003230</td>\n",
       "      <td>49.770000</td>\n",
       "      <td>205.960000</td>\n",
       "      <td>0.000000</td>\n",
       "    </tr>\n",
       "    <tr>\n",
       "      <th>25%</th>\n",
       "      <td>0.023910</td>\n",
       "      <td>0.304567</td>\n",
       "      <td>1007.193250</td>\n",
       "      <td>3.013387</td>\n",
       "      <td>0.061138</td>\n",
       "      <td>-0.078335</td>\n",
       "      <td>0.002967</td>\n",
       "      <td>0.005002</td>\n",
       "      <td>337.582500</td>\n",
       "      <td>245.880000</td>\n",
       "      <td>1.000000</td>\n",
       "    </tr>\n",
       "    <tr>\n",
       "      <th>50%</th>\n",
       "      <td>0.027664</td>\n",
       "      <td>0.314519</td>\n",
       "      <td>1098.013000</td>\n",
       "      <td>3.195026</td>\n",
       "      <td>0.093410</td>\n",
       "      <td>-0.012530</td>\n",
       "      <td>0.003628</td>\n",
       "      <td>0.005270</td>\n",
       "      <td>488.170000</td>\n",
       "      <td>261.440000</td>\n",
       "      <td>3.000000</td>\n",
       "    </tr>\n",
       "    <tr>\n",
       "      <th>75%</th>\n",
       "      <td>0.067528</td>\n",
       "      <td>0.333580</td>\n",
       "      <td>1144.626500</td>\n",
       "      <td>3.288253</td>\n",
       "      <td>0.381908</td>\n",
       "      <td>0.027415</td>\n",
       "      <td>0.004044</td>\n",
       "      <td>0.005572</td>\n",
       "      <td>720.637500</td>\n",
       "      <td>288.292500</td>\n",
       "      <td>5.000000</td>\n",
       "    </tr>\n",
       "    <tr>\n",
       "      <th>max</th>\n",
       "      <td>0.652846</td>\n",
       "      <td>0.478556</td>\n",
       "      <td>4797.811000</td>\n",
       "      <td>10.594622</td>\n",
       "      <td>0.621034</td>\n",
       "      <td>0.204217</td>\n",
       "      <td>0.004293</td>\n",
       "      <td>0.027219</td>\n",
       "      <td>993.630000</td>\n",
       "      <td>415.060000</td>\n",
       "      <td>7.000000</td>\n",
       "    </tr>\n",
       "  </tbody>\n",
       "</table>\n",
       "</div>"
      ],
      "text/plain": [
       "       clustering   closeness  betweenness  average_shortest_path_lenght  \\\n",
       "count  658.000000  658.000000   658.000000                    658.000000   \n",
       "mean     0.124723    0.306941  1445.612743                      3.890225   \n",
       "std      0.221348    0.094263  1075.834041                      2.151668   \n",
       "min      0.008343    0.096122   548.311000                      2.095622   \n",
       "25%      0.023910    0.304567  1007.193250                      3.013387   \n",
       "50%      0.027664    0.314519  1098.013000                      3.195026   \n",
       "75%      0.067528    0.333580  1144.626500                      3.288253   \n",
       "max      0.652846    0.478556  4797.811000                     10.594622   \n",
       "\n",
       "       eigenvector  assortativity  information_centrality  \\\n",
       "count   658.000000     658.000000              658.000000   \n",
       "mean      0.199581      -0.027939                0.003352   \n",
       "std       0.175515       0.152078                0.000871   \n",
       "min       0.029795      -0.394020                0.001307   \n",
       "25%       0.061138      -0.078335                0.002967   \n",
       "50%       0.093410      -0.012530                0.003628   \n",
       "75%       0.381908       0.027415                0.004044   \n",
       "max       0.621034       0.204217                0.004293   \n",
       "\n",
       "       approximate_current_flow_betweenness_centrality  consensus_time  \\\n",
       "count                                       658.000000      700.000000   \n",
       "mean                                          0.007609      511.079714   \n",
       "std                                           0.006254      265.750381   \n",
       "min                                           0.003230       49.770000   \n",
       "25%                                           0.005002      337.582500   \n",
       "50%                                           0.005270      488.170000   \n",
       "75%                                           0.005572      720.637500   \n",
       "max                                           0.027219      993.630000   \n",
       "\n",
       "       opinion_change_frequency      groups  \n",
       "count                700.000000  700.000000  \n",
       "mean                 281.464700    3.071429  \n",
       "std                   53.965533    2.113526  \n",
       "min                  205.960000    0.000000  \n",
       "25%                  245.880000    1.000000  \n",
       "50%                  261.440000    3.000000  \n",
       "75%                  288.292500    5.000000  \n",
       "max                  415.060000    7.000000  "
      ]
     },
     "execution_count": 145,
     "metadata": {},
     "output_type": "execute_result"
    }
   ],
   "source": [
    "dataset.describe()"
   ]
  },
  {
   "cell_type": "markdown",
   "metadata": {},
   "source": [
    "## Training and prediction"
   ]
  },
  {
   "cell_type": "code",
   "execution_count": 151,
   "metadata": {},
   "outputs": [],
   "source": [
    "from sklearn.metrics import r2_score\n",
    "from sklearn.model_selection import train_test_split, KFold, GridSearchCV, GroupKFold, StratifiedGroupKFold\n",
    "from sklearn.tree import DecisionTreeRegressor\n",
    "from sklearn.ensemble import RandomForestRegressor\n",
    "from sklearn.base import clone\n",
    "from sklearn.preprocessing import LabelEncoder\n",
    "import optuna"
   ]
  },
  {
   "cell_type": "markdown",
   "metadata": {},
   "source": [
    "## Opinion Change Frequency"
   ]
  },
  {
   "cell_type": "code",
   "execution_count": 32,
   "metadata": {},
   "outputs": [],
   "source": [
    "dataset['groups'] = LabelEncoder().fit_transform(dataset['type'])"
   ]
  },
  {
   "cell_type": "code",
   "execution_count": 36,
   "metadata": {},
   "outputs": [],
   "source": [
    "X = dataset[FEATURES]\n",
    "y = dataset[F]"
   ]
  },
  {
   "cell_type": "code",
   "execution_count": 37,
   "metadata": {},
   "outputs": [],
   "source": [
    "X_train, X_test, y_train, y_test = train_test_split(\n",
    "    X, y, test_size=0.2, random_state=0\n",
    ")"
   ]
  },
  {
   "cell_type": "code",
   "execution_count": 38,
   "metadata": {},
   "outputs": [],
   "source": [
    "model = RandomForestRegressor()"
   ]
  },
  {
   "cell_type": "markdown",
   "metadata": {},
   "source": [
    "### Cross Validation"
   ]
  },
  {
   "cell_type": "code",
   "execution_count": null,
   "metadata": {},
   "outputs": [],
   "source": [
    "outer_cross_validation = GroupKFold(n_splits=5)\n",
    "\n",
    "splits = outer_cross_validation.split(X, y=y, groups=np.array(dataset.loc[X.index, 'groups']))\n",
    "r2_score_list = []\n",
    "\n",
    "for train_index, val_index in tqdm(splits):\n",
    "    # Divide dataset de acordo com os splits da validação cruzada\n",
    "    _X_train, _X_val = X.iloc[train_index], X.iloc[val_index]\n",
    "    _y_train, _y_val = y.iloc[train_index], y.iloc[val_index]\n",
    "    \n",
    "    # Implementa a Inner CV\n",
    "    inner_cross_validation = KFold(n_splits=3, shuffle=True, random_state=0)\n",
    "    # Define o modelo\n",
    "    model = RandomForestRegressor(random_state=1)\n",
    "    # Define o espaço de busca\n",
    "    space = {\n",
    "        # 'max_depth': [10, 20, 30, 40, 50],\n",
    "        'max_features': [2, 3, 4],\n",
    "        # 'min_samples_leaf': [1, 2, 4],\n",
    "        # 'min_samples_split': [2, 5, 10],\n",
    "        'n_estimators': [300, 400, 1000],\n",
    "    }\n",
    "\n",
    "    # Define a busca\n",
    "    search = GridSearchCV(model, space, scoring='r2', cv=inner_cross_validation, refit=True)\n",
    "    # Executa\n",
    "    result = search.fit(_X_train, _y_train)\n",
    "    # Pega o melhor estimador\n",
    "    best_model = result.best_estimator_\n",
    "\n",
    "    y_val_pred = best_model.predict(_X_val)\n",
    "    score = r2_score(_y_val, y_val_pred)\n",
    "    r2_score_list.append(score)\n",
    "\n",
    "    print('--> R2=%.3f, Inner Estimation=%.3f, Param=%s' % (score, result.best_score_, result.best_params_))\n",
    "\n",
    "print(f'Mean R2 Score: {np.mean(r2_score_list)} +- {np.std(r2_score_list)}')"
   ]
  },
  {
   "cell_type": "markdown",
   "metadata": {},
   "source": [
    "### Nested Cross Validation"
   ]
  },
  {
   "cell_type": "code",
   "execution_count": 137,
   "metadata": {},
   "outputs": [],
   "source": [
    "class Objective:\n",
    "    def __init__(self, X, y, cross_validation):\n",
    "        self.X = X\n",
    "        self.y = y\n",
    "        self.cross_validation = cross_validation\n",
    "        \n",
    "    def __call__(self, trial):\n",
    "        parameters = {\n",
    "            'random_state': 1,\n",
    "            'max_depth': trial.suggest_int('max_depth', 2, 50),\n",
    "            'max_features': trial.suggest_int('max_features', 2, 4),\n",
    "            'min_samples_leaf': trial.suggest_int('min_samples_leaf', 1, 4),\n",
    "            'min_samples_split': trial.suggest_int('min_samples_split', 2, 10, step=2),\n",
    "            'n_estimators': trial.suggest_int('n_estimators', 100, 2000),\n",
    "        }\n",
    "\n",
    "        rf_regressor = RandomForestRegressor(**parameters)\n",
    "        score_list = []\n",
    "        splits = self.cross_validation.split(\n",
    "            self.X, \n",
    "            y=self.y\n",
    "        )\n",
    "\n",
    "        for train_index, val_index in splits:\n",
    "            _X_train, _X_val = self.X.iloc[train_index], self.X.iloc[val_index]\n",
    "            _y_train, _y_val = self.y.iloc[train_index], self.y.iloc[val_index]\n",
    "\n",
    "            model = clone(rf_regressor)\n",
    "\n",
    "            model.fit(_X_train, _y_train)\n",
    "            y_val_pred = model.predict(_X_val)\n",
    "            score = r2_score(_y_val, y_val_pred)\n",
    "            score_list.append(score)\n",
    "\n",
    "        return np.mean(score_list)"
   ]
  },
  {
   "cell_type": "code",
   "execution_count": 160,
   "metadata": {},
   "outputs": [
    {
     "name": "stderr",
     "output_type": "stream",
     "text": [
      "/home/vitor/Documents/SznajdNetworks/venv/lib/python3.12/site-packages/sklearn/model_selection/_split.py:848: UserWarning: The groups parameter is ignored by StratifiedKFold\n",
      "  warnings.warn(\n",
      "0it [00:00, ?it/s][I 2024-07-19 15:35:47,630] A new study created in memory with name: no-name-81c8e707-f461-4e1d-969f-02791a3771ec\n",
      "[I 2024-07-19 15:36:25,985] Trial 0 finished with value: 0.861434329298884 and parameters: {'max_depth': 5, 'max_features': 4, 'min_samples_leaf': 1, 'min_samples_split': 8, 'n_estimators': 1732}. Best is trial 0 with value: 0.861434329298884.\n",
      "[I 2024-07-19 15:36:41,512] Trial 1 finished with value: 0.8632789340239052 and parameters: {'max_depth': 5, 'max_features': 2, 'min_samples_leaf': 1, 'min_samples_split': 8, 'n_estimators': 777}. Best is trial 1 with value: 0.8632789340239052.\n",
      "[I 2024-07-19 15:36:56,610] Trial 2 finished with value: 0.8547512402630731 and parameters: {'max_depth': 20, 'max_features': 3, 'min_samples_leaf': 3, 'min_samples_split': 4, 'n_estimators': 665}. Best is trial 1 with value: 0.8632789340239052.\n",
      "[I 2024-07-19 15:37:18,031] Trial 3 finished with value: 0.8461031261452201 and parameters: {'max_depth': 20, 'max_features': 2, 'min_samples_leaf': 1, 'min_samples_split': 6, 'n_estimators': 1041}. Best is trial 1 with value: 0.8632789340239052.\n",
      "[I 2024-07-19 15:37:36,754] Trial 4 finished with value: 0.8550543139066533 and parameters: {'max_depth': 9, 'max_features': 3, 'min_samples_leaf': 3, 'min_samples_split': 2, 'n_estimators': 883}. Best is trial 1 with value: 0.8632789340239052.\n",
      "[I 2024-07-19 15:38:17,439] Trial 5 finished with value: 0.8509277488428839 and parameters: {'max_depth': 7, 'max_features': 3, 'min_samples_leaf': 2, 'min_samples_split': 2, 'n_estimators': 1859}. Best is trial 1 with value: 0.8632789340239052.\n",
      "[I 2024-07-19 15:38:55,679] Trial 6 finished with value: 0.8607420702911321 and parameters: {'max_depth': 19, 'max_features': 3, 'min_samples_leaf': 3, 'min_samples_split': 10, 'n_estimators': 1792}. Best is trial 1 with value: 0.8632789340239052.\n",
      "[I 2024-07-19 15:39:21,346] Trial 7 finished with value: 0.8582423351511274 and parameters: {'max_depth': 11, 'max_features': 3, 'min_samples_leaf': 2, 'min_samples_split': 10, 'n_estimators': 1200}. Best is trial 1 with value: 0.8632789340239052.\n",
      "[I 2024-07-19 15:40:04,599] Trial 8 finished with value: 0.8607760167879391 and parameters: {'max_depth': 10, 'max_features': 3, 'min_samples_leaf': 3, 'min_samples_split': 10, 'n_estimators': 1925}. Best is trial 1 with value: 0.8632789340239052.\n",
      "[I 2024-07-19 15:40:18,277] Trial 9 finished with value: 0.8735109730453807 and parameters: {'max_depth': 3, 'max_features': 4, 'min_samples_leaf': 2, 'min_samples_split': 10, 'n_estimators': 602}. Best is trial 9 with value: 0.8735109730453807.\n",
      "[I 2024-07-19 15:40:30,747] Trial 10 finished with value: 0.8624002052662751 and parameters: {'max_depth': 2, 'max_features': 4, 'min_samples_leaf': 4, 'min_samples_split': 6, 'n_estimators': 510}. Best is trial 9 with value: 0.8735109730453807.\n",
      "[I 2024-07-19 15:40:51,838] Trial 11 finished with value: 0.8732735775043228 and parameters: {'max_depth': 3, 'max_features': 2, 'min_samples_leaf': 1, 'min_samples_split': 8, 'n_estimators': 786}. Best is trial 9 with value: 0.8735109730453807.\n",
      "[I 2024-07-19 15:41:21,357] Trial 12 finished with value: 0.8627716941503571 and parameters: {'max_depth': 2, 'max_features': 4, 'min_samples_leaf': 2, 'min_samples_split': 8, 'n_estimators': 1404}. Best is trial 9 with value: 0.8735109730453807.\n",
      "[I 2024-07-19 15:41:34,920] Trial 13 finished with value: 0.852156151831237 and parameters: {'max_depth': 14, 'max_features': 2, 'min_samples_leaf': 1, 'min_samples_split': 8, 'n_estimators': 592}. Best is trial 9 with value: 0.8735109730453807.\n",
      "[I 2024-07-19 15:41:57,797] Trial 14 finished with value: 0.8490607737730729 and parameters: {'max_depth': 14, 'max_features': 4, 'min_samples_leaf': 2, 'min_samples_split': 6, 'n_estimators': 930}. Best is trial 9 with value: 0.8735109730453807.\n",
      "[I 2024-07-19 15:42:26,099] Trial 15 finished with value: 0.8652796733444215 and parameters: {'max_depth': 5, 'max_features': 2, 'min_samples_leaf': 1, 'min_samples_split': 10, 'n_estimators': 1380}. Best is trial 9 with value: 0.8735109730453807.\n",
      "[I 2024-07-19 15:42:43,902] Trial 16 finished with value: 0.8562895813641956 and parameters: {'max_depth': 2, 'max_features': 2, 'min_samples_leaf': 2, 'min_samples_split': 8, 'n_estimators': 718}. Best is trial 9 with value: 0.8735109730453807.\n",
      "[I 2024-07-19 15:43:10,301] Trial 17 finished with value: 0.8617701143940482 and parameters: {'max_depth': 7, 'max_features': 4, 'min_samples_leaf': 4, 'min_samples_split': 10, 'n_estimators': 1114}. Best is trial 9 with value: 0.8735109730453807.\n",
      "[I 2024-07-19 15:43:34,172] Trial 18 finished with value: 0.8341129167902489 and parameters: {'max_depth': 14, 'max_features': 4, 'min_samples_leaf': 1, 'min_samples_split': 4, 'n_estimators': 948}. Best is trial 9 with value: 0.8735109730453807.\n",
      "[I 2024-07-19 15:43:43,583] Trial 19 finished with value: 0.8700406990403889 and parameters: {'max_depth': 4, 'max_features': 2, 'min_samples_leaf': 2, 'min_samples_split': 6, 'n_estimators': 507}. Best is trial 9 with value: 0.8735109730453807.\n",
      "[I 2024-07-19 15:44:01,385] Trial 20 finished with value: 0.8536633014439197 and parameters: {'max_depth': 8, 'max_features': 3, 'min_samples_leaf': 1, 'min_samples_split': 8, 'n_estimators': 821}. Best is trial 9 with value: 0.8735109730453807.\n",
      "[I 2024-07-19 15:44:11,704] Trial 21 finished with value: 0.8701202132765042 and parameters: {'max_depth': 4, 'max_features': 2, 'min_samples_leaf': 2, 'min_samples_split': 6, 'n_estimators': 516}. Best is trial 9 with value: 0.8735109730453807.\n",
      "[I 2024-07-19 15:44:24,756] Trial 22 finished with value: 0.8700077858533651 and parameters: {'max_depth': 4, 'max_features': 2, 'min_samples_leaf': 2, 'min_samples_split': 4, 'n_estimators': 636}. Best is trial 9 with value: 0.8735109730453807.\n",
      "[I 2024-07-19 15:44:37,403] Trial 23 finished with value: 0.8734304905131957 and parameters: {'max_depth': 3, 'max_features': 2, 'min_samples_leaf': 2, 'min_samples_split': 6, 'n_estimators': 714}. Best is trial 9 with value: 0.8735109730453807.\n",
      "[I 2024-07-19 15:44:51,404] Trial 24 finished with value: 0.8620744250884609 and parameters: {'max_depth': 6, 'max_features': 2, 'min_samples_leaf': 3, 'min_samples_split': 8, 'n_estimators': 734}. Best is trial 9 with value: 0.8735109730453807.\n",
      "[I 2024-07-19 15:45:11,826] Trial 25 finished with value: 0.8733690720108621 and parameters: {'max_depth': 3, 'max_features': 3, 'min_samples_leaf': 2, 'min_samples_split': 10, 'n_estimators': 1049}. Best is trial 9 with value: 0.8735109730453807.\n",
      "[I 2024-07-19 15:45:42,521] Trial 26 finished with value: 0.8581815194456915 and parameters: {'max_depth': 12, 'max_features': 4, 'min_samples_leaf': 2, 'min_samples_split': 10, 'n_estimators': 1373}. Best is trial 9 with value: 0.8735109730453807.\n",
      "[I 2024-07-19 15:46:15,903] Trial 27 finished with value: 0.8551405953633386 and parameters: {'max_depth': 17, 'max_features': 3, 'min_samples_leaf': 3, 'min_samples_split': 4, 'n_estimators': 1619}. Best is trial 9 with value: 0.8735109730453807.\n",
      "[I 2024-07-19 15:46:35,390] Trial 28 finished with value: 0.8597841690084531 and parameters: {'max_depth': 7, 'max_features': 3, 'min_samples_leaf': 2, 'min_samples_split': 10, 'n_estimators': 1038}. Best is trial 9 with value: 0.8735109730453807.\n",
      "[I 2024-07-19 15:46:56,321] Trial 29 finished with value: 0.8733511146227908 and parameters: {'max_depth': 3, 'max_features': 4, 'min_samples_leaf': 2, 'min_samples_split': 8, 'n_estimators': 1178}. Best is trial 9 with value: 0.8735109730453807.\n",
      "1it [11:11, 671.12s/it][I 2024-07-19 15:46:58,741] A new study created in memory with name: no-name-2d4984cf-46b4-4ae4-bcec-9eeb5fdf6acc\n"
     ]
    },
    {
     "name": "stdout",
     "output_type": "stream",
     "text": [
      "--> R2=0.875, Inner Estimation=0.874, Param={'max_depth': 3, 'max_features': 4, 'min_samples_leaf': 2, 'min_samples_split': 10, 'n_estimators': 602}\n"
     ]
    },
    {
     "name": "stderr",
     "output_type": "stream",
     "text": [
      "[I 2024-07-19 15:47:24,672] Trial 0 finished with value: 0.8528494672958569 and parameters: {'max_depth': 2, 'max_features': 3, 'min_samples_leaf': 2, 'min_samples_split': 2, 'n_estimators': 1549}. Best is trial 0 with value: 0.8528494672958569.\n",
      "[I 2024-07-19 15:47:40,730] Trial 1 finished with value: 0.8657036390562551 and parameters: {'max_depth': 15, 'max_features': 3, 'min_samples_leaf': 4, 'min_samples_split': 10, 'n_estimators': 857}. Best is trial 1 with value: 0.8657036390562551.\n",
      "[I 2024-07-19 15:47:58,694] Trial 2 finished with value: 0.8622668234781458 and parameters: {'max_depth': 16, 'max_features': 3, 'min_samples_leaf': 2, 'min_samples_split': 10, 'n_estimators': 930}. Best is trial 1 with value: 0.8657036390562551.\n",
      "[I 2024-07-19 15:48:28,286] Trial 3 finished with value: 0.8656094211119072 and parameters: {'max_depth': 17, 'max_features': 2, 'min_samples_leaf': 4, 'min_samples_split': 4, 'n_estimators': 1632}. Best is trial 1 with value: 0.8657036390562551.\n",
      "[I 2024-07-19 15:49:03,489] Trial 4 finished with value: 0.8662333483272231 and parameters: {'max_depth': 16, 'max_features': 2, 'min_samples_leaf': 4, 'min_samples_split': 10, 'n_estimators': 1976}. Best is trial 4 with value: 0.8662333483272231.\n",
      "[I 2024-07-19 15:49:26,242] Trial 5 finished with value: 0.8644755222843518 and parameters: {'max_depth': 6, 'max_features': 4, 'min_samples_leaf': 3, 'min_samples_split': 8, 'n_estimators': 1169}. Best is trial 4 with value: 0.8662333483272231.\n",
      "[I 2024-07-19 15:49:59,865] Trial 6 finished with value: 0.8654459115765147 and parameters: {'max_depth': 11, 'max_features': 2, 'min_samples_leaf': 4, 'min_samples_split': 2, 'n_estimators': 1863}. Best is trial 4 with value: 0.8662333483272231.\n",
      "[I 2024-07-19 15:50:22,352] Trial 7 finished with value: 0.8608444894650198 and parameters: {'max_depth': 20, 'max_features': 2, 'min_samples_leaf': 1, 'min_samples_split': 10, 'n_estimators': 1201}. Best is trial 4 with value: 0.8662333483272231.\n",
      "[I 2024-07-19 15:51:00,414] Trial 8 finished with value: 0.8491317278718229 and parameters: {'max_depth': 18, 'max_features': 4, 'min_samples_leaf': 2, 'min_samples_split': 2, 'n_estimators': 1757}. Best is trial 4 with value: 0.8662333483272231.\n",
      "[I 2024-07-19 15:51:12,882] Trial 9 finished with value: 0.8572700470334367 and parameters: {'max_depth': 10, 'max_features': 2, 'min_samples_leaf': 1, 'min_samples_split': 8, 'n_estimators': 688}. Best is trial 4 with value: 0.8662333483272231.\n",
      "[I 2024-07-19 15:51:51,305] Trial 10 finished with value: 0.8604819674698522 and parameters: {'max_depth': 14, 'max_features': 3, 'min_samples_leaf': 3, 'min_samples_split': 6, 'n_estimators': 1990}. Best is trial 4 with value: 0.8662333483272231.\n",
      "[I 2024-07-19 15:52:01,981] Trial 11 finished with value: 0.8655465537159509 and parameters: {'max_depth': 14, 'max_features': 3, 'min_samples_leaf': 4, 'min_samples_split': 10, 'n_estimators': 563}. Best is trial 4 with value: 0.8662333483272231.\n",
      "[I 2024-07-19 15:52:20,041] Trial 12 finished with value: 0.8623067219771702 and parameters: {'max_depth': 14, 'max_features': 4, 'min_samples_leaf': 3, 'min_samples_split': 8, 'n_estimators': 890}. Best is trial 4 with value: 0.8662333483272231.\n",
      "[I 2024-07-19 15:52:44,934] Trial 13 finished with value: 0.8654374893161447 and parameters: {'max_depth': 9, 'max_features': 2, 'min_samples_leaf': 4, 'min_samples_split': 6, 'n_estimators': 1393}. Best is trial 4 with value: 0.8662333483272231.\n",
      "[I 2024-07-19 15:53:04,251] Trial 14 finished with value: 0.8657064176877046 and parameters: {'max_depth': 20, 'max_features': 3, 'min_samples_leaf': 4, 'min_samples_split': 10, 'n_estimators': 1024}. Best is trial 4 with value: 0.8662333483272231.\n",
      "[I 2024-07-19 15:53:24,708] Trial 15 finished with value: 0.8625785213417355 and parameters: {'max_depth': 20, 'max_features': 3, 'min_samples_leaf': 3, 'min_samples_split': 8, 'n_estimators': 1070}. Best is trial 4 with value: 0.8662333483272231.\n",
      "[I 2024-07-19 15:53:53,590] Trial 16 finished with value: 0.8654846945554013 and parameters: {'max_depth': 18, 'max_features': 2, 'min_samples_leaf': 4, 'min_samples_split': 6, 'n_estimators': 1388}. Best is trial 4 with value: 0.8662333483272231.\n",
      "[I 2024-07-19 15:54:29,320] Trial 17 finished with value: 0.8638339243631551 and parameters: {'max_depth': 20, 'max_features': 4, 'min_samples_leaf': 3, 'min_samples_split': 10, 'n_estimators': 1375}. Best is trial 4 with value: 0.8662333483272231.\n",
      "[I 2024-07-19 15:54:52,587] Trial 18 finished with value: 0.8654524412030377 and parameters: {'max_depth': 12, 'max_features': 2, 'min_samples_leaf': 4, 'min_samples_split': 8, 'n_estimators': 1037}. Best is trial 4 with value: 0.8662333483272231.\n",
      "[I 2024-07-19 15:55:08,811] Trial 19 finished with value: 0.8604957284335472 and parameters: {'max_depth': 18, 'max_features': 3, 'min_samples_leaf': 3, 'min_samples_split': 4, 'n_estimators': 730}. Best is trial 4 with value: 0.8662333483272231.\n",
      "[I 2024-07-19 15:55:41,829] Trial 20 finished with value: 0.8660753203614557 and parameters: {'max_depth': 7, 'max_features': 3, 'min_samples_leaf': 4, 'min_samples_split': 10, 'n_estimators': 1557}. Best is trial 4 with value: 0.8662333483272231.\n",
      "[I 2024-07-19 15:56:18,005] Trial 21 finished with value: 0.8660842774004461 and parameters: {'max_depth': 7, 'max_features': 3, 'min_samples_leaf': 4, 'min_samples_split': 10, 'n_estimators': 1633}. Best is trial 4 with value: 0.8662333483272231.\n",
      "[I 2024-07-19 15:56:52,599] Trial 22 finished with value: 0.8664125691477274 and parameters: {'max_depth': 6, 'max_features': 3, 'min_samples_leaf': 4, 'min_samples_split': 10, 'n_estimators': 1649}. Best is trial 22 with value: 0.8664125691477274.\n",
      "[I 2024-07-19 15:57:32,676] Trial 23 finished with value: 0.8705469398410024 and parameters: {'max_depth': 3, 'max_features': 4, 'min_samples_leaf': 4, 'min_samples_split': 8, 'n_estimators': 1981}. Best is trial 23 with value: 0.8705469398410024.\n",
      "[I 2024-07-19 15:58:13,017] Trial 24 finished with value: 0.8540050314854282 and parameters: {'max_depth': 2, 'max_features': 4, 'min_samples_leaf': 3, 'min_samples_split': 8, 'n_estimators': 1991}. Best is trial 23 with value: 0.8705469398410024.\n",
      "[I 2024-07-19 15:58:50,691] Trial 25 finished with value: 0.8692003059605424 and parameters: {'max_depth': 4, 'max_features': 4, 'min_samples_leaf': 4, 'min_samples_split': 8, 'n_estimators': 1821}. Best is trial 23 with value: 0.8705469398410024.\n",
      "[I 2024-07-19 15:59:27,918] Trial 26 finished with value: 0.8686508191415172 and parameters: {'max_depth': 4, 'max_features': 4, 'min_samples_leaf': 3, 'min_samples_split': 8, 'n_estimators': 1780}. Best is trial 23 with value: 0.8705469398410024.\n",
      "[I 2024-07-19 16:00:08,807] Trial 27 finished with value: 0.8680755114361711 and parameters: {'max_depth': 4, 'max_features': 4, 'min_samples_leaf': 2, 'min_samples_split': 6, 'n_estimators': 1783}. Best is trial 23 with value: 0.8705469398410024.\n",
      "[I 2024-07-19 16:00:48,349] Trial 28 finished with value: 0.8686470910714332 and parameters: {'max_depth': 4, 'max_features': 4, 'min_samples_leaf': 3, 'min_samples_split': 8, 'n_estimators': 1846}. Best is trial 23 with value: 0.8705469398410024.\n",
      "[I 2024-07-19 16:01:26,376] Trial 29 finished with value: 0.8540695435866272 and parameters: {'max_depth': 2, 'max_features': 4, 'min_samples_leaf': 2, 'min_samples_split': 4, 'n_estimators': 1870}. Best is trial 23 with value: 0.8705469398410024.\n",
      "2it [25:47, 791.99s/it][I 2024-07-19 16:01:35,332] A new study created in memory with name: no-name-541b4b71-a6bc-471d-8a5d-988d4f01bf47\n"
     ]
    },
    {
     "name": "stdout",
     "output_type": "stream",
     "text": [
      "--> R2=0.886, Inner Estimation=0.871, Param={'max_depth': 3, 'max_features': 4, 'min_samples_leaf': 4, 'min_samples_split': 8, 'n_estimators': 1981}\n"
     ]
    },
    {
     "name": "stderr",
     "output_type": "stream",
     "text": [
      "[I 2024-07-19 16:01:57,170] Trial 0 finished with value: 0.8648340870526324 and parameters: {'max_depth': 6, 'max_features': 4, 'min_samples_leaf': 3, 'min_samples_split': 4, 'n_estimators': 786}. Best is trial 0 with value: 0.8648340870526324.\n",
      "[I 2024-07-19 16:02:13,051] Trial 1 finished with value: 0.8511391866663928 and parameters: {'max_depth': 17, 'max_features': 3, 'min_samples_leaf': 1, 'min_samples_split': 6, 'n_estimators': 683}. Best is trial 0 with value: 0.8648340870526324.\n",
      "[I 2024-07-19 16:02:37,995] Trial 2 finished with value: 0.8614584578672115 and parameters: {'max_depth': 18, 'max_features': 2, 'min_samples_leaf': 3, 'min_samples_split': 4, 'n_estimators': 1139}. Best is trial 0 with value: 0.8648340870526324.\n",
      "[I 2024-07-19 16:03:04,063] Trial 3 finished with value: 0.8643809998370973 and parameters: {'max_depth': 8, 'max_features': 4, 'min_samples_leaf': 4, 'min_samples_split': 2, 'n_estimators': 1119}. Best is trial 0 with value: 0.8648340870526324.\n",
      "[I 2024-07-19 16:03:34,943] Trial 4 finished with value: 0.8690902682210899 and parameters: {'max_depth': 5, 'max_features': 3, 'min_samples_leaf': 4, 'min_samples_split': 4, 'n_estimators': 1459}. Best is trial 4 with value: 0.8690902682210899.\n",
      "[I 2024-07-19 16:04:08,061] Trial 5 finished with value: 0.8638754461959455 and parameters: {'max_depth': 19, 'max_features': 4, 'min_samples_leaf': 4, 'min_samples_split': 2, 'n_estimators': 1432}. Best is trial 4 with value: 0.8690902682210899.\n",
      "[I 2024-07-19 16:04:42,850] Trial 6 finished with value: 0.864420460571614 and parameters: {'max_depth': 7, 'max_features': 4, 'min_samples_leaf': 3, 'min_samples_split': 10, 'n_estimators': 1448}. Best is trial 4 with value: 0.8690902682210899.\n",
      "[I 2024-07-19 16:05:33,136] Trial 7 finished with value: 0.8297252628810308 and parameters: {'max_depth': 20, 'max_features': 4, 'min_samples_leaf': 1, 'min_samples_split': 2, 'n_estimators': 1845}. Best is trial 4 with value: 0.8690902682210899.\n",
      "[I 2024-07-19 16:05:50,184] Trial 8 finished with value: 0.8699155516116971 and parameters: {'max_depth': 5, 'max_features': 2, 'min_samples_leaf': 3, 'min_samples_split': 6, 'n_estimators': 797}. Best is trial 8 with value: 0.8699155516116971.\n",
      "[I 2024-07-19 16:06:18,667] Trial 9 finished with value: 0.8760999102361477 and parameters: {'max_depth': 3, 'max_features': 4, 'min_samples_leaf': 3, 'min_samples_split': 4, 'n_estimators': 1332}. Best is trial 9 with value: 0.8760999102361477.\n",
      "[I 2024-07-19 16:06:57,628] Trial 10 finished with value: 0.8696219278124862 and parameters: {'max_depth': 2, 'max_features': 3, 'min_samples_leaf': 2, 'min_samples_split': 10, 'n_estimators': 1975}. Best is trial 9 with value: 0.8760999102361477.\n",
      "[I 2024-07-19 16:07:08,006] Trial 11 finished with value: 0.8619847620943346 and parameters: {'max_depth': 12, 'max_features': 2, 'min_samples_leaf': 2, 'min_samples_split': 8, 'n_estimators': 509}. Best is trial 9 with value: 0.8760999102361477.\n",
      "[I 2024-07-19 16:07:24,756] Trial 12 finished with value: 0.8640003003455871 and parameters: {'max_depth': 2, 'max_features': 2, 'min_samples_leaf': 3, 'min_samples_split': 6, 'n_estimators': 919}. Best is trial 9 with value: 0.8760999102361477.\n",
      "[I 2024-07-19 16:08:03,468] Trial 13 finished with value: 0.8573610556742285 and parameters: {'max_depth': 12, 'max_features': 3, 'min_samples_leaf': 2, 'min_samples_split': 6, 'n_estimators': 1652}. Best is trial 9 with value: 0.8760999102361477.\n",
      "[I 2024-07-19 16:08:23,318] Trial 14 finished with value: 0.8640809091427049 and parameters: {'max_depth': 9, 'max_features': 2, 'min_samples_leaf': 3, 'min_samples_split': 8, 'n_estimators': 944}. Best is trial 9 with value: 0.8760999102361477.\n",
      "[I 2024-07-19 16:08:54,558] Trial 15 finished with value: 0.8730094275172121 and parameters: {'max_depth': 4, 'max_features': 3, 'min_samples_leaf': 2, 'min_samples_split': 4, 'n_estimators': 1291}. Best is trial 9 with value: 0.8760999102361477.\n",
      "[I 2024-07-19 16:09:23,748] Trial 16 finished with value: 0.851608110398469 and parameters: {'max_depth': 15, 'max_features': 3, 'min_samples_leaf': 2, 'min_samples_split': 4, 'n_estimators': 1274}. Best is trial 9 with value: 0.8760999102361477.\n",
      "[I 2024-07-19 16:09:48,852] Trial 17 finished with value: 0.8770746282078523 and parameters: {'max_depth': 3, 'max_features': 3, 'min_samples_leaf': 1, 'min_samples_split': 4, 'n_estimators': 1284}. Best is trial 17 with value: 0.8770746282078523.\n",
      "[I 2024-07-19 16:10:29,989] Trial 18 finished with value: 0.8579256628243961 and parameters: {'max_depth': 10, 'max_features': 4, 'min_samples_leaf': 1, 'min_samples_split': 8, 'n_estimators': 1644}. Best is trial 17 with value: 0.8770746282078523.\n",
      "[I 2024-07-19 16:11:04,691] Trial 19 finished with value: 0.8769910681155668 and parameters: {'max_depth': 3, 'max_features': 3, 'min_samples_leaf': 1, 'min_samples_split': 2, 'n_estimators': 1601}. Best is trial 17 with value: 0.8770746282078523.\n",
      "[I 2024-07-19 16:11:44,042] Trial 20 finished with value: 0.8303440038971452 and parameters: {'max_depth': 14, 'max_features': 3, 'min_samples_leaf': 1, 'min_samples_split': 2, 'n_estimators': 1656}. Best is trial 17 with value: 0.8770746282078523.\n",
      "[I 2024-07-19 16:12:06,946] Trial 21 finished with value: 0.8770640775276639 and parameters: {'max_depth': 3, 'max_features': 3, 'min_samples_leaf': 1, 'min_samples_split': 2, 'n_estimators': 1130}. Best is trial 17 with value: 0.8770746282078523.\n",
      "[I 2024-07-19 16:12:29,706] Trial 22 finished with value: 0.8727740451121347 and parameters: {'max_depth': 4, 'max_features': 3, 'min_samples_leaf': 1, 'min_samples_split': 2, 'n_estimators': 1121}. Best is trial 17 with value: 0.8770746282078523.\n",
      "[I 2024-07-19 16:12:51,688] Trial 23 finished with value: 0.8553129810962574 and parameters: {'max_depth': 7, 'max_features': 3, 'min_samples_leaf': 1, 'min_samples_split': 2, 'n_estimators': 1009}. Best is trial 17 with value: 0.8770746282078523.\n",
      "[I 2024-07-19 16:13:21,661] Trial 24 finished with value: 0.8695285724718579 and parameters: {'max_depth': 2, 'max_features': 3, 'min_samples_leaf': 1, 'min_samples_split': 2, 'n_estimators': 1538}. Best is trial 17 with value: 0.8770746282078523.\n",
      "[I 2024-07-19 16:13:57,571] Trial 25 finished with value: 0.8730262598425786 and parameters: {'max_depth': 4, 'max_features': 3, 'min_samples_leaf': 1, 'min_samples_split': 4, 'n_estimators': 1786}. Best is trial 17 with value: 0.8770746282078523.\n",
      "[I 2024-07-19 16:14:23,100] Trial 26 finished with value: 0.8635368078160249 and parameters: {'max_depth': 6, 'max_features': 3, 'min_samples_leaf': 2, 'min_samples_split': 2, 'n_estimators': 1230}. Best is trial 17 with value: 0.8770746282078523.\n",
      "[I 2024-07-19 16:14:54,069] Trial 27 finished with value: 0.8775468098425705 and parameters: {'max_depth': 3, 'max_features': 2, 'min_samples_leaf': 1, 'min_samples_split': 4, 'n_estimators': 1549}. Best is trial 27 with value: 0.8775468098425705.\n",
      "[I 2024-07-19 16:15:22,106] Trial 28 finished with value: 0.8521567908599164 and parameters: {'max_depth': 8, 'max_features': 2, 'min_samples_leaf': 1, 'min_samples_split': 4, 'n_estimators': 1351}. Best is trial 27 with value: 0.8775468098425705.\n",
      "[I 2024-07-19 16:15:43,778] Trial 29 finished with value: 0.8649262565846915 and parameters: {'max_depth': 6, 'max_features': 2, 'min_samples_leaf': 2, 'min_samples_split': 4, 'n_estimators': 1046}. Best is trial 27 with value: 0.8775468098425705.\n",
      "3it [40:02, 820.63s/it][I 2024-07-19 16:15:50,040] A new study created in memory with name: no-name-dcabb59b-d734-4faa-b364-d055fc02217e\n"
     ]
    },
    {
     "name": "stdout",
     "output_type": "stream",
     "text": [
      "--> R2=0.859, Inner Estimation=0.878, Param={'max_depth': 3, 'max_features': 2, 'min_samples_leaf': 1, 'min_samples_split': 4, 'n_estimators': 1549}\n"
     ]
    },
    {
     "name": "stderr",
     "output_type": "stream",
     "text": [
      "[I 2024-07-19 16:16:21,086] Trial 0 finished with value: 0.8536457518178082 and parameters: {'max_depth': 10, 'max_features': 2, 'min_samples_leaf': 4, 'min_samples_split': 2, 'n_estimators': 1536}. Best is trial 0 with value: 0.8536457518178082.\n",
      "[I 2024-07-19 16:16:54,956] Trial 1 finished with value: 0.8529130527929916 and parameters: {'max_depth': 18, 'max_features': 4, 'min_samples_leaf': 4, 'min_samples_split': 2, 'n_estimators': 1584}. Best is trial 0 with value: 0.8536457518178082.\n",
      "[I 2024-07-19 16:17:14,807] Trial 2 finished with value: 0.8519880358243335 and parameters: {'max_depth': 8, 'max_features': 3, 'min_samples_leaf': 3, 'min_samples_split': 10, 'n_estimators': 1037}. Best is trial 0 with value: 0.8536457518178082.\n",
      "[I 2024-07-19 16:17:26,605] Trial 3 finished with value: 0.8519260835904534 and parameters: {'max_depth': 8, 'max_features': 2, 'min_samples_leaf': 3, 'min_samples_split': 8, 'n_estimators': 660}. Best is trial 0 with value: 0.8536457518178082.\n",
      "[I 2024-07-19 16:17:59,261] Trial 4 finished with value: 0.8517240621217697 and parameters: {'max_depth': 15, 'max_features': 2, 'min_samples_leaf': 3, 'min_samples_split': 4, 'n_estimators': 1805}. Best is trial 0 with value: 0.8536457518178082.\n",
      "[I 2024-07-19 16:18:25,390] Trial 5 finished with value: 0.8526928841074124 and parameters: {'max_depth': 18, 'max_features': 4, 'min_samples_leaf': 4, 'min_samples_split': 8, 'n_estimators': 1275}. Best is trial 0 with value: 0.8536457518178082.\n",
      "[I 2024-07-19 16:18:44,645] Trial 6 finished with value: 0.8467940741637623 and parameters: {'max_depth': 11, 'max_features': 4, 'min_samples_leaf': 1, 'min_samples_split': 8, 'n_estimators': 898}. Best is trial 0 with value: 0.8536457518178082.\n",
      "[I 2024-07-19 16:19:21,754] Trial 7 finished with value: 0.866519309839477 and parameters: {'max_depth': 4, 'max_features': 4, 'min_samples_leaf': 2, 'min_samples_split': 2, 'n_estimators': 1995}. Best is trial 7 with value: 0.866519309839477.\n",
      "[I 2024-07-19 16:19:42,021] Trial 8 finished with value: 0.8534038320889392 and parameters: {'max_depth': 8, 'max_features': 3, 'min_samples_leaf': 4, 'min_samples_split': 6, 'n_estimators': 1076}. Best is trial 7 with value: 0.866519309839477.\n",
      "[I 2024-07-19 16:20:15,617] Trial 9 finished with value: 0.8717779228385485 and parameters: {'max_depth': 3, 'max_features': 3, 'min_samples_leaf': 1, 'min_samples_split': 8, 'n_estimators': 1942}. Best is trial 9 with value: 0.8717779228385485.\n",
      "[I 2024-07-19 16:20:24,394] Trial 10 finished with value: 0.8717931578073996 and parameters: {'max_depth': 3, 'max_features': 3, 'min_samples_leaf': 1, 'min_samples_split': 10, 'n_estimators': 501}. Best is trial 10 with value: 0.8717931578073996.\n",
      "[I 2024-07-19 16:20:35,626] Trial 11 finished with value: 0.8651001022247689 and parameters: {'max_depth': 2, 'max_features': 3, 'min_samples_leaf': 1, 'min_samples_split': 10, 'n_estimators': 674}. Best is trial 10 with value: 0.8717931578073996.\n",
      "[I 2024-07-19 16:21:00,457] Trial 12 finished with value: 0.8662889458659555 and parameters: {'max_depth': 4, 'max_features': 3, 'min_samples_leaf': 1, 'min_samples_split': 10, 'n_estimators': 1379}. Best is trial 10 with value: 0.8717931578073996.\n",
      "[I 2024-07-19 16:21:10,064] Trial 13 finished with value: 0.8648211666075504 and parameters: {'max_depth': 2, 'max_features': 3, 'min_samples_leaf': 2, 'min_samples_split': 6, 'n_estimators': 533}. Best is trial 10 with value: 0.8717931578073996.\n",
      "[I 2024-07-19 16:21:46,770] Trial 14 finished with value: 0.8609257636402396 and parameters: {'max_depth': 5, 'max_features': 3, 'min_samples_leaf': 2, 'min_samples_split': 8, 'n_estimators': 1986}. Best is trial 10 with value: 0.8717931578073996.\n",
      "[I 2024-07-19 16:22:17,419] Trial 15 finished with value: 0.8575027597580874 and parameters: {'max_depth': 6, 'max_features': 2, 'min_samples_leaf': 1, 'min_samples_split': 6, 'n_estimators': 1684}. Best is trial 10 with value: 0.8717931578073996.\n",
      "[I 2024-07-19 16:22:34,198] Trial 16 finished with value: 0.8507953079318591 and parameters: {'max_depth': 13, 'max_features': 3, 'min_samples_leaf': 2, 'min_samples_split': 10, 'n_estimators': 865}. Best is trial 10 with value: 0.8717931578073996.\n",
      "[I 2024-07-19 16:22:58,178] Trial 17 finished with value: 0.8675769773128156 and parameters: {'max_depth': 2, 'max_features': 4, 'min_samples_leaf': 1, 'min_samples_split': 8, 'n_estimators': 1410}. Best is trial 10 with value: 0.8717931578073996.\n",
      "[I 2024-07-19 16:23:17,609] Trial 18 finished with value: 0.8567933609117983 and parameters: {'max_depth': 6, 'max_features': 2, 'min_samples_leaf': 1, 'min_samples_split': 4, 'n_estimators': 1080}. Best is trial 10 with value: 0.8717931578073996.\n",
      "[I 2024-07-19 16:23:41,617] Trial 19 finished with value: 0.8511565032438743 and parameters: {'max_depth': 20, 'max_features': 3, 'min_samples_leaf': 2, 'min_samples_split': 10, 'n_estimators': 1230}. Best is trial 10 with value: 0.8717931578073996.\n",
      "[I 2024-07-19 16:24:17,079] Trial 20 finished with value: 0.8476482442468516 and parameters: {'max_depth': 10, 'max_features': 3, 'min_samples_leaf': 1, 'min_samples_split': 8, 'n_estimators': 1755}. Best is trial 10 with value: 0.8717931578073996.\n",
      "[I 2024-07-19 16:24:43,681] Trial 21 finished with value: 0.8718001042484544 and parameters: {'max_depth': 3, 'max_features': 4, 'min_samples_leaf': 1, 'min_samples_split': 8, 'n_estimators': 1481}. Best is trial 21 with value: 0.8718001042484544.\n",
      "[I 2024-07-19 16:25:18,374] Trial 22 finished with value: 0.8657546367606853 and parameters: {'max_depth': 4, 'max_features': 4, 'min_samples_leaf': 1, 'min_samples_split': 8, 'n_estimators': 1845}. Best is trial 21 with value: 0.8718001042484544.\n",
      "[I 2024-07-19 16:25:47,121] Trial 23 finished with value: 0.8567761535624128 and parameters: {'max_depth': 6, 'max_features': 3, 'min_samples_leaf': 2, 'min_samples_split': 10, 'n_estimators': 1541}. Best is trial 21 with value: 0.8718001042484544.\n",
      "[I 2024-07-19 16:26:11,739] Trial 24 finished with value: 0.8675500780111498 and parameters: {'max_depth': 2, 'max_features': 4, 'min_samples_leaf': 1, 'min_samples_split': 6, 'n_estimators': 1414}. Best is trial 21 with value: 0.8718001042484544.\n",
      "[I 2024-07-19 16:26:33,857] Trial 25 finished with value: 0.8663453974883122 and parameters: {'max_depth': 4, 'max_features': 3, 'min_samples_leaf': 1, 'min_samples_split': 8, 'n_estimators': 1234}. Best is trial 21 with value: 0.8718001042484544.\n",
      "[I 2024-07-19 16:27:04,995] Trial 26 finished with value: 0.8536328203391449 and parameters: {'max_depth': 7, 'max_features': 3, 'min_samples_leaf': 2, 'min_samples_split': 10, 'n_estimators': 1667}. Best is trial 21 with value: 0.8718001042484544.\n",
      "[I 2024-07-19 16:27:39,114] Trial 27 finished with value: 0.8717254983282718 and parameters: {'max_depth': 3, 'max_features': 4, 'min_samples_leaf': 1, 'min_samples_split': 4, 'n_estimators': 1871}. Best is trial 21 with value: 0.8718001042484544.\n",
      "[I 2024-07-19 16:27:54,590] Trial 28 finished with value: 0.8717968388057542 and parameters: {'max_depth': 3, 'max_features': 3, 'min_samples_leaf': 2, 'min_samples_split': 6, 'n_estimators': 890}. Best is trial 21 with value: 0.8718001042484544.\n",
      "[I 2024-07-19 16:28:04,398] Trial 29 finished with value: 0.8512227673935824 and parameters: {'max_depth': 10, 'max_features': 2, 'min_samples_leaf': 3, 'min_samples_split': 6, 'n_estimators': 534}. Best is trial 21 with value: 0.8718001042484544.\n",
      "4it [52:22, 785.66s/it]"
     ]
    },
    {
     "name": "stdout",
     "output_type": "stream",
     "text": [
      "--> R2=0.872, Inner Estimation=0.872, Param={'max_depth': 3, 'max_features': 4, 'min_samples_leaf': 1, 'min_samples_split': 8, 'n_estimators': 1481}\n",
      "Mean R2 Score: 0.8732074278443667 +- 0.009653505693568798\n"
     ]
    },
    {
     "name": "stderr",
     "output_type": "stream",
     "text": [
      "\n"
     ]
    }
   ],
   "source": [
    "outer_cross_validation = StratifiedKFold(n_splits=4)\n",
    "\n",
    "groups = np.array(dataset.loc[X.index, 'groups'])\n",
    "splits = outer_cross_validation.split(X, y=groups, groups=groups)\n",
    "r2_score_list = []\n",
    "\n",
    "for train_index, val_index in tqdm(splits):\n",
    "    # Divide dataset de acordo com os splits da validação cruzada\n",
    "    _X_train, _X_val = X.iloc[train_index], X.iloc[val_index]\n",
    "    _y_train, _y_val = y.iloc[train_index], y.iloc[val_index]\n",
    "    \n",
    "    study = optuna.create_study(direction='maximize')\n",
    "    study.optimize(\n",
    "        Objective(\n",
    "            _X_train, \n",
    "            _y_train, \n",
    "            KFold(n_splits=5, shuffle=True, random_state=0)\n",
    "        ), \n",
    "        n_trials=30,\n",
    "    )\n",
    "    \n",
    "    best_inner = study.best_value\n",
    "    best_params = study.best_params\n",
    "\n",
    "    best_model = RandomForestRegressor(**best_params)\n",
    "    best_model.fit(_X_train, _y_train)\n",
    "    y_val_pred = best_model.predict(_X_val)\n",
    "    score = r2_score(_y_val, y_val_pred)\n",
    "    r2_score_list.append(score)\n",
    "\n",
    "    print('--> R2=%.3f, Inner Estimation=%.3f, Param=%s' % (score, best_inner, best_params))\n",
    "\n",
    "print(f'Mean R2 Score: {np.mean(r2_score_list)} +- {np.std(r2_score_list)}')"
   ]
  },
  {
   "cell_type": "code",
   "execution_count": 170,
   "metadata": {},
   "outputs": [
    {
     "data": {
      "text/plain": [
       "Text(0.5, 1.0, 'Opinion Change Frequency')"
      ]
     },
     "execution_count": 170,
     "metadata": {},
     "output_type": "execute_result"
    },
    {
     "data": {
      "image/png": "[encoded data removed]",
      "text/plain": [
       "<Figure size 640x480 with 1 Axes>"
      ]
     },
     "metadata": {},
     "output_type": "display_data"
    }
   ],
   "source": [
    "plt.hist([y_val_pred, _y_val])\n",
    "plt.legend(['Predicted', 'Real Values'])\n",
    "plt.title('Opinion Change Frequency')"
   ]
  },
  {
   "cell_type": "markdown",
   "metadata": {},
   "source": [
    "### Ploting Feature Importance"
   ]
  },
  {
   "cell_type": "code",
   "execution_count": 171,
   "metadata": {},
   "outputs": [
    {
     "data": {
      "text/plain": [
       "Text(0.5, 1.0, 'Feature Importance Opinion Change Frequency')"
      ]
     },
     "execution_count": 171,
     "metadata": {},
     "output_type": "execute_result"
    },
    {
     "data": {
      "image/png": "[encoded data removed]",
      "text/plain": [
       "<Figure size 640x480 with 1 Axes>"
      ]
     },
     "metadata": {},
     "output_type": "display_data"
    }
   ],
   "source": [
    "model = RandomForestRegressor(**best_params)\n",
    "model.fit(X_train, y_train)\n",
    "fig, ax = plt.subplots()\n",
    "ax.barh(FEATURES, model.feature_importances_)\n",
    "ax.set_title(f'Feature Importance Opinion Change Frequency')"
   ]
  },
  {
   "cell_type": "markdown",
   "metadata": {},
   "source": [
    "### Ploting correlation"
   ]
  },
  {
   "cell_type": "code",
   "execution_count": 175,
   "metadata": {},
   "outputs": [
    {
     "data": {
      "text/plain": [
       "[]"
      ]
     },
     "execution_count": 175,
     "metadata": {},
     "output_type": "execute_result"
    },
    {
     "data": {
      "image/png": "[encoded data removed]",
      "text/plain": [
       "<Figure size 640x480 with 1 Axes>"
      ]
     },
     "metadata": {},
     "output_type": "display_data"
    }
   ],
   "source": [
    "fig, ax = plt.subplots()\n",
    "measure_to_plot = 'clustering'\n",
    "scaled_y = scaler.fit_transform(np.array(y).reshape(-1, 1))\n",
    "ax.scatter(X[measure_to_plot], scaled_y)\n",
    "ax.set_xlabel(measure_to_plot)\n",
    "ax.set_ylabel('Consensus Time')\n",
    "max_value = max(max(X[measure_to_plot]), max(scaled_y)) * 1.01\n",
    "line = ax.plot([0,1], [0, 1], '--', color='red', label='y=x')\n",
    "ax.legend(handles=line)\n",
    "ax.set_xlim(0,max_value)\n",
    "ax.set_ylim(0, max_value)\n",
    "ax.set_title('Correlation Plot')\n",
    "plt.plot()"
   ]
  },
  {
   "cell_type": "markdown",
   "metadata": {},
   "source": [
    "### Testing"
   ]
  },
  {
   "cell_type": "code",
   "execution_count": 172,
   "metadata": {},
   "outputs": [
    {
     "name": "stdout",
     "output_type": "stream",
     "text": [
      "R2 Score on test: 0.9087795109518922\n"
     ]
    }
   ],
   "source": [
    "y_test_pred = model.predict(X_test)\n",
    "score = r2_score(y_test, y_test_pred)\n",
    "print(f'R2 Score on test: {score}')"
   ]
  },
  {
   "cell_type": "code",
   "execution_count": 180,
   "metadata": {},
   "outputs": [
    {
     "data": {
      "text/plain": [
       "[]"
      ]
     },
     "execution_count": 180,
     "metadata": {},
     "output_type": "execute_result"
    },
    {
     "data": {
      "image/png": "[encoded data removed]",
      "text/plain": [
       "<Figure size 640x480 with 1 Axes>"
      ]
     },
     "metadata": {},
     "output_type": "display_data"
    }
   ],
   "source": [
    "fig, ax = plt.subplots()\n",
    "ax.scatter(y_test, y_test_pred)\n",
    "ax.set_xlabel('Real y')\n",
    "ax.set_ylabel('Predicted y')\n",
    "max_value = max(max(y_test), max(y_test_pred)) * 1.01\n",
    "min_value = min(min(y_test), min(y_test_pred)) * 1.01\n",
    "line = ax.plot([0,600], [0, 600], '--', color='red', label='y=x')\n",
    "ax.legend(handles=line)\n",
    "ax.set_xlim(min_value,max_value)\n",
    "ax.set_ylim(min_value, max_value)\n",
    "ax.set_title('Correlation Plot')\n",
    "plt.plot()"
   ]
  },
  {
   "cell_type": "markdown",
   "metadata": {},
   "source": [
    "## Consensus Time"
   ]
  },
  {
   "cell_type": "code",
   "execution_count": 181,
   "metadata": {},
   "outputs": [],
   "source": [
    "dataset['groups'] = LabelEncoder().fit_transform(dataset['type'])"
   ]
  },
  {
   "cell_type": "code",
   "execution_count": 182,
   "metadata": {},
   "outputs": [],
   "source": [
    "X = dataset[FEATURES]\n",
    "y = dataset[C]"
   ]
  },
  {
   "cell_type": "code",
   "execution_count": 183,
   "metadata": {},
   "outputs": [],
   "source": [
    "X_train, X_test, y_train, y_test = train_test_split(\n",
    "    X, y, test_size=0.2, random_state=0\n",
    ")"
   ]
  },
  {
   "cell_type": "code",
   "execution_count": 184,
   "metadata": {},
   "outputs": [],
   "source": [
    "model = RandomForestRegressor()"
   ]
  },
  {
   "cell_type": "markdown",
   "metadata": {},
   "source": [
    "### Nested Cross Validation"
   ]
  },
  {
   "cell_type": "code",
   "execution_count": 186,
   "metadata": {},
   "outputs": [],
   "source": [
    "class Objective:\n",
    "    def __init__(self, X, y, cross_validation):\n",
    "        self.X = X\n",
    "        self.y = y\n",
    "        self.cross_validation = cross_validation\n",
    "        \n",
    "    def __call__(self, trial):\n",
    "        parameters = {\n",
    "            'random_state': 1,\n",
    "            'max_depth': trial.suggest_int('max_depth', 2, 50),\n",
    "            'max_features': trial.suggest_int('max_features', 2, 4),\n",
    "            'min_samples_leaf': trial.suggest_int('min_samples_leaf', 1, 4),\n",
    "            'min_samples_split': trial.suggest_int('min_samples_split', 2, 10, step=2),\n",
    "            'n_estimators': trial.suggest_int('n_estimators', 100, 2000),\n",
    "        }\n",
    "\n",
    "        rf_regressor = RandomForestRegressor(**parameters)\n",
    "        score_list = []\n",
    "        splits = self.cross_validation.split(\n",
    "            self.X, \n",
    "            y=self.y\n",
    "        )\n",
    "\n",
    "        for train_index, val_index in splits:\n",
    "            _X_train, _X_val = self.X.iloc[train_index], self.X.iloc[val_index]\n",
    "            _y_train, _y_val = self.y.iloc[train_index], self.y.iloc[val_index]\n",
    "\n",
    "            model = clone(rf_regressor)\n",
    "\n",
    "            model.fit(_X_train, _y_train)\n",
    "            y_val_pred = model.predict(_X_val)\n",
    "            score = r2_score(_y_val, y_val_pred)\n",
    "            score_list.append(score)\n",
    "\n",
    "        return np.mean(score_list)"
   ]
  },
  {
   "cell_type": "code",
   "execution_count": 187,
   "metadata": {},
   "outputs": [
    {
     "name": "stderr",
     "output_type": "stream",
     "text": [
      "/home/vitor/Documents/SznajdNetworks/venv/lib/python3.12/site-packages/sklearn/model_selection/_split.py:848: UserWarning: The groups parameter is ignored by StratifiedKFold\n",
      "  warnings.warn(\n",
      "0it [00:00, ?it/s][I 2024-07-19 17:15:14,050] A new study created in memory with name: no-name-2515a804-64a2-4f41-82a8-bb3239d35669\n",
      "[I 2024-07-19 17:15:28,966] Trial 0 finished with value: 0.9901867270788406 and parameters: {'max_depth': 27, 'max_features': 3, 'min_samples_leaf': 3, 'min_samples_split': 8, 'n_estimators': 569}. Best is trial 0 with value: 0.9901867270788406.\n",
      "[I 2024-07-19 17:15:40,683] Trial 1 finished with value: 0.9902321194173714 and parameters: {'max_depth': 34, 'max_features': 2, 'min_samples_leaf': 1, 'min_samples_split': 10, 'n_estimators': 475}. Best is trial 1 with value: 0.9902321194173714.\n",
      "[I 2024-07-19 17:16:15,287] Trial 2 finished with value: 0.990097899826098 and parameters: {'max_depth': 20, 'max_features': 2, 'min_samples_leaf': 2, 'min_samples_split': 2, 'n_estimators': 1391}. Best is trial 1 with value: 0.9902321194173714.\n",
      "[I 2024-07-19 17:16:25,252] Trial 3 finished with value: 0.9902948742340865 and parameters: {'max_depth': 43, 'max_features': 4, 'min_samples_leaf': 4, 'min_samples_split': 2, 'n_estimators': 398}. Best is trial 3 with value: 0.9902948742340865.\n",
      "[I 2024-07-19 17:16:32,322] Trial 4 finished with value: 0.9900497052978168 and parameters: {'max_depth': 25, 'max_features': 2, 'min_samples_leaf': 2, 'min_samples_split': 10, 'n_estimators': 297}. Best is trial 3 with value: 0.9902948742340865.\n",
      "[I 2024-07-19 17:16:59,141] Trial 5 finished with value: 0.9900533054024617 and parameters: {'max_depth': 5, 'max_features': 2, 'min_samples_leaf': 4, 'min_samples_split': 4, 'n_estimators': 1181}. Best is trial 3 with value: 0.9902948742340865.\n",
      "[I 2024-07-19 17:17:22,676] Trial 6 finished with value: 0.9901050287554398 and parameters: {'max_depth': 28, 'max_features': 2, 'min_samples_leaf': 2, 'min_samples_split': 2, 'n_estimators': 1104}. Best is trial 3 with value: 0.9902948742340865.\n",
      "[I 2024-07-19 17:17:31,402] Trial 7 finished with value: 0.990115615835722 and parameters: {'max_depth': 17, 'max_features': 2, 'min_samples_leaf': 2, 'min_samples_split': 4, 'n_estimators': 412}. Best is trial 3 with value: 0.9902948742340865.\n",
      "[I 2024-07-19 17:17:51,015] Trial 8 finished with value: 0.9901824327897895 and parameters: {'max_depth': 21, 'max_features': 3, 'min_samples_leaf': 3, 'min_samples_split': 10, 'n_estimators': 710}. Best is trial 3 with value: 0.9902948742340865.\n",
      "[I 2024-07-19 17:18:23,104] Trial 9 finished with value: 0.9902329972258925 and parameters: {'max_depth': 24, 'max_features': 2, 'min_samples_leaf': 1, 'min_samples_split': 8, 'n_estimators': 1604}. Best is trial 3 with value: 0.9902948742340865.\n",
      "[I 2024-07-19 17:18:26,914] Trial 10 finished with value: 0.990340178766137 and parameters: {'max_depth': 47, 'max_features': 4, 'min_samples_leaf': 4, 'min_samples_split': 4, 'n_estimators': 142}. Best is trial 10 with value: 0.990340178766137.\n",
      "[I 2024-07-19 17:18:31,464] Trial 11 finished with value: 0.9903055225512898 and parameters: {'max_depth': 50, 'max_features': 4, 'min_samples_leaf': 4, 'min_samples_split': 4, 'n_estimators': 210}. Best is trial 10 with value: 0.990340178766137.\n",
      "[I 2024-07-19 17:18:35,061] Trial 12 finished with value: 0.9903142147638582 and parameters: {'max_depth': 50, 'max_features': 4, 'min_samples_leaf': 4, 'min_samples_split': 6, 'n_estimators': 164}. Best is trial 10 with value: 0.990340178766137.\n",
      "[I 2024-07-19 17:18:51,860] Trial 13 finished with value: 0.990225449132733 and parameters: {'max_depth': 49, 'max_features': 4, 'min_samples_leaf': 3, 'min_samples_split': 6, 'n_estimators': 836}. Best is trial 10 with value: 0.990340178766137.\n",
      "[I 2024-07-19 17:18:54,717] Trial 14 finished with value: 0.9902158380384698 and parameters: {'max_depth': 39, 'max_features': 3, 'min_samples_leaf': 4, 'min_samples_split': 6, 'n_estimators': 127}. Best is trial 10 with value: 0.990340178766137.\n",
      "[I 2024-07-19 17:19:13,357] Trial 15 finished with value: 0.9902837287505759 and parameters: {'max_depth': 43, 'max_features': 4, 'min_samples_leaf': 4, 'min_samples_split': 6, 'n_estimators': 797}. Best is trial 10 with value: 0.990340178766137.\n",
      "[I 2024-07-19 17:19:16,812] Trial 16 finished with value: 0.9902925114069362 and parameters: {'max_depth': 37, 'max_features': 4, 'min_samples_leaf': 3, 'min_samples_split': 4, 'n_estimators': 140}. Best is trial 10 with value: 0.990340178766137.\n",
      "[I 2024-07-19 17:20:02,978] Trial 17 finished with value: 0.990174036525252 and parameters: {'max_depth': 45, 'max_features': 3, 'min_samples_leaf': 4, 'min_samples_split': 8, 'n_estimators': 1776}. Best is trial 10 with value: 0.990340178766137.\n",
      "[I 2024-07-19 17:20:26,575] Trial 18 finished with value: 0.9902373067631942 and parameters: {'max_depth': 33, 'max_features': 4, 'min_samples_leaf': 3, 'min_samples_split': 4, 'n_estimators': 949}. Best is trial 10 with value: 0.990340178766137.\n",
      "[I 2024-07-19 17:20:42,341] Trial 19 finished with value: 0.9902578539914113 and parameters: {'max_depth': 12, 'max_features': 4, 'min_samples_leaf': 4, 'min_samples_split': 6, 'n_estimators': 611}. Best is trial 10 with value: 0.990340178766137.\n",
      "[I 2024-07-19 17:21:13,950] Trial 20 finished with value: 0.9902025690750248 and parameters: {'max_depth': 46, 'max_features': 3, 'min_samples_leaf': 3, 'min_samples_split': 8, 'n_estimators': 1306}. Best is trial 10 with value: 0.990340178766137.\n",
      "[I 2024-07-19 17:21:16,273] Trial 21 finished with value: 0.9903821350559365 and parameters: {'max_depth': 47, 'max_features': 4, 'min_samples_leaf': 4, 'min_samples_split': 4, 'n_estimators': 101}. Best is trial 21 with value: 0.9903821350559365.\n",
      "[I 2024-07-19 17:21:23,692] Trial 22 finished with value: 0.9902858323088676 and parameters: {'max_depth': 40, 'max_features': 4, 'min_samples_leaf': 4, 'min_samples_split': 4, 'n_estimators': 285}. Best is trial 21 with value: 0.9903821350559365.\n",
      "[I 2024-07-19 17:21:26,023] Trial 23 finished with value: 0.9904090822339381 and parameters: {'max_depth': 49, 'max_features': 4, 'min_samples_leaf': 4, 'min_samples_split': 6, 'n_estimators': 112}. Best is trial 23 with value: 0.9904090822339381.\n",
      "[I 2024-07-19 17:21:34,400] Trial 24 finished with value: 0.9902901174379399 and parameters: {'max_depth': 45, 'max_features': 4, 'min_samples_leaf': 4, 'min_samples_split': 2, 'n_estimators': 350}. Best is trial 23 with value: 0.9904090822339381.\n",
      "[I 2024-07-19 17:22:26,629] Trial 25 finished with value: 0.9902606648027265 and parameters: {'max_depth': 32, 'max_features': 4, 'min_samples_leaf': 3, 'min_samples_split': 6, 'n_estimators': 1985}. Best is trial 23 with value: 0.9904090822339381.\n",
      "[I 2024-07-19 17:22:38,736] Trial 26 finished with value: 0.9902218218829265 and parameters: {'max_depth': 40, 'max_features': 3, 'min_samples_leaf': 4, 'min_samples_split': 4, 'n_estimators': 540}. Best is trial 23 with value: 0.9904090822339381.\n",
      "[I 2024-07-19 17:22:44,374] Trial 27 finished with value: 0.9902839647173876 and parameters: {'max_depth': 47, 'max_features': 4, 'min_samples_leaf': 3, 'min_samples_split': 4, 'n_estimators': 251}. Best is trial 23 with value: 0.9904090822339381.\n",
      "[I 2024-07-19 17:22:47,170] Trial 28 finished with value: 0.990242553057089 and parameters: {'max_depth': 37, 'max_features': 3, 'min_samples_leaf': 4, 'min_samples_split': 6, 'n_estimators': 120}. Best is trial 23 with value: 0.9904090822339381.\n",
      "[I 2024-07-19 17:23:01,471] Trial 29 finished with value: 0.9902619517129739 and parameters: {'max_depth': 42, 'max_features': 4, 'min_samples_leaf': 4, 'min_samples_split': 2, 'n_estimators': 617}. Best is trial 23 with value: 0.9904090822339381.\n",
      "1it [07:48, 468.18s/it][I 2024-07-19 17:23:02,230] A new study created in memory with name: no-name-f81abb7b-6f3e-4048-aaf0-13638c56456a\n"
     ]
    },
    {
     "name": "stdout",
     "output_type": "stream",
     "text": [
      "--> R2=0.973, Inner Estimation=0.990, Param={'max_depth': 49, 'max_features': 4, 'min_samples_leaf': 4, 'min_samples_split': 6, 'n_estimators': 112}\n"
     ]
    },
    {
     "name": "stderr",
     "output_type": "stream",
     "text": [
      "[I 2024-07-19 17:23:05,642] Trial 0 finished with value: 0.9842243051512085 and parameters: {'max_depth': 27, 'max_features': 2, 'min_samples_leaf': 2, 'min_samples_split': 4, 'n_estimators': 163}. Best is trial 0 with value: 0.9842243051512085.\n",
      "[I 2024-07-19 17:23:42,901] Trial 1 finished with value: 0.9845318871787505 and parameters: {'max_depth': 19, 'max_features': 4, 'min_samples_leaf': 2, 'min_samples_split': 10, 'n_estimators': 1672}. Best is trial 1 with value: 0.9845318871787505.\n",
      "[I 2024-07-19 17:23:46,975] Trial 2 finished with value: 0.9843704139273853 and parameters: {'max_depth': 12, 'max_features': 2, 'min_samples_leaf': 4, 'min_samples_split': 6, 'n_estimators': 206}. Best is trial 1 with value: 0.9845318871787505.\n",
      "[I 2024-07-19 17:24:08,056] Trial 3 finished with value: 0.983744142077492 and parameters: {'max_depth': 4, 'max_features': 2, 'min_samples_leaf': 2, 'min_samples_split': 4, 'n_estimators': 1014}. Best is trial 1 with value: 0.9845318871787505.\n",
      "[I 2024-07-19 17:24:28,269] Trial 4 finished with value: 0.9841774564438113 and parameters: {'max_depth': 44, 'max_features': 2, 'min_samples_leaf': 2, 'min_samples_split': 6, 'n_estimators': 1016}. Best is trial 1 with value: 0.9845318871787505.\n",
      "[I 2024-07-19 17:24:56,770] Trial 5 finished with value: 0.9842034718892971 and parameters: {'max_depth': 6, 'max_features': 2, 'min_samples_leaf': 3, 'min_samples_split': 4, 'n_estimators': 1685}. Best is trial 1 with value: 0.9845318871787505.\n",
      "[I 2024-07-19 17:25:35,082] Trial 6 finished with value: 0.9845868649629566 and parameters: {'max_depth': 48, 'max_features': 4, 'min_samples_leaf': 3, 'min_samples_split': 2, 'n_estimators': 1964}. Best is trial 6 with value: 0.9845868649629566.\n",
      "[I 2024-07-19 17:26:07,068] Trial 7 finished with value: 0.9839840951666357 and parameters: {'max_depth': 48, 'max_features': 2, 'min_samples_leaf': 1, 'min_samples_split': 4, 'n_estimators': 1739}. Best is trial 6 with value: 0.9845868649629566.\n",
      "[I 2024-07-19 17:26:22,338] Trial 8 finished with value: 0.9841492389684168 and parameters: {'max_depth': 24, 'max_features': 2, 'min_samples_leaf': 1, 'min_samples_split': 8, 'n_estimators': 859}. Best is trial 6 with value: 0.9845868649629566.\n",
      "[I 2024-07-19 17:26:38,809] Trial 9 finished with value: 0.9845203939658728 and parameters: {'max_depth': 10, 'max_features': 4, 'min_samples_leaf': 2, 'min_samples_split': 4, 'n_estimators': 816}. Best is trial 6 with value: 0.9845868649629566.\n",
      "[I 2024-07-19 17:27:13,520] Trial 10 finished with value: 0.9844585420775545 and parameters: {'max_depth': 37, 'max_features': 3, 'min_samples_leaf': 4, 'min_samples_split': 2, 'n_estimators': 1933}. Best is trial 6 with value: 0.9845868649629566.\n",
      "[I 2024-07-19 17:27:40,445] Trial 11 finished with value: 0.9846329461587058 and parameters: {'max_depth': 22, 'max_features': 4, 'min_samples_leaf': 3, 'min_samples_split': 10, 'n_estimators': 1400}. Best is trial 11 with value: 0.9846329461587058.\n",
      "[I 2024-07-19 17:28:06,319] Trial 12 finished with value: 0.9846303348480937 and parameters: {'max_depth': 35, 'max_features': 4, 'min_samples_leaf': 3, 'min_samples_split': 10, 'n_estimators': 1349}. Best is trial 11 with value: 0.9846329461587058.\n",
      "[I 2024-07-19 17:28:31,286] Trial 13 finished with value: 0.9843812788207279 and parameters: {'max_depth': 33, 'max_features': 3, 'min_samples_leaf': 3, 'min_samples_split': 10, 'n_estimators': 1364}. Best is trial 11 with value: 0.9846329461587058.\n",
      "[I 2024-07-19 17:28:57,980] Trial 14 finished with value: 0.9847008197255542 and parameters: {'max_depth': 36, 'max_features': 4, 'min_samples_leaf': 4, 'min_samples_split': 8, 'n_estimators': 1405}. Best is trial 14 with value: 0.9847008197255542.\n",
      "[I 2024-07-19 17:29:22,968] Trial 15 finished with value: 0.9844610084174009 and parameters: {'max_depth': 18, 'max_features': 3, 'min_samples_leaf': 4, 'min_samples_split': 8, 'n_estimators': 1366}. Best is trial 14 with value: 0.9847008197255542.\n",
      "[I 2024-07-19 17:29:33,734] Trial 16 finished with value: 0.9846912753950315 and parameters: {'max_depth': 28, 'max_features': 4, 'min_samples_leaf': 4, 'min_samples_split': 8, 'n_estimators': 547}. Best is trial 14 with value: 0.9847008197255542.\n",
      "[I 2024-07-19 17:29:42,713] Trial 17 finished with value: 0.9844583423228297 and parameters: {'max_depth': 29, 'max_features': 3, 'min_samples_leaf': 4, 'min_samples_split': 8, 'n_estimators': 486}. Best is trial 14 with value: 0.9847008197255542.\n",
      "[I 2024-07-19 17:29:53,190] Trial 18 finished with value: 0.9846919241567248 and parameters: {'max_depth': 41, 'max_features': 4, 'min_samples_leaf': 4, 'min_samples_split': 8, 'n_estimators': 543}. Best is trial 14 with value: 0.9847008197255542.\n",
      "[I 2024-07-19 17:30:03,614] Trial 19 finished with value: 0.9844845243323833 and parameters: {'max_depth': 41, 'max_features': 3, 'min_samples_leaf': 4, 'min_samples_split': 6, 'n_estimators': 580}. Best is trial 14 with value: 0.9847008197255542.\n",
      "[I 2024-07-19 17:30:26,605] Trial 20 finished with value: 0.9846904881835551 and parameters: {'max_depth': 41, 'max_features': 4, 'min_samples_leaf': 4, 'min_samples_split': 8, 'n_estimators': 1180}. Best is trial 14 with value: 0.9847008197255542.\n",
      "[I 2024-07-19 17:30:36,712] Trial 21 finished with value: 0.9847001668616236 and parameters: {'max_depth': 32, 'max_features': 4, 'min_samples_leaf': 4, 'min_samples_split': 8, 'n_estimators': 515}. Best is trial 14 with value: 0.9847008197255542.\n",
      "[I 2024-07-19 17:30:44,832] Trial 22 finished with value: 0.984701069941685 and parameters: {'max_depth': 33, 'max_features': 4, 'min_samples_leaf': 4, 'min_samples_split': 8, 'n_estimators': 366}. Best is trial 22 with value: 0.984701069941685.\n",
      "[I 2024-07-19 17:30:52,304] Trial 23 finished with value: 0.9845938679184603 and parameters: {'max_depth': 32, 'max_features': 4, 'min_samples_leaf': 3, 'min_samples_split': 6, 'n_estimators': 291}. Best is trial 22 with value: 0.984701069941685.\n",
      "[I 2024-07-19 17:31:01,543] Trial 24 finished with value: 0.9846844701334134 and parameters: {'max_depth': 37, 'max_features': 4, 'min_samples_leaf': 4, 'min_samples_split': 8, 'n_estimators': 380}. Best is trial 22 with value: 0.984701069941685.\n",
      "[I 2024-07-19 17:31:17,388] Trial 25 finished with value: 0.9847252046606403 and parameters: {'max_depth': 32, 'max_features': 4, 'min_samples_leaf': 4, 'min_samples_split': 6, 'n_estimators': 746}. Best is trial 25 with value: 0.9847252046606403.\n",
      "[I 2024-07-19 17:31:34,151] Trial 26 finished with value: 0.98446330501249 and parameters: {'max_depth': 38, 'max_features': 3, 'min_samples_leaf': 3, 'min_samples_split': 6, 'n_estimators': 731}. Best is trial 25 with value: 0.9847252046606403.\n",
      "[I 2024-07-19 17:31:49,167] Trial 27 finished with value: 0.9847169181582363 and parameters: {'max_depth': 30, 'max_features': 4, 'min_samples_leaf': 4, 'min_samples_split': 6, 'n_estimators': 699}. Best is trial 25 with value: 0.9847252046606403.\n",
      "[I 2024-07-19 17:32:06,983] Trial 28 finished with value: 0.9846292292164996 and parameters: {'max_depth': 23, 'max_features': 4, 'min_samples_leaf': 3, 'min_samples_split': 6, 'n_estimators': 753}. Best is trial 25 with value: 0.9847252046606403.\n",
      "[I 2024-07-19 17:32:09,562] Trial 29 finished with value: 0.9844518439547769 and parameters: {'max_depth': 27, 'max_features': 3, 'min_samples_leaf': 4, 'min_samples_split': 6, 'n_estimators': 121}. Best is trial 25 with value: 0.9847252046606403.\n",
      "2it [17:00, 517.48s/it][I 2024-07-19 17:32:14,223] A new study created in memory with name: no-name-b46d4af0-5a78-4e04-962d-fa2d2735ffa6\n"
     ]
    },
    {
     "name": "stdout",
     "output_type": "stream",
     "text": [
      "--> R2=0.990, Inner Estimation=0.985, Param={'max_depth': 32, 'max_features': 4, 'min_samples_leaf': 4, 'min_samples_split': 6, 'n_estimators': 746}\n"
     ]
    },
    {
     "name": "stderr",
     "output_type": "stream",
     "text": [
      "[I 2024-07-19 17:32:41,749] Trial 0 finished with value: 0.9839553797899079 and parameters: {'max_depth': 12, 'max_features': 2, 'min_samples_leaf': 1, 'min_samples_split': 8, 'n_estimators': 1190}. Best is trial 0 with value: 0.9839553797899079.\n",
      "[I 2024-07-19 17:32:59,874] Trial 1 finished with value: 0.9842058318503384 and parameters: {'max_depth': 50, 'max_features': 2, 'min_samples_leaf': 4, 'min_samples_split': 6, 'n_estimators': 895}. Best is trial 1 with value: 0.9842058318503384.\n",
      "[I 2024-07-19 17:33:14,439] Trial 2 finished with value: 0.9841090930791101 and parameters: {'max_depth': 10, 'max_features': 2, 'min_samples_leaf': 3, 'min_samples_split': 10, 'n_estimators': 723}. Best is trial 1 with value: 0.9842058318503384.\n",
      "[I 2024-07-19 17:33:20,916] Trial 3 finished with value: 0.9838512754158433 and parameters: {'max_depth': 36, 'max_features': 2, 'min_samples_leaf': 1, 'min_samples_split': 4, 'n_estimators': 305}. Best is trial 1 with value: 0.9842058318503384.\n",
      "[I 2024-07-19 17:33:28,924] Trial 4 finished with value: 0.9840289459800416 and parameters: {'max_depth': 24, 'max_features': 3, 'min_samples_leaf': 2, 'min_samples_split': 2, 'n_estimators': 351}. Best is trial 1 with value: 0.9842058318503384.\n",
      "[I 2024-07-19 17:34:07,121] Trial 5 finished with value: 0.9838938086825024 and parameters: {'max_depth': 9, 'max_features': 2, 'min_samples_leaf': 1, 'min_samples_split': 2, 'n_estimators': 1795}. Best is trial 1 with value: 0.9842058318503384.\n",
      "[I 2024-07-19 17:34:16,780] Trial 6 finished with value: 0.9841342165165745 and parameters: {'max_depth': 47, 'max_features': 4, 'min_samples_leaf': 2, 'min_samples_split': 2, 'n_estimators': 424}. Best is trial 1 with value: 0.9842058318503384.\n",
      "[I 2024-07-19 17:34:51,985] Trial 7 finished with value: 0.9840097351965763 and parameters: {'max_depth': 50, 'max_features': 3, 'min_samples_leaf': 2, 'min_samples_split': 4, 'n_estimators': 1644}. Best is trial 1 with value: 0.9842058318503384.\n",
      "[I 2024-07-19 17:35:26,496] Trial 8 finished with value: 0.9840518118175812 and parameters: {'max_depth': 20, 'max_features': 4, 'min_samples_leaf': 1, 'min_samples_split': 10, 'n_estimators': 1504}. Best is trial 1 with value: 0.9842058318503384.\n",
      "[I 2024-07-19 17:35:38,130] Trial 9 finished with value: 0.9840704080485025 and parameters: {'max_depth': 37, 'max_features': 4, 'min_samples_leaf': 1, 'min_samples_split': 6, 'n_estimators': 482}. Best is trial 1 with value: 0.9842058318503384.\n",
      "[I 2024-07-19 17:36:00,838] Trial 10 finished with value: 0.9843110091957786 and parameters: {'max_depth': 37, 'max_features': 3, 'min_samples_leaf': 4, 'min_samples_split': 6, 'n_estimators': 1014}. Best is trial 10 with value: 0.9843110091957786.\n",
      "[I 2024-07-19 17:36:23,159] Trial 11 finished with value: 0.984313273910556 and parameters: {'max_depth': 39, 'max_features': 3, 'min_samples_leaf': 4, 'min_samples_split': 6, 'n_estimators': 988}. Best is trial 11 with value: 0.984313273910556.\n",
      "[I 2024-07-19 17:36:50,105] Trial 12 finished with value: 0.984317082540841 and parameters: {'max_depth': 37, 'max_features': 3, 'min_samples_leaf': 4, 'min_samples_split': 6, 'n_estimators': 1204}. Best is trial 12 with value: 0.984317082540841.\n",
      "[I 2024-07-19 17:37:24,019] Trial 13 finished with value: 0.9843075724580597 and parameters: {'max_depth': 33, 'max_features': 3, 'min_samples_leaf': 4, 'min_samples_split': 8, 'n_estimators': 1293}. Best is trial 12 with value: 0.984317082540841.\n",
      "[I 2024-07-19 17:37:53,208] Trial 14 finished with value: 0.9842395586170145 and parameters: {'max_depth': 30, 'max_features': 3, 'min_samples_leaf': 3, 'min_samples_split': 8, 'n_estimators': 1343}. Best is trial 12 with value: 0.984317082540841.\n",
      "[I 2024-07-19 17:38:37,096] Trial 15 finished with value: 0.9842219964149423 and parameters: {'max_depth': 42, 'max_features': 3, 'min_samples_leaf': 3, 'min_samples_split': 4, 'n_estimators': 1996}. Best is trial 12 with value: 0.984317082540841.\n",
      "[I 2024-07-19 17:38:54,439] Trial 16 finished with value: 0.9843107646791674 and parameters: {'max_depth': 42, 'max_features': 3, 'min_samples_leaf': 4, 'min_samples_split': 6, 'n_estimators': 673}. Best is trial 12 with value: 0.984317082540841.\n",
      "[I 2024-07-19 17:39:14,286] Trial 17 finished with value: 0.9843927319076107 and parameters: {'max_depth': 26, 'max_features': 4, 'min_samples_leaf': 3, 'min_samples_split': 8, 'n_estimators': 847}. Best is trial 17 with value: 0.9843927319076107.\n",
      "[I 2024-07-19 17:39:30,183] Trial 18 finished with value: 0.9351244541302248 and parameters: {'max_depth': 2, 'max_features': 4, 'min_samples_leaf': 3, 'min_samples_split': 8, 'n_estimators': 767}. Best is trial 17 with value: 0.9843927319076107.\n",
      "[I 2024-07-19 17:39:57,424] Trial 19 finished with value: 0.9843838004386157 and parameters: {'max_depth': 26, 'max_features': 4, 'min_samples_leaf': 3, 'min_samples_split': 10, 'n_estimators': 1193}. Best is trial 17 with value: 0.9843927319076107.\n",
      "[I 2024-07-19 17:40:31,556] Trial 20 finished with value: 0.9843752236822892 and parameters: {'max_depth': 18, 'max_features': 4, 'min_samples_leaf': 3, 'min_samples_split': 10, 'n_estimators': 1479}. Best is trial 17 with value: 0.9843927319076107.\n",
      "[I 2024-07-19 17:41:06,677] Trial 21 finished with value: 0.9843634859646094 and parameters: {'max_depth': 19, 'max_features': 4, 'min_samples_leaf': 3, 'min_samples_split': 10, 'n_estimators': 1513}. Best is trial 17 with value: 0.9843927319076107.\n",
      "[I 2024-07-19 17:41:40,066] Trial 22 finished with value: 0.9843754207184269 and parameters: {'max_depth': 26, 'max_features': 4, 'min_samples_leaf': 3, 'min_samples_split': 10, 'n_estimators': 1430}. Best is trial 17 with value: 0.9843927319076107.\n",
      "[I 2024-07-19 17:41:43,667] Trial 23 finished with value: 0.9841842229472639 and parameters: {'max_depth': 27, 'max_features': 4, 'min_samples_leaf': 2, 'min_samples_split': 10, 'n_estimators': 145}. Best is trial 17 with value: 0.9843927319076107.\n",
      "[I 2024-07-19 17:42:11,688] Trial 24 finished with value: 0.9843789076788975 and parameters: {'max_depth': 24, 'max_features': 4, 'min_samples_leaf': 3, 'min_samples_split': 8, 'n_estimators': 1112}. Best is trial 17 with value: 0.9843927319076107.\n",
      "[I 2024-07-19 17:42:32,779] Trial 25 finished with value: 0.9843819910730616 and parameters: {'max_depth': 23, 'max_features': 4, 'min_samples_leaf': 3, 'min_samples_split': 8, 'n_estimators': 926}. Best is trial 17 with value: 0.9843927319076107.\n",
      "[I 2024-07-19 17:42:47,014] Trial 26 finished with value: 0.9842104600401791 and parameters: {'max_depth': 31, 'max_features': 4, 'min_samples_leaf': 2, 'min_samples_split': 8, 'n_estimators': 606}. Best is trial 17 with value: 0.9843927319076107.\n",
      "[I 2024-07-19 17:43:05,791] Trial 27 finished with value: 0.9843997781852665 and parameters: {'max_depth': 16, 'max_features': 4, 'min_samples_leaf': 3, 'min_samples_split': 8, 'n_estimators': 859}. Best is trial 27 with value: 0.9843997781852665.\n",
      "[I 2024-07-19 17:43:25,786] Trial 28 finished with value: 0.9842251947146983 and parameters: {'max_depth': 15, 'max_features': 4, 'min_samples_leaf': 2, 'min_samples_split': 8, 'n_estimators': 854}. Best is trial 27 with value: 0.9843997781852665.\n",
      "[I 2024-07-19 17:43:51,014] Trial 29 finished with value: 0.9843711725786864 and parameters: {'max_depth': 14, 'max_features': 4, 'min_samples_leaf': 3, 'min_samples_split': 8, 'n_estimators': 1179}. Best is trial 27 with value: 0.9843997781852665.\n",
      "3it [28:41, 601.25s/it][I 2024-07-19 17:43:55,151] A new study created in memory with name: no-name-591e9ce3-c5e6-4f11-95ad-b6266d3f73f8\n"
     ]
    },
    {
     "name": "stdout",
     "output_type": "stream",
     "text": [
      "--> R2=0.990, Inner Estimation=0.984, Param={'max_depth': 16, 'max_features': 4, 'min_samples_leaf': 3, 'min_samples_split': 8, 'n_estimators': 859}\n"
     ]
    },
    {
     "name": "stderr",
     "output_type": "stream",
     "text": [
      "[I 2024-07-19 17:44:16,622] Trial 0 finished with value: 0.9839649250249771 and parameters: {'max_depth': 30, 'max_features': 3, 'min_samples_leaf': 1, 'min_samples_split': 4, 'n_estimators': 963}. Best is trial 0 with value: 0.9839649250249771.\n",
      "[I 2024-07-19 17:44:39,018] Trial 1 finished with value: 0.9838113036573566 and parameters: {'max_depth': 5, 'max_features': 2, 'min_samples_leaf': 4, 'min_samples_split': 8, 'n_estimators': 1150}. Best is trial 0 with value: 0.9839649250249771.\n",
      "[I 2024-07-19 17:45:19,972] Trial 2 finished with value: 0.9839314122219858 and parameters: {'max_depth': 37, 'max_features': 4, 'min_samples_leaf': 2, 'min_samples_split': 2, 'n_estimators': 1822}. Best is trial 0 with value: 0.9839649250249771.\n",
      "[I 2024-07-19 17:45:50,599] Trial 3 finished with value: 0.98392658181666 and parameters: {'max_depth': 34, 'max_features': 3, 'min_samples_leaf': 3, 'min_samples_split': 8, 'n_estimators': 1446}. Best is trial 0 with value: 0.9839649250249771.\n",
      "[I 2024-07-19 17:46:29,920] Trial 4 finished with value: 0.9840116124313282 and parameters: {'max_depth': 40, 'max_features': 4, 'min_samples_leaf': 4, 'min_samples_split': 2, 'n_estimators': 1768}. Best is trial 4 with value: 0.9840116124313282.\n",
      "[I 2024-07-19 17:46:53,824] Trial 5 finished with value: 0.9839075891882733 and parameters: {'max_depth': 28, 'max_features': 2, 'min_samples_leaf': 3, 'min_samples_split': 6, 'n_estimators': 1207}. Best is trial 4 with value: 0.9840116124313282.\n",
      "[I 2024-07-19 17:46:56,350] Trial 6 finished with value: 0.983889617905857 and parameters: {'max_depth': 42, 'max_features': 4, 'min_samples_leaf': 3, 'min_samples_split': 2, 'n_estimators': 111}. Best is trial 4 with value: 0.9840116124313282.\n",
      "[I 2024-07-19 17:47:36,174] Trial 7 finished with value: 0.983928118302374 and parameters: {'max_depth': 11, 'max_features': 4, 'min_samples_leaf': 2, 'min_samples_split': 2, 'n_estimators': 1718}. Best is trial 4 with value: 0.9840116124313282.\n",
      "[I 2024-07-19 17:48:07,481] Trial 8 finished with value: 0.9839129569052052 and parameters: {'max_depth': 40, 'max_features': 3, 'min_samples_leaf': 4, 'min_samples_split': 8, 'n_estimators': 1500}. Best is trial 4 with value: 0.9840116124313282.\n",
      "[I 2024-07-19 17:48:27,670] Trial 9 finished with value: 0.9836800039044787 and parameters: {'max_depth': 4, 'max_features': 2, 'min_samples_leaf': 1, 'min_samples_split': 8, 'n_estimators': 1071}. Best is trial 4 with value: 0.9840116124313282.\n",
      "[I 2024-07-19 17:48:41,715] Trial 10 finished with value: 0.9839898805333827 and parameters: {'max_depth': 49, 'max_features': 4, 'min_samples_leaf': 4, 'min_samples_split': 4, 'n_estimators': 549}. Best is trial 4 with value: 0.9840116124313282.\n",
      "[I 2024-07-19 17:48:54,624] Trial 11 finished with value: 0.9839861188649432 and parameters: {'max_depth': 50, 'max_features': 4, 'min_samples_leaf': 4, 'min_samples_split': 4, 'n_estimators': 605}. Best is trial 4 with value: 0.9840116124313282.\n",
      "[I 2024-07-19 17:49:06,657] Trial 12 finished with value: 0.9839898805333827 and parameters: {'max_depth': 50, 'max_features': 4, 'min_samples_leaf': 4, 'min_samples_split': 4, 'n_estimators': 549}. Best is trial 4 with value: 0.9840116124313282.\n",
      "[I 2024-07-19 17:49:19,083] Trial 13 finished with value: 0.9839896283590666 and parameters: {'max_depth': 18, 'max_features': 4, 'min_samples_leaf': 4, 'min_samples_split': 4, 'n_estimators': 581}. Best is trial 4 with value: 0.9840116124313282.\n",
      "[I 2024-07-19 17:49:23,525] Trial 14 finished with value: 0.9838997685883971 and parameters: {'max_depth': 43, 'max_features': 3, 'min_samples_leaf': 3, 'min_samples_split': 6, 'n_estimators': 213}. Best is trial 4 with value: 0.9840116124313282.\n",
      "[I 2024-07-19 17:50:04,221] Trial 15 finished with value: 0.9839176297798522 and parameters: {'max_depth': 21, 'max_features': 3, 'min_samples_leaf': 4, 'min_samples_split': 6, 'n_estimators': 1980}. Best is trial 4 with value: 0.9840116124313282.\n",
      "[I 2024-07-19 17:50:20,546] Trial 16 finished with value: 0.9839685342186998 and parameters: {'max_depth': 46, 'max_features': 4, 'min_samples_leaf': 2, 'min_samples_split': 10, 'n_estimators': 735}. Best is trial 4 with value: 0.9840116124313282.\n",
      "[I 2024-07-19 17:50:27,391] Trial 17 finished with value: 0.9839694258974234 and parameters: {'max_depth': 33, 'max_features': 4, 'min_samples_leaf': 3, 'min_samples_split': 2, 'n_estimators': 301}. Best is trial 4 with value: 0.9840116124313282.\n",
      "[I 2024-07-19 17:50:48,338] Trial 18 finished with value: 0.9840028133147065 and parameters: {'max_depth': 22, 'max_features': 4, 'min_samples_leaf': 4, 'min_samples_split': 4, 'n_estimators': 908}. Best is trial 4 with value: 0.9840116124313282.\n",
      "[I 2024-07-19 17:51:07,211] Trial 19 finished with value: 0.9839577851627433 and parameters: {'max_depth': 19, 'max_features': 3, 'min_samples_leaf': 3, 'min_samples_split': 2, 'n_estimators': 891}. Best is trial 4 with value: 0.9840116124313282.\n",
      "[I 2024-07-19 17:51:34,532] Trial 20 finished with value: 0.9839089412667203 and parameters: {'max_depth': 23, 'max_features': 3, 'min_samples_leaf': 4, 'min_samples_split': 4, 'n_estimators': 1327}. Best is trial 4 with value: 0.9840116124313282.\n",
      "[I 2024-07-19 17:51:51,891] Trial 21 finished with value: 0.9840058136497886 and parameters: {'max_depth': 14, 'max_features': 4, 'min_samples_leaf': 4, 'min_samples_split': 4, 'n_estimators': 803}. Best is trial 4 with value: 0.9840116124313282.\n",
      "[I 2024-07-19 17:52:11,260] Trial 22 finished with value: 0.9840033192526807 and parameters: {'max_depth': 14, 'max_features': 4, 'min_samples_leaf': 4, 'min_samples_split': 6, 'n_estimators': 820}. Best is trial 4 with value: 0.9840116124313282.\n",
      "[I 2024-07-19 17:52:28,577] Trial 23 finished with value: 0.9840045407426737 and parameters: {'max_depth': 12, 'max_features': 4, 'min_samples_leaf': 4, 'min_samples_split': 6, 'n_estimators': 820}. Best is trial 4 with value: 0.9840116124313282.\n",
      "[I 2024-07-19 17:52:35,649] Trial 24 finished with value: 0.9839187884320927 and parameters: {'max_depth': 10, 'max_features': 4, 'min_samples_leaf': 3, 'min_samples_split': 2, 'n_estimators': 361}. Best is trial 4 with value: 0.9840116124313282.\n",
      "[I 2024-07-19 17:52:49,638] Trial 25 finished with value: 0.9839905631785459 and parameters: {'max_depth': 14, 'max_features': 4, 'min_samples_leaf': 4, 'min_samples_split': 6, 'n_estimators': 733}. Best is trial 4 with value: 0.9840116124313282.\n",
      "[I 2024-07-19 17:53:20,877] Trial 26 finished with value: 0.9839681027750679 and parameters: {'max_depth': 8, 'max_features': 4, 'min_samples_leaf': 3, 'min_samples_split': 10, 'n_estimators': 1651}. Best is trial 4 with value: 0.9840116124313282.\n",
      "[I 2024-07-19 17:53:44,993] Trial 27 finished with value: 0.9839158078792284 and parameters: {'max_depth': 15, 'max_features': 3, 'min_samples_leaf': 4, 'min_samples_split': 4, 'n_estimators': 1298}. Best is trial 4 with value: 0.9840116124313282.\n",
      "[I 2024-07-19 17:54:05,803] Trial 28 finished with value: 0.9839373184081202 and parameters: {'max_depth': 25, 'max_features': 4, 'min_samples_leaf': 2, 'min_samples_split': 6, 'n_estimators': 1044}. Best is trial 4 with value: 0.9840116124313282.\n",
      "[I 2024-07-19 17:54:14,382] Trial 29 finished with value: 0.9839755106824611 and parameters: {'max_depth': 30, 'max_features': 3, 'min_samples_leaf': 1, 'min_samples_split': 4, 'n_estimators': 434}. Best is trial 4 with value: 0.9840116124313282.\n",
      "4it [39:07, 586.88s/it]"
     ]
    },
    {
     "name": "stdout",
     "output_type": "stream",
     "text": [
      "--> R2=0.992, Inner Estimation=0.984, Param={'max_depth': 40, 'max_features': 4, 'min_samples_leaf': 4, 'min_samples_split': 2, 'n_estimators': 1768}\n",
      "Mean R2 Score: 0.9860664421155566 +- 0.007567441055143353\n"
     ]
    },
    {
     "name": "stderr",
     "output_type": "stream",
     "text": [
      "\n"
     ]
    }
   ],
   "source": [
    "outer_cross_validation = StratifiedKFold(n_splits=4)\n",
    "\n",
    "groups = np.array(dataset.loc[X.index, 'groups'])\n",
    "splits = outer_cross_validation.split(X, y=groups, groups=groups)\n",
    "r2_score_list = []\n",
    "\n",
    "for train_index, val_index in tqdm(splits):\n",
    "    # Divide dataset de acordo com os splits da validação cruzada\n",
    "    _X_train, _X_val = X.iloc[train_index], X.iloc[val_index]\n",
    "    _y_train, _y_val = y.iloc[train_index], y.iloc[val_index]\n",
    "    \n",
    "    study = optuna.create_study(direction='maximize')\n",
    "    study.optimize(\n",
    "        Objective(\n",
    "            _X_train, \n",
    "            _y_train, \n",
    "            KFold(n_splits=5, shuffle=True, random_state=0)\n",
    "        ), \n",
    "        n_trials=30,\n",
    "    )\n",
    "    \n",
    "    best_inner = study.best_value\n",
    "    best_params = study.best_params\n",
    "\n",
    "    best_model = RandomForestRegressor(**best_params)\n",
    "    best_model.fit(_X_train, _y_train)\n",
    "    y_val_pred = best_model.predict(_X_val)\n",
    "    score = r2_score(_y_val, y_val_pred)\n",
    "    r2_score_list.append(score)\n",
    "\n",
    "    print('--> R2=%.3f, Inner Estimation=%.3f, Param=%s' % (score, best_inner, best_params))\n",
    "\n",
    "print(f'Mean R2 Score: {np.mean(r2_score_list)} +- {np.std(r2_score_list)}')"
   ]
  },
  {
   "cell_type": "code",
   "execution_count": 188,
   "metadata": {},
   "outputs": [
    {
     "data": {
      "text/plain": [
       "Text(0.5, 1.0, 'Consensus Time')"
      ]
     },
     "execution_count": 188,
     "metadata": {},
     "output_type": "execute_result"
    },
    {
     "data": {
      "image/png": "[encoded data removed]",
      "text/plain": [
       "<Figure size 640x480 with 1 Axes>"
      ]
     },
     "metadata": {},
     "output_type": "display_data"
    }
   ],
   "source": [
    "plt.hist([y_val_pred, _y_val])\n",
    "plt.legend(['Predicted', 'Real Values'])\n",
    "plt.title('Consensus Time')"
   ]
  },
  {
   "cell_type": "markdown",
   "metadata": {},
   "source": [
    "### Ploting Feature Importance"
   ]
  },
  {
   "cell_type": "code",
   "execution_count": 190,
   "metadata": {},
   "outputs": [
    {
     "data": {
      "text/plain": [
       "Text(0.5, 1.0, 'Feature Importance Consensus Time')"
      ]
     },
     "execution_count": 190,
     "metadata": {},
     "output_type": "execute_result"
    },
    {
     "data": {
      "image/png": "[encoded data removed]",
      "text/plain": [
       "<Figure size 640x480 with 1 Axes>"
      ]
     },
     "metadata": {},
     "output_type": "display_data"
    }
   ],
   "source": [
    "model = RandomForestRegressor(**best_params)\n",
    "model.fit(X_train, y_train)\n",
    "fig, ax = plt.subplots()\n",
    "ax.barh(FEATURES, model.feature_importances_)\n",
    "ax.set_title(f'Feature Importance Consensus Time')"
   ]
  },
  {
   "cell_type": "markdown",
   "metadata": {},
   "source": [
    "### Testing"
   ]
  },
  {
   "cell_type": "code",
   "execution_count": 195,
   "metadata": {},
   "outputs": [
    {
     "name": "stdout",
     "output_type": "stream",
     "text": [
      "R2 Score on test: 0.9807813265049518\n"
     ]
    }
   ],
   "source": [
    "y_test_pred = model.predict(X_test)\n",
    "score = r2_score(y_test, y_test_pred)\n",
    "print(f'R2 Score on test: {score}')"
   ]
  },
  {
   "cell_type": "code",
   "execution_count": 196,
   "metadata": {},
   "outputs": [
    {
     "data": {
      "text/plain": [
       "[]"
      ]
     },
     "execution_count": 196,
     "metadata": {},
     "output_type": "execute_result"
    },
    {
     "data": {
      "image/png": "[encoded data removed]",
      "text/plain": [
       "<Figure size 640x480 with 1 Axes>"
      ]
     },
     "metadata": {},
     "output_type": "display_data"
    }
   ],
   "source": [
    "fig, ax = plt.subplots()\n",
    "ax.scatter(y_test, y_test_pred)\n",
    "ax.set_xlabel('Real y')\n",
    "ax.set_ylabel('Predicted y')\n",
    "max_value = max(max(y_test), max(y_test_pred)) * 1.01\n",
    "min_value = min(min(y_test), min(y_test_pred)) * 1.01\n",
    "line = ax.plot([0,1100], [0, 1100], '--', color='red', label='y=x')\n",
    "ax.legend(handles=line)\n",
    "ax.set_xlim(min_value,max_value)\n",
    "ax.set_ylim(min_value, max_value)\n",
    "ax.set_title('Correlation Plot')\n",
    "plt.plot()"
   ]
  },
  {
   "cell_type": "code",
   "execution_count": null,
   "metadata": {},
   "outputs": [],
   "source": []
  }
 ],
 "metadata": {
  "kernelspec": {
   "display_name": "venv",
   "language": "python",
   "name": "python3"
  },
  "language_info": {
   "codemirror_mode": {
    "name": "ipython",
    "version": 3
   },
   "file_extension": ".py",
   "mimetype": "text/x-python",
   "name": "python",
   "nbconvert_exporter": "python",
   "pygments_lexer": "ipython3",
   "version": "3.12.3"
  }
 },
 "nbformat": 4,
 "nbformat_minor": 2
}
