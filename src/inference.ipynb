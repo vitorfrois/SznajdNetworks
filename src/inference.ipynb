{
 "cells": [
  {
   "cell_type": "markdown",
   "metadata": {},
   "source": [
    "# Prediction of Dynamic Variables in Sznajd Model"
   ]
  },
  {
   "cell_type": "markdown",
   "metadata": {},
   "source": [
    "### Imports"
   ]
  },
  {
   "cell_type": "code",
   "execution_count": 41,
   "metadata": {},
   "outputs": [],
   "source": [
    "import pandas as pd\n",
    "import os\n",
    "from tqdm import tqdm\n",
    "import numpy as np\n",
    "\n",
    "BASE_SIMULATION_DIR = 'data/simulations/'\n",
    "BASE_MEASURE_DIR = 'data/measures/'\n",
    "C = 'consensus_time'\n",
    "F = 'opinion_change_frequency'"
   ]
  },
  {
   "cell_type": "markdown",
   "metadata": {},
   "source": [
    "## Reading CSV files"
   ]
  },
  {
   "cell_type": "markdown",
   "metadata": {},
   "source": [
    "### Measures"
   ]
  },
  {
   "cell_type": "code",
   "execution_count": 2,
   "metadata": {},
   "outputs": [],
   "source": [
    "measures_file_list = []\n",
    "for network in os.listdir(BASE_MEASURE_DIR):\n",
    "    measures_file_list.append(pd.read_csv(BASE_MEASURE_DIR + network, index_col=0))\n",
    "\n",
    "measures_df = pd.concat(measures_file_list)\n",
    "\n",
    "FEATURES = list(measures_df.columns)"
   ]
  },
  {
   "cell_type": "code",
   "execution_count": 3,
   "metadata": {},
   "outputs": [
    {
     "data": {
      "text/html": [
       "<div>\n",
       "<style scoped>\n",
       "    .dataframe tbody tr th:only-of-type {\n",
       "        vertical-align: middle;\n",
       "    }\n",
       "\n",
       "    .dataframe tbody tr th {\n",
       "        vertical-align: top;\n",
       "    }\n",
       "\n",
       "    .dataframe thead th {\n",
       "        text-align: right;\n",
       "    }\n",
       "</style>\n",
       "<table border=\"1\" class=\"dataframe\">\n",
       "  <thead>\n",
       "    <tr style=\"text-align: right;\">\n",
       "      <th></th>\n",
       "      <th>clustering</th>\n",
       "      <th>closeness</th>\n",
       "      <th>betweenness</th>\n",
       "      <th>average_shortest_path_lenght</th>\n",
       "      <th>eigenvector</th>\n",
       "      <th>assortativity</th>\n",
       "      <th>information_centrality</th>\n",
       "      <th>approximate_current_flow_betweenness_centrality</th>\n",
       "    </tr>\n",
       "    <tr>\n",
       "      <th>network</th>\n",
       "      <th></th>\n",
       "      <th></th>\n",
       "      <th></th>\n",
       "      <th></th>\n",
       "      <th></th>\n",
       "      <th></th>\n",
       "      <th></th>\n",
       "      <th></th>\n",
       "    </tr>\n",
       "  </thead>\n",
       "  <tbody>\n",
       "    <tr>\n",
       "      <th>barabasi_linear_1.edgelist</th>\n",
       "      <td>0.030791</td>\n",
       "      <td>0.336370</td>\n",
       "      <td>994.336</td>\n",
       "      <td>2.987672</td>\n",
       "      <td>0.086131</td>\n",
       "      <td>-0.045484</td>\n",
       "      <td>0.003411</td>\n",
       "      <td>0.005010</td>\n",
       "    </tr>\n",
       "    <tr>\n",
       "      <th>barabasi_linear_0.edgelist</th>\n",
       "      <td>0.030984</td>\n",
       "      <td>0.336728</td>\n",
       "      <td>992.753</td>\n",
       "      <td>2.984506</td>\n",
       "      <td>0.083921</td>\n",
       "      <td>-0.041009</td>\n",
       "      <td>0.003408</td>\n",
       "      <td>0.004998</td>\n",
       "    </tr>\n",
       "    <tr>\n",
       "      <th>barabasi_linear_7.edgelist</th>\n",
       "      <td>0.031743</td>\n",
       "      <td>0.334444</td>\n",
       "      <td>1003.160</td>\n",
       "      <td>3.005320</td>\n",
       "      <td>0.074283</td>\n",
       "      <td>-0.028950</td>\n",
       "      <td>0.003429</td>\n",
       "      <td>0.004873</td>\n",
       "    </tr>\n",
       "    <tr>\n",
       "      <th>barabasi_linear_8.edgelist</th>\n",
       "      <td>0.030694</td>\n",
       "      <td>0.335118</td>\n",
       "      <td>999.887</td>\n",
       "      <td>2.998774</td>\n",
       "      <td>0.078044</td>\n",
       "      <td>-0.035307</td>\n",
       "      <td>0.003420</td>\n",
       "      <td>0.005012</td>\n",
       "    </tr>\n",
       "    <tr>\n",
       "      <th>barabasi_linear_4.edgelist</th>\n",
       "      <td>0.030858</td>\n",
       "      <td>0.332497</td>\n",
       "      <td>1012.013</td>\n",
       "      <td>3.023026</td>\n",
       "      <td>0.086636</td>\n",
       "      <td>-0.005945</td>\n",
       "      <td>0.003436</td>\n",
       "      <td>0.004902</td>\n",
       "    </tr>\n",
       "    <tr>\n",
       "      <th>...</th>\n",
       "      <td>...</td>\n",
       "      <td>...</td>\n",
       "      <td>...</td>\n",
       "      <td>...</td>\n",
       "      <td>...</td>\n",
       "      <td>...</td>\n",
       "      <td>...</td>\n",
       "      <td>...</td>\n",
       "    </tr>\n",
       "    <tr>\n",
       "      <th>watts-strogatz_2.edgelist</th>\n",
       "      <td>0.648514</td>\n",
       "      <td>0.103962</td>\n",
       "      <td>4426.792</td>\n",
       "      <td>9.852584</td>\n",
       "      <td>0.533460</td>\n",
       "      <td>-0.019618</td>\n",
       "      <td>0.001387</td>\n",
       "      <td>0.024015</td>\n",
       "    </tr>\n",
       "    <tr>\n",
       "      <th>watts-strogatz_3.edgelist</th>\n",
       "      <td>0.649342</td>\n",
       "      <td>0.105674</td>\n",
       "      <td>4267.552</td>\n",
       "      <td>9.534104</td>\n",
       "      <td>0.501900</td>\n",
       "      <td>0.004032</td>\n",
       "      <td>0.001458</td>\n",
       "      <td>0.024564</td>\n",
       "    </tr>\n",
       "    <tr>\n",
       "      <th>watts-strogatz_5.edgelist</th>\n",
       "      <td>0.653446</td>\n",
       "      <td>0.096471</td>\n",
       "      <td>4754.780</td>\n",
       "      <td>10.508560</td>\n",
       "      <td>0.418047</td>\n",
       "      <td>0.009770</td>\n",
       "      <td>0.001283</td>\n",
       "      <td>0.027294</td>\n",
       "    </tr>\n",
       "    <tr>\n",
       "      <th>watts-strogatz_7.edgelist</th>\n",
       "      <td>0.645121</td>\n",
       "      <td>0.119526</td>\n",
       "      <td>3732.701</td>\n",
       "      <td>8.464402</td>\n",
       "      <td>0.514369</td>\n",
       "      <td>-0.010666</td>\n",
       "      <td>0.001624</td>\n",
       "      <td>0.022314</td>\n",
       "    </tr>\n",
       "    <tr>\n",
       "      <th>watts-strogatz_1.edgelist</th>\n",
       "      <td>0.642971</td>\n",
       "      <td>0.120568</td>\n",
       "      <td>3685.015</td>\n",
       "      <td>8.369030</td>\n",
       "      <td>0.491902</td>\n",
       "      <td>-0.009742</td>\n",
       "      <td>0.001658</td>\n",
       "      <td>0.021017</td>\n",
       "    </tr>\n",
       "  </tbody>\n",
       "</table>\n",
       "<p>70 rows × 8 columns</p>\n",
       "</div>"
      ],
      "text/plain": [
       "                            clustering  closeness  betweenness  \\\n",
       "network                                                          \n",
       "barabasi_linear_1.edgelist    0.030791   0.336370      994.336   \n",
       "barabasi_linear_0.edgelist    0.030984   0.336728      992.753   \n",
       "barabasi_linear_7.edgelist    0.031743   0.334444     1003.160   \n",
       "barabasi_linear_8.edgelist    0.030694   0.335118      999.887   \n",
       "barabasi_linear_4.edgelist    0.030858   0.332497     1012.013   \n",
       "...                                ...        ...          ...   \n",
       "watts-strogatz_2.edgelist     0.648514   0.103962     4426.792   \n",
       "watts-strogatz_3.edgelist     0.649342   0.105674     4267.552   \n",
       "watts-strogatz_5.edgelist     0.653446   0.096471     4754.780   \n",
       "watts-strogatz_7.edgelist     0.645121   0.119526     3732.701   \n",
       "watts-strogatz_1.edgelist     0.642971   0.120568     3685.015   \n",
       "\n",
       "                            average_shortest_path_lenght  eigenvector  \\\n",
       "network                                                                 \n",
       "barabasi_linear_1.edgelist                      2.987672     0.086131   \n",
       "barabasi_linear_0.edgelist                      2.984506     0.083921   \n",
       "barabasi_linear_7.edgelist                      3.005320     0.074283   \n",
       "barabasi_linear_8.edgelist                      2.998774     0.078044   \n",
       "barabasi_linear_4.edgelist                      3.023026     0.086636   \n",
       "...                                                  ...          ...   \n",
       "watts-strogatz_2.edgelist                       9.852584     0.533460   \n",
       "watts-strogatz_3.edgelist                       9.534104     0.501900   \n",
       "watts-strogatz_5.edgelist                      10.508560     0.418047   \n",
       "watts-strogatz_7.edgelist                       8.464402     0.514369   \n",
       "watts-strogatz_1.edgelist                       8.369030     0.491902   \n",
       "\n",
       "                            assortativity  information_centrality  \\\n",
       "network                                                             \n",
       "barabasi_linear_1.edgelist      -0.045484                0.003411   \n",
       "barabasi_linear_0.edgelist      -0.041009                0.003408   \n",
       "barabasi_linear_7.edgelist      -0.028950                0.003429   \n",
       "barabasi_linear_8.edgelist      -0.035307                0.003420   \n",
       "barabasi_linear_4.edgelist      -0.005945                0.003436   \n",
       "...                                   ...                     ...   \n",
       "watts-strogatz_2.edgelist       -0.019618                0.001387   \n",
       "watts-strogatz_3.edgelist        0.004032                0.001458   \n",
       "watts-strogatz_5.edgelist        0.009770                0.001283   \n",
       "watts-strogatz_7.edgelist       -0.010666                0.001624   \n",
       "watts-strogatz_1.edgelist       -0.009742                0.001658   \n",
       "\n",
       "                            approximate_current_flow_betweenness_centrality  \n",
       "network                                                                      \n",
       "barabasi_linear_1.edgelist                                         0.005010  \n",
       "barabasi_linear_0.edgelist                                         0.004998  \n",
       "barabasi_linear_7.edgelist                                         0.004873  \n",
       "barabasi_linear_8.edgelist                                         0.005012  \n",
       "barabasi_linear_4.edgelist                                         0.004902  \n",
       "...                                                                     ...  \n",
       "watts-strogatz_2.edgelist                                          0.024015  \n",
       "watts-strogatz_3.edgelist                                          0.024564  \n",
       "watts-strogatz_5.edgelist                                          0.027294  \n",
       "watts-strogatz_7.edgelist                                          0.022314  \n",
       "watts-strogatz_1.edgelist                                          0.021017  \n",
       "\n",
       "[70 rows x 8 columns]"
      ]
     },
     "execution_count": 3,
     "metadata": {},
     "output_type": "execute_result"
    }
   ],
   "source": [
    "measures_df = measures_df.rename_axis(['network'])\n",
    "measures_df"
   ]
  },
  {
   "cell_type": "markdown",
   "metadata": {},
   "source": [
    "### Simulations"
   ]
  },
  {
   "cell_type": "code",
   "execution_count": 4,
   "metadata": {},
   "outputs": [],
   "source": [
    "simulations_file_list = []\n",
    "for network in os.listdir(BASE_SIMULATION_DIR):\n",
    "    simulations_file_list.append(pd.read_csv(BASE_SIMULATION_DIR + network, index_col=0, header=[0,1]))\n",
    "\n",
    "simulations_df = pd.concat(simulations_file_list)"
   ]
  },
  {
   "cell_type": "code",
   "execution_count": 5,
   "metadata": {},
   "outputs": [
    {
     "data": {
      "text/html": [
       "<div>\n",
       "<style scoped>\n",
       "    .dataframe tbody tr th:only-of-type {\n",
       "        vertical-align: middle;\n",
       "    }\n",
       "\n",
       "    .dataframe tbody tr th {\n",
       "        vertical-align: top;\n",
       "    }\n",
       "\n",
       "    .dataframe thead th {\n",
       "        text-align: right;\n",
       "    }\n",
       "</style>\n",
       "<table border=\"1\" class=\"dataframe\">\n",
       "  <thead>\n",
       "    <tr style=\"text-align: right;\">\n",
       "      <th></th>\n",
       "      <th>initialization</th>\n",
       "      <th>consensus_time</th>\n",
       "      <th>opinion_change_frequency</th>\n",
       "    </tr>\n",
       "    <tr>\n",
       "      <th>network</th>\n",
       "      <th></th>\n",
       "      <th></th>\n",
       "      <th></th>\n",
       "    </tr>\n",
       "  </thead>\n",
       "  <tbody>\n",
       "    <tr>\n",
       "      <th>barabasi_linear_0.edgelist</th>\n",
       "      <td>random</td>\n",
       "      <td>619.0</td>\n",
       "      <td>196.0</td>\n",
       "    </tr>\n",
       "    <tr>\n",
       "      <th>barabasi_linear_0.edgelist</th>\n",
       "      <td>direct</td>\n",
       "      <td>264.0</td>\n",
       "      <td>199.0</td>\n",
       "    </tr>\n",
       "    <tr>\n",
       "      <th>barabasi_linear_0.edgelist</th>\n",
       "      <td>inverse</td>\n",
       "      <td>871.0</td>\n",
       "      <td>1577.0</td>\n",
       "    </tr>\n",
       "    <tr>\n",
       "      <th>barabasi_nonlinear_15_0.edgelist</th>\n",
       "      <td>random</td>\n",
       "      <td>79.0</td>\n",
       "      <td>204.0</td>\n",
       "    </tr>\n",
       "    <tr>\n",
       "      <th>barabasi_nonlinear_15_0.edgelist</th>\n",
       "      <td>direct</td>\n",
       "      <td>51.0</td>\n",
       "      <td>199.0</td>\n",
       "    </tr>\n",
       "    <tr>\n",
       "      <th>barabasi_nonlinear_15_0.edgelist</th>\n",
       "      <td>inverse</td>\n",
       "      <td>52.0</td>\n",
       "      <td>323.0</td>\n",
       "    </tr>\n",
       "    <tr>\n",
       "      <th>erdos_renyi_0.edgelist</th>\n",
       "      <td>random</td>\n",
       "      <td>1000.0</td>\n",
       "      <td>199.0</td>\n",
       "    </tr>\n",
       "    <tr>\n",
       "      <th>erdos_renyi_0.edgelist</th>\n",
       "      <td>direct</td>\n",
       "      <td>1000.0</td>\n",
       "      <td>216.0</td>\n",
       "    </tr>\n",
       "    <tr>\n",
       "      <th>erdos_renyi_0.edgelist</th>\n",
       "      <td>inverse</td>\n",
       "      <td>353.0</td>\n",
       "      <td>273.0</td>\n",
       "    </tr>\n",
       "    <tr>\n",
       "      <th>waxman_0.edgelist</th>\n",
       "      <td>random</td>\n",
       "      <td>501.0</td>\n",
       "      <td>239.0</td>\n",
       "    </tr>\n",
       "    <tr>\n",
       "      <th>waxman_0.edgelist</th>\n",
       "      <td>direct</td>\n",
       "      <td>1000.0</td>\n",
       "      <td>232.0</td>\n",
       "    </tr>\n",
       "    <tr>\n",
       "      <th>waxman_0.edgelist</th>\n",
       "      <td>inverse</td>\n",
       "      <td>191.0</td>\n",
       "      <td>252.0</td>\n",
       "    </tr>\n",
       "    <tr>\n",
       "      <th>barabasi_nonlinear_05_0.edgelist</th>\n",
       "      <td>random</td>\n",
       "      <td>624.0</td>\n",
       "      <td>325.0</td>\n",
       "    </tr>\n",
       "    <tr>\n",
       "      <th>barabasi_nonlinear_05_0.edgelist</th>\n",
       "      <td>direct</td>\n",
       "      <td>479.0</td>\n",
       "      <td>199.0</td>\n",
       "    </tr>\n",
       "    <tr>\n",
       "      <th>barabasi_nonlinear_05_0.edgelist</th>\n",
       "      <td>inverse</td>\n",
       "      <td>612.0</td>\n",
       "      <td>1049.0</td>\n",
       "    </tr>\n",
       "  </tbody>\n",
       "</table>\n",
       "</div>"
      ],
      "text/plain": [
       "                                 initialization  consensus_time  \\\n",
       "network                                                           \n",
       "barabasi_linear_0.edgelist               random           619.0   \n",
       "barabasi_linear_0.edgelist               direct           264.0   \n",
       "barabasi_linear_0.edgelist              inverse           871.0   \n",
       "barabasi_nonlinear_15_0.edgelist         random            79.0   \n",
       "barabasi_nonlinear_15_0.edgelist         direct            51.0   \n",
       "barabasi_nonlinear_15_0.edgelist        inverse            52.0   \n",
       "erdos_renyi_0.edgelist                   random          1000.0   \n",
       "erdos_renyi_0.edgelist                   direct          1000.0   \n",
       "erdos_renyi_0.edgelist                  inverse           353.0   \n",
       "waxman_0.edgelist                        random           501.0   \n",
       "waxman_0.edgelist                        direct          1000.0   \n",
       "waxman_0.edgelist                       inverse           191.0   \n",
       "barabasi_nonlinear_05_0.edgelist         random           624.0   \n",
       "barabasi_nonlinear_05_0.edgelist         direct           479.0   \n",
       "barabasi_nonlinear_05_0.edgelist        inverse           612.0   \n",
       "\n",
       "                                  opinion_change_frequency  \n",
       "network                                                     \n",
       "barabasi_linear_0.edgelist                           196.0  \n",
       "barabasi_linear_0.edgelist                           199.0  \n",
       "barabasi_linear_0.edgelist                          1577.0  \n",
       "barabasi_nonlinear_15_0.edgelist                     204.0  \n",
       "barabasi_nonlinear_15_0.edgelist                     199.0  \n",
       "barabasi_nonlinear_15_0.edgelist                     323.0  \n",
       "erdos_renyi_0.edgelist                               199.0  \n",
       "erdos_renyi_0.edgelist                               216.0  \n",
       "erdos_renyi_0.edgelist                               273.0  \n",
       "waxman_0.edgelist                                    239.0  \n",
       "waxman_0.edgelist                                    232.0  \n",
       "waxman_0.edgelist                                    252.0  \n",
       "barabasi_nonlinear_05_0.edgelist                     325.0  \n",
       "barabasi_nonlinear_05_0.edgelist                     199.0  \n",
       "barabasi_nonlinear_05_0.edgelist                    1049.0  "
      ]
     },
     "execution_count": 5,
     "metadata": {},
     "output_type": "execute_result"
    }
   ],
   "source": [
    "simulations_df = simulations_df.stack(level=0, future_stack=True).rename_axis(['network','initialization']).reset_index(1)\n",
    "simulations_df"
   ]
  },
  {
   "cell_type": "markdown",
   "metadata": {},
   "source": [
    "### Merging and creating the dataset"
   ]
  },
  {
   "cell_type": "code",
   "execution_count": 6,
   "metadata": {},
   "outputs": [],
   "source": [
    "dataset = measures_df.merge(simulations_df, on='network', how='right')"
   ]
  },
  {
   "cell_type": "markdown",
   "metadata": {},
   "source": [
    "## Training and prediction"
   ]
  },
  {
   "cell_type": "code",
   "execution_count": 27,
   "metadata": {},
   "outputs": [],
   "source": [
    "from sklearn.metrics import r2_score\n",
    "from sklearn.model_selection import train_test_split, KFold\n",
    "from sklearn.tree import DecisionTreeRegressor\n",
    "from sklearn.base import clone"
   ]
  },
  {
   "cell_type": "code",
   "execution_count": 8,
   "metadata": {},
   "outputs": [],
   "source": [
    "X = dataset[FEATURES]\n",
    "y = dataset[C]"
   ]
  },
  {
   "cell_type": "code",
   "execution_count": 12,
   "metadata": {},
   "outputs": [],
   "source": [
    "X_train, X_test, y_train, y_test = train_test_split(\n",
    "    X, y, test_size=0.2, random_state=0\n",
    ")"
   ]
  },
  {
   "cell_type": "code",
   "execution_count": 22,
   "metadata": {},
   "outputs": [],
   "source": [
    "model = DecisionTreeRegressor()"
   ]
  },
  {
   "cell_type": "markdown",
   "metadata": {},
   "source": [
    "### Cross Validation"
   ]
  },
  {
   "cell_type": "code",
   "execution_count": 35,
   "metadata": {},
   "outputs": [
    {
     "name": "stderr",
     "output_type": "stream",
     "text": [
      "5it [00:00, 57.97it/s]\n"
     ]
    }
   ],
   "source": [
    "cross_validation = KFold(n_splits=5)\n",
    "splits = cross_validation.split(X, y=y)\n",
    "\n",
    "r2_score_list = []\n",
    "\n",
    "for train_index, val_index in tqdm(splits):\n",
    "    # Divide dataset de acordo com os splits da validação cruzada\n",
    "    _X_train, _X_val = X.iloc[train_index], X.iloc[val_index]\n",
    "    _y_train, _y_val = y.iloc[train_index], y.iloc[val_index]\n",
    "    \n",
    "    # Intanciate and train regressor\n",
    "    regressor = clone(model)\n",
    "    regressor.fit(_X_train, _y_train)\n",
    "    \n",
    "    # Predict X value\n",
    "    y_val_pred = regressor.predict(_X_val)\n",
    "    \n",
    "    # Compute R2 Score\n",
    "    score = r2_score(_y_val, y_val_pred)\n",
    "    r2_score_list.append(score)"
   ]
  },
  {
   "cell_type": "code",
   "execution_count": 42,
   "metadata": {},
   "outputs": [
    {
     "name": "stdout",
     "output_type": "stream",
     "text": [
      "Mean R2 Score: -301.40228252266616 +- 602.304178372336\n"
     ]
    }
   ],
   "source": [
    "print(f'Mean R2 Score: {np.mean(r2_score_list)} +- {np.std(r2_score_list)}')"
   ]
  },
  {
   "cell_type": "markdown",
   "metadata": {},
   "source": [
    "### Testing"
   ]
  },
  {
   "cell_type": "code",
   "execution_count": 39,
   "metadata": {},
   "outputs": [
    {
     "name": "stdout",
     "output_type": "stream",
     "text": [
      "R2 Score on test: -1.0138996473963724\n"
     ]
    }
   ],
   "source": [
    "model.fit(X_train, y_train)\n",
    "y_test_pred = model.predict(X_test)\n",
    "score = r2_score(y_test, y_test_pred)\n",
    "print(f'R2 Score on test: {score}')"
   ]
  },
  {
   "cell_type": "code",
   "execution_count": null,
   "metadata": {},
   "outputs": [],
   "source": []
  }
 ],
 "metadata": {
  "kernelspec": {
   "display_name": "venv",
   "language": "python",
   "name": "python3"
  },
  "language_info": {
   "codemirror_mode": {
    "name": "ipython",
    "version": 3
   },
   "file_extension": ".py",
   "mimetype": "text/x-python",
   "name": "python",
   "nbconvert_exporter": "python",
   "pygments_lexer": "ipython3",
   "version": "3.12.3"
  }
 },
 "nbformat": 4,
 "nbformat_minor": 2
}
