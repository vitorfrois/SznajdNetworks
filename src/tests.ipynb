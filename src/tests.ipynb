{
 "cells": [
  {
   "cell_type": "code",
   "execution_count": 1,
   "metadata": {},
   "outputs": [],
   "source": [
    "import networkx as nx\n",
    "import igraph as ig\n",
    "from sznajd import Sznajd\n",
    "from tqdm import tqdm\n",
    "import numpy as np\n",
    "\n",
    "MONTE_CARLO_ITERATIONS = 3"
   ]
  },
  {
   "cell_type": "code",
   "execution_count": 2,
   "metadata": {},
   "outputs": [
    {
     "name": "stderr",
     "output_type": "stream",
     "text": [
      " 33%|███▎      | 1/3 [00:26<00:53, 26.70s/it]"
     ]
    },
    {
     "name": "stdout",
     "output_type": "stream",
     "text": [
      "8638 15758\n",
      "8638 15758\n",
      "8638 15758\n",
      "[8638, 8638, 8638] [15758, 15758, 15758]\n"
     ]
    },
    {
     "name": "stderr",
     "output_type": "stream",
     "text": [
      " 67%|██████▋   | 2/3 [01:01<00:31, 31.74s/it]"
     ]
    },
    {
     "name": "stdout",
     "output_type": "stream",
     "text": [
      "10000 10739\n",
      "10000 10739\n",
      "10000 10739\n",
      "[10000, 10000, 10000] [10739, 10739, 10739]\n"
     ]
    },
    {
     "name": "stderr",
     "output_type": "stream",
     "text": [
      "100%|██████████| 3/3 [01:26<00:00, 28.71s/it]"
     ]
    },
    {
     "name": "stdout",
     "output_type": "stream",
     "text": [
      "8592 14867\n",
      "8592 14867\n",
      "8592 14867\n",
      "[8592, 8592, 8592] [14867, 14867, 14867]\n"
     ]
    },
    {
     "name": "stderr",
     "output_type": "stream",
     "text": [
      "\n"
     ]
    }
   ],
   "source": [
    "network_path = 'data/nets/barabasi_linear/barabasi_linear_0.edgelist'\n",
    "result_dict = {}\n",
    "model = Sznajd()\n",
    "initialization_dict = {\n",
    "    'direct': model.direct_initialization,\n",
    "    'random': model.random_network_initialization, \n",
    "    'inverse': model.inverse_initialization\n",
    "}\n",
    "model.set_graph(nx.read_edgelist(network_path))\n",
    "for initialization in tqdm(initialization_dict):\n",
    "    initialization_dict[initialization]()\n",
    "    model.reset_model()\n",
    "    consensus_time_list = []\n",
    "    opinion_change_frequency_list = []\n",
    "    for i in tqdm(range(MONTE_CARLO_ITERATIONS), leave=False):\n",
    "        consensus_time, opinion_change_frequency = model.run_model()\n",
    "        consensus_time_list.append(consensus_time)\n",
    "        opinion_change_frequency_list.append(opinion_change_frequency)\n",
    "    print(consensus_time_list, opinion_change_frequency_list)\n",
    "    result_dict[initialization] = {\n",
    "        'consensus_time': np.mean(consensus_time_list),\n",
    "        'opinion_change_frequency': np.mean(opinion_change_frequency_list)\n",
    "    }"
   ]
  },
  {
   "cell_type": "code",
   "execution_count": 35,
   "metadata": {},
   "outputs": [
    {
     "data": {
      "text/plain": [
       "{'direct': {'consensus_time': np.float64(1000.0),\n",
       "  'opinion_change_frequency': np.float64(1103.0)},\n",
       " 'random': {'consensus_time': np.float64(0.0),\n",
       "  'opinion_change_frequency': np.float64(0.0)},\n",
       " 'inverse': {'consensus_time': np.float64(0.0),\n",
       "  'opinion_change_frequency': np.float64(0.0)}}"
      ]
     },
     "execution_count": 35,
     "metadata": {},
     "output_type": "execute_result"
    }
   ],
   "source": [
    "result_dict"
   ]
  },
  {
   "cell_type": "code",
   "execution_count": null,
   "metadata": {},
   "outputs": [],
   "source": []
  }
 ],
 "metadata": {
  "kernelspec": {
   "display_name": "Python 3",
   "language": "python",
   "name": "python3"
  },
  "language_info": {
   "codemirror_mode": {
    "name": "ipython",
    "version": 3
   },
   "file_extension": ".py",
   "mimetype": "text/x-python",
   "name": "python",
   "nbconvert_exporter": "python",
   "pygments_lexer": "ipython3",
   "version": "3.12.3"
  }
 },
 "nbformat": 4,
 "nbformat_minor": 2
}
